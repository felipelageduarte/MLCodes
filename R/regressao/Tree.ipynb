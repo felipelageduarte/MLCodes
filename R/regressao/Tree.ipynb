{
 "cells": [
  {
   "cell_type": "markdown",
   "metadata": {},
   "source": [
    "<h1>Tree RPart</h1>"
   ]
  },
  {
   "cell_type": "code",
   "execution_count": 1,
   "metadata": {
    "collapsed": false
   },
   "outputs": [
    {
     "name": "stderr",
     "output_type": "stream",
     "text": [
      "Loading required package: ParamHelpers\n",
      "Warning message:\n",
      "“replacing previous import ‘BBmisc::isFALSE’ by ‘backports::isFALSE’ when loading ‘mlr’”"
     ]
    }
   ],
   "source": [
    "library(mlr)\n",
    "library(parallel)\n",
    "source('../utils.r')\n",
    "\n",
    "set.seed(42)\n",
    "\n",
    "data_folder_name  = '../../raw_data'\n",
    "data_file_name    = 'airfoil_self_noise.dat'\n",
    "model_folder_name = '../model'\n",
    "model_file_name   = 'model_regr_rpart.RData'\n",
    "ml_algorithm      = \"regr.rpart\""
   ]
  },
  {
   "cell_type": "markdown",
   "metadata": {},
   "source": [
    "<h2>Load Data"
   ]
  },
  {
   "cell_type": "code",
   "execution_count": 2,
   "metadata": {
    "collapsed": false
   },
   "outputs": [],
   "source": [
    "data = read_data(data_folder_name %+/% data_file_name)"
   ]
  },
  {
   "cell_type": "code",
   "execution_count": 3,
   "metadata": {
    "collapsed": false
   },
   "outputs": [
    {
     "name": "stdout",
     "output_type": "stream",
     "text": [
      "NRow: 1503\n",
      "NCol: 6"
     ]
    },
    {
     "data": {
      "text/html": [
       "<table>\n",
       "<thead><tr><th scope=col>V1</th><th scope=col>V2</th><th scope=col>V3</th><th scope=col>V4</th><th scope=col>V5</th><th scope=col>V6</th></tr></thead>\n",
       "<tbody>\n",
       "\t<tr><td> 800      </td><td>0         </td><td>0.3048    </td><td>71.3      </td><td>0.00266337</td><td>126.201   </td></tr>\n",
       "\t<tr><td>1000      </td><td>0         </td><td>0.3048    </td><td>71.3      </td><td>0.00266337</td><td>125.201   </td></tr>\n",
       "\t<tr><td>1250      </td><td>0         </td><td>0.3048    </td><td>71.3      </td><td>0.00266337</td><td>125.951   </td></tr>\n",
       "\t<tr><td>1600      </td><td>0         </td><td>0.3048    </td><td>71.3      </td><td>0.00266337</td><td>127.591   </td></tr>\n",
       "\t<tr><td>2000      </td><td>0         </td><td>0.3048    </td><td>71.3      </td><td>0.00266337</td><td>127.461   </td></tr>\n",
       "\t<tr><td>2500      </td><td>0         </td><td>0.3048    </td><td>71.3      </td><td>0.00266337</td><td>125.571   </td></tr>\n",
       "</tbody>\n",
       "</table>\n"
      ],
      "text/latex": [
       "\\begin{tabular}{r|llllll}\n",
       " V1 & V2 & V3 & V4 & V5 & V6\\\\\n",
       "\\hline\n",
       "\t  800       & 0          & 0.3048     & 71.3       & 0.00266337 & 126.201   \\\\\n",
       "\t 1000       & 0          & 0.3048     & 71.3       & 0.00266337 & 125.201   \\\\\n",
       "\t 1250       & 0          & 0.3048     & 71.3       & 0.00266337 & 125.951   \\\\\n",
       "\t 1600       & 0          & 0.3048     & 71.3       & 0.00266337 & 127.591   \\\\\n",
       "\t 2000       & 0          & 0.3048     & 71.3       & 0.00266337 & 127.461   \\\\\n",
       "\t 2500       & 0          & 0.3048     & 71.3       & 0.00266337 & 125.571   \\\\\n",
       "\\end{tabular}\n"
      ],
      "text/markdown": [
       "\n",
       "V1 | V2 | V3 | V4 | V5 | V6 | \n",
       "|---|---|---|---|---|---|\n",
       "|  800       | 0          | 0.3048     | 71.3       | 0.00266337 | 126.201    | \n",
       "| 1000       | 0          | 0.3048     | 71.3       | 0.00266337 | 125.201    | \n",
       "| 1250       | 0          | 0.3048     | 71.3       | 0.00266337 | 125.951    | \n",
       "| 1600       | 0          | 0.3048     | 71.3       | 0.00266337 | 127.591    | \n",
       "| 2000       | 0          | 0.3048     | 71.3       | 0.00266337 | 127.461    | \n",
       "| 2500       | 0          | 0.3048     | 71.3       | 0.00266337 | 125.571    | \n",
       "\n",
       "\n"
      ],
      "text/plain": [
       "  V1   V2 V3     V4   V5         V6     \n",
       "1  800 0  0.3048 71.3 0.00266337 126.201\n",
       "2 1000 0  0.3048 71.3 0.00266337 125.201\n",
       "3 1250 0  0.3048 71.3 0.00266337 125.951\n",
       "4 1600 0  0.3048 71.3 0.00266337 127.591\n",
       "5 2000 0  0.3048 71.3 0.00266337 127.461\n",
       "6 2500 0  0.3048 71.3 0.00266337 125.571"
      ]
     },
     "metadata": {},
     "output_type": "display_data"
    }
   ],
   "source": [
    "cat(sprintf('NRow: %d\\nNCol: %d',nrow(data), ncol(data)))\n",
    "head(data)"
   ]
  },
  {
   "cell_type": "markdown",
   "metadata": {},
   "source": [
    "Assunming that target is the last column of the data. \n",
    "If it's not true, one most declare the name of the column that represents the target."
   ]
  },
  {
   "cell_type": "code",
   "execution_count": 4,
   "metadata": {
    "collapsed": false
   },
   "outputs": [],
   "source": [
    "target = names(data)[ncol(data)]"
   ]
  },
  {
   "cell_type": "code",
   "execution_count": 5,
   "metadata": {
    "collapsed": false
   },
   "outputs": [
    {
     "name": "stdout",
     "output_type": "stream",
     "text": [
      "NRow: 1503\n",
      "NCol: 6"
     ]
    }
   ],
   "source": [
    "drops = c()\n",
    "data  = data[,c(!(names(data) %in% drops)), with=FALSE]\n",
    "cat(sprintf('NRow: %d\\nNCol: %d',nrow(data), ncol(data)))"
   ]
  },
  {
   "cell_type": "markdown",
   "metadata": {},
   "source": [
    "<h2>Make Task</h2><br>\n",
    "\n",
    "The task encapsulates the data and specifies - through its subclasses - the type of the task. It also contains a description object detailing further aspects of the data. Useful operators are: getTaskFormula, getTaskFeatureNames, getTaskData, getTaskTargets, and subsetTask.\n",
    "\n",
    "Function\n",
    "```R\n",
    "makeRegrTask(id = deparse(substitute(data)), data, target, weights = NULL, blocking = NULL, \n",
    "             fixup.data = \"warn\", check.data = TRUE)\n",
    "```\n",
    "Param.:\n",
    "\n",
    "* data: [data.frame] A data frame containing the features and target variable(s).\n",
    "* target: [character(1)] Name of the target variable.\n",
    "* weights: [numeric] Optional, non-negative case weight vector to be used during fitting. Cannot be set for cost-sensitive learning. Default is NULL which means no (= equal) weights.\n",
    "* fixup.data: [character(1)] Should some basic cleaning up of data be performed? Currently this means removing empty factor levels for the columns. Possible coices are: “no” = Don't do it. “warn” = Do it but warn about it. “quiet” = Do it but keep silent. Default is “warn”.\n",
    "\n",
    "Doc.: https://www.rdocumentation.org/packages/mlr/versions/2.10/topics/makeRegrTask"
   ]
  },
  {
   "cell_type": "code",
   "execution_count": 6,
   "metadata": {
    "collapsed": false
   },
   "outputs": [
    {
     "name": "stderr",
     "output_type": "stream",
     "text": [
      "Warning message in makeTask(type = type, data = data, weights = weights, blocking = blocking, :\n",
      "“Provided data is not a pure data.frame but from class data.table, hence it will be converted.”"
     ]
    }
   ],
   "source": [
    "task = makeRegrTask(data=data, target = target, fixup.data = 'no')"
   ]
  },
  {
   "cell_type": "markdown",
   "metadata": {},
   "source": [
    "<h2>Make Learner</h2><br>\n",
    "Function\n",
    "```R\n",
    "makeLearner(cl, id = cl, predict.type = \"response\", predict.threshold = NULL, \n",
    "            fix.factors.prediction = FALSE, ..., par.vals = list(), config = list())\n",
    "```\n",
    "Param.:\n",
    "\n",
    "* cl: [character(1)] Class of learner. By convention, all regression learners with “regr.”. A list of all integrated learners is available on the learners help page < https://mlr-org.github.io/mlr-tutorial/release/html/integrated_learners/ >.\n",
    "* predict: [character(1)] “response” (= mean response) or “se” (= standard errors and mean response). Default is “response”.\n",
    "* par.vals: [list] Optional list of named (hyper)parameters. The arguments in ... take precedence over values in this list. We strongly encourage you to use one or the other to pass (hyper)parameters to the learner but not both.\n",
    "\n",
    "Doc.: https://www.rdocumentation.org/packages/mlr/versions/2.10/topics/makeLearner"
   ]
  },
  {
   "cell_type": "code",
   "execution_count": 7,
   "metadata": {
    "collapsed": false
   },
   "outputs": [],
   "source": [
    "learner = makeLearner(cl = ml_algorithm)"
   ]
  },
  {
   "cell_type": "markdown",
   "metadata": {},
   "source": [
    "<h2>Specifying the search space</h2><br>\n",
    "\n",
    "In order to define a search space, we create a ParamSet object, which describes the parameter space we wish to search. This is done via the function makeParamSet. For each parameter type a special constructor function is available, see: https://www.rdocumentation.org/packages/ParamHelpers/versions/1.10/topics/Param"
   ]
  },
  {
   "cell_type": "markdown",
   "metadata": {},
   "source": [
    "List all parameters:"
   ]
  },
  {
   "cell_type": "code",
   "execution_count": 8,
   "metadata": {
    "collapsed": false
   },
   "outputs": [
    {
     "data": {
      "text/plain": [
       "                   Type len  Def   Constr Req Tunable Trafo\n",
       "minsplit        integer   -   20 1 to Inf   -    TRUE     -\n",
       "minbucket       integer   -    - 1 to Inf   -    TRUE     -\n",
       "cp              numeric   - 0.01   0 to 1   -    TRUE     -\n",
       "maxcompete      integer   -    4 0 to Inf   -    TRUE     -\n",
       "maxsurrogate    integer   -    5 0 to Inf   -    TRUE     -\n",
       "usesurrogate   discrete   -    2    0,1,2   -    TRUE     -\n",
       "surrogatestyle discrete   -    0      0,1   -    TRUE     -\n",
       "maxdepth        integer   -   30  1 to 30   -    TRUE     -\n",
       "xval            integer   -   10 0 to Inf   -   FALSE     -"
      ]
     },
     "metadata": {},
     "output_type": "display_data"
    }
   ],
   "source": [
    "getParamSet(ml_algorithm)"
   ]
  },
  {
   "cell_type": "code",
   "execution_count": 9,
   "metadata": {
    "collapsed": true
   },
   "outputs": [],
   "source": [
    "param_set = makeParamSet(\n",
    "  makeIntegerParam(\"minsplit\",  lower = 5,   upper = 50),\n",
    "  makeIntegerParam('minbucket', lower = 1,   upper = 50),\n",
    "  makeIntegerParam('maxdepth',  lower = 1,   upper = 30),\n",
    "  makeNumericParam(\"cp\",        lower = 0.1, upper = 1)\n",
    ")"
   ]
  },
  {
   "cell_type": "markdown",
   "metadata": {},
   "source": [
    "<h2>Specifying the optimization algorithm</h2><br>\n",
    "\n",
    "Once we have specified the search space, we need to choose an optimization algorithm for our parameters. Optimization algorithms are considered TuneControl objects in mlr. The following tuners are available: https://www.rdocumentation.org/packages/mlr/versions/2.10/topics/TuneControl"
   ]
  },
  {
   "cell_type": "code",
   "execution_count": 10,
   "metadata": {
    "collapsed": false
   },
   "outputs": [],
   "source": [
    "optimization_algorithm = makeTuneControlGenSA(max.call=1000)"
   ]
  },
  {
   "cell_type": "markdown",
   "metadata": {},
   "source": [
    "<h2>Resampling strategy</h2><br>\n",
    "\n",
    "Function:\n",
    "```R\n",
    "makeResampleDesc(method, predict = \"test\", ..., stratify = FALSE, stratify.cols = NULL)\n",
    "```\n",
    "Param.:\n",
    "\n",
    "* method: [character(1)] “CV” for cross-validation, “LOO” for leave-one-out, “RepCV” for repeated cross-validation, “Bootstrap” for out-of-bag bootstrap, “Subsample” for subsampling, “Holdout” for holdout.\n",
    "* predict: What to predict during resampling: “train”, “test” or “both” sets. Default is “test”.\n",
    "* ... : [any] Further parameters for strategies.\n",
    "    * iters [integer(1)] Number of iterations, for “CV”, “Subsample” and “Boostrap”.\n",
    "    * split [numeric(1)] Proportion of training cases for “Holdout” and “Subsample” between 0 and 1. Default is 2/3.\n",
    "    * reps [integer(1)] Repeats for “RepCV”. Here iters = folds * reps. Default is 10.\n",
    "    * folds [integer(1)] Folds in the repeated CV for RepCV. Here iters = folds * reps. Default is 10.\n",
    "\n",
    "Doc.: https://www.rdocumentation.org/packages/mlr/versions/2.10/topics/makeResampleDesc"
   ]
  },
  {
   "cell_type": "code",
   "execution_count": 11,
   "metadata": {
    "collapsed": true
   },
   "outputs": [],
   "source": [
    "resample = makeResampleDesc(method = \"CV\", iters = 3, predict = 'both')"
   ]
  },
  {
   "cell_type": "markdown",
   "metadata": {},
   "source": [
    "<h2>Measures</h2><br>\n",
    "\n",
    "List of performance measures:\n",
    "\n",
    "Doc.: http://mlr-org.github.io/mlr-tutorial/release/html/measures/"
   ]
  },
  {
   "cell_type": "code",
   "execution_count": 12,
   "metadata": {
    "collapsed": false
   },
   "outputs": [],
   "source": [
    "measures = list(mae, rmse, expvar, timetrain)"
   ]
  },
  {
   "cell_type": "markdown",
   "metadata": {},
   "source": [
    "<h2>Performing the tuning</h2><br>\n",
    "\n",
    "Optimizes the hyperparameters of a learner. Allows for different optimization methods, such as grid search, evolutionary strategies, iterated F-race, etc. You can select such an algorithm (and its settings) by passing a corresponding control object. For a complete list of implemented algorithms look at TuneControl. Multi-criteria tuning can be done with tuneParamsMultiCrit.\n",
    "\n",
    "Function:\n",
    "```R\n",
    "tuneParams(learner, task, resampling, measures, par.set, control, show.info = getMlrOption(\"show.info\"))\n",
    "```\n",
    "Param.:\n",
    "\n",
    "* learner: [Learner | character(1)] The learner. If you pass a string the learner will be created via makeLearner\n",
    "* task: [Task] The task.\n",
    "* resampling: [ResampleInstance | ResampleDesc] Resampling strategy to evaluate points in hyperparameter space.\n",
    "* measures: [list of Measure | Measure] Performance measures to evaluate. The first measure, aggregated by the first aggregation function is optimized, others are simply evaluated. \n",
    "* par.set: [ParamSet] Collection of parameters and their constraints for optimization. Dependent parameters with a requires field must use quote and not expression to define it.\n",
    "* control: [TuneControl] Control object for search method. Also selects the optimization algorithm for tuning.\n",
    "* show.info: [logical(1)] Print verbose output on console? Default is set via configureMlr.\n",
    "\n",
    "Doc.: https://www.rdocumentation.org/packages/mlr/versions/2.10/topics/tuneParams"
   ]
  },
  {
   "cell_type": "code",
   "execution_count": 13,
   "metadata": {
    "collapsed": false,
    "scrolled": true
   },
   "outputs": [],
   "source": [
    "cpus = detectCores(all.tests = FALSE, logical = TRUE) - 1\n",
    "parallelMap::parallelStartMulticore(cpus, show.info=FALSE)\n",
    "\n",
    "tune_result = tuneParams(learner, task, resample, measures, param_set, optimization_algorithm, show.info=FALSE)\n",
    "\n",
    "parallelMap::parallelStop()"
   ]
  },
  {
   "cell_type": "code",
   "execution_count": 14,
   "metadata": {
    "collapsed": false
   },
   "outputs": [
    {
     "data": {
      "text/html": [
       "<dl class=dl-horizontal>\n",
       "\t<dt>mae.test.mean</dt>\n",
       "\t\t<dd>4.522532507894</dd>\n",
       "\t<dt>rmse.test.rmse</dt>\n",
       "\t\t<dd>5.64875772076536</dd>\n",
       "\t<dt>expvar.test.mean</dt>\n",
       "\t\t<dd>0.344537120366095</dd>\n",
       "\t<dt>timetrain.test.mean</dt>\n",
       "\t\t<dd>0.0293333333333313</dd>\n",
       "</dl>\n"
      ],
      "text/latex": [
       "\\begin{description*}\n",
       "\\item[mae.test.mean] 4.522532507894\n",
       "\\item[rmse.test.rmse] 5.64875772076536\n",
       "\\item[expvar.test.mean] 0.344537120366095\n",
       "\\item[timetrain.test.mean] 0.0293333333333313\n",
       "\\end{description*}\n"
      ],
      "text/markdown": [
       "mae.test.mean\n",
       ":   4.522532507894rmse.test.rmse\n",
       ":   5.64875772076536expvar.test.mean\n",
       ":   0.344537120366095timetrain.test.mean\n",
       ":   0.0293333333333313\n",
       "\n"
      ],
      "text/plain": [
       "      mae.test.mean      rmse.test.rmse    expvar.test.mean timetrain.test.mean \n",
       "         4.52253251          5.64875772          0.34453712          0.02933333 "
      ]
     },
     "metadata": {},
     "output_type": "display_data"
    }
   ],
   "source": [
    "tune_result$y"
   ]
  },
  {
   "cell_type": "code",
   "execution_count": 15,
   "metadata": {
    "collapsed": false
   },
   "outputs": [
    {
     "data": {
      "text/html": [
       "<dl class=dl-horizontal>\n",
       "\t<dt>minsplit</dt>\n",
       "\t\t<dd>27</dd>\n",
       "\t<dt>minbucket</dt>\n",
       "\t\t<dd>2</dd>\n",
       "\t<dt>maxdepth</dt>\n",
       "\t\t<dd>2</dd>\n",
       "\t<dt>cp</dt>\n",
       "\t\t<dd>0.147090728494732</dd>\n",
       "</dl>\n"
      ],
      "text/latex": [
       "\\begin{description*}\n",
       "\\item[minsplit] 27\n",
       "\\item[minbucket] 2\n",
       "\\item[maxdepth] 2\n",
       "\\item[cp] 0.147090728494732\n",
       "\\end{description*}\n"
      ],
      "text/markdown": [
       "minsplit\n",
       ":   27minbucket\n",
       ":   2maxdepth\n",
       ":   2cp\n",
       ":   0.147090728494732\n",
       "\n"
      ],
      "text/plain": [
       "  minsplit  minbucket   maxdepth         cp \n",
       "27.0000000  2.0000000  2.0000000  0.1470907 "
      ]
     },
     "metadata": {},
     "output_type": "display_data"
    }
   ],
   "source": [
    "unlist(tune_result$x)"
   ]
  },
  {
   "cell_type": "markdown",
   "metadata": {},
   "source": [
    "<h2>Train A Learning Algorithm with best Hyperparameters</h2><br>\n",
    "\n",
    "Given a Task, creates a model for the learning machine which can be used for predictions on new data.\n",
    "\n",
    "Function:\n",
    "```R\n",
    "train(learner, task, subset, weights = NULL)\n",
    "```\n",
    "Param.:\n",
    "\n",
    "* learner: [Learner | character(1)] The learner. If you pass a string the learner will be created via makeLearner.\n",
    "* task: [Task] The task.\n",
    "* subset: [integer | logical] Selected cases. Either a logical or an index vector. By default all observations are used.\n",
    "* weights: [numeric] Optional, non-negative case weight vector to be used during fitting. If given, must be of same length as subset and in corresponding order. By default NULL which means no weights are used unless specified in the task (Task). Weights from the task will be overwritten.\n",
    "\n",
    "Doc.: https://www.rdocumentation.org/packages/mlr/versions/2.10/topics/train"
   ]
  },
  {
   "cell_type": "code",
   "execution_count": 16,
   "metadata": {
    "collapsed": true
   },
   "outputs": [],
   "source": [
    "optimal_learner = setHyperPars(tune_result$learner, par.vals = tune_result$x)"
   ]
  },
  {
   "cell_type": "markdown",
   "metadata": {},
   "source": [
    "Train with all data to make final model"
   ]
  },
  {
   "cell_type": "code",
   "execution_count": 17,
   "metadata": {
    "collapsed": true
   },
   "outputs": [],
   "source": [
    "model = train(optimal_learner, task)"
   ]
  },
  {
   "cell_type": "markdown",
   "metadata": {},
   "source": [
    "<h4>Calculates Feature Importance Values For Trained Models"
   ]
  },
  {
   "cell_type": "code",
   "execution_count": 18,
   "metadata": {
    "collapsed": false
   },
   "outputs": [
    {
     "data": {
      "text/plain": [
       "FeatureImportance:\n",
       "Task: data\n",
       "\n",
       "Learner: regr.rpart\n",
       "Measure: NA\n",
       "Contrast: NA\n",
       "Aggregation: function (x)  x\n",
       "Replace: NA\n",
       "Number of Monte-Carlo iterations: NA\n",
       "Local: FALSE\n",
       "       V1       V2       V3 V4       V5\n",
       "1 11714.9 1317.295 3073.688  0 12836.99"
      ]
     },
     "metadata": {},
     "output_type": "display_data"
    }
   ],
   "source": [
    "getFeatureImportance(model)"
   ]
  },
  {
   "cell_type": "code",
   "execution_count": 19,
   "metadata": {
    "collapsed": false
   },
   "outputs": [
    {
     "data": {
      "text/plain": [
       "244168 bytes"
      ]
     },
     "metadata": {},
     "output_type": "display_data"
    }
   ],
   "source": [
    "object.size(model)"
   ]
  },
  {
   "cell_type": "code",
   "execution_count": 20,
   "metadata": {
    "collapsed": false
   },
   "outputs": [
    {
     "name": "stdout",
     "output_type": "stream",
     "text": [
      "Model for learner.id=regr.rpart; learner.class=regr.rpart\n",
      "Trained on: task.id = data; obs = 1503; features = 5\n",
      "Hyperparameters: xval=0,minsplit=27,minbucket=2,maxdepth=2,cp=0.147\n"
     ]
    }
   ],
   "source": [
    "print(model)"
   ]
  },
  {
   "cell_type": "markdown",
   "metadata": {},
   "source": [
    "<h2>Save final model</h2><br>"
   ]
  },
  {
   "cell_type": "code",
   "execution_count": 21,
   "metadata": {
    "collapsed": false
   },
   "outputs": [],
   "source": [
    "save(model, file = model_folder_name %+/% model_file_name)"
   ]
  }
 ],
 "metadata": {
  "kernelspec": {
   "display_name": "R",
   "language": "R",
   "name": "ir"
  },
  "language_info": {
   "codemirror_mode": "r",
   "file_extension": ".r",
   "mimetype": "text/x-r-source",
   "name": "R",
   "pygments_lexer": "r",
   "version": "3.4.2"
  }
 },
 "nbformat": 4,
 "nbformat_minor": 2
}
