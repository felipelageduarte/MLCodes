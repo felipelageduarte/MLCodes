{
 "cells": [
  {
   "cell_type": "code",
   "execution_count": 6,
   "metadata": {
    "collapsed": false
   },
   "outputs": [
    {
     "name": "stderr",
     "output_type": "stream",
     "text": [
      "Warning message:\n",
      "“package ‘LaF’ was built under R version 3.4.3”"
     ]
    }
   ],
   "source": [
    "library(mlr)\n",
    "library(parallel)\n",
    "library(LaF)\n",
    "source('./utils.r')\n",
    "\n",
    "set.seed(42)\n",
    "\n",
    "data_folder_name  = '../raw_data'\n",
    "data_file_name    = 'airfoil_self_noise.dat'\n",
    "model_folder_name = './model'\n",
    "model_file_name   = 'model_regr_ranger.RData'"
   ]
  },
  {
   "cell_type": "code",
   "execution_count": 3,
   "metadata": {
    "collapsed": false
   },
   "outputs": [],
   "source": [
    "model = get(load(file = model_folder_name %+/% model_file_name))"
   ]
  },
  {
   "cell_type": "code",
   "execution_count": 5,
   "metadata": {
    "collapsed": false
   },
   "outputs": [
    {
     "name": "stdout",
     "output_type": "stream",
     "text": [
      "Model for learner.id=regr.ranger; learner.class=regr.ranger\n",
      "Trained on: task.id = data; obs = 1503; features = 5\n",
      "Hyperparameters: num.threads=1,verbose=FALSE,respect.unordered.factors=TRUE,seed=42,importance=impurity,num.trees=2811,mtry=3,min.node.size=7\n"
     ]
    }
   ],
   "source": [
    "print(model)"
   ]
  },
  {
   "cell_type": "code",
   "execution_count": 7,
   "metadata": {
    "collapsed": false
   },
   "outputs": [
    {
     "ename": "ERROR",
     "evalue": "Error in .laf_to_typecode(column_types): argumento \"column_types\" ausente, sem padrão\n",
     "output_type": "error",
     "traceback": [
      "Error in .laf_to_typecode(column_types): argumento \"column_types\" ausente, sem padrão\nTraceback:\n",
      "1. LaF::laf_open_csv(filename = data_folder_name %+/% data_file_name, \n .     sep = \"\\t\")",
      "2. .laf_to_typecode(column_types)"
     ]
    }
   ],
   "source": [
    "laf = LaF::laf_open_csv(filename = data_folder_name %+/% data_file_name, sep = '\\t')"
   ]
  },
  {
   "cell_type": "code",
   "execution_count": 11,
   "metadata": {
    "collapsed": true
   },
   "outputs": [],
   "source": [
    "new.data = read_data(data_folder_name %+/% data_file_name)"
   ]
  },
  {
   "cell_type": "code",
   "execution_count": 12,
   "metadata": {
    "collapsed": false
   },
   "outputs": [
    {
     "name": "stderr",
     "output_type": "stream",
     "text": [
      "Warning message in predict.WrappedModel(model, newdata = new.data):\n",
      "“Provided data for prediction is not a pure data.frame but from class data.table, hence it will be converted.”"
     ]
    }
   ],
   "source": [
    "pred = predict(model, newdata=new.data)"
   ]
  },
  {
   "cell_type": "code",
   "execution_count": null,
   "metadata": {
    "collapsed": true
   },
   "outputs": [],
   "source": []
  }
 ],
 "metadata": {
  "kernelspec": {
   "display_name": "R",
   "language": "R",
   "name": "ir"
  },
  "language_info": {
   "codemirror_mode": "r",
   "file_extension": ".r",
   "mimetype": "text/x-r-source",
   "name": "R",
   "pygments_lexer": "r",
   "version": "3.4.2"
  }
 },
 "nbformat": 4,
 "nbformat_minor": 2
}
