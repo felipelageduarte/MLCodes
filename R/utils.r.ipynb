{
 "cells": [
  {
   "cell_type": "code",
   "execution_count": null,
   "metadata": {
    "collapsed": true
   },
   "outputs": [],
   "source": [
    "gini = makeMeasure(\n",
    "    id = \"gini\", name = \"Gini\",\n",
    "    properties = c(\"classif\", \"req.pred\", \"req.truth\", \"re.prob\"),\n",
    "    minimize = FALSE, best = 1, worst = 0,\n",
    "    fun = function(task, model, pred, feats, extra.args) {\n",
    "            #if (anyMissing(pred$data$response) || length(unique(pred$data$truth)) == 1L)\n",
    "            #  return(NA_real_)\n",
    "            2*measureAUC(getPredictionProbabilities(pred), pred$data$truth, pred$task.desc$negative, pred$task.desc$positive) - 1\n",
    "          }\n",
    ")"
   ]
  }
 ],
 "metadata": {
  "kernelspec": {
   "display_name": "R",
   "language": "R",
   "name": "ir"
  },
  "language_info": {
   "codemirror_mode": "r",
   "file_extension": ".r",
   "mimetype": "text/x-r-source",
   "name": "R",
   "pygments_lexer": "r",
   "version": "3.4.2"
  }
 },
 "nbformat": 4,
 "nbformat_minor": 2
}
