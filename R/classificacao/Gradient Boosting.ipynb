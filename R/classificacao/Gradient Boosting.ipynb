{
 "cells": [
  {
   "cell_type": "markdown",
   "metadata": {},
   "source": [
    "<h1>Gradient Boosting</h1>"
   ]
  },
  {
   "cell_type": "code",
   "execution_count": 1,
   "metadata": {
    "collapsed": false
   },
   "outputs": [
    {
     "name": "stderr",
     "output_type": "stream",
     "text": [
      "Loading required package: ParamHelpers\n",
      "Warning message:\n",
      "“replacing previous import ‘BBmisc::isFALSE’ by ‘backports::isFALSE’ when loading ‘mlr’”"
     ]
    }
   ],
   "source": [
    "library(mlr, warn.conflicts = F)\n",
    "source('../utils.r')\n",
    "\n",
    "set.seed(42)\n",
    "\n",
    "folder_name = '../../raw_data' \n",
    "file_name   = 'german.csv'"
   ]
  },
  {
   "cell_type": "markdown",
   "metadata": {},
   "source": [
    "<h2>1. Dataprep</h2>"
   ]
  },
  {
   "cell_type": "code",
   "execution_count": 2,
   "metadata": {
    "collapsed": false
   },
   "outputs": [],
   "source": [
    "data = read.csv(file=sprintf('%s/%s',folder_name,file_name))"
   ]
  },
  {
   "cell_type": "code",
   "execution_count": 3,
   "metadata": {
    "collapsed": false
   },
   "outputs": [
    {
     "name": "stdout",
     "output_type": "stream",
     "text": [
      "NRow: 1000\n",
      "NCol: 22"
     ]
    },
    {
     "data": {
      "text/html": [
       "<table>\n",
       "<thead><tr><th scope=col>X</th><th scope=col>V1</th><th scope=col>V2</th><th scope=col>V3</th><th scope=col>V4</th><th scope=col>V5</th><th scope=col>V6</th><th scope=col>V7</th><th scope=col>V8</th><th scope=col>V9</th><th scope=col>⋯</th><th scope=col>V12</th><th scope=col>V13</th><th scope=col>V14</th><th scope=col>V15</th><th scope=col>V16</th><th scope=col>V17</th><th scope=col>V18</th><th scope=col>V19</th><th scope=col>V20</th><th scope=col>V21</th></tr></thead>\n",
       "<tbody>\n",
       "\t<tr><td>1   </td><td>A11 </td><td> 6  </td><td>A34 </td><td>A43 </td><td>1169</td><td>A65 </td><td>A75 </td><td>4   </td><td>A93 </td><td>⋯   </td><td>A121</td><td>67  </td><td>A143</td><td>A152</td><td>2   </td><td>A173</td><td>good</td><td>A192</td><td>A201</td><td>1   </td></tr>\n",
       "\t<tr><td>2   </td><td>A12 </td><td>48  </td><td>A32 </td><td>A43 </td><td>5951</td><td>A61 </td><td>A73 </td><td>2   </td><td>A92 </td><td>⋯   </td><td>A121</td><td>22  </td><td>A143</td><td>A152</td><td>1   </td><td>A173</td><td>good</td><td>A191</td><td>A201</td><td>2   </td></tr>\n",
       "\t<tr><td>3   </td><td>A14 </td><td>12  </td><td>A34 </td><td>A46 </td><td>2096</td><td>A61 </td><td>A74 </td><td>2   </td><td>A93 </td><td>⋯   </td><td>A121</td><td>49  </td><td>A143</td><td>A152</td><td>1   </td><td>A172</td><td>bad </td><td>A191</td><td>A201</td><td>1   </td></tr>\n",
       "\t<tr><td>4   </td><td>A11 </td><td>42  </td><td>A32 </td><td>A42 </td><td>7882</td><td>A61 </td><td>A74 </td><td>2   </td><td>A93 </td><td>⋯   </td><td>A122</td><td>45  </td><td>A143</td><td>A153</td><td>1   </td><td>A173</td><td>bad </td><td>A191</td><td>A201</td><td>1   </td></tr>\n",
       "\t<tr><td>5   </td><td>A11 </td><td>24  </td><td>A33 </td><td>A40 </td><td>4870</td><td>A61 </td><td>A73 </td><td>3   </td><td>A93 </td><td>⋯   </td><td>A124</td><td>53  </td><td>A143</td><td>A153</td><td>2   </td><td>A173</td><td>bad </td><td>A191</td><td>A201</td><td>2   </td></tr>\n",
       "\t<tr><td>6   </td><td>A14 </td><td>36  </td><td>A32 </td><td>A46 </td><td>9055</td><td>A65 </td><td>A73 </td><td>2   </td><td>A93 </td><td>⋯   </td><td>A124</td><td>35  </td><td>A143</td><td>A153</td><td>1   </td><td>A172</td><td>bad </td><td>A192</td><td>A201</td><td>1   </td></tr>\n",
       "</tbody>\n",
       "</table>\n"
      ],
      "text/latex": [
       "\\begin{tabular}{r|llllllllllllllllllllll}\n",
       " X & V1 & V2 & V3 & V4 & V5 & V6 & V7 & V8 & V9 & ⋯ & V12 & V13 & V14 & V15 & V16 & V17 & V18 & V19 & V20 & V21\\\\\n",
       "\\hline\n",
       "\t 1    & A11  &  6   & A34  & A43  & 1169 & A65  & A75  & 4    & A93  & ⋯    & A121 & 67   & A143 & A152 & 2    & A173 & good & A192 & A201 & 1   \\\\\n",
       "\t 2    & A12  & 48   & A32  & A43  & 5951 & A61  & A73  & 2    & A92  & ⋯    & A121 & 22   & A143 & A152 & 1    & A173 & good & A191 & A201 & 2   \\\\\n",
       "\t 3    & A14  & 12   & A34  & A46  & 2096 & A61  & A74  & 2    & A93  & ⋯    & A121 & 49   & A143 & A152 & 1    & A172 & bad  & A191 & A201 & 1   \\\\\n",
       "\t 4    & A11  & 42   & A32  & A42  & 7882 & A61  & A74  & 2    & A93  & ⋯    & A122 & 45   & A143 & A153 & 1    & A173 & bad  & A191 & A201 & 1   \\\\\n",
       "\t 5    & A11  & 24   & A33  & A40  & 4870 & A61  & A73  & 3    & A93  & ⋯    & A124 & 53   & A143 & A153 & 2    & A173 & bad  & A191 & A201 & 2   \\\\\n",
       "\t 6    & A14  & 36   & A32  & A46  & 9055 & A65  & A73  & 2    & A93  & ⋯    & A124 & 35   & A143 & A153 & 1    & A172 & bad  & A192 & A201 & 1   \\\\\n",
       "\\end{tabular}\n"
      ],
      "text/markdown": [
       "\n",
       "X | V1 | V2 | V3 | V4 | V5 | V6 | V7 | V8 | V9 | ⋯ | V12 | V13 | V14 | V15 | V16 | V17 | V18 | V19 | V20 | V21 | \n",
       "|---|---|---|---|---|---|\n",
       "| 1    | A11  |  6   | A34  | A43  | 1169 | A65  | A75  | 4    | A93  | ⋯    | A121 | 67   | A143 | A152 | 2    | A173 | good | A192 | A201 | 1    | \n",
       "| 2    | A12  | 48   | A32  | A43  | 5951 | A61  | A73  | 2    | A92  | ⋯    | A121 | 22   | A143 | A152 | 1    | A173 | good | A191 | A201 | 2    | \n",
       "| 3    | A14  | 12   | A34  | A46  | 2096 | A61  | A74  | 2    | A93  | ⋯    | A121 | 49   | A143 | A152 | 1    | A172 | bad  | A191 | A201 | 1    | \n",
       "| 4    | A11  | 42   | A32  | A42  | 7882 | A61  | A74  | 2    | A93  | ⋯    | A122 | 45   | A143 | A153 | 1    | A173 | bad  | A191 | A201 | 1    | \n",
       "| 5    | A11  | 24   | A33  | A40  | 4870 | A61  | A73  | 3    | A93  | ⋯    | A124 | 53   | A143 | A153 | 2    | A173 | bad  | A191 | A201 | 2    | \n",
       "| 6    | A14  | 36   | A32  | A46  | 9055 | A65  | A73  | 2    | A93  | ⋯    | A124 | 35   | A143 | A153 | 1    | A172 | bad  | A192 | A201 | 1    | \n",
       "\n",
       "\n"
      ],
      "text/plain": [
       "  X V1  V2 V3  V4  V5   V6  V7  V8 V9  ⋯ V12  V13 V14  V15  V16 V17  V18  V19 \n",
       "1 1 A11  6 A34 A43 1169 A65 A75 4  A93 ⋯ A121 67  A143 A152 2   A173 good A192\n",
       "2 2 A12 48 A32 A43 5951 A61 A73 2  A92 ⋯ A121 22  A143 A152 1   A173 good A191\n",
       "3 3 A14 12 A34 A46 2096 A61 A74 2  A93 ⋯ A121 49  A143 A152 1   A172 bad  A191\n",
       "4 4 A11 42 A32 A42 7882 A61 A74 2  A93 ⋯ A122 45  A143 A153 1   A173 bad  A191\n",
       "5 5 A11 24 A33 A40 4870 A61 A73 3  A93 ⋯ A124 53  A143 A153 2   A173 bad  A191\n",
       "6 6 A14 36 A32 A46 9055 A65 A73 2  A93 ⋯ A124 35  A143 A153 1   A172 bad  A192\n",
       "  V20  V21\n",
       "1 A201 1  \n",
       "2 A201 2  \n",
       "3 A201 1  \n",
       "4 A201 1  \n",
       "5 A201 2  \n",
       "6 A201 1  "
      ]
     },
     "metadata": {},
     "output_type": "display_data"
    }
   ],
   "source": [
    "cat(sprintf('NRow: %d\\nNCol: %d',nrow(data), ncol(data)))\n",
    "head(data)"
   ]
  },
  {
   "cell_type": "markdown",
   "metadata": {},
   "source": [
    "<p style='color: red'> ATENTION: </p>Specifically in R, in classification problem, target must be set as Factor."
   ]
  },
  {
   "cell_type": "code",
   "execution_count": 4,
   "metadata": {
    "collapsed": false
   },
   "outputs": [],
   "source": [
    "data$V21 = as.factor(data$V21)"
   ]
  },
  {
   "cell_type": "markdown",
   "metadata": {},
   "source": [
    "MLR works only with features and target, this means that others columns must be dorped."
   ]
  },
  {
   "cell_type": "code",
   "execution_count": 5,
   "metadata": {
    "collapsed": false
   },
   "outputs": [
    {
     "name": "stdout",
     "output_type": "stream",
     "text": [
      "NRow: 1000\n",
      "NCol: 21"
     ]
    }
   ],
   "source": [
    "drops = c('X')\n",
    "data  = data[ , !(names(data) %in% drops)]\n",
    "cat(sprintf('NRow: %d\\nNCol: %d',nrow(data), ncol(data)))"
   ]
  },
  {
   "cell_type": "markdown",
   "metadata": {},
   "source": [
    "Function\n",
    "```R\n",
    "createDummyFeatures(obj, target = character(0L), method = \"1-of-n\",  cols = NULL)\n",
    "```\n",
    "\n",
    "Doc.: https://www.rdocumentation.org/packages/mlr/versions/2.10/topics/createDummyFeatures"
   ]
  },
  {
   "cell_type": "code",
   "execution_count": 24,
   "metadata": {
    "collapsed": false
   },
   "outputs": [
    {
     "name": "stdout",
     "output_type": "stream",
     "text": [
      "NRow: 1000\n",
      "NCol: 63"
     ]
    }
   ],
   "source": [
    "data = createDummyFeatures(obj = data, target = 'V21')\n",
    "cat(sprintf('NRow: %d\\nNCol: %d',nrow(data), ncol(data)))"
   ]
  },
  {
   "cell_type": "markdown",
   "metadata": {},
   "source": [
    "<h2>2. Modeling</h2>"
   ]
  },
  {
   "cell_type": "markdown",
   "metadata": {},
   "source": [
    "Function\n",
    "```R\n",
    "makeLearner(cl, id = cl, predict.type = \"response\", predict.threshold = NULL, \n",
    "            fix.factors.prediction = FALSE, ..., par.vals = list(), config = list())\n",
    "```\n",
    "Param.:\n",
    "\n",
    "* cl: [character(1)] Class of learner. By convention, all classification learners start with “classif.”. A list of all integrated learners is available on the learners help page < https://mlr-org.github.io/mlr-tutorial/release/html/integrated_learners/ >.\n",
    "* predict: [character(1)] “response” (= labels) or “prob” (= probabilities and labels by selecting the ones with maximal probability). Default is “response”.\n",
    "* par.vals: [list] Optional list of named (hyper)parameters. The arguments in ... take precedence over values in this list. We strongly encourage you to use one or the other to pass (hyper)parameters to the learner but not both.\n",
    "\n",
    "Doc.: https://www.rdocumentation.org/packages/mlr/versions/2.10/topics/makeLearner"
   ]
  },
  {
   "cell_type": "code",
   "execution_count": 7,
   "metadata": {
    "collapsed": true
   },
   "outputs": [],
   "source": [
    "cl = \"classif.bst\""
   ]
  },
  {
   "cell_type": "markdown",
   "metadata": {},
   "source": [
    "List all parameters that can be used in this classifier.\n",
    "The value must be set in par.vals parameter."
   ]
  },
  {
   "cell_type": "code",
   "execution_count": 8,
   "metadata": {
    "collapsed": false
   },
   "outputs": [
    {
     "data": {
      "text/plain": [
       "                   Type len    Def         Constr Req Tunable Trafo\n",
       "cost            numeric   -    0.5         0 to 1   -    TRUE     -\n",
       "family         discrete   -      - gaussian,hinge   -    TRUE     -\n",
       "mstop           integer   -     50       1 to Inf   -    TRUE     -\n",
       "nu              numeric   -    0.1    -Inf to Inf   -    TRUE     -\n",
       "twinboost       logical   -  FALSE              -   -    TRUE     -\n",
       "f.init          untyped   - <NULL>              -   -    TRUE     -\n",
       "xselect.init    untyped   - <NULL>              -   -    TRUE     -\n",
       "center          logical   -  FALSE              -   -    TRUE     -\n",
       "trace           logical   -  FALSE              -   -   FALSE     -\n",
       "numsample       integer   -     50       1 to Inf   -    TRUE     -\n",
       "df              integer   -      4       1 to Inf   -    TRUE     -\n",
       "minsplit        integer   -     20       1 to Inf   -    TRUE     -\n",
       "minbucket       integer   -      -       1 to Inf   -    TRUE     -\n",
       "cp              numeric   -   0.01         0 to 1   -    TRUE     -\n",
       "maxcompete      integer   -      4       0 to Inf   -    TRUE     -\n",
       "maxsurrogate    integer   -      5       0 to Inf   -    TRUE     -\n",
       "usesurrogate   discrete   -      2          0,1,2   -    TRUE     -\n",
       "xval            integer   -     10       0 to Inf   -   FALSE     -\n",
       "surrogatestyle discrete   -      0            0,1   -    TRUE     -\n",
       "maxdepth        integer   -      1        1 to 30   -    TRUE     -\n",
       "Learner        discrete   -     ls     ls,sm,tree   -    TRUE     -"
      ]
     },
     "metadata": {},
     "output_type": "display_data"
    }
   ],
   "source": [
    "getParamSet(cl)"
   ]
  },
  {
   "cell_type": "code",
   "execution_count": 9,
   "metadata": {
    "collapsed": false
   },
   "outputs": [],
   "source": [
    "learner = makeLearner(cl = cl\n",
    "                     , predict.type = \"response\"\n",
    "                     , par.vals = list()\n",
    "                     )"
   ]
  },
  {
   "cell_type": "markdown",
   "metadata": {},
   "source": [
    "Function\n",
    "```R\n",
    "makeClassifTask(id = deparse(substitute(data)), data, target, weights = NULL, blocking = NULL, \n",
    "                positive = NA_character_, fixup.data = \"warn\", check.data = TRUE)\n",
    "```\n",
    "Param.:\n",
    "\n",
    "* data: [data.frame] A data frame containing the features and target variable(s).\n",
    "* target: [character(1)] Name of the target variable.\n",
    "* positive: [character(1)] Positive class for binary classification (otherwise ignored and set to NA). Default is the first factor level of the target attribute.\n",
    "* fixup.data: [character(1)] Should some basic cleaning up of data be performed? Currently this means removing empty factor levels for the columns. Possible coices are: “no” = Don't do it. “warn” = Do it but warn about it. “quiet” = Do it but keep silent. Default is “warn”.\n",
    "\n",
    "Doc.: https://www.rdocumentation.org/packages/mlr/versions/2.10/topics/makeLearner"
   ]
  },
  {
   "cell_type": "code",
   "execution_count": 10,
   "metadata": {
    "collapsed": false
   },
   "outputs": [],
   "source": [
    "task = makeClassifTask( data = data\n",
    "                      , target = 'V21'\n",
    "                      , positive = '2'\n",
    "                      , fixup.data = 'no'\n",
    "                      )"
   ]
  },
  {
   "cell_type": "markdown",
   "metadata": {},
   "source": [
    "Function:\n",
    "```R\n",
    "makeResampleDesc(method, predict = \"test\", ..., stratify = FALSE, stratify.cols = NULL)\n",
    "```\n",
    "Param.:\n",
    "\n",
    "* method: [character(1)] “CV” for cross-validation, “LOO” for leave-one-out, “RepCV” for repeated cross-validation, “Bootstrap” for out-of-bag bootstrap, “Subsample” for subsampling, “Holdout” for holdout.\n",
    "* predict: What to predict during resampling: “train”, “test” or “both” sets. Default is “test”.\n",
    "* ... : [any] Further parameters for strategies.\n",
    "    * iters [integer(1)] Number of iterations, for “CV”, “Subsample” and “Boostrap”.\n",
    "    * split [numeric(1)] Proportion of training cases for “Holdout” and “Subsample” between 0 and 1. Default is 2/3.\n",
    "    * reps [integer(1)] Repeats for “RepCV”. Here iters = folds * reps. Default is 10.\n",
    "    * folds [integer(1)] Folds in the repeated CV for RepCV. Here iters = folds * reps. Default is 10.\n",
    "\n",
    "Doc.: https://www.rdocumentation.org/packages/mlr/versions/2.10/topics/makeResampleDesc"
   ]
  },
  {
   "cell_type": "code",
   "execution_count": 11,
   "metadata": {
    "collapsed": false
   },
   "outputs": [],
   "source": [
    "resample = makeResampleDesc( method = \"CV\"\n",
    "                           , iters = 10\n",
    "                           , predict = 'both'\n",
    "                           , stratify = FALSE\n",
    "                           )"
   ]
  },
  {
   "cell_type": "markdown",
   "metadata": {},
   "source": [
    "List of performance measures:\n",
    "\n",
    "Doc.: http://mlr-org.github.io/mlr-tutorial/release/html/measures/"
   ]
  },
  {
   "cell_type": "code",
   "execution_count": 12,
   "metadata": {
    "collapsed": false
   },
   "outputs": [],
   "source": [
    "measures = list(mmce #MMCE \n",
    "               ,acc  #acuracia\n",
    "               #,f1   #f1\n",
    "               #,ppv  #precision\n",
    "               #,tpr  #recall\n",
    "               #,auc  #AUC\n",
    "               #,gini #Gini\n",
    "               ,timetrain #tempo execucao\n",
    "               )"
   ]
  },
  {
   "cell_type": "markdown",
   "metadata": {},
   "source": [
    "Function:\n",
    "```R\n",
    "resample(learner, task, resampling, measures, weights = NULL, models = FALSE, extract, \n",
    "         keep.pred = TRUE, ..., show.info = getMlrOption(\"show.info\"))\n",
    "```\n",
    "Param.:\n",
    "\n",
    "* learner: [Learner] The learner.\n",
    "* task: [Task] The task.\n",
    "* resampling: [ResampleInstance] Resampling strategy.\n",
    "* measures: [Measure | list of Measure] Performance measure(s) to evaluate. Default is mean misclassification error (mmce)\n",
    "* weights: [numeric] Optional, non-negative case weight vector to be used during fitting. If given, must be of same length as observations in task and in corresponding order. Overwrites weights specified in the task. By default NULL which means no weights are used unless specified in the task.\n",
    "* models: [logical(1)] Should all fitted models be returned? Default is FALSE.\n",
    "* keep.pred: [logical(1)] Keep the prediction data in the pred slot of the result object. If you do many experiments (on larger data sets) these objects might unnecessarily increase object size / mem usage, if you do not really need them. In this case you can set this argument to FALSE. Default is TRUE.\n",
    "* show.info: [logical(1)] Print verbose output on console? Default is set via configureMlr.\n",
    "\n",
    "Doc.: https://www.rdocumentation.org/packages/mlr/versions/2.10/topics/resample"
   ]
  },
  {
   "cell_type": "code",
   "execution_count": 13,
   "metadata": {
    "collapsed": false
   },
   "outputs": [
    {
     "name": "stderr",
     "output_type": "stream",
     "text": [
      "[Resample] cross-validation iter 1: mmce.test.mean=0.26,acc.test.mean=0.74,timetrain.test.mean=0.092\n",
      "[Resample] cross-validation iter 2: mmce.test.mean=0.32,acc.test.mean=0.68,timetrain.test.mean=0.357\n",
      "[Resample] cross-validation iter 3: mmce.test.mean=0.33,acc.test.mean=0.67,timetrain.test.mean=0.198\n",
      "[Resample] cross-validation iter 4: mmce.test.mean= 0.3,acc.test.mean= 0.7,timetrain.test.mean=0.086\n",
      "[Resample] cross-validation iter 5: mmce.test.mean=0.29,acc.test.mean=0.71,timetrain.test.mean=0.086\n",
      "[Resample] cross-validation iter 6: mmce.test.mean= 0.3,acc.test.mean= 0.7,timetrain.test.mean=0.198\n",
      "[Resample] cross-validation iter 7: mmce.test.mean=0.33,acc.test.mean=0.67,timetrain.test.mean=0.088\n",
      "[Resample] cross-validation iter 8: mmce.test.mean=0.26,acc.test.mean=0.74,timetrain.test.mean=0.194\n",
      "[Resample] cross-validation iter 9: mmce.test.mean=0.25,acc.test.mean=0.75,timetrain.test.mean=0.085\n",
      "[Resample] cross-validation iter 10: mmce.test.mean=0.28,acc.test.mean=0.72,timetrain.test.mean=0.115\n",
      "[Resample] Aggr. Result: mmce.test.mean=0.292,acc.test.mean=0.708,timetrain.test.mean=0.15\n"
     ]
    }
   ],
   "source": [
    "r = resample(learner = learner\n",
    "            ,task = task \n",
    "            ,resampling = resample \n",
    "            ,measures = measures\n",
    "            #---------------------#\n",
    "            ,models = TRUE\n",
    "            ,keep.pred = FALSE\n",
    "            ,show.info = TRUE\n",
    "            )"
   ]
  },
  {
   "cell_type": "markdown",
   "metadata": {},
   "source": [
    "<h2>3. Result Analysis</h2>"
   ]
  },
  {
   "cell_type": "markdown",
   "metadata": {},
   "source": [
    "Train Measures"
   ]
  },
  {
   "cell_type": "code",
   "execution_count": 14,
   "metadata": {
    "collapsed": false
   },
   "outputs": [
    {
     "data": {
      "text/html": [
       "<table>\n",
       "<thead><tr><th scope=col>iter</th><th scope=col>mmce</th><th scope=col>acc</th><th scope=col>timetrain</th></tr></thead>\n",
       "<tbody>\n",
       "\t<tr><td> 1       </td><td>0.2777778</td><td>0.7222222</td><td>0.092    </td></tr>\n",
       "\t<tr><td> 2       </td><td>0.2877778</td><td>0.7122222</td><td>0.357    </td></tr>\n",
       "\t<tr><td> 3       </td><td>0.2855556</td><td>0.7144444</td><td>0.198    </td></tr>\n",
       "\t<tr><td> 4       </td><td>0.2877778</td><td>0.7122222</td><td>0.086    </td></tr>\n",
       "\t<tr><td> 5       </td><td>0.2777778</td><td>0.7222222</td><td>0.086    </td></tr>\n",
       "\t<tr><td> 6       </td><td>0.2855556</td><td>0.7144444</td><td>0.198    </td></tr>\n",
       "\t<tr><td> 7       </td><td>0.2888889</td><td>0.7111111</td><td>0.088    </td></tr>\n",
       "\t<tr><td> 8       </td><td>0.2855556</td><td>0.7144444</td><td>0.194    </td></tr>\n",
       "\t<tr><td> 9       </td><td>0.2833333</td><td>0.7166667</td><td>0.085    </td></tr>\n",
       "\t<tr><td>10       </td><td>0.2855556</td><td>0.7144444</td><td>0.115    </td></tr>\n",
       "</tbody>\n",
       "</table>\n"
      ],
      "text/latex": [
       "\\begin{tabular}{r|llll}\n",
       " iter & mmce & acc & timetrain\\\\\n",
       "\\hline\n",
       "\t  1        & 0.2777778 & 0.7222222 & 0.092    \\\\\n",
       "\t  2        & 0.2877778 & 0.7122222 & 0.357    \\\\\n",
       "\t  3        & 0.2855556 & 0.7144444 & 0.198    \\\\\n",
       "\t  4        & 0.2877778 & 0.7122222 & 0.086    \\\\\n",
       "\t  5        & 0.2777778 & 0.7222222 & 0.086    \\\\\n",
       "\t  6        & 0.2855556 & 0.7144444 & 0.198    \\\\\n",
       "\t  7        & 0.2888889 & 0.7111111 & 0.088    \\\\\n",
       "\t  8        & 0.2855556 & 0.7144444 & 0.194    \\\\\n",
       "\t  9        & 0.2833333 & 0.7166667 & 0.085    \\\\\n",
       "\t 10        & 0.2855556 & 0.7144444 & 0.115    \\\\\n",
       "\\end{tabular}\n"
      ],
      "text/markdown": [
       "\n",
       "iter | mmce | acc | timetrain | \n",
       "|---|---|---|---|---|---|---|---|---|---|\n",
       "|  1        | 0.2777778 | 0.7222222 | 0.092     | \n",
       "|  2        | 0.2877778 | 0.7122222 | 0.357     | \n",
       "|  3        | 0.2855556 | 0.7144444 | 0.198     | \n",
       "|  4        | 0.2877778 | 0.7122222 | 0.086     | \n",
       "|  5        | 0.2777778 | 0.7222222 | 0.086     | \n",
       "|  6        | 0.2855556 | 0.7144444 | 0.198     | \n",
       "|  7        | 0.2888889 | 0.7111111 | 0.088     | \n",
       "|  8        | 0.2855556 | 0.7144444 | 0.194     | \n",
       "|  9        | 0.2833333 | 0.7166667 | 0.085     | \n",
       "| 10        | 0.2855556 | 0.7144444 | 0.115     | \n",
       "\n",
       "\n"
      ],
      "text/plain": [
       "   iter mmce      acc       timetrain\n",
       "1   1   0.2777778 0.7222222 0.092    \n",
       "2   2   0.2877778 0.7122222 0.357    \n",
       "3   3   0.2855556 0.7144444 0.198    \n",
       "4   4   0.2877778 0.7122222 0.086    \n",
       "5   5   0.2777778 0.7222222 0.086    \n",
       "6   6   0.2855556 0.7144444 0.198    \n",
       "7   7   0.2888889 0.7111111 0.088    \n",
       "8   8   0.2855556 0.7144444 0.194    \n",
       "9   9   0.2833333 0.7166667 0.085    \n",
       "10 10   0.2855556 0.7144444 0.115    "
      ]
     },
     "metadata": {},
     "output_type": "display_data"
    }
   ],
   "source": [
    "r$measures.train"
   ]
  },
  {
   "cell_type": "markdown",
   "metadata": {},
   "source": [
    "Test Measures"
   ]
  },
  {
   "cell_type": "code",
   "execution_count": 15,
   "metadata": {
    "collapsed": false
   },
   "outputs": [
    {
     "data": {
      "text/html": [
       "<table>\n",
       "<thead><tr><th scope=col>iter</th><th scope=col>mmce</th><th scope=col>acc</th><th scope=col>timetrain</th></tr></thead>\n",
       "<tbody>\n",
       "\t<tr><td> 1   </td><td>0.26 </td><td>0.74 </td><td>0.092</td></tr>\n",
       "\t<tr><td> 2   </td><td>0.32 </td><td>0.68 </td><td>0.357</td></tr>\n",
       "\t<tr><td> 3   </td><td>0.33 </td><td>0.67 </td><td>0.198</td></tr>\n",
       "\t<tr><td> 4   </td><td>0.30 </td><td>0.70 </td><td>0.086</td></tr>\n",
       "\t<tr><td> 5   </td><td>0.29 </td><td>0.71 </td><td>0.086</td></tr>\n",
       "\t<tr><td> 6   </td><td>0.30 </td><td>0.70 </td><td>0.198</td></tr>\n",
       "\t<tr><td> 7   </td><td>0.33 </td><td>0.67 </td><td>0.088</td></tr>\n",
       "\t<tr><td> 8   </td><td>0.26 </td><td>0.74 </td><td>0.194</td></tr>\n",
       "\t<tr><td> 9   </td><td>0.25 </td><td>0.75 </td><td>0.085</td></tr>\n",
       "\t<tr><td>10   </td><td>0.28 </td><td>0.72 </td><td>0.115</td></tr>\n",
       "</tbody>\n",
       "</table>\n"
      ],
      "text/latex": [
       "\\begin{tabular}{r|llll}\n",
       " iter & mmce & acc & timetrain\\\\\n",
       "\\hline\n",
       "\t  1    & 0.26  & 0.74  & 0.092\\\\\n",
       "\t  2    & 0.32  & 0.68  & 0.357\\\\\n",
       "\t  3    & 0.33  & 0.67  & 0.198\\\\\n",
       "\t  4    & 0.30  & 0.70  & 0.086\\\\\n",
       "\t  5    & 0.29  & 0.71  & 0.086\\\\\n",
       "\t  6    & 0.30  & 0.70  & 0.198\\\\\n",
       "\t  7    & 0.33  & 0.67  & 0.088\\\\\n",
       "\t  8    & 0.26  & 0.74  & 0.194\\\\\n",
       "\t  9    & 0.25  & 0.75  & 0.085\\\\\n",
       "\t 10    & 0.28  & 0.72  & 0.115\\\\\n",
       "\\end{tabular}\n"
      ],
      "text/markdown": [
       "\n",
       "iter | mmce | acc | timetrain | \n",
       "|---|---|---|---|---|---|---|---|---|---|\n",
       "|  1    | 0.26  | 0.74  | 0.092 | \n",
       "|  2    | 0.32  | 0.68  | 0.357 | \n",
       "|  3    | 0.33  | 0.67  | 0.198 | \n",
       "|  4    | 0.30  | 0.70  | 0.086 | \n",
       "|  5    | 0.29  | 0.71  | 0.086 | \n",
       "|  6    | 0.30  | 0.70  | 0.198 | \n",
       "|  7    | 0.33  | 0.67  | 0.088 | \n",
       "|  8    | 0.26  | 0.74  | 0.194 | \n",
       "|  9    | 0.25  | 0.75  | 0.085 | \n",
       "| 10    | 0.28  | 0.72  | 0.115 | \n",
       "\n",
       "\n"
      ],
      "text/plain": [
       "   iter mmce acc  timetrain\n",
       "1   1   0.26 0.74 0.092    \n",
       "2   2   0.32 0.68 0.357    \n",
       "3   3   0.33 0.67 0.198    \n",
       "4   4   0.30 0.70 0.086    \n",
       "5   5   0.29 0.71 0.086    \n",
       "6   6   0.30 0.70 0.198    \n",
       "7   7   0.33 0.67 0.088    \n",
       "8   8   0.26 0.74 0.194    \n",
       "9   9   0.25 0.75 0.085    \n",
       "10 10   0.28 0.72 0.115    "
      ]
     },
     "metadata": {},
     "output_type": "display_data"
    }
   ],
   "source": [
    "r$measures.test"
   ]
  },
  {
   "cell_type": "markdown",
   "metadata": {},
   "source": [
    "Train Aggregated Result"
   ]
  },
  {
   "cell_type": "code",
   "execution_count": 16,
   "metadata": {
    "collapsed": false
   },
   "outputs": [
    {
     "data": {
      "text/html": [
       "<dl class=dl-horizontal>\n",
       "\t<dt>iter</dt>\n",
       "\t\t<dd>5.5</dd>\n",
       "\t<dt>mmce</dt>\n",
       "\t\t<dd>0.284555555555556</dd>\n",
       "\t<dt>acc</dt>\n",
       "\t\t<dd>0.715444444444444</dd>\n",
       "\t<dt>timetrain</dt>\n",
       "\t\t<dd>0.1499</dd>\n",
       "</dl>\n"
      ],
      "text/latex": [
       "\\begin{description*}\n",
       "\\item[iter] 5.5\n",
       "\\item[mmce] 0.284555555555556\n",
       "\\item[acc] 0.715444444444444\n",
       "\\item[timetrain] 0.1499\n",
       "\\end{description*}\n"
      ],
      "text/markdown": [
       "iter\n",
       ":   5.5mmce\n",
       ":   0.284555555555556acc\n",
       ":   0.715444444444444timetrain\n",
       ":   0.1499\n",
       "\n"
      ],
      "text/plain": [
       "     iter      mmce       acc timetrain \n",
       "5.5000000 0.2845556 0.7154444 0.1499000 "
      ]
     },
     "metadata": {},
     "output_type": "display_data"
    }
   ],
   "source": [
    "apply(r$measures.train,2,mean)"
   ]
  },
  {
   "cell_type": "markdown",
   "metadata": {},
   "source": [
    "Test Aggregated Result"
   ]
  },
  {
   "cell_type": "code",
   "execution_count": 17,
   "metadata": {
    "collapsed": false
   },
   "outputs": [
    {
     "data": {
      "text/html": [
       "<dl class=dl-horizontal>\n",
       "\t<dt>iter</dt>\n",
       "\t\t<dd>5.5</dd>\n",
       "\t<dt>mmce</dt>\n",
       "\t\t<dd>0.292</dd>\n",
       "\t<dt>acc</dt>\n",
       "\t\t<dd>0.708</dd>\n",
       "\t<dt>timetrain</dt>\n",
       "\t\t<dd>0.1499</dd>\n",
       "</dl>\n"
      ],
      "text/latex": [
       "\\begin{description*}\n",
       "\\item[iter] 5.5\n",
       "\\item[mmce] 0.292\n",
       "\\item[acc] 0.708\n",
       "\\item[timetrain] 0.1499\n",
       "\\end{description*}\n"
      ],
      "text/markdown": [
       "iter\n",
       ":   5.5mmce\n",
       ":   0.292acc\n",
       ":   0.708timetrain\n",
       ":   0.1499\n",
       "\n"
      ],
      "text/plain": [
       "     iter      mmce       acc timetrain \n",
       "   5.5000    0.2920    0.7080    0.1499 "
      ]
     },
     "metadata": {},
     "output_type": "display_data"
    }
   ],
   "source": [
    "apply(r$measures.test,2,mean)"
   ]
  },
  {
   "cell_type": "markdown",
   "metadata": {},
   "source": [
    "Run Time in seconds"
   ]
  },
  {
   "cell_type": "code",
   "execution_count": 18,
   "metadata": {
    "collapsed": false
   },
   "outputs": [
    {
     "data": {
      "text/html": [
       "1.69814801216125"
      ],
      "text/latex": [
       "1.69814801216125"
      ],
      "text/markdown": [
       "1.69814801216125"
      ],
      "text/plain": [
       "[1] 1.698148"
      ]
     },
     "metadata": {},
     "output_type": "display_data"
    }
   ],
   "source": [
    "r$runtime"
   ]
  },
  {
   "cell_type": "markdown",
   "metadata": {},
   "source": [
    "<h2>4. Prediction for new data</h2>"
   ]
  },
  {
   "cell_type": "markdown",
   "metadata": {},
   "source": [
    "Read the data to predict"
   ]
  },
  {
   "cell_type": "code",
   "execution_count": 19,
   "metadata": {
    "collapsed": true
   },
   "outputs": [],
   "source": [
    "new.data = read.csv(file=sprintf('%s/%s', folder_name, file_name))\n",
    "new.data = createDummyFeatures(obj = new.data, target = 'V21')"
   ]
  },
  {
   "cell_type": "markdown",
   "metadata": {},
   "source": [
    "Search for the best model in crossvalidation and use it to score the incoming data"
   ]
  },
  {
   "cell_type": "code",
   "execution_count": 20,
   "metadata": {
    "collapsed": false
   },
   "outputs": [],
   "source": [
    "best.model = which.max(r$measures.test$acc)"
   ]
  },
  {
   "cell_type": "code",
   "execution_count": 21,
   "metadata": {
    "collapsed": false
   },
   "outputs": [],
   "source": [
    "pred = predict(r$models[[best.model]], newdata = new.data)"
   ]
  },
  {
   "cell_type": "markdown",
   "metadata": {},
   "source": [
    "Prediction Result"
   ]
  },
  {
   "cell_type": "code",
   "execution_count": 22,
   "metadata": {
    "collapsed": false
   },
   "outputs": [
    {
     "data": {
      "text/plain": [
       "Prediction: 1000 observations\n",
       "predict.type: response\n",
       "threshold: \n",
       "time: 0.00\n",
       "  truth response\n",
       "1     1        2\n",
       "2     2        1\n",
       "3     1        2\n",
       "4     1        1\n",
       "5     2        1\n",
       "6     1        1\n",
       "... (1000 rows, 2 cols)\n"
      ]
     },
     "metadata": {},
     "output_type": "display_data"
    }
   ],
   "source": [
    "pred"
   ]
  },
  {
   "cell_type": "markdown",
   "metadata": {},
   "source": [
    "Cast result to data.frame to access the prediction"
   ]
  },
  {
   "cell_type": "code",
   "execution_count": 23,
   "metadata": {
    "collapsed": false
   },
   "outputs": [
    {
     "data": {
      "text/html": [
       "<table>\n",
       "<thead><tr><th scope=col>truth</th><th scope=col>response</th></tr></thead>\n",
       "<tbody>\n",
       "\t<tr><td>1</td><td>2</td></tr>\n",
       "\t<tr><td>2</td><td>1</td></tr>\n",
       "\t<tr><td>1</td><td>2</td></tr>\n",
       "\t<tr><td>1</td><td>1</td></tr>\n",
       "\t<tr><td>2</td><td>1</td></tr>\n",
       "\t<tr><td>1</td><td>1</td></tr>\n",
       "</tbody>\n",
       "</table>\n"
      ],
      "text/latex": [
       "\\begin{tabular}{r|ll}\n",
       " truth & response\\\\\n",
       "\\hline\n",
       "\t 1 & 2\\\\\n",
       "\t 2 & 1\\\\\n",
       "\t 1 & 2\\\\\n",
       "\t 1 & 1\\\\\n",
       "\t 2 & 1\\\\\n",
       "\t 1 & 1\\\\\n",
       "\\end{tabular}\n"
      ],
      "text/markdown": [
       "\n",
       "truth | response | \n",
       "|---|---|---|---|---|---|\n",
       "| 1 | 2 | \n",
       "| 2 | 1 | \n",
       "| 1 | 2 | \n",
       "| 1 | 1 | \n",
       "| 2 | 1 | \n",
       "| 1 | 1 | \n",
       "\n",
       "\n"
      ],
      "text/plain": [
       "  truth response\n",
       "1 1     2       \n",
       "2 2     1       \n",
       "3 1     2       \n",
       "4 1     1       \n",
       "5 2     1       \n",
       "6 1     1       "
      ]
     },
     "metadata": {},
     "output_type": "display_data"
    }
   ],
   "source": [
    "head(as.data.frame(pred))"
   ]
  },
  {
   "cell_type": "code",
   "execution_count": null,
   "metadata": {
    "collapsed": true
   },
   "outputs": [],
   "source": []
  }
 ],
 "metadata": {
  "kernelspec": {
   "display_name": "R",
   "language": "R",
   "name": "ir"
  },
  "language_info": {
   "codemirror_mode": "r",
   "file_extension": ".r",
   "mimetype": "text/x-r-source",
   "name": "R",
   "pygments_lexer": "r",
   "version": "3.4.2"
  }
 },
 "nbformat": 4,
 "nbformat_minor": 2
}
