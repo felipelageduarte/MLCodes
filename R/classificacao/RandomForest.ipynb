{
 "cells": [
  {
   "cell_type": "markdown",
   "metadata": {},
   "source": [
    "<h1>Ranger: A Fast Implementation of Random Forests</h1>"
   ]
  },
  {
   "cell_type": "code",
   "execution_count": 1,
   "metadata": {
    "collapsed": false
   },
   "outputs": [
    {
     "name": "stderr",
     "output_type": "stream",
     "text": [
      "Loading required package: ParamHelpers\n",
      "Warning message:\n",
      "“replacing previous import ‘BBmisc::isFALSE’ by ‘backports::isFALSE’ when loading ‘mlr’”"
     ]
    }
   ],
   "source": [
    "library(mlr)\n",
    "source('../utils.r')\n",
    "\n",
    "set.seed(42)\n",
    "\n",
    "folder_name = '../../raw_data' \n",
    "file_name   = 'german.csv'"
   ]
  },
  {
   "cell_type": "markdown",
   "metadata": {},
   "source": [
    "<h2>1. Dataprep</h2>"
   ]
  },
  {
   "cell_type": "code",
   "execution_count": 2,
   "metadata": {
    "collapsed": false
   },
   "outputs": [],
   "source": [
    "data = read.csv(file=sprintf('%s/%s',folder_name,file_name))"
   ]
  },
  {
   "cell_type": "code",
   "execution_count": 3,
   "metadata": {
    "collapsed": false
   },
   "outputs": [
    {
     "name": "stdout",
     "output_type": "stream",
     "text": [
      "NRow: 1000\n",
      "NCol: 22"
     ]
    },
    {
     "data": {
      "text/html": [
       "<table>\n",
       "<thead><tr><th scope=col>X</th><th scope=col>V1</th><th scope=col>V2</th><th scope=col>V3</th><th scope=col>V4</th><th scope=col>V5</th><th scope=col>V6</th><th scope=col>V7</th><th scope=col>V8</th><th scope=col>V9</th><th scope=col>⋯</th><th scope=col>V12</th><th scope=col>V13</th><th scope=col>V14</th><th scope=col>V15</th><th scope=col>V16</th><th scope=col>V17</th><th scope=col>V18</th><th scope=col>V19</th><th scope=col>V20</th><th scope=col>V21</th></tr></thead>\n",
       "<tbody>\n",
       "\t<tr><td>1   </td><td>A11 </td><td> 6  </td><td>A34 </td><td>A43 </td><td>1169</td><td>A65 </td><td>A75 </td><td>4   </td><td>A93 </td><td>⋯   </td><td>A121</td><td>67  </td><td>A143</td><td>A152</td><td>2   </td><td>A173</td><td>good</td><td>A192</td><td>A201</td><td>1   </td></tr>\n",
       "\t<tr><td>2   </td><td>A12 </td><td>48  </td><td>A32 </td><td>A43 </td><td>5951</td><td>A61 </td><td>A73 </td><td>2   </td><td>A92 </td><td>⋯   </td><td>A121</td><td>22  </td><td>A143</td><td>A152</td><td>1   </td><td>A173</td><td>good</td><td>A191</td><td>A201</td><td>2   </td></tr>\n",
       "\t<tr><td>3   </td><td>A14 </td><td>12  </td><td>A34 </td><td>A46 </td><td>2096</td><td>A61 </td><td>A74 </td><td>2   </td><td>A93 </td><td>⋯   </td><td>A121</td><td>49  </td><td>A143</td><td>A152</td><td>1   </td><td>A172</td><td>bad </td><td>A191</td><td>A201</td><td>1   </td></tr>\n",
       "\t<tr><td>4   </td><td>A11 </td><td>42  </td><td>A32 </td><td>A42 </td><td>7882</td><td>A61 </td><td>A74 </td><td>2   </td><td>A93 </td><td>⋯   </td><td>A122</td><td>45  </td><td>A143</td><td>A153</td><td>1   </td><td>A173</td><td>bad </td><td>A191</td><td>A201</td><td>1   </td></tr>\n",
       "\t<tr><td>5   </td><td>A11 </td><td>24  </td><td>A33 </td><td>A40 </td><td>4870</td><td>A61 </td><td>A73 </td><td>3   </td><td>A93 </td><td>⋯   </td><td>A124</td><td>53  </td><td>A143</td><td>A153</td><td>2   </td><td>A173</td><td>bad </td><td>A191</td><td>A201</td><td>2   </td></tr>\n",
       "\t<tr><td>6   </td><td>A14 </td><td>36  </td><td>A32 </td><td>A46 </td><td>9055</td><td>A65 </td><td>A73 </td><td>2   </td><td>A93 </td><td>⋯   </td><td>A124</td><td>35  </td><td>A143</td><td>A153</td><td>1   </td><td>A172</td><td>bad </td><td>A192</td><td>A201</td><td>1   </td></tr>\n",
       "</tbody>\n",
       "</table>\n"
      ],
      "text/latex": [
       "\\begin{tabular}{r|llllllllllllllllllllll}\n",
       " X & V1 & V2 & V3 & V4 & V5 & V6 & V7 & V8 & V9 & ⋯ & V12 & V13 & V14 & V15 & V16 & V17 & V18 & V19 & V20 & V21\\\\\n",
       "\\hline\n",
       "\t 1    & A11  &  6   & A34  & A43  & 1169 & A65  & A75  & 4    & A93  & ⋯    & A121 & 67   & A143 & A152 & 2    & A173 & good & A192 & A201 & 1   \\\\\n",
       "\t 2    & A12  & 48   & A32  & A43  & 5951 & A61  & A73  & 2    & A92  & ⋯    & A121 & 22   & A143 & A152 & 1    & A173 & good & A191 & A201 & 2   \\\\\n",
       "\t 3    & A14  & 12   & A34  & A46  & 2096 & A61  & A74  & 2    & A93  & ⋯    & A121 & 49   & A143 & A152 & 1    & A172 & bad  & A191 & A201 & 1   \\\\\n",
       "\t 4    & A11  & 42   & A32  & A42  & 7882 & A61  & A74  & 2    & A93  & ⋯    & A122 & 45   & A143 & A153 & 1    & A173 & bad  & A191 & A201 & 1   \\\\\n",
       "\t 5    & A11  & 24   & A33  & A40  & 4870 & A61  & A73  & 3    & A93  & ⋯    & A124 & 53   & A143 & A153 & 2    & A173 & bad  & A191 & A201 & 2   \\\\\n",
       "\t 6    & A14  & 36   & A32  & A46  & 9055 & A65  & A73  & 2    & A93  & ⋯    & A124 & 35   & A143 & A153 & 1    & A172 & bad  & A192 & A201 & 1   \\\\\n",
       "\\end{tabular}\n"
      ],
      "text/markdown": [
       "\n",
       "X | V1 | V2 | V3 | V4 | V5 | V6 | V7 | V8 | V9 | ⋯ | V12 | V13 | V14 | V15 | V16 | V17 | V18 | V19 | V20 | V21 | \n",
       "|---|---|---|---|---|---|\n",
       "| 1    | A11  |  6   | A34  | A43  | 1169 | A65  | A75  | 4    | A93  | ⋯    | A121 | 67   | A143 | A152 | 2    | A173 | good | A192 | A201 | 1    | \n",
       "| 2    | A12  | 48   | A32  | A43  | 5951 | A61  | A73  | 2    | A92  | ⋯    | A121 | 22   | A143 | A152 | 1    | A173 | good | A191 | A201 | 2    | \n",
       "| 3    | A14  | 12   | A34  | A46  | 2096 | A61  | A74  | 2    | A93  | ⋯    | A121 | 49   | A143 | A152 | 1    | A172 | bad  | A191 | A201 | 1    | \n",
       "| 4    | A11  | 42   | A32  | A42  | 7882 | A61  | A74  | 2    | A93  | ⋯    | A122 | 45   | A143 | A153 | 1    | A173 | bad  | A191 | A201 | 1    | \n",
       "| 5    | A11  | 24   | A33  | A40  | 4870 | A61  | A73  | 3    | A93  | ⋯    | A124 | 53   | A143 | A153 | 2    | A173 | bad  | A191 | A201 | 2    | \n",
       "| 6    | A14  | 36   | A32  | A46  | 9055 | A65  | A73  | 2    | A93  | ⋯    | A124 | 35   | A143 | A153 | 1    | A172 | bad  | A192 | A201 | 1    | \n",
       "\n",
       "\n"
      ],
      "text/plain": [
       "  X V1  V2 V3  V4  V5   V6  V7  V8 V9  ⋯ V12  V13 V14  V15  V16 V17  V18  V19 \n",
       "1 1 A11  6 A34 A43 1169 A65 A75 4  A93 ⋯ A121 67  A143 A152 2   A173 good A192\n",
       "2 2 A12 48 A32 A43 5951 A61 A73 2  A92 ⋯ A121 22  A143 A152 1   A173 good A191\n",
       "3 3 A14 12 A34 A46 2096 A61 A74 2  A93 ⋯ A121 49  A143 A152 1   A172 bad  A191\n",
       "4 4 A11 42 A32 A42 7882 A61 A74 2  A93 ⋯ A122 45  A143 A153 1   A173 bad  A191\n",
       "5 5 A11 24 A33 A40 4870 A61 A73 3  A93 ⋯ A124 53  A143 A153 2   A173 bad  A191\n",
       "6 6 A14 36 A32 A46 9055 A65 A73 2  A93 ⋯ A124 35  A143 A153 1   A172 bad  A192\n",
       "  V20  V21\n",
       "1 A201 1  \n",
       "2 A201 2  \n",
       "3 A201 1  \n",
       "4 A201 1  \n",
       "5 A201 2  \n",
       "6 A201 1  "
      ]
     },
     "metadata": {},
     "output_type": "display_data"
    }
   ],
   "source": [
    "cat(sprintf('NRow: %d\\nNCol: %d',nrow(data), ncol(data)))\n",
    "head(data)"
   ]
  },
  {
   "cell_type": "markdown",
   "metadata": {},
   "source": [
    "<p style='color: red'> ATENTION: </p>Specifically in R, in classification problem, target must be set as Factor."
   ]
  },
  {
   "cell_type": "code",
   "execution_count": 4,
   "metadata": {
    "collapsed": false
   },
   "outputs": [],
   "source": [
    "data$V21 = as.factor(data$V21)"
   ]
  },
  {
   "cell_type": "markdown",
   "metadata": {},
   "source": [
    "MLR works only with features and target, this means that others columns must be dorped."
   ]
  },
  {
   "cell_type": "code",
   "execution_count": 5,
   "metadata": {
    "collapsed": false
   },
   "outputs": [
    {
     "name": "stdout",
     "output_type": "stream",
     "text": [
      "NRow: 1000\n",
      "NCol: 22"
     ]
    }
   ],
   "source": [
    "drops = c()\n",
    "data  = data[ , !(names(data) %in% drops)]\n",
    "cat(sprintf('NRow: %d\\nNCol: %d',nrow(data), ncol(data)))"
   ]
  },
  {
   "cell_type": "markdown",
   "metadata": {},
   "source": [
    "<h2>2. Modeling</h2>"
   ]
  },
  {
   "cell_type": "markdown",
   "metadata": {},
   "source": [
    "Function\n",
    "```R\n",
    "makeLearner(cl, id = cl, predict.type = \"response\", predict.threshold = NULL, \n",
    "            fix.factors.prediction = FALSE, ..., par.vals = list(), config = list())\n",
    "```\n",
    "Param.:\n",
    "\n",
    "* cl: [character(1)] Class of learner. By convention, all classification learners start with “classif.”. A list of all integrated learners is available on the learners help page < https://mlr-org.github.io/mlr-tutorial/release/html/integrated_learners/ >.\n",
    "* predict: [character(1)] “response” (= labels) or “prob” (= probabilities and labels by selecting the ones with maximal probability). Default is “response”.\n",
    "* par.vals: [list] Optional list of named (hyper)parameters. The arguments in ... take precedence over values in this list. We strongly encourage you to use one or the other to pass (hyper)parameters to the learner but not both.\n",
    "\n",
    "Doc.: https://www.rdocumentation.org/packages/mlr/versions/2.10/topics/makeLearner <br>\n",
    "Rpart Parameters: https://www.rdocumentation.org/packages/rpart/versions/4.1-11/topics/rpart.control"
   ]
  },
  {
   "cell_type": "code",
   "execution_count": 6,
   "metadata": {
    "collapsed": true
   },
   "outputs": [],
   "source": [
    "cl = \"classif.ranger\""
   ]
  },
  {
   "cell_type": "markdown",
   "metadata": {},
   "source": [
    "List all parameters that can be used in this classifier.\n",
    "The value must be set in par.vals parameter."
   ]
  },
  {
   "cell_type": "code",
   "execution_count": 7,
   "metadata": {
    "collapsed": false
   },
   "outputs": [
    {
     "data": {
      "text/plain": [
       "                                      Type  len   Def                    Constr\n",
       "num.trees                          integer    -   500                  1 to Inf\n",
       "mtry                               integer    -     -                  1 to Inf\n",
       "min.node.size                      integer    -     -                  1 to Inf\n",
       "replace                            logical    -  TRUE                         -\n",
       "sample.fraction                    numeric    -     -                    0 to 1\n",
       "split.select.weights         numericvector <NA>     -                    0 to 1\n",
       "always.split.variables             untyped    -     -                         -\n",
       "respect.unordered.factors          logical    - FALSE                         -\n",
       "importance                        discrete    -  none none,impurity,permutation\n",
       "write.forest                       logical    -  TRUE                         -\n",
       "scale.permutation.importance       logical    - FALSE                         -\n",
       "num.threads                        integer    -     -                  1 to Inf\n",
       "save.memory                        logical    - FALSE                         -\n",
       "verbose                            logical    -  TRUE                         -\n",
       "seed                               integer    -     -               -Inf to Inf\n",
       "keep.inbag                         logical    - FALSE                         -\n",
       "                             Req Tunable Trafo\n",
       "num.trees                      -    TRUE     -\n",
       "mtry                           -    TRUE     -\n",
       "min.node.size                  -    TRUE     -\n",
       "replace                        -    TRUE     -\n",
       "sample.fraction                -    TRUE     -\n",
       "split.select.weights           -    TRUE     -\n",
       "always.split.variables         -    TRUE     -\n",
       "respect.unordered.factors      -    TRUE     -\n",
       "importance                     -   FALSE     -\n",
       "write.forest                   -   FALSE     -\n",
       "scale.permutation.importance   Y   FALSE     -\n",
       "num.threads                    -   FALSE     -\n",
       "save.memory                    -   FALSE     -\n",
       "verbose                        -   FALSE     -\n",
       "seed                           -   FALSE     -\n",
       "keep.inbag                     -   FALSE     -"
      ]
     },
     "metadata": {},
     "output_type": "display_data"
    }
   ],
   "source": [
    "getParamSet(cl)"
   ]
  },
  {
   "cell_type": "code",
   "execution_count": 8,
   "metadata": {
    "collapsed": false
   },
   "outputs": [],
   "source": [
    "learner = makeLearner(cl = cl\n",
    "                     , predict.type = \"prob\"\n",
    "                     , par.vals = list()\n",
    "                     )"
   ]
  },
  {
   "cell_type": "markdown",
   "metadata": {},
   "source": [
    "Function\n",
    "```R\n",
    "makeClassifTask(id = deparse(substitute(data)), data, target, weights = NULL, blocking = NULL, \n",
    "                positive = NA_character_, fixup.data = \"warn\", check.data = TRUE)\n",
    "```\n",
    "Param.:\n",
    "\n",
    "* data: [data.frame] A data frame containing the features and target variable(s).\n",
    "* target: [character(1)] Name of the target variable.\n",
    "* positive: [character(1)] Positive class for binary classification (otherwise ignored and set to NA). Default is the first factor level of the target attribute.\n",
    "* fixup.data: [character(1)] Should some basic cleaning up of data be performed? Currently this means removing empty factor levels for the columns. Possible coices are: “no” = Don't do it. “warn” = Do it but warn about it. “quiet” = Do it but keep silent. Default is “warn”.\n",
    "\n",
    "Doc.: https://www.rdocumentation.org/packages/mlr/versions/2.10/topics/makeLearner"
   ]
  },
  {
   "cell_type": "code",
   "execution_count": 9,
   "metadata": {
    "collapsed": false
   },
   "outputs": [],
   "source": [
    "task = makeClassifTask( data = data\n",
    "                      , target = 'V21'\n",
    "                      , positive = '2'\n",
    "                      , fixup.data = 'no'\n",
    "                      )"
   ]
  },
  {
   "cell_type": "markdown",
   "metadata": {},
   "source": [
    "Function:\n",
    "```R\n",
    "makeResampleDesc(method, predict = \"test\", ..., stratify = FALSE, stratify.cols = NULL)\n",
    "```\n",
    "Param.:\n",
    "\n",
    "* method: [character(1)] “CV” for cross-validation, “LOO” for leave-one-out, “RepCV” for repeated cross-validation, “Bootstrap” for out-of-bag bootstrap, “Subsample” for subsampling, “Holdout” for holdout.\n",
    "* predict: What to predict during resampling: “train”, “test” or “both” sets. Default is “test”.\n",
    "* ... : [any] Further parameters for strategies.\n",
    "    * iters [integer(1)] Number of iterations, for “CV”, “Subsample” and “Boostrap”.\n",
    "    * split [numeric(1)] Proportion of training cases for “Holdout” and “Subsample” between 0 and 1. Default is 2/3.\n",
    "    * reps [integer(1)] Repeats for “RepCV”. Here iters = folds * reps. Default is 10.\n",
    "    * folds [integer(1)] Folds in the repeated CV for RepCV. Here iters = folds * reps. Default is 10.\n",
    "\n",
    "Doc.: https://www.rdocumentation.org/packages/mlr/versions/2.10/topics/makeResampleDesc"
   ]
  },
  {
   "cell_type": "code",
   "execution_count": 10,
   "metadata": {
    "collapsed": false
   },
   "outputs": [],
   "source": [
    "resample = makeResampleDesc(\n",
    "    method = \"CV\",\n",
    "    iters = 10,\n",
    "    predict = 'both',\n",
    "    stratify = FALSE\n",
    ")"
   ]
  },
  {
   "cell_type": "markdown",
   "metadata": {},
   "source": [
    "List of performance measures:\n",
    "\n",
    "Doc.: http://mlr-org.github.io/mlr-tutorial/release/html/measures/"
   ]
  },
  {
   "cell_type": "code",
   "execution_count": 11,
   "metadata": {
    "collapsed": false
   },
   "outputs": [],
   "source": [
    "measures = list(mmce #MMCE \n",
    "               ,acc  #acuracia\n",
    "               ,f1   #f1\n",
    "               ,ppv  #precision\n",
    "               ,tpr  #recall\n",
    "               ,auc  #AUC\n",
    "               ,gini #Gini\n",
    "               #,timetrain #tempo execucao\n",
    "               )"
   ]
  },
  {
   "cell_type": "markdown",
   "metadata": {},
   "source": [
    "Function:\n",
    "```R\n",
    "resample(learner, task, resampling, measures, weights = NULL, models = FALSE, extract, \n",
    "         keep.pred = TRUE, ..., show.info = getMlrOption(\"show.info\"))\n",
    "```\n",
    "Param.:\n",
    "\n",
    "* learner: [Learner] The learner.\n",
    "* task: [Task] The task.\n",
    "* resampling: [ResampleInstance] Resampling strategy.\n",
    "* measures: [Measure | list of Measure] Performance measure(s) to evaluate. Default is mean misclassification error (mmce)\n",
    "* weights: [numeric] Optional, non-negative case weight vector to be used during fitting. If given, must be of same length as observations in task and in corresponding order. Overwrites weights specified in the task. By default NULL which means no weights are used unless specified in the task.\n",
    "* models: [logical(1)] Should all fitted models be returned? Default is FALSE.\n",
    "* keep.pred: [logical(1)] Keep the prediction data in the pred slot of the result object. If you do many experiments (on larger data sets) these objects might unnecessarily increase object size / mem usage, if you do not really need them. In this case you can set this argument to FALSE. Default is TRUE.\n",
    "* show.info: [logical(1)] Print verbose output on console? Default is set via configureMlr.\n",
    "\n",
    "Doc.: https://www.rdocumentation.org/packages/mlr/versions/2.10/topics/resample"
   ]
  },
  {
   "cell_type": "code",
   "execution_count": 12,
   "metadata": {
    "collapsed": false
   },
   "outputs": [
    {
     "name": "stderr",
     "output_type": "stream",
     "text": [
      "[Resample] cross-validation iter 1: mmce.test.mean=0.25,acc.test.mean=0.75,f1.test.mean=0.324,ppv.test.mean= 0.6,tpr.test.mean=0.222,auc.test.mean=0.739,gini.test.mean=0.478\n",
      "[Resample] cross-validation iter 2: mmce.test.mean=0.27,acc.test.mean=0.73,f1.test.mean=0.471,ppv.test.mean=0.667,tpr.test.mean=0.364,auc.test.mean=0.744,gini.test.mean=0.488\n",
      "[Resample] cross-validation iter 3: mmce.test.mean= 0.3,acc.test.mean= 0.7,f1.test.mean=0.423,ppv.test.mean=0.579,tpr.test.mean=0.333,auc.test.mean=0.806,gini.test.mean=0.611\n",
      "[Resample] cross-validation iter 4: mmce.test.mean=0.26,acc.test.mean=0.74,f1.test.mean=0.458,ppv.test.mean=0.688,tpr.test.mean=0.344,auc.test.mean=0.783,gini.test.mean=0.565\n",
      "[Resample] cross-validation iter 5: mmce.test.mean=0.23,acc.test.mean=0.77,f1.test.mean=0.531,ppv.test.mean=0.684,tpr.test.mean=0.433,auc.test.mean=0.803,gini.test.mean=0.607\n",
      "[Resample] cross-validation iter 6: mmce.test.mean=0.23,acc.test.mean=0.77,f1.test.mean=0.511,ppv.test.mean=0.75,tpr.test.mean=0.387,auc.test.mean=0.808,gini.test.mean=0.616\n",
      "[Resample] cross-validation iter 7: mmce.test.mean=0.23,acc.test.mean=0.77,f1.test.mean=0.61,ppv.test.mean=0.692,tpr.test.mean=0.545,auc.test.mean=0.859,gini.test.mean=0.718\n",
      "[Resample] cross-validation iter 8: mmce.test.mean= 0.2,acc.test.mean= 0.8,f1.test.mean=0.524,ppv.test.mean=0.733,tpr.test.mean=0.407,auc.test.mean=0.823,gini.test.mean=0.647\n",
      "[Resample] cross-validation iter 9: mmce.test.mean= 0.2,acc.test.mean= 0.8,f1.test.mean=0.444,ppv.test.mean=0.727,tpr.test.mean=0.32,auc.test.mean=0.825,gini.test.mean=0.65\n",
      "[Resample] cross-validation iter 10: mmce.test.mean=0.22,acc.test.mean=0.78,f1.test.mean=0.56,ppv.test.mean=0.667,tpr.test.mean=0.483,auc.test.mean=0.786,gini.test.mean=0.572\n",
      "[Resample] Aggr. Result: mmce.test.mean=0.239,acc.test.mean=0.761,f1.test.mean=0.486,ppv.test.mean=0.679,tpr.test.mean=0.384,auc.test.mean=0.798,gini.test.mean=0.595\n"
     ]
    }
   ],
   "source": [
    "r = resample(learner = learner\n",
    "            ,task = task \n",
    "            ,resampling = resample \n",
    "            ,measures = measures\n",
    "            #---------------------#\n",
    "            ,models = TRUE\n",
    "            ,keep.pred = FALSE\n",
    "            ,show.info = TRUE\n",
    "            )"
   ]
  },
  {
   "cell_type": "markdown",
   "metadata": {},
   "source": [
    "<h2>3. Result Analysis</h2>"
   ]
  },
  {
   "cell_type": "markdown",
   "metadata": {},
   "source": [
    "Train Measures"
   ]
  },
  {
   "cell_type": "code",
   "execution_count": 13,
   "metadata": {
    "collapsed": false
   },
   "outputs": [
    {
     "data": {
      "text/html": [
       "<table>\n",
       "<thead><tr><th scope=col>iter</th><th scope=col>mmce</th><th scope=col>acc</th><th scope=col>f1</th><th scope=col>ppv</th><th scope=col>tpr</th><th scope=col>auc</th><th scope=col>gini</th></tr></thead>\n",
       "<tbody>\n",
       "\t<tr><td> 1        </td><td>0.02777778</td><td>0.9722222 </td><td>0.9520154 </td><td>1.0000000 </td><td>0.9084249 </td><td>0.9994275 </td><td>0.9988549 </td></tr>\n",
       "\t<tr><td> 2        </td><td>0.03555556</td><td>0.9644444 </td><td>0.9362550 </td><td>1.0000000 </td><td>0.8801498 </td><td>0.9995503 </td><td>0.9991007 </td></tr>\n",
       "\t<tr><td> 3        </td><td>0.03333333</td><td>0.9666667 </td><td>0.9404762 </td><td>1.0000000 </td><td>0.8876404 </td><td>0.9996627 </td><td>0.9993255 </td></tr>\n",
       "\t<tr><td> 4        </td><td>0.02888889</td><td>0.9711111 </td><td>0.9492188 </td><td>0.9959016 </td><td>0.9067164 </td><td>0.9993092 </td><td>0.9986185 </td></tr>\n",
       "\t<tr><td> 5        </td><td>0.03666667</td><td>0.9633333 </td><td>0.9349112 </td><td>1.0000000 </td><td>0.8777778 </td><td>0.9995121 </td><td>0.9990241 </td></tr>\n",
       "\t<tr><td> 6        </td><td>0.03333333</td><td>0.9666667 </td><td>0.9409449 </td><td>1.0000000 </td><td>0.8884758 </td><td>0.9995405 </td><td>0.9990809 </td></tr>\n",
       "\t<tr><td> 7        </td><td>0.03111111</td><td>0.9688889 </td><td>0.9446640 </td><td>1.0000000 </td><td>0.8951311 </td><td>0.9995089 </td><td>0.9990178 </td></tr>\n",
       "\t<tr><td> 8        </td><td>0.03444444</td><td>0.9655556 </td><td>0.9398058 </td><td>1.0000000 </td><td>0.8864469 </td><td>0.9993282 </td><td>0.9986563 </td></tr>\n",
       "\t<tr><td> 9        </td><td>0.03111111</td><td>0.9688889 </td><td>0.9463602 </td><td>1.0000000 </td><td>0.8981818 </td><td>0.9995811 </td><td>0.9991622 </td></tr>\n",
       "\t<tr><td>10        </td><td>0.03111111</td><td>0.9688889 </td><td>0.9455253 </td><td>1.0000000 </td><td>0.8966790 </td><td>0.9995776 </td><td>0.9991552 </td></tr>\n",
       "</tbody>\n",
       "</table>\n"
      ],
      "text/latex": [
       "\\begin{tabular}{r|llllllll}\n",
       " iter & mmce & acc & f1 & ppv & tpr & auc & gini\\\\\n",
       "\\hline\n",
       "\t  1         & 0.02777778 & 0.9722222  & 0.9520154  & 1.0000000  & 0.9084249  & 0.9994275  & 0.9988549 \\\\\n",
       "\t  2         & 0.03555556 & 0.9644444  & 0.9362550  & 1.0000000  & 0.8801498  & 0.9995503  & 0.9991007 \\\\\n",
       "\t  3         & 0.03333333 & 0.9666667  & 0.9404762  & 1.0000000  & 0.8876404  & 0.9996627  & 0.9993255 \\\\\n",
       "\t  4         & 0.02888889 & 0.9711111  & 0.9492188  & 0.9959016  & 0.9067164  & 0.9993092  & 0.9986185 \\\\\n",
       "\t  5         & 0.03666667 & 0.9633333  & 0.9349112  & 1.0000000  & 0.8777778  & 0.9995121  & 0.9990241 \\\\\n",
       "\t  6         & 0.03333333 & 0.9666667  & 0.9409449  & 1.0000000  & 0.8884758  & 0.9995405  & 0.9990809 \\\\\n",
       "\t  7         & 0.03111111 & 0.9688889  & 0.9446640  & 1.0000000  & 0.8951311  & 0.9995089  & 0.9990178 \\\\\n",
       "\t  8         & 0.03444444 & 0.9655556  & 0.9398058  & 1.0000000  & 0.8864469  & 0.9993282  & 0.9986563 \\\\\n",
       "\t  9         & 0.03111111 & 0.9688889  & 0.9463602  & 1.0000000  & 0.8981818  & 0.9995811  & 0.9991622 \\\\\n",
       "\t 10         & 0.03111111 & 0.9688889  & 0.9455253  & 1.0000000  & 0.8966790  & 0.9995776  & 0.9991552 \\\\\n",
       "\\end{tabular}\n"
      ],
      "text/markdown": [
       "\n",
       "iter | mmce | acc | f1 | ppv | tpr | auc | gini | \n",
       "|---|---|---|---|---|---|---|---|---|---|\n",
       "|  1         | 0.02777778 | 0.9722222  | 0.9520154  | 1.0000000  | 0.9084249  | 0.9994275  | 0.9988549  | \n",
       "|  2         | 0.03555556 | 0.9644444  | 0.9362550  | 1.0000000  | 0.8801498  | 0.9995503  | 0.9991007  | \n",
       "|  3         | 0.03333333 | 0.9666667  | 0.9404762  | 1.0000000  | 0.8876404  | 0.9996627  | 0.9993255  | \n",
       "|  4         | 0.02888889 | 0.9711111  | 0.9492188  | 0.9959016  | 0.9067164  | 0.9993092  | 0.9986185  | \n",
       "|  5         | 0.03666667 | 0.9633333  | 0.9349112  | 1.0000000  | 0.8777778  | 0.9995121  | 0.9990241  | \n",
       "|  6         | 0.03333333 | 0.9666667  | 0.9409449  | 1.0000000  | 0.8884758  | 0.9995405  | 0.9990809  | \n",
       "|  7         | 0.03111111 | 0.9688889  | 0.9446640  | 1.0000000  | 0.8951311  | 0.9995089  | 0.9990178  | \n",
       "|  8         | 0.03444444 | 0.9655556  | 0.9398058  | 1.0000000  | 0.8864469  | 0.9993282  | 0.9986563  | \n",
       "|  9         | 0.03111111 | 0.9688889  | 0.9463602  | 1.0000000  | 0.8981818  | 0.9995811  | 0.9991622  | \n",
       "| 10         | 0.03111111 | 0.9688889  | 0.9455253  | 1.0000000  | 0.8966790  | 0.9995776  | 0.9991552  | \n",
       "\n",
       "\n"
      ],
      "text/plain": [
       "   iter mmce       acc       f1        ppv       tpr       auc       gini     \n",
       "1   1   0.02777778 0.9722222 0.9520154 1.0000000 0.9084249 0.9994275 0.9988549\n",
       "2   2   0.03555556 0.9644444 0.9362550 1.0000000 0.8801498 0.9995503 0.9991007\n",
       "3   3   0.03333333 0.9666667 0.9404762 1.0000000 0.8876404 0.9996627 0.9993255\n",
       "4   4   0.02888889 0.9711111 0.9492188 0.9959016 0.9067164 0.9993092 0.9986185\n",
       "5   5   0.03666667 0.9633333 0.9349112 1.0000000 0.8777778 0.9995121 0.9990241\n",
       "6   6   0.03333333 0.9666667 0.9409449 1.0000000 0.8884758 0.9995405 0.9990809\n",
       "7   7   0.03111111 0.9688889 0.9446640 1.0000000 0.8951311 0.9995089 0.9990178\n",
       "8   8   0.03444444 0.9655556 0.9398058 1.0000000 0.8864469 0.9993282 0.9986563\n",
       "9   9   0.03111111 0.9688889 0.9463602 1.0000000 0.8981818 0.9995811 0.9991622\n",
       "10 10   0.03111111 0.9688889 0.9455253 1.0000000 0.8966790 0.9995776 0.9991552"
      ]
     },
     "metadata": {},
     "output_type": "display_data"
    }
   ],
   "source": [
    "r$measures.train"
   ]
  },
  {
   "cell_type": "markdown",
   "metadata": {},
   "source": [
    "Test Measures"
   ]
  },
  {
   "cell_type": "code",
   "execution_count": 14,
   "metadata": {
    "collapsed": false
   },
   "outputs": [
    {
     "data": {
      "text/html": [
       "<table>\n",
       "<thead><tr><th scope=col>iter</th><th scope=col>mmce</th><th scope=col>acc</th><th scope=col>f1</th><th scope=col>ppv</th><th scope=col>tpr</th><th scope=col>auc</th><th scope=col>gini</th></tr></thead>\n",
       "<tbody>\n",
       "\t<tr><td> 1       </td><td>0.25     </td><td>0.75     </td><td>0.3243243</td><td>0.6000000</td><td>0.2222222</td><td>0.7392187</td><td>0.4784373</td></tr>\n",
       "\t<tr><td> 2       </td><td>0.27     </td><td>0.73     </td><td>0.4705882</td><td>0.6666667</td><td>0.3636364</td><td>0.7440072</td><td>0.4880145</td></tr>\n",
       "\t<tr><td> 3       </td><td>0.30     </td><td>0.70     </td><td>0.4230769</td><td>0.5789474</td><td>0.3333333</td><td>0.8055179</td><td>0.6110357</td></tr>\n",
       "\t<tr><td> 4       </td><td>0.26     </td><td>0.74     </td><td>0.4583333</td><td>0.6875000</td><td>0.3437500</td><td>0.7826287</td><td>0.5652574</td></tr>\n",
       "\t<tr><td> 5       </td><td>0.23     </td><td>0.77     </td><td>0.5306122</td><td>0.6842105</td><td>0.4333333</td><td>0.8033333</td><td>0.6066667</td></tr>\n",
       "\t<tr><td> 6       </td><td>0.23     </td><td>0.77     </td><td>0.5106383</td><td>0.7500000</td><td>0.3870968</td><td>0.8078541</td><td>0.6157083</td></tr>\n",
       "\t<tr><td> 7       </td><td>0.23     </td><td>0.77     </td><td>0.6101695</td><td>0.6923077</td><td>0.5454545</td><td>0.8588874</td><td>0.7177748</td></tr>\n",
       "\t<tr><td> 8       </td><td>0.20     </td><td>0.80     </td><td>0.5238095</td><td>0.7333333</td><td>0.4074074</td><td>0.8234399</td><td>0.6468798</td></tr>\n",
       "\t<tr><td> 9       </td><td>0.20     </td><td>0.80     </td><td>0.4444444</td><td>0.7272727</td><td>0.3200000</td><td>0.8250667</td><td>0.6501333</td></tr>\n",
       "\t<tr><td>10       </td><td>0.22     </td><td>0.78     </td><td>0.5600000</td><td>0.6666667</td><td>0.4827586</td><td>0.7858184</td><td>0.5716367</td></tr>\n",
       "</tbody>\n",
       "</table>\n"
      ],
      "text/latex": [
       "\\begin{tabular}{r|llllllll}\n",
       " iter & mmce & acc & f1 & ppv & tpr & auc & gini\\\\\n",
       "\\hline\n",
       "\t  1        & 0.25      & 0.75      & 0.3243243 & 0.6000000 & 0.2222222 & 0.7392187 & 0.4784373\\\\\n",
       "\t  2        & 0.27      & 0.73      & 0.4705882 & 0.6666667 & 0.3636364 & 0.7440072 & 0.4880145\\\\\n",
       "\t  3        & 0.30      & 0.70      & 0.4230769 & 0.5789474 & 0.3333333 & 0.8055179 & 0.6110357\\\\\n",
       "\t  4        & 0.26      & 0.74      & 0.4583333 & 0.6875000 & 0.3437500 & 0.7826287 & 0.5652574\\\\\n",
       "\t  5        & 0.23      & 0.77      & 0.5306122 & 0.6842105 & 0.4333333 & 0.8033333 & 0.6066667\\\\\n",
       "\t  6        & 0.23      & 0.77      & 0.5106383 & 0.7500000 & 0.3870968 & 0.8078541 & 0.6157083\\\\\n",
       "\t  7        & 0.23      & 0.77      & 0.6101695 & 0.6923077 & 0.5454545 & 0.8588874 & 0.7177748\\\\\n",
       "\t  8        & 0.20      & 0.80      & 0.5238095 & 0.7333333 & 0.4074074 & 0.8234399 & 0.6468798\\\\\n",
       "\t  9        & 0.20      & 0.80      & 0.4444444 & 0.7272727 & 0.3200000 & 0.8250667 & 0.6501333\\\\\n",
       "\t 10        & 0.22      & 0.78      & 0.5600000 & 0.6666667 & 0.4827586 & 0.7858184 & 0.5716367\\\\\n",
       "\\end{tabular}\n"
      ],
      "text/markdown": [
       "\n",
       "iter | mmce | acc | f1 | ppv | tpr | auc | gini | \n",
       "|---|---|---|---|---|---|---|---|---|---|\n",
       "|  1        | 0.25      | 0.75      | 0.3243243 | 0.6000000 | 0.2222222 | 0.7392187 | 0.4784373 | \n",
       "|  2        | 0.27      | 0.73      | 0.4705882 | 0.6666667 | 0.3636364 | 0.7440072 | 0.4880145 | \n",
       "|  3        | 0.30      | 0.70      | 0.4230769 | 0.5789474 | 0.3333333 | 0.8055179 | 0.6110357 | \n",
       "|  4        | 0.26      | 0.74      | 0.4583333 | 0.6875000 | 0.3437500 | 0.7826287 | 0.5652574 | \n",
       "|  5        | 0.23      | 0.77      | 0.5306122 | 0.6842105 | 0.4333333 | 0.8033333 | 0.6066667 | \n",
       "|  6        | 0.23      | 0.77      | 0.5106383 | 0.7500000 | 0.3870968 | 0.8078541 | 0.6157083 | \n",
       "|  7        | 0.23      | 0.77      | 0.6101695 | 0.6923077 | 0.5454545 | 0.8588874 | 0.7177748 | \n",
       "|  8        | 0.20      | 0.80      | 0.5238095 | 0.7333333 | 0.4074074 | 0.8234399 | 0.6468798 | \n",
       "|  9        | 0.20      | 0.80      | 0.4444444 | 0.7272727 | 0.3200000 | 0.8250667 | 0.6501333 | \n",
       "| 10        | 0.22      | 0.78      | 0.5600000 | 0.6666667 | 0.4827586 | 0.7858184 | 0.5716367 | \n",
       "\n",
       "\n"
      ],
      "text/plain": [
       "   iter mmce acc  f1        ppv       tpr       auc       gini     \n",
       "1   1   0.25 0.75 0.3243243 0.6000000 0.2222222 0.7392187 0.4784373\n",
       "2   2   0.27 0.73 0.4705882 0.6666667 0.3636364 0.7440072 0.4880145\n",
       "3   3   0.30 0.70 0.4230769 0.5789474 0.3333333 0.8055179 0.6110357\n",
       "4   4   0.26 0.74 0.4583333 0.6875000 0.3437500 0.7826287 0.5652574\n",
       "5   5   0.23 0.77 0.5306122 0.6842105 0.4333333 0.8033333 0.6066667\n",
       "6   6   0.23 0.77 0.5106383 0.7500000 0.3870968 0.8078541 0.6157083\n",
       "7   7   0.23 0.77 0.6101695 0.6923077 0.5454545 0.8588874 0.7177748\n",
       "8   8   0.20 0.80 0.5238095 0.7333333 0.4074074 0.8234399 0.6468798\n",
       "9   9   0.20 0.80 0.4444444 0.7272727 0.3200000 0.8250667 0.6501333\n",
       "10 10   0.22 0.78 0.5600000 0.6666667 0.4827586 0.7858184 0.5716367"
      ]
     },
     "metadata": {},
     "output_type": "display_data"
    }
   ],
   "source": [
    "r$measures.test"
   ]
  },
  {
   "cell_type": "markdown",
   "metadata": {},
   "source": [
    "Train Aggregated Result"
   ]
  },
  {
   "cell_type": "code",
   "execution_count": 15,
   "metadata": {
    "collapsed": false
   },
   "outputs": [
    {
     "data": {
      "text/html": [
       "<dl class=dl-horizontal>\n",
       "\t<dt>iter</dt>\n",
       "\t\t<dd>5.5</dd>\n",
       "\t<dt>mmce</dt>\n",
       "\t\t<dd>0.0323333333333333</dd>\n",
       "\t<dt>acc</dt>\n",
       "\t\t<dd>0.967666666666667</dd>\n",
       "\t<dt>f1</dt>\n",
       "\t\t<dd>0.943017670208433</dd>\n",
       "\t<dt>ppv</dt>\n",
       "\t\t<dd>0.999590163934426</dd>\n",
       "\t<dt>tpr</dt>\n",
       "\t\t<dd>0.892562396027734</dd>\n",
       "\t<dt>auc</dt>\n",
       "\t\t<dd>0.999499806082141</dd>\n",
       "\t<dt>gini</dt>\n",
       "\t\t<dd>0.998999612164281</dd>\n",
       "</dl>\n"
      ],
      "text/latex": [
       "\\begin{description*}\n",
       "\\item[iter] 5.5\n",
       "\\item[mmce] 0.0323333333333333\n",
       "\\item[acc] 0.967666666666667\n",
       "\\item[f1] 0.943017670208433\n",
       "\\item[ppv] 0.999590163934426\n",
       "\\item[tpr] 0.892562396027734\n",
       "\\item[auc] 0.999499806082141\n",
       "\\item[gini] 0.998999612164281\n",
       "\\end{description*}\n"
      ],
      "text/markdown": [
       "iter\n",
       ":   5.5mmce\n",
       ":   0.0323333333333333acc\n",
       ":   0.967666666666667f1\n",
       ":   0.943017670208433ppv\n",
       ":   0.999590163934426tpr\n",
       ":   0.892562396027734auc\n",
       ":   0.999499806082141gini\n",
       ":   0.998999612164281\n",
       "\n"
      ],
      "text/plain": [
       "      iter       mmce        acc         f1        ppv        tpr        auc \n",
       "5.50000000 0.03233333 0.96766667 0.94301767 0.99959016 0.89256240 0.99949981 \n",
       "      gini \n",
       "0.99899961 "
      ]
     },
     "metadata": {},
     "output_type": "display_data"
    }
   ],
   "source": [
    "apply(r$measures.train,2,mean)"
   ]
  },
  {
   "cell_type": "markdown",
   "metadata": {},
   "source": [
    "Test Aggregated Result"
   ]
  },
  {
   "cell_type": "code",
   "execution_count": 16,
   "metadata": {
    "collapsed": false
   },
   "outputs": [
    {
     "data": {
      "text/html": [
       "<dl class=dl-horizontal>\n",
       "\t<dt>iter</dt>\n",
       "\t\t<dd>5.5</dd>\n",
       "\t<dt>mmce</dt>\n",
       "\t\t<dd>0.239</dd>\n",
       "\t<dt>acc</dt>\n",
       "\t\t<dd>0.761</dd>\n",
       "\t<dt>f1</dt>\n",
       "\t\t<dd>0.485599681857839</dd>\n",
       "\t<dt>ppv</dt>\n",
       "\t\t<dd>0.678690498098393</dd>\n",
       "\t<dt>tpr</dt>\n",
       "\t\t<dd>0.383899260027041</dd>\n",
       "\t<dt>auc</dt>\n",
       "\t\t<dd>0.797577220434368</dd>\n",
       "\t<dt>gini</dt>\n",
       "\t\t<dd>0.595154440868736</dd>\n",
       "</dl>\n"
      ],
      "text/latex": [
       "\\begin{description*}\n",
       "\\item[iter] 5.5\n",
       "\\item[mmce] 0.239\n",
       "\\item[acc] 0.761\n",
       "\\item[f1] 0.485599681857839\n",
       "\\item[ppv] 0.678690498098393\n",
       "\\item[tpr] 0.383899260027041\n",
       "\\item[auc] 0.797577220434368\n",
       "\\item[gini] 0.595154440868736\n",
       "\\end{description*}\n"
      ],
      "text/markdown": [
       "iter\n",
       ":   5.5mmce\n",
       ":   0.239acc\n",
       ":   0.761f1\n",
       ":   0.485599681857839ppv\n",
       ":   0.678690498098393tpr\n",
       ":   0.383899260027041auc\n",
       ":   0.797577220434368gini\n",
       ":   0.595154440868736\n",
       "\n"
      ],
      "text/plain": [
       "     iter      mmce       acc        f1       ppv       tpr       auc      gini \n",
       "5.5000000 0.2390000 0.7610000 0.4855997 0.6786905 0.3838993 0.7975772 0.5951544 "
      ]
     },
     "metadata": {},
     "output_type": "display_data"
    }
   ],
   "source": [
    "apply(r$measures.test,2,mean)"
   ]
  },
  {
   "cell_type": "markdown",
   "metadata": {},
   "source": [
    "Run Time in seconds"
   ]
  },
  {
   "cell_type": "code",
   "execution_count": 17,
   "metadata": {
    "collapsed": false
   },
   "outputs": [
    {
     "data": {
      "text/html": [
       "7.42091012001038"
      ],
      "text/latex": [
       "7.42091012001038"
      ],
      "text/markdown": [
       "7.42091012001038"
      ],
      "text/plain": [
       "[1] 7.42091"
      ]
     },
     "metadata": {},
     "output_type": "display_data"
    }
   ],
   "source": [
    "r$runtime"
   ]
  },
  {
   "cell_type": "markdown",
   "metadata": {},
   "source": [
    "<h2>4. Prediction for new data</h2>"
   ]
  },
  {
   "cell_type": "markdown",
   "metadata": {},
   "source": [
    "Read the data to predict"
   ]
  },
  {
   "cell_type": "code",
   "execution_count": 18,
   "metadata": {
    "collapsed": true
   },
   "outputs": [],
   "source": [
    "new.data = read.csv(file=sprintf('%s/%s', folder_name, file_name))"
   ]
  },
  {
   "cell_type": "markdown",
   "metadata": {},
   "source": [
    "Search for the best model in crossvalidation and use it to score the incoming data"
   ]
  },
  {
   "cell_type": "code",
   "execution_count": 19,
   "metadata": {
    "collapsed": false
   },
   "outputs": [],
   "source": [
    "best.model = which.max(r$measures.test$acc)"
   ]
  },
  {
   "cell_type": "code",
   "execution_count": 20,
   "metadata": {
    "collapsed": false
   },
   "outputs": [],
   "source": [
    "pred = predict(r$models[[best.model]], newdata = new.data)"
   ]
  },
  {
   "cell_type": "markdown",
   "metadata": {},
   "source": [
    "Prediction Result"
   ]
  },
  {
   "cell_type": "code",
   "execution_count": 21,
   "metadata": {
    "collapsed": false
   },
   "outputs": [
    {
     "data": {
      "text/plain": [
       "Prediction: 1000 observations\n",
       "predict.type: prob\n",
       "threshold: 1=0.50,2=0.50\n",
       "time: 0.16\n",
       "  truth    prob.1     prob.2 response\n",
       "1     1 0.8765603 0.12343968        1\n",
       "2     2 0.2767151 0.72328492        2\n",
       "3     1 0.9079040 0.09209603        1\n",
       "4     1 0.4471286 0.55287143        2\n",
       "5     2 0.3075119 0.69248810        2\n",
       "6     1 0.7679397 0.23206032        1\n",
       "... (1000 rows, 4 cols)\n"
      ]
     },
     "metadata": {},
     "output_type": "display_data"
    }
   ],
   "source": [
    "pred"
   ]
  },
  {
   "cell_type": "markdown",
   "metadata": {},
   "source": [
    "Cast result to data.frame to access the prediction"
   ]
  },
  {
   "cell_type": "code",
   "execution_count": 22,
   "metadata": {
    "collapsed": false
   },
   "outputs": [
    {
     "data": {
      "text/html": [
       "<table>\n",
       "<thead><tr><th scope=col>truth</th><th scope=col>prob.1</th><th scope=col>prob.2</th><th scope=col>response</th></tr></thead>\n",
       "<tbody>\n",
       "\t<tr><td>1         </td><td>0.8765603 </td><td>0.12343968</td><td>1         </td></tr>\n",
       "\t<tr><td>2         </td><td>0.2767151 </td><td>0.72328492</td><td>2         </td></tr>\n",
       "\t<tr><td>1         </td><td>0.9079040 </td><td>0.09209603</td><td>1         </td></tr>\n",
       "\t<tr><td>1         </td><td>0.4471286 </td><td>0.55287143</td><td>2         </td></tr>\n",
       "\t<tr><td>2         </td><td>0.3075119 </td><td>0.69248810</td><td>2         </td></tr>\n",
       "\t<tr><td>1         </td><td>0.7679397 </td><td>0.23206032</td><td>1         </td></tr>\n",
       "</tbody>\n",
       "</table>\n"
      ],
      "text/latex": [
       "\\begin{tabular}{r|llll}\n",
       " truth & prob.1 & prob.2 & response\\\\\n",
       "\\hline\n",
       "\t 1          & 0.8765603  & 0.12343968 & 1         \\\\\n",
       "\t 2          & 0.2767151  & 0.72328492 & 2         \\\\\n",
       "\t 1          & 0.9079040  & 0.09209603 & 1         \\\\\n",
       "\t 1          & 0.4471286  & 0.55287143 & 2         \\\\\n",
       "\t 2          & 0.3075119  & 0.69248810 & 2         \\\\\n",
       "\t 1          & 0.7679397  & 0.23206032 & 1         \\\\\n",
       "\\end{tabular}\n"
      ],
      "text/markdown": [
       "\n",
       "truth | prob.1 | prob.2 | response | \n",
       "|---|---|---|---|---|---|\n",
       "| 1          | 0.8765603  | 0.12343968 | 1          | \n",
       "| 2          | 0.2767151  | 0.72328492 | 2          | \n",
       "| 1          | 0.9079040  | 0.09209603 | 1          | \n",
       "| 1          | 0.4471286  | 0.55287143 | 2          | \n",
       "| 2          | 0.3075119  | 0.69248810 | 2          | \n",
       "| 1          | 0.7679397  | 0.23206032 | 1          | \n",
       "\n",
       "\n"
      ],
      "text/plain": [
       "  truth prob.1    prob.2     response\n",
       "1 1     0.8765603 0.12343968 1       \n",
       "2 2     0.2767151 0.72328492 2       \n",
       "3 1     0.9079040 0.09209603 1       \n",
       "4 1     0.4471286 0.55287143 2       \n",
       "5 2     0.3075119 0.69248810 2       \n",
       "6 1     0.7679397 0.23206032 1       "
      ]
     },
     "metadata": {},
     "output_type": "display_data"
    }
   ],
   "source": [
    "head(as.data.frame(pred))"
   ]
  },
  {
   "cell_type": "code",
   "execution_count": null,
   "metadata": {
    "collapsed": true
   },
   "outputs": [],
   "source": []
  }
 ],
 "metadata": {
  "kernelspec": {
   "display_name": "R",
   "language": "R",
   "name": "ir"
  },
  "language_info": {
   "codemirror_mode": "r",
   "file_extension": ".r",
   "mimetype": "text/x-r-source",
   "name": "R",
   "pygments_lexer": "r",
   "version": "3.4.2"
  }
 },
 "nbformat": 4,
 "nbformat_minor": 2
}
