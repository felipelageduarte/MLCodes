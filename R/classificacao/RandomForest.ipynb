{
 "cells": [
  {
   "cell_type": "markdown",
   "metadata": {},
   "source": [
    "<h1>Decision Tree</h1>"
   ]
  },
  {
   "cell_type": "code",
   "execution_count": 21,
   "metadata": {
    "collapsed": false
   },
   "outputs": [],
   "source": [
    "library(mlr)\n",
    "source('../utils.r')\n",
    "\n",
    "set.seed(42)\n",
    "\n",
    "folder_name = '../../raw_data' \n",
    "file_name   = 'german.csv'"
   ]
  },
  {
   "cell_type": "markdown",
   "metadata": {},
   "source": [
    "<h2>1. Dataprep</h2>"
   ]
  },
  {
   "cell_type": "code",
   "execution_count": 22,
   "metadata": {
    "collapsed": false
   },
   "outputs": [],
   "source": [
    "data = read.csv(file=sprintf('%s/%s',folder_name,file_name))"
   ]
  },
  {
   "cell_type": "code",
   "execution_count": 23,
   "metadata": {
    "collapsed": false
   },
   "outputs": [
    {
     "name": "stdout",
     "output_type": "stream",
     "text": [
      "NRow: 1000\n",
      "NCol: 22"
     ]
    },
    {
     "data": {
      "text/html": [
       "<table>\n",
       "<thead><tr><th scope=col>X</th><th scope=col>V1</th><th scope=col>V2</th><th scope=col>V3</th><th scope=col>V4</th><th scope=col>V5</th><th scope=col>V6</th><th scope=col>V7</th><th scope=col>V8</th><th scope=col>V9</th><th scope=col>⋯</th><th scope=col>V12</th><th scope=col>V13</th><th scope=col>V14</th><th scope=col>V15</th><th scope=col>V16</th><th scope=col>V17</th><th scope=col>V18</th><th scope=col>V19</th><th scope=col>V20</th><th scope=col>V21</th></tr></thead>\n",
       "<tbody>\n",
       "\t<tr><td>1   </td><td>A11 </td><td> 6  </td><td>A34 </td><td>A43 </td><td>1169</td><td>A65 </td><td>A75 </td><td>4   </td><td>A93 </td><td>⋯   </td><td>A121</td><td>67  </td><td>A143</td><td>A152</td><td>2   </td><td>A173</td><td>good</td><td>A192</td><td>A201</td><td>1   </td></tr>\n",
       "\t<tr><td>2   </td><td>A12 </td><td>48  </td><td>A32 </td><td>A43 </td><td>5951</td><td>A61 </td><td>A73 </td><td>2   </td><td>A92 </td><td>⋯   </td><td>A121</td><td>22  </td><td>A143</td><td>A152</td><td>1   </td><td>A173</td><td>good</td><td>A191</td><td>A201</td><td>2   </td></tr>\n",
       "\t<tr><td>3   </td><td>A14 </td><td>12  </td><td>A34 </td><td>A46 </td><td>2096</td><td>A61 </td><td>A74 </td><td>2   </td><td>A93 </td><td>⋯   </td><td>A121</td><td>49  </td><td>A143</td><td>A152</td><td>1   </td><td>A172</td><td>bad </td><td>A191</td><td>A201</td><td>1   </td></tr>\n",
       "\t<tr><td>4   </td><td>A11 </td><td>42  </td><td>A32 </td><td>A42 </td><td>7882</td><td>A61 </td><td>A74 </td><td>2   </td><td>A93 </td><td>⋯   </td><td>A122</td><td>45  </td><td>A143</td><td>A153</td><td>1   </td><td>A173</td><td>bad </td><td>A191</td><td>A201</td><td>1   </td></tr>\n",
       "\t<tr><td>5   </td><td>A11 </td><td>24  </td><td>A33 </td><td>A40 </td><td>4870</td><td>A61 </td><td>A73 </td><td>3   </td><td>A93 </td><td>⋯   </td><td>A124</td><td>53  </td><td>A143</td><td>A153</td><td>2   </td><td>A173</td><td>bad </td><td>A191</td><td>A201</td><td>2   </td></tr>\n",
       "\t<tr><td>6   </td><td>A14 </td><td>36  </td><td>A32 </td><td>A46 </td><td>9055</td><td>A65 </td><td>A73 </td><td>2   </td><td>A93 </td><td>⋯   </td><td>A124</td><td>35  </td><td>A143</td><td>A153</td><td>1   </td><td>A172</td><td>bad </td><td>A192</td><td>A201</td><td>1   </td></tr>\n",
       "</tbody>\n",
       "</table>\n"
      ],
      "text/latex": [
       "\\begin{tabular}{r|llllllllllllllllllllll}\n",
       " X & V1 & V2 & V3 & V4 & V5 & V6 & V7 & V8 & V9 & ⋯ & V12 & V13 & V14 & V15 & V16 & V17 & V18 & V19 & V20 & V21\\\\\n",
       "\\hline\n",
       "\t 1    & A11  &  6   & A34  & A43  & 1169 & A65  & A75  & 4    & A93  & ⋯    & A121 & 67   & A143 & A152 & 2    & A173 & good & A192 & A201 & 1   \\\\\n",
       "\t 2    & A12  & 48   & A32  & A43  & 5951 & A61  & A73  & 2    & A92  & ⋯    & A121 & 22   & A143 & A152 & 1    & A173 & good & A191 & A201 & 2   \\\\\n",
       "\t 3    & A14  & 12   & A34  & A46  & 2096 & A61  & A74  & 2    & A93  & ⋯    & A121 & 49   & A143 & A152 & 1    & A172 & bad  & A191 & A201 & 1   \\\\\n",
       "\t 4    & A11  & 42   & A32  & A42  & 7882 & A61  & A74  & 2    & A93  & ⋯    & A122 & 45   & A143 & A153 & 1    & A173 & bad  & A191 & A201 & 1   \\\\\n",
       "\t 5    & A11  & 24   & A33  & A40  & 4870 & A61  & A73  & 3    & A93  & ⋯    & A124 & 53   & A143 & A153 & 2    & A173 & bad  & A191 & A201 & 2   \\\\\n",
       "\t 6    & A14  & 36   & A32  & A46  & 9055 & A65  & A73  & 2    & A93  & ⋯    & A124 & 35   & A143 & A153 & 1    & A172 & bad  & A192 & A201 & 1   \\\\\n",
       "\\end{tabular}\n"
      ],
      "text/markdown": [
       "\n",
       "X | V1 | V2 | V3 | V4 | V5 | V6 | V7 | V8 | V9 | ⋯ | V12 | V13 | V14 | V15 | V16 | V17 | V18 | V19 | V20 | V21 | \n",
       "|---|---|---|---|---|---|\n",
       "| 1    | A11  |  6   | A34  | A43  | 1169 | A65  | A75  | 4    | A93  | ⋯    | A121 | 67   | A143 | A152 | 2    | A173 | good | A192 | A201 | 1    | \n",
       "| 2    | A12  | 48   | A32  | A43  | 5951 | A61  | A73  | 2    | A92  | ⋯    | A121 | 22   | A143 | A152 | 1    | A173 | good | A191 | A201 | 2    | \n",
       "| 3    | A14  | 12   | A34  | A46  | 2096 | A61  | A74  | 2    | A93  | ⋯    | A121 | 49   | A143 | A152 | 1    | A172 | bad  | A191 | A201 | 1    | \n",
       "| 4    | A11  | 42   | A32  | A42  | 7882 | A61  | A74  | 2    | A93  | ⋯    | A122 | 45   | A143 | A153 | 1    | A173 | bad  | A191 | A201 | 1    | \n",
       "| 5    | A11  | 24   | A33  | A40  | 4870 | A61  | A73  | 3    | A93  | ⋯    | A124 | 53   | A143 | A153 | 2    | A173 | bad  | A191 | A201 | 2    | \n",
       "| 6    | A14  | 36   | A32  | A46  | 9055 | A65  | A73  | 2    | A93  | ⋯    | A124 | 35   | A143 | A153 | 1    | A172 | bad  | A192 | A201 | 1    | \n",
       "\n",
       "\n"
      ],
      "text/plain": [
       "  X V1  V2 V3  V4  V5   V6  V7  V8 V9  ⋯ V12  V13 V14  V15  V16 V17  V18  V19 \n",
       "1 1 A11  6 A34 A43 1169 A65 A75 4  A93 ⋯ A121 67  A143 A152 2   A173 good A192\n",
       "2 2 A12 48 A32 A43 5951 A61 A73 2  A92 ⋯ A121 22  A143 A152 1   A173 good A191\n",
       "3 3 A14 12 A34 A46 2096 A61 A74 2  A93 ⋯ A121 49  A143 A152 1   A172 bad  A191\n",
       "4 4 A11 42 A32 A42 7882 A61 A74 2  A93 ⋯ A122 45  A143 A153 1   A173 bad  A191\n",
       "5 5 A11 24 A33 A40 4870 A61 A73 3  A93 ⋯ A124 53  A143 A153 2   A173 bad  A191\n",
       "6 6 A14 36 A32 A46 9055 A65 A73 2  A93 ⋯ A124 35  A143 A153 1   A172 bad  A192\n",
       "  V20  V21\n",
       "1 A201 1  \n",
       "2 A201 2  \n",
       "3 A201 1  \n",
       "4 A201 1  \n",
       "5 A201 2  \n",
       "6 A201 1  "
      ]
     },
     "metadata": {},
     "output_type": "display_data"
    }
   ],
   "source": [
    "cat(sprintf('NRow: %d\\nNCol: %d',nrow(data), ncol(data)))\n",
    "head(data)"
   ]
  },
  {
   "cell_type": "markdown",
   "metadata": {},
   "source": [
    "<p style='color: red'> ATENTION: </p>Specifically in R, in classification problem, target must be set as Factor."
   ]
  },
  {
   "cell_type": "code",
   "execution_count": 24,
   "metadata": {
    "collapsed": false
   },
   "outputs": [],
   "source": [
    "data$V21 = as.factor(data$V21)"
   ]
  },
  {
   "cell_type": "markdown",
   "metadata": {},
   "source": [
    "MLR works only with features and target, this means that others columns must be dorped."
   ]
  },
  {
   "cell_type": "code",
   "execution_count": 25,
   "metadata": {
    "collapsed": false
   },
   "outputs": [
    {
     "name": "stdout",
     "output_type": "stream",
     "text": [
      "NRow: 1000\n",
      "NCol: 22"
     ]
    }
   ],
   "source": [
    "drops = c()\n",
    "data  = data[ , !(names(data) %in% drops)]\n",
    "cat(sprintf('NRow: %d\\nNCol: %d',nrow(data), ncol(data)))"
   ]
  },
  {
   "cell_type": "markdown",
   "metadata": {},
   "source": [
    "<h2>2. Modeling</h2>"
   ]
  },
  {
   "cell_type": "markdown",
   "metadata": {},
   "source": [
    "Function\n",
    "```R\n",
    "makeLearner(cl, id = cl, predict.type = \"response\", predict.threshold = NULL, \n",
    "            fix.factors.prediction = FALSE, ..., par.vals = list(), config = list())\n",
    "```\n",
    "Param.:\n",
    "\n",
    "* cl: [character(1)] Class of learner. By convention, all classification learners start with “classif.”. A list of all integrated learners is available on the learners help page < https://mlr-org.github.io/mlr-tutorial/release/html/integrated_learners/ >.\n",
    "* predict: [character(1)] “response” (= labels) or “prob” (= probabilities and labels by selecting the ones with maximal probability). Default is “response”.\n",
    "* par.vals: [list] Optional list of named (hyper)parameters. The arguments in ... take precedence over values in this list. We strongly encourage you to use one or the other to pass (hyper)parameters to the learner but not both.\n",
    "\n",
    "Doc.: https://www.rdocumentation.org/packages/mlr/versions/2.10/topics/makeLearner <br>\n",
    "Rpart Parameters: https://www.rdocumentation.org/packages/rpart/versions/4.1-11/topics/rpart.control"
   ]
  },
  {
   "cell_type": "code",
   "execution_count": 60,
   "metadata": {
    "collapsed": true
   },
   "outputs": [],
   "source": [
    "cl = \"classif.ranger\""
   ]
  },
  {
   "cell_type": "markdown",
   "metadata": {},
   "source": [
    "List all parameters that can be used in this classifier.\n",
    "The value must be set in par.vals parameter."
   ]
  },
  {
   "cell_type": "code",
   "execution_count": 61,
   "metadata": {
    "collapsed": false
   },
   "outputs": [
    {
     "data": {
      "text/plain": [
       "                                      Type  len    Def\n",
       "num.trees                          integer    -    500\n",
       "mtry                               integer    -      -\n",
       "mtry.perc                          numeric    -      -\n",
       "min.node.size                      integer    -      -\n",
       "replace                            logical    -   TRUE\n",
       "sample.fraction                    numeric    -      -\n",
       "split.select.weights         numericvector <NA>      -\n",
       "always.split.variables             untyped    -      -\n",
       "respect.unordered.factors         discrete    - ignore\n",
       "importance                        discrete    -   none\n",
       "write.forest                       logical    -   TRUE\n",
       "scale.permutation.importance       logical    -  FALSE\n",
       "num.threads                        integer    -      -\n",
       "save.memory                        logical    -  FALSE\n",
       "verbose                            logical    -   TRUE\n",
       "seed                               integer    -      -\n",
       "splitrule                         discrete    -   gini\n",
       "num.random.splits                  integer    -      1\n",
       "keep.inbag                         logical    -  FALSE\n",
       "                                                Constr Req Tunable Trafo\n",
       "num.trees                                     1 to Inf   -    TRUE     -\n",
       "mtry                                          1 to Inf   -    TRUE     -\n",
       "mtry.perc                                       0 to 1   -    TRUE     -\n",
       "min.node.size                                 1 to Inf   -    TRUE     -\n",
       "replace                                              -   -    TRUE     -\n",
       "sample.fraction                                 0 to 1   -    TRUE     -\n",
       "split.select.weights                            0 to 1   -    TRUE     -\n",
       "always.split.variables                               -   -    TRUE     -\n",
       "respect.unordered.factors       ignore,order,partition   -    TRUE     -\n",
       "importance                   none,impurity,permutation   -   FALSE     -\n",
       "write.forest                                         -   -   FALSE     -\n",
       "scale.permutation.importance                         -   Y   FALSE     -\n",
       "num.threads                                   1 to Inf   -   FALSE     -\n",
       "save.memory                                          -   -   FALSE     -\n",
       "verbose                                              -   -   FALSE     -\n",
       "seed                                       -Inf to Inf   -   FALSE     -\n",
       "splitrule                              gini,extratrees   -    TRUE     -\n",
       "num.random.splits                             1 to Inf   Y    TRUE     -\n",
       "keep.inbag                                           -   -   FALSE     -"
      ]
     },
     "metadata": {},
     "output_type": "display_data"
    }
   ],
   "source": [
    "getParamSet(cl)"
   ]
  },
  {
   "cell_type": "code",
   "execution_count": 62,
   "metadata": {
    "collapsed": false
   },
   "outputs": [],
   "source": [
    "learner = makeLearner(cl = cl\n",
    "                     , predict.type = \"prob\"\n",
    "                     , par.vals = list()\n",
    "                     )"
   ]
  },
  {
   "cell_type": "markdown",
   "metadata": {},
   "source": [
    "Function\n",
    "```R\n",
    "makeClassifTask(id = deparse(substitute(data)), data, target, weights = NULL, blocking = NULL, \n",
    "                positive = NA_character_, fixup.data = \"warn\", check.data = TRUE)\n",
    "```\n",
    "Param.:\n",
    "\n",
    "* data: [data.frame] A data frame containing the features and target variable(s).\n",
    "* target: [character(1)] Name of the target variable.\n",
    "* positive: [character(1)] Positive class for binary classification (otherwise ignored and set to NA). Default is the first factor level of the target attribute.\n",
    "* fixup.data: [character(1)] Should some basic cleaning up of data be performed? Currently this means removing empty factor levels for the columns. Possible coices are: “no” = Don't do it. “warn” = Do it but warn about it. “quiet” = Do it but keep silent. Default is “warn”.\n",
    "\n",
    "Doc.: https://www.rdocumentation.org/packages/mlr/versions/2.10/topics/makeLearner"
   ]
  },
  {
   "cell_type": "code",
   "execution_count": 63,
   "metadata": {
    "collapsed": false
   },
   "outputs": [],
   "source": [
    "task = makeClassifTask( data = data\n",
    "                      , target = 'V21'\n",
    "                      , positive = '2'\n",
    "                      , fixup.data = 'no'\n",
    "                      )"
   ]
  },
  {
   "cell_type": "markdown",
   "metadata": {},
   "source": [
    "Function:\n",
    "```R\n",
    "makeResampleDesc(method, predict = \"test\", ..., stratify = FALSE, stratify.cols = NULL)\n",
    "```\n",
    "Param.:\n",
    "\n",
    "* method: [character(1)] “CV” for cross-validation, “LOO” for leave-one-out, “RepCV” for repeated cross-validation, “Bootstrap” for out-of-bag bootstrap, “Subsample” for subsampling, “Holdout” for holdout.\n",
    "* predict: What to predict during resampling: “train”, “test” or “both” sets. Default is “test”.\n",
    "* ... : [any] Further parameters for strategies.\n",
    "    * iters [integer(1)] Number of iterations, for “CV”, “Subsample” and “Boostrap”.\n",
    "    * split [numeric(1)] Proportion of training cases for “Holdout” and “Subsample” between 0 and 1. Default is 2/3.\n",
    "    * reps [integer(1)] Repeats for “RepCV”. Here iters = folds * reps. Default is 10.\n",
    "    * folds [integer(1)] Folds in the repeated CV for RepCV. Here iters = folds * reps. Default is 10.\n",
    "\n",
    "Doc.: https://www.rdocumentation.org/packages/mlr/versions/2.10/topics/makeResampleDesc"
   ]
  },
  {
   "cell_type": "code",
   "execution_count": 64,
   "metadata": {
    "collapsed": false
   },
   "outputs": [],
   "source": [
    "resample = makeResampleDesc(\n",
    "    method = \"CV\",\n",
    "    iters = 10,\n",
    "    predict = 'both',\n",
    "    stratify = FALSE\n",
    ")"
   ]
  },
  {
   "cell_type": "markdown",
   "metadata": {},
   "source": [
    "List of performance measures:\n",
    "\n",
    "Doc.: http://mlr-org.github.io/mlr-tutorial/release/html/measures/"
   ]
  },
  {
   "cell_type": "code",
   "execution_count": 65,
   "metadata": {
    "collapsed": false
   },
   "outputs": [],
   "source": [
    "measures = list(mmce #MMCE \n",
    "               ,acc  #acuracia\n",
    "               ,f1   #f1\n",
    "               ,ppv  #precision\n",
    "               ,tpr  #recall\n",
    "               ,auc  #AUC\n",
    "               ,gini #Gini\n",
    "               #,timetrain #tempo execucao\n",
    "               )"
   ]
  },
  {
   "cell_type": "markdown",
   "metadata": {},
   "source": [
    "Function:\n",
    "```R\n",
    "resample(learner, task, resampling, measures, weights = NULL, models = FALSE, extract, \n",
    "         keep.pred = TRUE, ..., show.info = getMlrOption(\"show.info\"))\n",
    "```\n",
    "Param.:\n",
    "\n",
    "* learner: [Learner] The learner.\n",
    "* task: [Task] The task.\n",
    "* resampling: [ResampleInstance] Resampling strategy.\n",
    "* measures: [Measure | list of Measure] Performance measure(s) to evaluate. Default is mean misclassification error (mmce)\n",
    "* weights: [numeric] Optional, non-negative case weight vector to be used during fitting. If given, must be of same length as observations in task and in corresponding order. Overwrites weights specified in the task. By default NULL which means no weights are used unless specified in the task.\n",
    "* models: [logical(1)] Should all fitted models be returned? Default is FALSE.\n",
    "* keep.pred: [logical(1)] Keep the prediction data in the pred slot of the result object. If you do many experiments (on larger data sets) these objects might unnecessarily increase object size / mem usage, if you do not really need them. In this case you can set this argument to FALSE. Default is TRUE.\n",
    "* show.info: [logical(1)] Print verbose output on console? Default is set via configureMlr.\n",
    "\n",
    "Doc.: https://www.rdocumentation.org/packages/mlr/versions/2.10/topics/resample"
   ]
  },
  {
   "cell_type": "code",
   "execution_count": 66,
   "metadata": {
    "collapsed": false
   },
   "outputs": [
    {
     "name": "stderr",
     "output_type": "stream",
     "text": [
      "Resampling: cross-validation\n",
      "Measures:             mmce.test   acc.test    f1.test     ppv.test    tpr.test    auc.test    gini.test   \n",
      "[Resample] iter 1:    0.2600000   0.7400000   0.4347826   0.5882353   0.3448276   0.8256435   0.6512870   \n",
      "[Resample] iter 2:    0.2400000   0.7600000   0.5000000   0.7058824   0.3870968   0.8340346   0.6680692   \n",
      "[Resample] iter 3:    0.2900000   0.7100000   0.4313725   0.6470588   0.3235294   0.7464349   0.4928699   \n",
      "[Resample] iter 4:    0.2900000   0.7100000   0.5245902   0.6400000   0.4444444   0.7769097   0.5538194   \n",
      "[Resample] iter 5:    0.2000000   0.8000000   0.5652174   0.8125000   0.4333333   0.8557143   0.7114286   \n",
      "[Resample] iter 6:    0.2200000   0.7800000   0.4210526   0.5333333   0.3478261   0.8187465   0.6374929   \n",
      "[Resample] iter 7:    0.1500000   0.8500000   0.6511628   0.7777778   0.5600000   0.8165333   0.6330667   \n",
      "[Resample] iter 8:    0.2800000   0.7200000   0.3636364   0.6666667   0.2500000   0.8042279   0.6084559   \n",
      "[Resample] iter 9:    0.2400000   0.7600000   0.4545455   0.5555556   0.3846154   0.7733888   0.5467775   \n",
      "[Resample] iter 10:   0.3300000   0.6700000   0.2978723   0.5384615   0.2058824   0.7611408   0.5222816   \n",
      "\n",
      "\n",
      "Aggregated Result: mmce.test.mean=0.2500000,acc.test.mean=0.7500000,f1.test.mean=0.4644232,ppv.test.mean=0.6465471,tpr.test.mean=0.3681555,auc.test.mean=0.8012774,gini.test.mean=0.6025549\n",
      "\n",
      "\n"
     ]
    }
   ],
   "source": [
    "r = resample(learner = learner\n",
    "            ,task = task \n",
    "            ,resampling = resample \n",
    "            ,measures = measures\n",
    "            #---------------------#\n",
    "            ,models = TRUE\n",
    "            ,keep.pred = FALSE\n",
    "            ,show.info = TRUE\n",
    "            )"
   ]
  },
  {
   "cell_type": "markdown",
   "metadata": {},
   "source": [
    "<h2>3. Result Analysis</h2>"
   ]
  },
  {
   "cell_type": "markdown",
   "metadata": {},
   "source": [
    "Train Measures"
   ]
  },
  {
   "cell_type": "code",
   "execution_count": 67,
   "metadata": {
    "collapsed": false
   },
   "outputs": [
    {
     "data": {
      "text/html": [
       "<table>\n",
       "<thead><tr><th scope=col>iter</th><th scope=col>mmce</th><th scope=col>acc</th><th scope=col>f1</th><th scope=col>ppv</th><th scope=col>tpr</th><th scope=col>auc</th><th scope=col>gini</th></tr></thead>\n",
       "<tbody>\n",
       "\t<tr><td> 1        </td><td>0.02888889</td><td>0.9711111 </td><td>0.9496124 </td><td>1.0000000 </td><td>0.9040590 </td><td>0.9995013 </td><td>0.9990027 </td></tr>\n",
       "\t<tr><td> 2        </td><td>0.03222222</td><td>0.9677778 </td><td>0.9430255 </td><td>1.0000000 </td><td>0.8921933 </td><td>0.9996230 </td><td>0.9992459 </td></tr>\n",
       "\t<tr><td> 3        </td><td>0.02777778</td><td>0.9722222 </td><td>0.9506903 </td><td>1.0000000 </td><td>0.9060150 </td><td>0.9996146 </td><td>0.9992291 </td></tr>\n",
       "\t<tr><td> 4        </td><td>0.03222222</td><td>0.9677778 </td><td>0.9418838 </td><td>1.0000000 </td><td>0.8901515 </td><td>0.9995414 </td><td>0.9990828 </td></tr>\n",
       "\t<tr><td> 5        </td><td>0.02777778</td><td>0.9722222 </td><td>0.9514563 </td><td>1.0000000 </td><td>0.9074074 </td><td>0.9994121 </td><td>0.9988242 </td></tr>\n",
       "\t<tr><td> 6        </td><td>0.03333333</td><td>0.9666667 </td><td>0.9427481 </td><td>1.0000000 </td><td>0.8916968 </td><td>0.9997161 </td><td>0.9994321 </td></tr>\n",
       "\t<tr><td> 7        </td><td>0.03222222</td><td>0.9677778 </td><td>0.9445507 </td><td>0.9959677 </td><td>0.8981818 </td><td>0.9993309 </td><td>0.9986618 </td></tr>\n",
       "\t<tr><td> 8        </td><td>0.03444444</td><td>0.9655556 </td><td>0.9386139 </td><td>1.0000000 </td><td>0.8843284 </td><td>0.9996517 </td><td>0.9993033 </td></tr>\n",
       "\t<tr><td> 9        </td><td>0.02888889</td><td>0.9711111 </td><td>0.9501916 </td><td>1.0000000 </td><td>0.9051095 </td><td>0.9993004 </td><td>0.9986008 </td></tr>\n",
       "\t<tr><td>10        </td><td>0.03444444</td><td>0.9655556 </td><td>0.9381238 </td><td>1.0000000 </td><td>0.8834586 </td><td>0.9994604 </td><td>0.9989208 </td></tr>\n",
       "</tbody>\n",
       "</table>\n"
      ],
      "text/latex": [
       "\\begin{tabular}{r|llllllll}\n",
       " iter & mmce & acc & f1 & ppv & tpr & auc & gini\\\\\n",
       "\\hline\n",
       "\t  1         & 0.02888889 & 0.9711111  & 0.9496124  & 1.0000000  & 0.9040590  & 0.9995013  & 0.9990027 \\\\\n",
       "\t  2         & 0.03222222 & 0.9677778  & 0.9430255  & 1.0000000  & 0.8921933  & 0.9996230  & 0.9992459 \\\\\n",
       "\t  3         & 0.02777778 & 0.9722222  & 0.9506903  & 1.0000000  & 0.9060150  & 0.9996146  & 0.9992291 \\\\\n",
       "\t  4         & 0.03222222 & 0.9677778  & 0.9418838  & 1.0000000  & 0.8901515  & 0.9995414  & 0.9990828 \\\\\n",
       "\t  5         & 0.02777778 & 0.9722222  & 0.9514563  & 1.0000000  & 0.9074074  & 0.9994121  & 0.9988242 \\\\\n",
       "\t  6         & 0.03333333 & 0.9666667  & 0.9427481  & 1.0000000  & 0.8916968  & 0.9997161  & 0.9994321 \\\\\n",
       "\t  7         & 0.03222222 & 0.9677778  & 0.9445507  & 0.9959677  & 0.8981818  & 0.9993309  & 0.9986618 \\\\\n",
       "\t  8         & 0.03444444 & 0.9655556  & 0.9386139  & 1.0000000  & 0.8843284  & 0.9996517  & 0.9993033 \\\\\n",
       "\t  9         & 0.02888889 & 0.9711111  & 0.9501916  & 1.0000000  & 0.9051095  & 0.9993004  & 0.9986008 \\\\\n",
       "\t 10         & 0.03444444 & 0.9655556  & 0.9381238  & 1.0000000  & 0.8834586  & 0.9994604  & 0.9989208 \\\\\n",
       "\\end{tabular}\n"
      ],
      "text/markdown": [
       "\n",
       "iter | mmce | acc | f1 | ppv | tpr | auc | gini | \n",
       "|---|---|---|---|---|---|---|---|---|---|\n",
       "|  1         | 0.02888889 | 0.9711111  | 0.9496124  | 1.0000000  | 0.9040590  | 0.9995013  | 0.9990027  | \n",
       "|  2         | 0.03222222 | 0.9677778  | 0.9430255  | 1.0000000  | 0.8921933  | 0.9996230  | 0.9992459  | \n",
       "|  3         | 0.02777778 | 0.9722222  | 0.9506903  | 1.0000000  | 0.9060150  | 0.9996146  | 0.9992291  | \n",
       "|  4         | 0.03222222 | 0.9677778  | 0.9418838  | 1.0000000  | 0.8901515  | 0.9995414  | 0.9990828  | \n",
       "|  5         | 0.02777778 | 0.9722222  | 0.9514563  | 1.0000000  | 0.9074074  | 0.9994121  | 0.9988242  | \n",
       "|  6         | 0.03333333 | 0.9666667  | 0.9427481  | 1.0000000  | 0.8916968  | 0.9997161  | 0.9994321  | \n",
       "|  7         | 0.03222222 | 0.9677778  | 0.9445507  | 0.9959677  | 0.8981818  | 0.9993309  | 0.9986618  | \n",
       "|  8         | 0.03444444 | 0.9655556  | 0.9386139  | 1.0000000  | 0.8843284  | 0.9996517  | 0.9993033  | \n",
       "|  9         | 0.02888889 | 0.9711111  | 0.9501916  | 1.0000000  | 0.9051095  | 0.9993004  | 0.9986008  | \n",
       "| 10         | 0.03444444 | 0.9655556  | 0.9381238  | 1.0000000  | 0.8834586  | 0.9994604  | 0.9989208  | \n",
       "\n",
       "\n"
      ],
      "text/plain": [
       "   iter mmce       acc       f1        ppv       tpr       auc       gini     \n",
       "1   1   0.02888889 0.9711111 0.9496124 1.0000000 0.9040590 0.9995013 0.9990027\n",
       "2   2   0.03222222 0.9677778 0.9430255 1.0000000 0.8921933 0.9996230 0.9992459\n",
       "3   3   0.02777778 0.9722222 0.9506903 1.0000000 0.9060150 0.9996146 0.9992291\n",
       "4   4   0.03222222 0.9677778 0.9418838 1.0000000 0.8901515 0.9995414 0.9990828\n",
       "5   5   0.02777778 0.9722222 0.9514563 1.0000000 0.9074074 0.9994121 0.9988242\n",
       "6   6   0.03333333 0.9666667 0.9427481 1.0000000 0.8916968 0.9997161 0.9994321\n",
       "7   7   0.03222222 0.9677778 0.9445507 0.9959677 0.8981818 0.9993309 0.9986618\n",
       "8   8   0.03444444 0.9655556 0.9386139 1.0000000 0.8843284 0.9996517 0.9993033\n",
       "9   9   0.02888889 0.9711111 0.9501916 1.0000000 0.9051095 0.9993004 0.9986008\n",
       "10 10   0.03444444 0.9655556 0.9381238 1.0000000 0.8834586 0.9994604 0.9989208"
      ]
     },
     "metadata": {},
     "output_type": "display_data"
    }
   ],
   "source": [
    "r$measures.train"
   ]
  },
  {
   "cell_type": "markdown",
   "metadata": {},
   "source": [
    "Test Measures"
   ]
  },
  {
   "cell_type": "code",
   "execution_count": 68,
   "metadata": {
    "collapsed": false
   },
   "outputs": [
    {
     "data": {
      "text/html": [
       "<table>\n",
       "<thead><tr><th scope=col>iter</th><th scope=col>mmce</th><th scope=col>acc</th><th scope=col>f1</th><th scope=col>ppv</th><th scope=col>tpr</th><th scope=col>auc</th><th scope=col>gini</th></tr></thead>\n",
       "<tbody>\n",
       "\t<tr><td> 1       </td><td>0.26     </td><td>0.74     </td><td>0.4347826</td><td>0.5882353</td><td>0.3448276</td><td>0.8256435</td><td>0.6512870</td></tr>\n",
       "\t<tr><td> 2       </td><td>0.24     </td><td>0.76     </td><td>0.5000000</td><td>0.7058824</td><td>0.3870968</td><td>0.8340346</td><td>0.6680692</td></tr>\n",
       "\t<tr><td> 3       </td><td>0.29     </td><td>0.71     </td><td>0.4313725</td><td>0.6470588</td><td>0.3235294</td><td>0.7464349</td><td>0.4928699</td></tr>\n",
       "\t<tr><td> 4       </td><td>0.29     </td><td>0.71     </td><td>0.5245902</td><td>0.6400000</td><td>0.4444444</td><td>0.7769097</td><td>0.5538194</td></tr>\n",
       "\t<tr><td> 5       </td><td>0.20     </td><td>0.80     </td><td>0.5652174</td><td>0.8125000</td><td>0.4333333</td><td>0.8557143</td><td>0.7114286</td></tr>\n",
       "\t<tr><td> 6       </td><td>0.22     </td><td>0.78     </td><td>0.4210526</td><td>0.5333333</td><td>0.3478261</td><td>0.8187465</td><td>0.6374929</td></tr>\n",
       "\t<tr><td> 7       </td><td>0.15     </td><td>0.85     </td><td>0.6511628</td><td>0.7777778</td><td>0.5600000</td><td>0.8165333</td><td>0.6330667</td></tr>\n",
       "\t<tr><td> 8       </td><td>0.28     </td><td>0.72     </td><td>0.3636364</td><td>0.6666667</td><td>0.2500000</td><td>0.8042279</td><td>0.6084559</td></tr>\n",
       "\t<tr><td> 9       </td><td>0.24     </td><td>0.76     </td><td>0.4545455</td><td>0.5555556</td><td>0.3846154</td><td>0.7733888</td><td>0.5467775</td></tr>\n",
       "\t<tr><td>10       </td><td>0.33     </td><td>0.67     </td><td>0.2978723</td><td>0.5384615</td><td>0.2058824</td><td>0.7611408</td><td>0.5222816</td></tr>\n",
       "</tbody>\n",
       "</table>\n"
      ],
      "text/latex": [
       "\\begin{tabular}{r|llllllll}\n",
       " iter & mmce & acc & f1 & ppv & tpr & auc & gini\\\\\n",
       "\\hline\n",
       "\t  1        & 0.26      & 0.74      & 0.4347826 & 0.5882353 & 0.3448276 & 0.8256435 & 0.6512870\\\\\n",
       "\t  2        & 0.24      & 0.76      & 0.5000000 & 0.7058824 & 0.3870968 & 0.8340346 & 0.6680692\\\\\n",
       "\t  3        & 0.29      & 0.71      & 0.4313725 & 0.6470588 & 0.3235294 & 0.7464349 & 0.4928699\\\\\n",
       "\t  4        & 0.29      & 0.71      & 0.5245902 & 0.6400000 & 0.4444444 & 0.7769097 & 0.5538194\\\\\n",
       "\t  5        & 0.20      & 0.80      & 0.5652174 & 0.8125000 & 0.4333333 & 0.8557143 & 0.7114286\\\\\n",
       "\t  6        & 0.22      & 0.78      & 0.4210526 & 0.5333333 & 0.3478261 & 0.8187465 & 0.6374929\\\\\n",
       "\t  7        & 0.15      & 0.85      & 0.6511628 & 0.7777778 & 0.5600000 & 0.8165333 & 0.6330667\\\\\n",
       "\t  8        & 0.28      & 0.72      & 0.3636364 & 0.6666667 & 0.2500000 & 0.8042279 & 0.6084559\\\\\n",
       "\t  9        & 0.24      & 0.76      & 0.4545455 & 0.5555556 & 0.3846154 & 0.7733888 & 0.5467775\\\\\n",
       "\t 10        & 0.33      & 0.67      & 0.2978723 & 0.5384615 & 0.2058824 & 0.7611408 & 0.5222816\\\\\n",
       "\\end{tabular}\n"
      ],
      "text/markdown": [
       "\n",
       "iter | mmce | acc | f1 | ppv | tpr | auc | gini | \n",
       "|---|---|---|---|---|---|---|---|---|---|\n",
       "|  1        | 0.26      | 0.74      | 0.4347826 | 0.5882353 | 0.3448276 | 0.8256435 | 0.6512870 | \n",
       "|  2        | 0.24      | 0.76      | 0.5000000 | 0.7058824 | 0.3870968 | 0.8340346 | 0.6680692 | \n",
       "|  3        | 0.29      | 0.71      | 0.4313725 | 0.6470588 | 0.3235294 | 0.7464349 | 0.4928699 | \n",
       "|  4        | 0.29      | 0.71      | 0.5245902 | 0.6400000 | 0.4444444 | 0.7769097 | 0.5538194 | \n",
       "|  5        | 0.20      | 0.80      | 0.5652174 | 0.8125000 | 0.4333333 | 0.8557143 | 0.7114286 | \n",
       "|  6        | 0.22      | 0.78      | 0.4210526 | 0.5333333 | 0.3478261 | 0.8187465 | 0.6374929 | \n",
       "|  7        | 0.15      | 0.85      | 0.6511628 | 0.7777778 | 0.5600000 | 0.8165333 | 0.6330667 | \n",
       "|  8        | 0.28      | 0.72      | 0.3636364 | 0.6666667 | 0.2500000 | 0.8042279 | 0.6084559 | \n",
       "|  9        | 0.24      | 0.76      | 0.4545455 | 0.5555556 | 0.3846154 | 0.7733888 | 0.5467775 | \n",
       "| 10        | 0.33      | 0.67      | 0.2978723 | 0.5384615 | 0.2058824 | 0.7611408 | 0.5222816 | \n",
       "\n",
       "\n"
      ],
      "text/plain": [
       "   iter mmce acc  f1        ppv       tpr       auc       gini     \n",
       "1   1   0.26 0.74 0.4347826 0.5882353 0.3448276 0.8256435 0.6512870\n",
       "2   2   0.24 0.76 0.5000000 0.7058824 0.3870968 0.8340346 0.6680692\n",
       "3   3   0.29 0.71 0.4313725 0.6470588 0.3235294 0.7464349 0.4928699\n",
       "4   4   0.29 0.71 0.5245902 0.6400000 0.4444444 0.7769097 0.5538194\n",
       "5   5   0.20 0.80 0.5652174 0.8125000 0.4333333 0.8557143 0.7114286\n",
       "6   6   0.22 0.78 0.4210526 0.5333333 0.3478261 0.8187465 0.6374929\n",
       "7   7   0.15 0.85 0.6511628 0.7777778 0.5600000 0.8165333 0.6330667\n",
       "8   8   0.28 0.72 0.3636364 0.6666667 0.2500000 0.8042279 0.6084559\n",
       "9   9   0.24 0.76 0.4545455 0.5555556 0.3846154 0.7733888 0.5467775\n",
       "10 10   0.33 0.67 0.2978723 0.5384615 0.2058824 0.7611408 0.5222816"
      ]
     },
     "metadata": {},
     "output_type": "display_data"
    }
   ],
   "source": [
    "r$measures.test"
   ]
  },
  {
   "cell_type": "markdown",
   "metadata": {},
   "source": [
    "Train Aggregated Result"
   ]
  },
  {
   "cell_type": "code",
   "execution_count": 69,
   "metadata": {
    "collapsed": false
   },
   "outputs": [
    {
     "data": {
      "text/html": [
       "<dl class=dl-horizontal>\n",
       "\t<dt>iter</dt>\n",
       "\t\t<dd>5.5</dd>\n",
       "\t<dt>mmce</dt>\n",
       "\t\t<dd>0.0312222222222222</dd>\n",
       "\t<dt>acc</dt>\n",
       "\t\t<dd>0.968777777777778</dd>\n",
       "\t<dt>f1</dt>\n",
       "\t\t<dd>0.945089630247772</dd>\n",
       "\t<dt>ppv</dt>\n",
       "\t\t<dd>0.999596774193548</dd>\n",
       "\t<dt>tpr</dt>\n",
       "\t\t<dd>0.896260137225444</dd>\n",
       "\t<dt>auc</dt>\n",
       "\t\t<dd>0.999515180654412</dd>\n",
       "\t<dt>gini</dt>\n",
       "\t\t<dd>0.999030361308824</dd>\n",
       "</dl>\n"
      ],
      "text/latex": [
       "\\begin{description*}\n",
       "\\item[iter] 5.5\n",
       "\\item[mmce] 0.0312222222222222\n",
       "\\item[acc] 0.968777777777778\n",
       "\\item[f1] 0.945089630247772\n",
       "\\item[ppv] 0.999596774193548\n",
       "\\item[tpr] 0.896260137225444\n",
       "\\item[auc] 0.999515180654412\n",
       "\\item[gini] 0.999030361308824\n",
       "\\end{description*}\n"
      ],
      "text/markdown": [
       "iter\n",
       ":   5.5mmce\n",
       ":   0.0312222222222222acc\n",
       ":   0.968777777777778f1\n",
       ":   0.945089630247772ppv\n",
       ":   0.999596774193548tpr\n",
       ":   0.896260137225444auc\n",
       ":   0.999515180654412gini\n",
       ":   0.999030361308824\n",
       "\n"
      ],
      "text/plain": [
       "      iter       mmce        acc         f1        ppv        tpr        auc \n",
       "5.50000000 0.03122222 0.96877778 0.94508963 0.99959677 0.89626014 0.99951518 \n",
       "      gini \n",
       "0.99903036 "
      ]
     },
     "metadata": {},
     "output_type": "display_data"
    }
   ],
   "source": [
    "apply(r$measures.train,2,mean)"
   ]
  },
  {
   "cell_type": "markdown",
   "metadata": {},
   "source": [
    "Test Aggregated Result"
   ]
  },
  {
   "cell_type": "code",
   "execution_count": 70,
   "metadata": {
    "collapsed": false
   },
   "outputs": [
    {
     "data": {
      "text/html": [
       "<dl class=dl-horizontal>\n",
       "\t<dt>iter</dt>\n",
       "\t\t<dd>5.5</dd>\n",
       "\t<dt>mmce</dt>\n",
       "\t\t<dd>0.25</dd>\n",
       "\t<dt>acc</dt>\n",
       "\t\t<dd>0.75</dd>\n",
       "\t<dt>f1</dt>\n",
       "\t\t<dd>0.464423229383801</dd>\n",
       "\t<dt>ppv</dt>\n",
       "\t\t<dd>0.646547134238311</dd>\n",
       "\t<dt>tpr</dt>\n",
       "\t\t<dd>0.368155537445601</dd>\n",
       "\t<dt>auc</dt>\n",
       "\t\t<dd>0.801277439620668</dd>\n",
       "\t<dt>gini</dt>\n",
       "\t\t<dd>0.602554879241337</dd>\n",
       "</dl>\n"
      ],
      "text/latex": [
       "\\begin{description*}\n",
       "\\item[iter] 5.5\n",
       "\\item[mmce] 0.25\n",
       "\\item[acc] 0.75\n",
       "\\item[f1] 0.464423229383801\n",
       "\\item[ppv] 0.646547134238311\n",
       "\\item[tpr] 0.368155537445601\n",
       "\\item[auc] 0.801277439620668\n",
       "\\item[gini] 0.602554879241337\n",
       "\\end{description*}\n"
      ],
      "text/markdown": [
       "iter\n",
       ":   5.5mmce\n",
       ":   0.25acc\n",
       ":   0.75f1\n",
       ":   0.464423229383801ppv\n",
       ":   0.646547134238311tpr\n",
       ":   0.368155537445601auc\n",
       ":   0.801277439620668gini\n",
       ":   0.602554879241337\n",
       "\n"
      ],
      "text/plain": [
       "     iter      mmce       acc        f1       ppv       tpr       auc      gini \n",
       "5.5000000 0.2500000 0.7500000 0.4644232 0.6465471 0.3681555 0.8012774 0.6025549 "
      ]
     },
     "metadata": {},
     "output_type": "display_data"
    }
   ],
   "source": [
    "apply(r$measures.test,2,mean)"
   ]
  },
  {
   "cell_type": "markdown",
   "metadata": {},
   "source": [
    "Run Time in seconds"
   ]
  },
  {
   "cell_type": "code",
   "execution_count": 71,
   "metadata": {
    "collapsed": false
   },
   "outputs": [
    {
     "data": {
      "text/html": [
       "6.64928007125854"
      ],
      "text/latex": [
       "6.64928007125854"
      ],
      "text/markdown": [
       "6.64928007125854"
      ],
      "text/plain": [
       "[1] 6.64928"
      ]
     },
     "metadata": {},
     "output_type": "display_data"
    }
   ],
   "source": [
    "r$runtime"
   ]
  },
  {
   "cell_type": "markdown",
   "metadata": {},
   "source": [
    "<h2>4. Prediction for new data</h2>"
   ]
  },
  {
   "cell_type": "markdown",
   "metadata": {},
   "source": [
    "Read the data to predict"
   ]
  },
  {
   "cell_type": "code",
   "execution_count": 72,
   "metadata": {
    "collapsed": true
   },
   "outputs": [],
   "source": [
    "new.data = read.csv(file=sprintf('%s/%s', folder_name, file_name))"
   ]
  },
  {
   "cell_type": "markdown",
   "metadata": {},
   "source": [
    "Search for the best model in crossvalidation and use it to score the incoming data"
   ]
  },
  {
   "cell_type": "code",
   "execution_count": 73,
   "metadata": {
    "collapsed": false
   },
   "outputs": [],
   "source": [
    "best.model = which.max(r$measures.test$acc)"
   ]
  },
  {
   "cell_type": "code",
   "execution_count": 74,
   "metadata": {
    "collapsed": false
   },
   "outputs": [],
   "source": [
    "pred = predict(r$models[[best.model]], newdata = new.data)"
   ]
  },
  {
   "cell_type": "markdown",
   "metadata": {},
   "source": [
    "Prediction Result"
   ]
  },
  {
   "cell_type": "code",
   "execution_count": 75,
   "metadata": {
    "collapsed": false
   },
   "outputs": [
    {
     "data": {
      "text/plain": [
       "Prediction: 1000 observations\n",
       "predict.type: prob\n",
       "threshold: 1=0.50,2=0.50\n",
       "time: 0.17\n",
       "  truth    prob.1    prob.2 response\n",
       "1     1 0.8592230 0.1407770        1\n",
       "2     2 0.4648167 0.5351833        2\n",
       "3     1 0.8917317 0.1082683        1\n",
       "4     1 0.6769897 0.3230103        1\n",
       "5     2 0.2949929 0.7050071        2\n",
       "6     1 0.8007857 0.1992143        1\n",
       "... (#rows: 1000, #cols: 4)"
      ]
     },
     "metadata": {},
     "output_type": "display_data"
    }
   ],
   "source": [
    "pred"
   ]
  },
  {
   "cell_type": "markdown",
   "metadata": {},
   "source": [
    "Cast result to data.frame to access the prediction"
   ]
  },
  {
   "cell_type": "code",
   "execution_count": 76,
   "metadata": {
    "collapsed": false
   },
   "outputs": [
    {
     "data": {
      "text/html": [
       "<table>\n",
       "<thead><tr><th scope=col>truth</th><th scope=col>prob.1</th><th scope=col>prob.2</th><th scope=col>response</th></tr></thead>\n",
       "<tbody>\n",
       "\t<tr><td>1        </td><td>0.8592230</td><td>0.1407770</td><td>1        </td></tr>\n",
       "\t<tr><td>2        </td><td>0.4648167</td><td>0.5351833</td><td>2        </td></tr>\n",
       "\t<tr><td>1        </td><td>0.8917317</td><td>0.1082683</td><td>1        </td></tr>\n",
       "\t<tr><td>1        </td><td>0.6769897</td><td>0.3230103</td><td>1        </td></tr>\n",
       "\t<tr><td>2        </td><td>0.2949929</td><td>0.7050071</td><td>2        </td></tr>\n",
       "\t<tr><td>1        </td><td>0.8007857</td><td>0.1992143</td><td>1        </td></tr>\n",
       "</tbody>\n",
       "</table>\n"
      ],
      "text/latex": [
       "\\begin{tabular}{r|llll}\n",
       " truth & prob.1 & prob.2 & response\\\\\n",
       "\\hline\n",
       "\t 1         & 0.8592230 & 0.1407770 & 1        \\\\\n",
       "\t 2         & 0.4648167 & 0.5351833 & 2        \\\\\n",
       "\t 1         & 0.8917317 & 0.1082683 & 1        \\\\\n",
       "\t 1         & 0.6769897 & 0.3230103 & 1        \\\\\n",
       "\t 2         & 0.2949929 & 0.7050071 & 2        \\\\\n",
       "\t 1         & 0.8007857 & 0.1992143 & 1        \\\\\n",
       "\\end{tabular}\n"
      ],
      "text/markdown": [
       "\n",
       "truth | prob.1 | prob.2 | response | \n",
       "|---|---|---|---|---|---|\n",
       "| 1         | 0.8592230 | 0.1407770 | 1         | \n",
       "| 2         | 0.4648167 | 0.5351833 | 2         | \n",
       "| 1         | 0.8917317 | 0.1082683 | 1         | \n",
       "| 1         | 0.6769897 | 0.3230103 | 1         | \n",
       "| 2         | 0.2949929 | 0.7050071 | 2         | \n",
       "| 1         | 0.8007857 | 0.1992143 | 1         | \n",
       "\n",
       "\n"
      ],
      "text/plain": [
       "  truth prob.1    prob.2    response\n",
       "1 1     0.8592230 0.1407770 1       \n",
       "2 2     0.4648167 0.5351833 2       \n",
       "3 1     0.8917317 0.1082683 1       \n",
       "4 1     0.6769897 0.3230103 1       \n",
       "5 2     0.2949929 0.7050071 2       \n",
       "6 1     0.8007857 0.1992143 1       "
      ]
     },
     "metadata": {},
     "output_type": "display_data"
    }
   ],
   "source": [
    "head(as.data.frame(pred))"
   ]
  },
  {
   "cell_type": "code",
   "execution_count": null,
   "metadata": {
    "collapsed": true
   },
   "outputs": [],
   "source": []
  }
 ],
 "metadata": {
  "kernelspec": {
   "display_name": "R",
   "language": "R",
   "name": "ir"
  },
  "language_info": {
   "codemirror_mode": "r",
   "file_extension": ".r",
   "mimetype": "text/x-r-source",
   "name": "R",
   "pygments_lexer": "r",
   "version": "3.4.2"
  }
 },
 "nbformat": 4,
 "nbformat_minor": 2
}
