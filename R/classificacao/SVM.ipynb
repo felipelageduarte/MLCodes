{
 "cells": [
  {
   "cell_type": "markdown",
   "metadata": {},
   "source": [
    "<h1>Decision Tree</h1>"
   ]
  },
  {
   "cell_type": "code",
   "execution_count": 1,
   "metadata": {
    "collapsed": false
   },
   "outputs": [
    {
     "name": "stderr",
     "output_type": "stream",
     "text": [
      "Loading required package: ParamHelpers\n",
      "Warning message:\n",
      "“replacing previous import ‘BBmisc::isFALSE’ by ‘backports::isFALSE’ when loading ‘mlr’”"
     ]
    }
   ],
   "source": [
    "library(mlr)\n",
    "source('../utils.r')\n",
    "\n",
    "set.seed(42)\n",
    "\n",
    "folder_name = '../../raw_data' \n",
    "file_name   = 'german.csv'"
   ]
  },
  {
   "cell_type": "markdown",
   "metadata": {},
   "source": [
    "<h2>1. Dataprep</h2>"
   ]
  },
  {
   "cell_type": "code",
   "execution_count": 2,
   "metadata": {
    "collapsed": false
   },
   "outputs": [],
   "source": [
    "data = read.csv(file=sprintf('%s/%s',folder_name,file_name))"
   ]
  },
  {
   "cell_type": "code",
   "execution_count": 3,
   "metadata": {
    "collapsed": false
   },
   "outputs": [
    {
     "name": "stdout",
     "output_type": "stream",
     "text": [
      "NRow: 1000\n",
      "NCol: 22"
     ]
    },
    {
     "data": {
      "text/html": [
       "<table>\n",
       "<thead><tr><th scope=col>X</th><th scope=col>V1</th><th scope=col>V2</th><th scope=col>V3</th><th scope=col>V4</th><th scope=col>V5</th><th scope=col>V6</th><th scope=col>V7</th><th scope=col>V8</th><th scope=col>V9</th><th scope=col>⋯</th><th scope=col>V12</th><th scope=col>V13</th><th scope=col>V14</th><th scope=col>V15</th><th scope=col>V16</th><th scope=col>V17</th><th scope=col>V18</th><th scope=col>V19</th><th scope=col>V20</th><th scope=col>V21</th></tr></thead>\n",
       "<tbody>\n",
       "\t<tr><td>1   </td><td>A11 </td><td> 6  </td><td>A34 </td><td>A43 </td><td>1169</td><td>A65 </td><td>A75 </td><td>4   </td><td>A93 </td><td>⋯   </td><td>A121</td><td>67  </td><td>A143</td><td>A152</td><td>2   </td><td>A173</td><td>good</td><td>A192</td><td>A201</td><td>1   </td></tr>\n",
       "\t<tr><td>2   </td><td>A12 </td><td>48  </td><td>A32 </td><td>A43 </td><td>5951</td><td>A61 </td><td>A73 </td><td>2   </td><td>A92 </td><td>⋯   </td><td>A121</td><td>22  </td><td>A143</td><td>A152</td><td>1   </td><td>A173</td><td>good</td><td>A191</td><td>A201</td><td>2   </td></tr>\n",
       "\t<tr><td>3   </td><td>A14 </td><td>12  </td><td>A34 </td><td>A46 </td><td>2096</td><td>A61 </td><td>A74 </td><td>2   </td><td>A93 </td><td>⋯   </td><td>A121</td><td>49  </td><td>A143</td><td>A152</td><td>1   </td><td>A172</td><td>bad </td><td>A191</td><td>A201</td><td>1   </td></tr>\n",
       "\t<tr><td>4   </td><td>A11 </td><td>42  </td><td>A32 </td><td>A42 </td><td>7882</td><td>A61 </td><td>A74 </td><td>2   </td><td>A93 </td><td>⋯   </td><td>A122</td><td>45  </td><td>A143</td><td>A153</td><td>1   </td><td>A173</td><td>bad </td><td>A191</td><td>A201</td><td>1   </td></tr>\n",
       "\t<tr><td>5   </td><td>A11 </td><td>24  </td><td>A33 </td><td>A40 </td><td>4870</td><td>A61 </td><td>A73 </td><td>3   </td><td>A93 </td><td>⋯   </td><td>A124</td><td>53  </td><td>A143</td><td>A153</td><td>2   </td><td>A173</td><td>bad </td><td>A191</td><td>A201</td><td>2   </td></tr>\n",
       "\t<tr><td>6   </td><td>A14 </td><td>36  </td><td>A32 </td><td>A46 </td><td>9055</td><td>A65 </td><td>A73 </td><td>2   </td><td>A93 </td><td>⋯   </td><td>A124</td><td>35  </td><td>A143</td><td>A153</td><td>1   </td><td>A172</td><td>bad </td><td>A192</td><td>A201</td><td>1   </td></tr>\n",
       "</tbody>\n",
       "</table>\n"
      ],
      "text/latex": [
       "\\begin{tabular}{r|llllllllllllllllllllll}\n",
       " X & V1 & V2 & V3 & V4 & V5 & V6 & V7 & V8 & V9 & ⋯ & V12 & V13 & V14 & V15 & V16 & V17 & V18 & V19 & V20 & V21\\\\\n",
       "\\hline\n",
       "\t 1    & A11  &  6   & A34  & A43  & 1169 & A65  & A75  & 4    & A93  & ⋯    & A121 & 67   & A143 & A152 & 2    & A173 & good & A192 & A201 & 1   \\\\\n",
       "\t 2    & A12  & 48   & A32  & A43  & 5951 & A61  & A73  & 2    & A92  & ⋯    & A121 & 22   & A143 & A152 & 1    & A173 & good & A191 & A201 & 2   \\\\\n",
       "\t 3    & A14  & 12   & A34  & A46  & 2096 & A61  & A74  & 2    & A93  & ⋯    & A121 & 49   & A143 & A152 & 1    & A172 & bad  & A191 & A201 & 1   \\\\\n",
       "\t 4    & A11  & 42   & A32  & A42  & 7882 & A61  & A74  & 2    & A93  & ⋯    & A122 & 45   & A143 & A153 & 1    & A173 & bad  & A191 & A201 & 1   \\\\\n",
       "\t 5    & A11  & 24   & A33  & A40  & 4870 & A61  & A73  & 3    & A93  & ⋯    & A124 & 53   & A143 & A153 & 2    & A173 & bad  & A191 & A201 & 2   \\\\\n",
       "\t 6    & A14  & 36   & A32  & A46  & 9055 & A65  & A73  & 2    & A93  & ⋯    & A124 & 35   & A143 & A153 & 1    & A172 & bad  & A192 & A201 & 1   \\\\\n",
       "\\end{tabular}\n"
      ],
      "text/markdown": [
       "\n",
       "X | V1 | V2 | V3 | V4 | V5 | V6 | V7 | V8 | V9 | ⋯ | V12 | V13 | V14 | V15 | V16 | V17 | V18 | V19 | V20 | V21 | \n",
       "|---|---|---|---|---|---|\n",
       "| 1    | A11  |  6   | A34  | A43  | 1169 | A65  | A75  | 4    | A93  | ⋯    | A121 | 67   | A143 | A152 | 2    | A173 | good | A192 | A201 | 1    | \n",
       "| 2    | A12  | 48   | A32  | A43  | 5951 | A61  | A73  | 2    | A92  | ⋯    | A121 | 22   | A143 | A152 | 1    | A173 | good | A191 | A201 | 2    | \n",
       "| 3    | A14  | 12   | A34  | A46  | 2096 | A61  | A74  | 2    | A93  | ⋯    | A121 | 49   | A143 | A152 | 1    | A172 | bad  | A191 | A201 | 1    | \n",
       "| 4    | A11  | 42   | A32  | A42  | 7882 | A61  | A74  | 2    | A93  | ⋯    | A122 | 45   | A143 | A153 | 1    | A173 | bad  | A191 | A201 | 1    | \n",
       "| 5    | A11  | 24   | A33  | A40  | 4870 | A61  | A73  | 3    | A93  | ⋯    | A124 | 53   | A143 | A153 | 2    | A173 | bad  | A191 | A201 | 2    | \n",
       "| 6    | A14  | 36   | A32  | A46  | 9055 | A65  | A73  | 2    | A93  | ⋯    | A124 | 35   | A143 | A153 | 1    | A172 | bad  | A192 | A201 | 1    | \n",
       "\n",
       "\n"
      ],
      "text/plain": [
       "  X V1  V2 V3  V4  V5   V6  V7  V8 V9  ⋯ V12  V13 V14  V15  V16 V17  V18  V19 \n",
       "1 1 A11  6 A34 A43 1169 A65 A75 4  A93 ⋯ A121 67  A143 A152 2   A173 good A192\n",
       "2 2 A12 48 A32 A43 5951 A61 A73 2  A92 ⋯ A121 22  A143 A152 1   A173 good A191\n",
       "3 3 A14 12 A34 A46 2096 A61 A74 2  A93 ⋯ A121 49  A143 A152 1   A172 bad  A191\n",
       "4 4 A11 42 A32 A42 7882 A61 A74 2  A93 ⋯ A122 45  A143 A153 1   A173 bad  A191\n",
       "5 5 A11 24 A33 A40 4870 A61 A73 3  A93 ⋯ A124 53  A143 A153 2   A173 bad  A191\n",
       "6 6 A14 36 A32 A46 9055 A65 A73 2  A93 ⋯ A124 35  A143 A153 1   A172 bad  A192\n",
       "  V20  V21\n",
       "1 A201 1  \n",
       "2 A201 2  \n",
       "3 A201 1  \n",
       "4 A201 1  \n",
       "5 A201 2  \n",
       "6 A201 1  "
      ]
     },
     "metadata": {},
     "output_type": "display_data"
    }
   ],
   "source": [
    "cat(sprintf('NRow: %d\\nNCol: %d',nrow(data), ncol(data)))\n",
    "head(data)"
   ]
  },
  {
   "cell_type": "markdown",
   "metadata": {},
   "source": [
    "<p style='color: red'> ATENTION: </p>Specifically in R, in classification problem, target must be set as Factor."
   ]
  },
  {
   "cell_type": "code",
   "execution_count": 4,
   "metadata": {
    "collapsed": false
   },
   "outputs": [],
   "source": [
    "data$V21 = as.factor(data$V21)"
   ]
  },
  {
   "cell_type": "markdown",
   "metadata": {},
   "source": [
    "MLR works only with features and target, this means that others columns must be dorped."
   ]
  },
  {
   "cell_type": "code",
   "execution_count": 5,
   "metadata": {
    "collapsed": false
   },
   "outputs": [
    {
     "name": "stdout",
     "output_type": "stream",
     "text": [
      "NRow: 1000\n",
      "NCol: 21"
     ]
    }
   ],
   "source": [
    "drops = c('X')\n",
    "data  = data[ , !(names(data) %in% drops)]\n",
    "cat(sprintf('NRow: %d\\nNCol: %d',nrow(data), ncol(data)))"
   ]
  },
  {
   "cell_type": "markdown",
   "metadata": {},
   "source": [
    "<h2>2. Modeling</h2>"
   ]
  },
  {
   "cell_type": "markdown",
   "metadata": {},
   "source": [
    "Function\n",
    "```R\n",
    "makeLearner(cl, id = cl, predict.type = \"response\", predict.threshold = NULL, \n",
    "            fix.factors.prediction = FALSE, ..., par.vals = list(), config = list())\n",
    "```\n",
    "Param.:\n",
    "\n",
    "* cl: [character(1)] Class of learner. By convention, all classification learners start with “classif.”. A list of all integrated learners is available on the learners help page < https://mlr-org.github.io/mlr-tutorial/release/html/integrated_learners/ >.\n",
    "* predict: [character(1)] “response” (= labels) or “prob” (= probabilities and labels by selecting the ones with maximal probability). Default is “response”.\n",
    "* par.vals: [list] Optional list of named (hyper)parameters. The arguments in ... take precedence over values in this list. We strongly encourage you to use one or the other to pass (hyper)parameters to the learner but not both.\n",
    "\n",
    "Doc.: https://www.rdocumentation.org/packages/mlr/versions/2.10/topics/makeLearner <br>"
   ]
  },
  {
   "cell_type": "code",
   "execution_count": 6,
   "metadata": {
    "collapsed": true
   },
   "outputs": [],
   "source": [
    "cl = \"classif.ksvm\""
   ]
  },
  {
   "cell_type": "markdown",
   "metadata": {},
   "source": [
    "List all parameters that can be used in this classifier.\n",
    "The value must be set in par.vals parameter."
   ]
  },
  {
   "cell_type": "code",
   "execution_count": 7,
   "metadata": {
    "collapsed": false
   },
   "outputs": [
    {
     "data": {
      "text/plain": [
       "                       Type  len    Def\n",
       "scaled              logical    -   TRUE\n",
       "type               discrete    -  C-svc\n",
       "kernel             discrete    - rbfdot\n",
       "C                   numeric    -      1\n",
       "nu                  numeric    -    0.2\n",
       "epsilon             numeric    -    0.1\n",
       "sigma               numeric    -      -\n",
       "degree              integer    -      3\n",
       "scale               numeric    -      1\n",
       "offset              numeric    -      1\n",
       "order               integer    -      1\n",
       "tol                 numeric    -  0.001\n",
       "shrinking           logical    -   TRUE\n",
       "class.weights numericvector <NA>      -\n",
       "fit                 logical    -   TRUE\n",
       "cache               integer    -     40\n",
       "                                                Constr Req Tunable Trafo\n",
       "scaled                                               -   -    TRUE     -\n",
       "type              C-svc,nu-svc,C-bsvc,spoc-svc,kbb-svc   -    TRUE     -\n",
       "kernel        vanilladot,polydot,rbfdot,tanhdot,lap...   -    TRUE     -\n",
       "C                                             0 to Inf   Y    TRUE     -\n",
       "nu                                            0 to Inf   Y    TRUE     -\n",
       "epsilon                                    -Inf to Inf   Y    TRUE     -\n",
       "sigma                                         0 to Inf   Y    TRUE     -\n",
       "degree                                        1 to Inf   Y    TRUE     -\n",
       "scale                                         0 to Inf   Y    TRUE     -\n",
       "offset                                     -Inf to Inf   Y    TRUE     -\n",
       "order                                      -Inf to Inf   Y    TRUE     -\n",
       "tol                                           0 to Inf   -    TRUE     -\n",
       "shrinking                                            -   -    TRUE     -\n",
       "class.weights                                 0 to Inf   -    TRUE     -\n",
       "fit                                                  -   -   FALSE     -\n",
       "cache                                         1 to Inf   -    TRUE     -"
      ]
     },
     "metadata": {},
     "output_type": "display_data"
    }
   ],
   "source": [
    "getParamSet(cl)"
   ]
  },
  {
   "cell_type": "code",
   "execution_count": 8,
   "metadata": {
    "collapsed": false
   },
   "outputs": [],
   "source": [
    "learner = makeLearner(cl = cl\n",
    "                     , predict.type = \"prob\"\n",
    "                     , par.vals = list()\n",
    "                     )"
   ]
  },
  {
   "cell_type": "markdown",
   "metadata": {},
   "source": [
    "Function\n",
    "```R\n",
    "makeClassifTask(id = deparse(substitute(data)), data, target, weights = NULL, blocking = NULL, \n",
    "                positive = NA_character_, fixup.data = \"warn\", check.data = TRUE)\n",
    "```\n",
    "Param.:\n",
    "\n",
    "* data: [data.frame] A data frame containing the features and target variable(s).\n",
    "* target: [character(1)] Name of the target variable.\n",
    "* positive: [character(1)] Positive class for binary classification (otherwise ignored and set to NA). Default is the first factor level of the target attribute.\n",
    "* fixup.data: [character(1)] Should some basic cleaning up of data be performed? Currently this means removing empty factor levels for the columns. Possible coices are: “no” = Don't do it. “warn” = Do it but warn about it. “quiet” = Do it but keep silent. Default is “warn”.\n",
    "\n",
    "Doc.: https://www.rdocumentation.org/packages/mlr/versions/2.10/topics/makeLearner"
   ]
  },
  {
   "cell_type": "code",
   "execution_count": 9,
   "metadata": {
    "collapsed": false
   },
   "outputs": [],
   "source": [
    "task = makeClassifTask( data = data\n",
    "                      , target = 'V21'\n",
    "                      , positive = '2'\n",
    "                      , fixup.data = 'no'\n",
    "                      )"
   ]
  },
  {
   "cell_type": "markdown",
   "metadata": {},
   "source": [
    "Function:\n",
    "```R\n",
    "makeResampleDesc(method, predict = \"test\", ..., stratify = FALSE, stratify.cols = NULL)\n",
    "```\n",
    "Param.:\n",
    "\n",
    "* method: [character(1)] “CV” for cross-validation, “LOO” for leave-one-out, “RepCV” for repeated cross-validation, “Bootstrap” for out-of-bag bootstrap, “Subsample” for subsampling, “Holdout” for holdout.\n",
    "* predict: What to predict during resampling: “train”, “test” or “both” sets. Default is “test”.\n",
    "* ... : [any] Further parameters for strategies.\n",
    "    * iters [integer(1)] Number of iterations, for “CV”, “Subsample” and “Boostrap”.\n",
    "    * split [numeric(1)] Proportion of training cases for “Holdout” and “Subsample” between 0 and 1. Default is 2/3.\n",
    "    * reps [integer(1)] Repeats for “RepCV”. Here iters = folds * reps. Default is 10.\n",
    "    * folds [integer(1)] Folds in the repeated CV for RepCV. Here iters = folds * reps. Default is 10.\n",
    "\n",
    "Doc.: https://www.rdocumentation.org/packages/mlr/versions/2.10/topics/makeResampleDesc"
   ]
  },
  {
   "cell_type": "code",
   "execution_count": 10,
   "metadata": {
    "collapsed": false
   },
   "outputs": [],
   "source": [
    "resample = makeResampleDesc( method = \"CV\"\n",
    "                           , iters = 10\n",
    "                           , predict = 'both'\n",
    "                           , stratify = FALSE\n",
    "                           )"
   ]
  },
  {
   "cell_type": "markdown",
   "metadata": {},
   "source": [
    "List of performance measures:\n",
    "\n",
    "Doc.: http://mlr-org.github.io/mlr-tutorial/release/html/measures/"
   ]
  },
  {
   "cell_type": "code",
   "execution_count": 11,
   "metadata": {
    "collapsed": false
   },
   "outputs": [],
   "source": [
    "measures = list(mmce #MMCE \n",
    "               ,acc  #acuracia\n",
    "               ,f1   #f1\n",
    "               ,ppv  #precision\n",
    "               ,tpr  #recall\n",
    "               ,auc  #AUC\n",
    "               ,gini #Gini\n",
    "               #,timetrain #tempo execucao\n",
    "               )"
   ]
  },
  {
   "cell_type": "markdown",
   "metadata": {},
   "source": [
    "Function:\n",
    "```R\n",
    "resample(learner, task, resampling, measures, weights = NULL, models = FALSE, extract, \n",
    "         keep.pred = TRUE, ..., show.info = getMlrOption(\"show.info\"))\n",
    "```\n",
    "Param.:\n",
    "\n",
    "* learner: [Learner] The learner.\n",
    "* task: [Task] The task.\n",
    "* resampling: [ResampleInstance] Resampling strategy.\n",
    "* measures: [Measure | list of Measure] Performance measure(s) to evaluate. Default is mean misclassification error (mmce)\n",
    "* weights: [numeric] Optional, non-negative case weight vector to be used during fitting. If given, must be of same length as observations in task and in corresponding order. Overwrites weights specified in the task. By default NULL which means no weights are used unless specified in the task.\n",
    "* models: [logical(1)] Should all fitted models be returned? Default is FALSE.\n",
    "* keep.pred: [logical(1)] Keep the prediction data in the pred slot of the result object. If you do many experiments (on larger data sets) these objects might unnecessarily increase object size / mem usage, if you do not really need them. In this case you can set this argument to FALSE. Default is TRUE.\n",
    "* show.info: [logical(1)] Print verbose output on console? Default is set via configureMlr.\n",
    "\n",
    "Doc.: https://www.rdocumentation.org/packages/mlr/versions/2.10/topics/resample"
   ]
  },
  {
   "cell_type": "code",
   "execution_count": 12,
   "metadata": {
    "collapsed": false
   },
   "outputs": [
    {
     "name": "stderr",
     "output_type": "stream",
     "text": [
      "[Resample] cross-validation iter 1: mmce.test.mean=0.23,acc.test.mean=0.77,f1.test.mean=0.511,ppv.test.mean= 0.6,tpr.test.mean=0.444,auc.test.mean=0.746,gini.test.mean=0.492\n",
      "[Resample] cross-validation iter 2: mmce.test.mean=0.27,acc.test.mean=0.73,f1.test.mean=0.509,ppv.test.mean=0.636,tpr.test.mean=0.424,auc.test.mean=0.776,gini.test.mean=0.552\n",
      "[Resample] cross-validation iter 3: mmce.test.mean=0.26,acc.test.mean=0.74,f1.test.mean= 0.5,ppv.test.mean=0.684,tpr.test.mean=0.394,auc.test.mean=0.806,gini.test.mean=0.612\n",
      "[Resample] cross-validation iter 4: mmce.test.mean=0.22,acc.test.mean=0.78,f1.test.mean=0.542,ppv.test.mean=0.812,tpr.test.mean=0.406,auc.test.mean=0.792,gini.test.mean=0.585\n",
      "[Resample] cross-validation iter 5: mmce.test.mean=0.21,acc.test.mean=0.79,f1.test.mean=0.588,ppv.test.mean=0.714,tpr.test.mean= 0.5,auc.test.mean=0.789,gini.test.mean=0.577\n",
      "[Resample] cross-validation iter 6: mmce.test.mean=0.29,acc.test.mean=0.71,f1.test.mean=0.383,ppv.test.mean=0.562,tpr.test.mean=0.29,auc.test.mean=0.759,gini.test.mean=0.518\n",
      "[Resample] cross-validation iter 7: mmce.test.mean=0.22,acc.test.mean=0.78,f1.test.mean=0.633,ppv.test.mean=0.704,tpr.test.mean=0.576,auc.test.mean=0.869,gini.test.mean=0.739\n",
      "[Resample] cross-validation iter 8: mmce.test.mean= 0.2,acc.test.mean= 0.8,f1.test.mean=0.524,ppv.test.mean=0.733,tpr.test.mean=0.407,auc.test.mean=0.813,gini.test.mean=0.626\n",
      "[Resample] cross-validation iter 9: mmce.test.mean= 0.2,acc.test.mean= 0.8,f1.test.mean=0.524,ppv.test.mean=0.647,tpr.test.mean=0.44,auc.test.mean=0.794,gini.test.mean=0.587\n",
      "[Resample] cross-validation iter 10: mmce.test.mean=0.22,acc.test.mean=0.78,f1.test.mean=0.593,ppv.test.mean=0.64,tpr.test.mean=0.552,auc.test.mean=0.763,gini.test.mean=0.525\n",
      "[Resample] Aggr. Result: mmce.test.mean=0.232,acc.test.mean=0.768,f1.test.mean=0.531,ppv.test.mean=0.673,tpr.test.mean=0.443,auc.test.mean=0.791,gini.test.mean=0.581\n"
     ]
    }
   ],
   "source": [
    "r = resample(learner = learner\n",
    "            ,task = task \n",
    "            ,resampling = resample \n",
    "            ,measures = measures\n",
    "            #---------------------#\n",
    "            ,models = TRUE\n",
    "            ,keep.pred = FALSE\n",
    "            ,show.info = TRUE\n",
    "            )"
   ]
  },
  {
   "cell_type": "markdown",
   "metadata": {},
   "source": [
    "<h2>3. Result Analysis</h2>"
   ]
  },
  {
   "cell_type": "markdown",
   "metadata": {},
   "source": [
    "Train Measures"
   ]
  },
  {
   "cell_type": "code",
   "execution_count": 13,
   "metadata": {
    "collapsed": false
   },
   "outputs": [
    {
     "data": {
      "text/html": [
       "<table>\n",
       "<thead><tr><th scope=col>iter</th><th scope=col>mmce</th><th scope=col>acc</th><th scope=col>f1</th><th scope=col>ppv</th><th scope=col>tpr</th><th scope=col>auc</th><th scope=col>gini</th></tr></thead>\n",
       "<tbody>\n",
       "\t<tr><td> 1       </td><td>0.1511111</td><td>0.8488889</td><td>0.7130802</td><td>0.8407960</td><td>0.6190476</td><td>0.9146584</td><td>0.8293169</td></tr>\n",
       "\t<tr><td> 2       </td><td>0.1500000</td><td>0.8500000</td><td>0.7019868</td><td>0.8548387</td><td>0.5955056</td><td>0.9171060</td><td>0.8342120</td></tr>\n",
       "\t<tr><td> 3       </td><td>0.1500000</td><td>0.8500000</td><td>0.7019868</td><td>0.8548387</td><td>0.5955056</td><td>0.9154552</td><td>0.8309104</td></tr>\n",
       "\t<tr><td> 4       </td><td>0.1633333</td><td>0.8366667</td><td>0.6711409</td><td>0.8379888</td><td>0.5597015</td><td>0.9160330</td><td>0.8320659</td></tr>\n",
       "\t<tr><td> 5       </td><td>0.1622222</td><td>0.8377778</td><td>0.6726457</td><td>0.8522727</td><td>0.5555556</td><td>0.9142975</td><td>0.8285949</td></tr>\n",
       "\t<tr><td> 6       </td><td>0.1555556</td><td>0.8444444</td><td>0.6846847</td><td>0.8685714</td><td>0.5650558</td><td>0.9206605</td><td>0.8413211</td></tr>\n",
       "\t<tr><td> 7       </td><td>0.1655556</td><td>0.8344444</td><td>0.6542923</td><td>0.8597561</td><td>0.5280899</td><td>0.9083728</td><td>0.8167457</td></tr>\n",
       "\t<tr><td> 8       </td><td>0.1633333</td><td>0.8366667</td><td>0.6711409</td><td>0.8620690</td><td>0.5494505</td><td>0.9102769</td><td>0.8205537</td></tr>\n",
       "\t<tr><td> 9       </td><td>0.1577778</td><td>0.8422222</td><td>0.6885965</td><td>0.8674033</td><td>0.5709091</td><td>0.9177716</td><td>0.8355433</td></tr>\n",
       "\t<tr><td>10       </td><td>0.1633333</td><td>0.8366667</td><td>0.6783370</td><td>0.8333333</td><td>0.5719557</td><td>0.9144838</td><td>0.8289677</td></tr>\n",
       "</tbody>\n",
       "</table>\n"
      ],
      "text/latex": [
       "\\begin{tabular}{r|llllllll}\n",
       " iter & mmce & acc & f1 & ppv & tpr & auc & gini\\\\\n",
       "\\hline\n",
       "\t  1        & 0.1511111 & 0.8488889 & 0.7130802 & 0.8407960 & 0.6190476 & 0.9146584 & 0.8293169\\\\\n",
       "\t  2        & 0.1500000 & 0.8500000 & 0.7019868 & 0.8548387 & 0.5955056 & 0.9171060 & 0.8342120\\\\\n",
       "\t  3        & 0.1500000 & 0.8500000 & 0.7019868 & 0.8548387 & 0.5955056 & 0.9154552 & 0.8309104\\\\\n",
       "\t  4        & 0.1633333 & 0.8366667 & 0.6711409 & 0.8379888 & 0.5597015 & 0.9160330 & 0.8320659\\\\\n",
       "\t  5        & 0.1622222 & 0.8377778 & 0.6726457 & 0.8522727 & 0.5555556 & 0.9142975 & 0.8285949\\\\\n",
       "\t  6        & 0.1555556 & 0.8444444 & 0.6846847 & 0.8685714 & 0.5650558 & 0.9206605 & 0.8413211\\\\\n",
       "\t  7        & 0.1655556 & 0.8344444 & 0.6542923 & 0.8597561 & 0.5280899 & 0.9083728 & 0.8167457\\\\\n",
       "\t  8        & 0.1633333 & 0.8366667 & 0.6711409 & 0.8620690 & 0.5494505 & 0.9102769 & 0.8205537\\\\\n",
       "\t  9        & 0.1577778 & 0.8422222 & 0.6885965 & 0.8674033 & 0.5709091 & 0.9177716 & 0.8355433\\\\\n",
       "\t 10        & 0.1633333 & 0.8366667 & 0.6783370 & 0.8333333 & 0.5719557 & 0.9144838 & 0.8289677\\\\\n",
       "\\end{tabular}\n"
      ],
      "text/markdown": [
       "\n",
       "iter | mmce | acc | f1 | ppv | tpr | auc | gini | \n",
       "|---|---|---|---|---|---|---|---|---|---|\n",
       "|  1        | 0.1511111 | 0.8488889 | 0.7130802 | 0.8407960 | 0.6190476 | 0.9146584 | 0.8293169 | \n",
       "|  2        | 0.1500000 | 0.8500000 | 0.7019868 | 0.8548387 | 0.5955056 | 0.9171060 | 0.8342120 | \n",
       "|  3        | 0.1500000 | 0.8500000 | 0.7019868 | 0.8548387 | 0.5955056 | 0.9154552 | 0.8309104 | \n",
       "|  4        | 0.1633333 | 0.8366667 | 0.6711409 | 0.8379888 | 0.5597015 | 0.9160330 | 0.8320659 | \n",
       "|  5        | 0.1622222 | 0.8377778 | 0.6726457 | 0.8522727 | 0.5555556 | 0.9142975 | 0.8285949 | \n",
       "|  6        | 0.1555556 | 0.8444444 | 0.6846847 | 0.8685714 | 0.5650558 | 0.9206605 | 0.8413211 | \n",
       "|  7        | 0.1655556 | 0.8344444 | 0.6542923 | 0.8597561 | 0.5280899 | 0.9083728 | 0.8167457 | \n",
       "|  8        | 0.1633333 | 0.8366667 | 0.6711409 | 0.8620690 | 0.5494505 | 0.9102769 | 0.8205537 | \n",
       "|  9        | 0.1577778 | 0.8422222 | 0.6885965 | 0.8674033 | 0.5709091 | 0.9177716 | 0.8355433 | \n",
       "| 10        | 0.1633333 | 0.8366667 | 0.6783370 | 0.8333333 | 0.5719557 | 0.9144838 | 0.8289677 | \n",
       "\n",
       "\n"
      ],
      "text/plain": [
       "   iter mmce      acc       f1        ppv       tpr       auc       gini     \n",
       "1   1   0.1511111 0.8488889 0.7130802 0.8407960 0.6190476 0.9146584 0.8293169\n",
       "2   2   0.1500000 0.8500000 0.7019868 0.8548387 0.5955056 0.9171060 0.8342120\n",
       "3   3   0.1500000 0.8500000 0.7019868 0.8548387 0.5955056 0.9154552 0.8309104\n",
       "4   4   0.1633333 0.8366667 0.6711409 0.8379888 0.5597015 0.9160330 0.8320659\n",
       "5   5   0.1622222 0.8377778 0.6726457 0.8522727 0.5555556 0.9142975 0.8285949\n",
       "6   6   0.1555556 0.8444444 0.6846847 0.8685714 0.5650558 0.9206605 0.8413211\n",
       "7   7   0.1655556 0.8344444 0.6542923 0.8597561 0.5280899 0.9083728 0.8167457\n",
       "8   8   0.1633333 0.8366667 0.6711409 0.8620690 0.5494505 0.9102769 0.8205537\n",
       "9   9   0.1577778 0.8422222 0.6885965 0.8674033 0.5709091 0.9177716 0.8355433\n",
       "10 10   0.1633333 0.8366667 0.6783370 0.8333333 0.5719557 0.9144838 0.8289677"
      ]
     },
     "metadata": {},
     "output_type": "display_data"
    }
   ],
   "source": [
    "r$measures.train"
   ]
  },
  {
   "cell_type": "markdown",
   "metadata": {},
   "source": [
    "Test Measures"
   ]
  },
  {
   "cell_type": "code",
   "execution_count": 14,
   "metadata": {
    "collapsed": false
   },
   "outputs": [
    {
     "data": {
      "text/html": [
       "<table>\n",
       "<thead><tr><th scope=col>iter</th><th scope=col>mmce</th><th scope=col>acc</th><th scope=col>f1</th><th scope=col>ppv</th><th scope=col>tpr</th><th scope=col>auc</th><th scope=col>gini</th></tr></thead>\n",
       "<tbody>\n",
       "\t<tr><td> 1       </td><td>0.23     </td><td>0.77     </td><td>0.5106383</td><td>0.6000000</td><td>0.4444444</td><td>0.7458143</td><td>0.4916286</td></tr>\n",
       "\t<tr><td> 2       </td><td>0.27     </td><td>0.73     </td><td>0.5090909</td><td>0.6363636</td><td>0.4242424</td><td>0.7761194</td><td>0.5522388</td></tr>\n",
       "\t<tr><td> 3       </td><td>0.26     </td><td>0.74     </td><td>0.5000000</td><td>0.6842105</td><td>0.3939394</td><td>0.8059701</td><td>0.6119403</td></tr>\n",
       "\t<tr><td> 4       </td><td>0.22     </td><td>0.78     </td><td>0.5416667</td><td>0.8125000</td><td>0.4062500</td><td>0.7922794</td><td>0.5845588</td></tr>\n",
       "\t<tr><td> 5       </td><td>0.21     </td><td>0.79     </td><td>0.5882353</td><td>0.7142857</td><td>0.5000000</td><td>0.7885714</td><td>0.5771429</td></tr>\n",
       "\t<tr><td> 6       </td><td>0.29     </td><td>0.71     </td><td>0.3829787</td><td>0.5625000</td><td>0.2903226</td><td>0.7587658</td><td>0.5175316</td></tr>\n",
       "\t<tr><td> 7       </td><td>0.22     </td><td>0.78     </td><td>0.6333333</td><td>0.7037037</td><td>0.5757576</td><td>0.8692899</td><td>0.7385798</td></tr>\n",
       "\t<tr><td> 8       </td><td>0.20     </td><td>0.80     </td><td>0.5238095</td><td>0.7333333</td><td>0.4074074</td><td>0.8127854</td><td>0.6255708</td></tr>\n",
       "\t<tr><td> 9       </td><td>0.20     </td><td>0.80     </td><td>0.5238095</td><td>0.6470588</td><td>0.4400000</td><td>0.7936000</td><td>0.5872000</td></tr>\n",
       "\t<tr><td>10       </td><td>0.22     </td><td>0.78     </td><td>0.5925926</td><td>0.6400000</td><td>0.5517241</td><td>0.7625061</td><td>0.5250121</td></tr>\n",
       "</tbody>\n",
       "</table>\n"
      ],
      "text/latex": [
       "\\begin{tabular}{r|llllllll}\n",
       " iter & mmce & acc & f1 & ppv & tpr & auc & gini\\\\\n",
       "\\hline\n",
       "\t  1        & 0.23      & 0.77      & 0.5106383 & 0.6000000 & 0.4444444 & 0.7458143 & 0.4916286\\\\\n",
       "\t  2        & 0.27      & 0.73      & 0.5090909 & 0.6363636 & 0.4242424 & 0.7761194 & 0.5522388\\\\\n",
       "\t  3        & 0.26      & 0.74      & 0.5000000 & 0.6842105 & 0.3939394 & 0.8059701 & 0.6119403\\\\\n",
       "\t  4        & 0.22      & 0.78      & 0.5416667 & 0.8125000 & 0.4062500 & 0.7922794 & 0.5845588\\\\\n",
       "\t  5        & 0.21      & 0.79      & 0.5882353 & 0.7142857 & 0.5000000 & 0.7885714 & 0.5771429\\\\\n",
       "\t  6        & 0.29      & 0.71      & 0.3829787 & 0.5625000 & 0.2903226 & 0.7587658 & 0.5175316\\\\\n",
       "\t  7        & 0.22      & 0.78      & 0.6333333 & 0.7037037 & 0.5757576 & 0.8692899 & 0.7385798\\\\\n",
       "\t  8        & 0.20      & 0.80      & 0.5238095 & 0.7333333 & 0.4074074 & 0.8127854 & 0.6255708\\\\\n",
       "\t  9        & 0.20      & 0.80      & 0.5238095 & 0.6470588 & 0.4400000 & 0.7936000 & 0.5872000\\\\\n",
       "\t 10        & 0.22      & 0.78      & 0.5925926 & 0.6400000 & 0.5517241 & 0.7625061 & 0.5250121\\\\\n",
       "\\end{tabular}\n"
      ],
      "text/markdown": [
       "\n",
       "iter | mmce | acc | f1 | ppv | tpr | auc | gini | \n",
       "|---|---|---|---|---|---|---|---|---|---|\n",
       "|  1        | 0.23      | 0.77      | 0.5106383 | 0.6000000 | 0.4444444 | 0.7458143 | 0.4916286 | \n",
       "|  2        | 0.27      | 0.73      | 0.5090909 | 0.6363636 | 0.4242424 | 0.7761194 | 0.5522388 | \n",
       "|  3        | 0.26      | 0.74      | 0.5000000 | 0.6842105 | 0.3939394 | 0.8059701 | 0.6119403 | \n",
       "|  4        | 0.22      | 0.78      | 0.5416667 | 0.8125000 | 0.4062500 | 0.7922794 | 0.5845588 | \n",
       "|  5        | 0.21      | 0.79      | 0.5882353 | 0.7142857 | 0.5000000 | 0.7885714 | 0.5771429 | \n",
       "|  6        | 0.29      | 0.71      | 0.3829787 | 0.5625000 | 0.2903226 | 0.7587658 | 0.5175316 | \n",
       "|  7        | 0.22      | 0.78      | 0.6333333 | 0.7037037 | 0.5757576 | 0.8692899 | 0.7385798 | \n",
       "|  8        | 0.20      | 0.80      | 0.5238095 | 0.7333333 | 0.4074074 | 0.8127854 | 0.6255708 | \n",
       "|  9        | 0.20      | 0.80      | 0.5238095 | 0.6470588 | 0.4400000 | 0.7936000 | 0.5872000 | \n",
       "| 10        | 0.22      | 0.78      | 0.5925926 | 0.6400000 | 0.5517241 | 0.7625061 | 0.5250121 | \n",
       "\n",
       "\n"
      ],
      "text/plain": [
       "   iter mmce acc  f1        ppv       tpr       auc       gini     \n",
       "1   1   0.23 0.77 0.5106383 0.6000000 0.4444444 0.7458143 0.4916286\n",
       "2   2   0.27 0.73 0.5090909 0.6363636 0.4242424 0.7761194 0.5522388\n",
       "3   3   0.26 0.74 0.5000000 0.6842105 0.3939394 0.8059701 0.6119403\n",
       "4   4   0.22 0.78 0.5416667 0.8125000 0.4062500 0.7922794 0.5845588\n",
       "5   5   0.21 0.79 0.5882353 0.7142857 0.5000000 0.7885714 0.5771429\n",
       "6   6   0.29 0.71 0.3829787 0.5625000 0.2903226 0.7587658 0.5175316\n",
       "7   7   0.22 0.78 0.6333333 0.7037037 0.5757576 0.8692899 0.7385798\n",
       "8   8   0.20 0.80 0.5238095 0.7333333 0.4074074 0.8127854 0.6255708\n",
       "9   9   0.20 0.80 0.5238095 0.6470588 0.4400000 0.7936000 0.5872000\n",
       "10 10   0.22 0.78 0.5925926 0.6400000 0.5517241 0.7625061 0.5250121"
      ]
     },
     "metadata": {},
     "output_type": "display_data"
    }
   ],
   "source": [
    "r$measures.test"
   ]
  },
  {
   "cell_type": "markdown",
   "metadata": {},
   "source": [
    "Train Aggregated Result"
   ]
  },
  {
   "cell_type": "code",
   "execution_count": 15,
   "metadata": {
    "collapsed": false
   },
   "outputs": [
    {
     "data": {
      "text/html": [
       "<dl class=dl-horizontal>\n",
       "\t<dt>iter</dt>\n",
       "\t\t<dd>5.5</dd>\n",
       "\t<dt>mmce</dt>\n",
       "\t\t<dd>0.158222222222222</dd>\n",
       "\t<dt>acc</dt>\n",
       "\t\t<dd>0.841777777777778</dd>\n",
       "\t<dt>f1</dt>\n",
       "\t\t<dd>0.683789179742166</dd>\n",
       "\t<dt>ppv</dt>\n",
       "\t\t<dd>0.853186813324381</dd>\n",
       "\t<dt>tpr</dt>\n",
       "\t\t<dd>0.571077691273461</dd>\n",
       "\t<dt>auc</dt>\n",
       "\t\t<dd>0.914911577553816</dd>\n",
       "\t<dt>gini</dt>\n",
       "\t\t<dd>0.829823155107632</dd>\n",
       "</dl>\n"
      ],
      "text/latex": [
       "\\begin{description*}\n",
       "\\item[iter] 5.5\n",
       "\\item[mmce] 0.158222222222222\n",
       "\\item[acc] 0.841777777777778\n",
       "\\item[f1] 0.683789179742166\n",
       "\\item[ppv] 0.853186813324381\n",
       "\\item[tpr] 0.571077691273461\n",
       "\\item[auc] 0.914911577553816\n",
       "\\item[gini] 0.829823155107632\n",
       "\\end{description*}\n"
      ],
      "text/markdown": [
       "iter\n",
       ":   5.5mmce\n",
       ":   0.158222222222222acc\n",
       ":   0.841777777777778f1\n",
       ":   0.683789179742166ppv\n",
       ":   0.853186813324381tpr\n",
       ":   0.571077691273461auc\n",
       ":   0.914911577553816gini\n",
       ":   0.829823155107632\n",
       "\n"
      ],
      "text/plain": [
       "     iter      mmce       acc        f1       ppv       tpr       auc      gini \n",
       "5.5000000 0.1582222 0.8417778 0.6837892 0.8531868 0.5710777 0.9149116 0.8298232 "
      ]
     },
     "metadata": {},
     "output_type": "display_data"
    }
   ],
   "source": [
    "apply(r$measures.train,2,mean)"
   ]
  },
  {
   "cell_type": "markdown",
   "metadata": {},
   "source": [
    "Test Aggregated Result"
   ]
  },
  {
   "cell_type": "code",
   "execution_count": 16,
   "metadata": {
    "collapsed": false
   },
   "outputs": [
    {
     "data": {
      "text/html": [
       "<dl class=dl-horizontal>\n",
       "\t<dt>iter</dt>\n",
       "\t\t<dd>5.5</dd>\n",
       "\t<dt>mmce</dt>\n",
       "\t\t<dd>0.232</dd>\n",
       "\t<dt>acc</dt>\n",
       "\t\t<dd>0.768</dd>\n",
       "\t<dt>f1</dt>\n",
       "\t\t<dd>0.530615486469679</dd>\n",
       "\t<dt>ppv</dt>\n",
       "\t\t<dd>0.673395573753159</dd>\n",
       "\t<dt>tpr</dt>\n",
       "\t\t<dd>0.443408796436744</dd>\n",
       "\t<dt>auc</dt>\n",
       "\t\t<dd>0.79057018515363</dd>\n",
       "\t<dt>gini</dt>\n",
       "\t\t<dd>0.58114037030726</dd>\n",
       "</dl>\n"
      ],
      "text/latex": [
       "\\begin{description*}\n",
       "\\item[iter] 5.5\n",
       "\\item[mmce] 0.232\n",
       "\\item[acc] 0.768\n",
       "\\item[f1] 0.530615486469679\n",
       "\\item[ppv] 0.673395573753159\n",
       "\\item[tpr] 0.443408796436744\n",
       "\\item[auc] 0.79057018515363\n",
       "\\item[gini] 0.58114037030726\n",
       "\\end{description*}\n"
      ],
      "text/markdown": [
       "iter\n",
       ":   5.5mmce\n",
       ":   0.232acc\n",
       ":   0.768f1\n",
       ":   0.530615486469679ppv\n",
       ":   0.673395573753159tpr\n",
       ":   0.443408796436744auc\n",
       ":   0.79057018515363gini\n",
       ":   0.58114037030726\n",
       "\n"
      ],
      "text/plain": [
       "     iter      mmce       acc        f1       ppv       tpr       auc      gini \n",
       "5.5000000 0.2320000 0.7680000 0.5306155 0.6733956 0.4434088 0.7905702 0.5811404 "
      ]
     },
     "metadata": {},
     "output_type": "display_data"
    }
   ],
   "source": [
    "apply(r$measures.test,2,mean)"
   ]
  },
  {
   "cell_type": "markdown",
   "metadata": {},
   "source": [
    "Run Time in seconds"
   ]
  },
  {
   "cell_type": "code",
   "execution_count": 17,
   "metadata": {
    "collapsed": false
   },
   "outputs": [
    {
     "data": {
      "text/html": [
       "4.14691495895386"
      ],
      "text/latex": [
       "4.14691495895386"
      ],
      "text/markdown": [
       "4.14691495895386"
      ],
      "text/plain": [
       "[1] 4.146915"
      ]
     },
     "metadata": {},
     "output_type": "display_data"
    }
   ],
   "source": [
    "r$runtime"
   ]
  },
  {
   "cell_type": "markdown",
   "metadata": {},
   "source": [
    "<h2>4. Prediction for new data</h2>"
   ]
  },
  {
   "cell_type": "markdown",
   "metadata": {},
   "source": [
    "Read the data to predict"
   ]
  },
  {
   "cell_type": "code",
   "execution_count": 18,
   "metadata": {
    "collapsed": true
   },
   "outputs": [],
   "source": [
    "new.data = read.csv(file=sprintf('%s/%s', folder_name, file_name))"
   ]
  },
  {
   "cell_type": "markdown",
   "metadata": {},
   "source": [
    "Search for the best model in crossvalidation and use it to score the incoming data"
   ]
  },
  {
   "cell_type": "code",
   "execution_count": 19,
   "metadata": {
    "collapsed": false
   },
   "outputs": [],
   "source": [
    "best.model = which.max(r$measures.test$acc)"
   ]
  },
  {
   "cell_type": "code",
   "execution_count": 20,
   "metadata": {
    "collapsed": false
   },
   "outputs": [],
   "source": [
    "pred = predict(r$models[[best.model]], newdata = new.data)"
   ]
  },
  {
   "cell_type": "markdown",
   "metadata": {},
   "source": [
    "Prediction Result"
   ]
  },
  {
   "cell_type": "code",
   "execution_count": 21,
   "metadata": {
    "collapsed": false
   },
   "outputs": [
    {
     "data": {
      "text/plain": [
       "Prediction: 1000 observations\n",
       "predict.type: prob\n",
       "threshold: 1=0.50,2=0.50\n",
       "time: 0.13\n",
       "  truth    prob.1     prob.2 response\n",
       "1     1 0.9066882 0.09331181        1\n",
       "2     2 0.4330402 0.56695979        2\n",
       "3     1 0.8862412 0.11375880        1\n",
       "4     1 0.4809901 0.51900991        2\n",
       "5     2 0.3049037 0.69509631        2\n",
       "6     1 0.7780743 0.22192566        1\n",
       "... (1000 rows, 4 cols)\n"
      ]
     },
     "metadata": {},
     "output_type": "display_data"
    }
   ],
   "source": [
    "pred"
   ]
  },
  {
   "cell_type": "markdown",
   "metadata": {},
   "source": [
    "Cast result to data.frame to access the prediction"
   ]
  },
  {
   "cell_type": "code",
   "execution_count": 22,
   "metadata": {
    "collapsed": false
   },
   "outputs": [
    {
     "data": {
      "text/html": [
       "<table>\n",
       "<thead><tr><th scope=col>truth</th><th scope=col>prob.1</th><th scope=col>prob.2</th><th scope=col>response</th></tr></thead>\n",
       "<tbody>\n",
       "\t<tr><td>1         </td><td>0.9066882 </td><td>0.09331181</td><td>1         </td></tr>\n",
       "\t<tr><td>2         </td><td>0.4330402 </td><td>0.56695979</td><td>2         </td></tr>\n",
       "\t<tr><td>1         </td><td>0.8862412 </td><td>0.11375880</td><td>1         </td></tr>\n",
       "\t<tr><td>1         </td><td>0.4809901 </td><td>0.51900991</td><td>2         </td></tr>\n",
       "\t<tr><td>2         </td><td>0.3049037 </td><td>0.69509631</td><td>2         </td></tr>\n",
       "\t<tr><td>1         </td><td>0.7780743 </td><td>0.22192566</td><td>1         </td></tr>\n",
       "</tbody>\n",
       "</table>\n"
      ],
      "text/latex": [
       "\\begin{tabular}{r|llll}\n",
       " truth & prob.1 & prob.2 & response\\\\\n",
       "\\hline\n",
       "\t 1          & 0.9066882  & 0.09331181 & 1         \\\\\n",
       "\t 2          & 0.4330402  & 0.56695979 & 2         \\\\\n",
       "\t 1          & 0.8862412  & 0.11375880 & 1         \\\\\n",
       "\t 1          & 0.4809901  & 0.51900991 & 2         \\\\\n",
       "\t 2          & 0.3049037  & 0.69509631 & 2         \\\\\n",
       "\t 1          & 0.7780743  & 0.22192566 & 1         \\\\\n",
       "\\end{tabular}\n"
      ],
      "text/markdown": [
       "\n",
       "truth | prob.1 | prob.2 | response | \n",
       "|---|---|---|---|---|---|\n",
       "| 1          | 0.9066882  | 0.09331181 | 1          | \n",
       "| 2          | 0.4330402  | 0.56695979 | 2          | \n",
       "| 1          | 0.8862412  | 0.11375880 | 1          | \n",
       "| 1          | 0.4809901  | 0.51900991 | 2          | \n",
       "| 2          | 0.3049037  | 0.69509631 | 2          | \n",
       "| 1          | 0.7780743  | 0.22192566 | 1          | \n",
       "\n",
       "\n"
      ],
      "text/plain": [
       "  truth prob.1    prob.2     response\n",
       "1 1     0.9066882 0.09331181 1       \n",
       "2 2     0.4330402 0.56695979 2       \n",
       "3 1     0.8862412 0.11375880 1       \n",
       "4 1     0.4809901 0.51900991 2       \n",
       "5 2     0.3049037 0.69509631 2       \n",
       "6 1     0.7780743 0.22192566 1       "
      ]
     },
     "metadata": {},
     "output_type": "display_data"
    }
   ],
   "source": [
    "head(as.data.frame(pred))"
   ]
  },
  {
   "cell_type": "code",
   "execution_count": null,
   "metadata": {
    "collapsed": true
   },
   "outputs": [],
   "source": []
  }
 ],
 "metadata": {
  "kernelspec": {
   "display_name": "R",
   "language": "R",
   "name": "ir"
  },
  "language_info": {
   "codemirror_mode": "r",
   "file_extension": ".r",
   "mimetype": "text/x-r-source",
   "name": "R",
   "pygments_lexer": "r",
   "version": "3.4.2"
  }
 },
 "nbformat": 4,
 "nbformat_minor": 2
}
