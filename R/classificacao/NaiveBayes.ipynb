{
 "cells": [
  {
   "cell_type": "markdown",
   "metadata": {},
   "source": [
    "<h1>Naive Bayes</h1>"
   ]
  },
  {
   "cell_type": "code",
   "execution_count": 1,
   "metadata": {
    "collapsed": false
   },
   "outputs": [
    {
     "name": "stderr",
     "output_type": "stream",
     "text": [
      "Loading required package: ParamHelpers\n",
      "Warning message:\n",
      "“replacing previous import ‘BBmisc::isFALSE’ by ‘backports::isFALSE’ when loading ‘mlr’”"
     ]
    }
   ],
   "source": [
    "library(mlr)\n",
    "source('../utils.r')\n",
    "\n",
    "set.seed(42)\n",
    "\n",
    "folder_name = '../../raw_data' \n",
    "file_name   = 'german.csv'"
   ]
  },
  {
   "cell_type": "markdown",
   "metadata": {},
   "source": [
    "<h2>1. Dataprep</h2>"
   ]
  },
  {
   "cell_type": "code",
   "execution_count": 2,
   "metadata": {
    "collapsed": false
   },
   "outputs": [],
   "source": [
    "data = read.csv(file=sprintf('%s/%s',folder_name,file_name))"
   ]
  },
  {
   "cell_type": "code",
   "execution_count": 3,
   "metadata": {
    "collapsed": false
   },
   "outputs": [
    {
     "name": "stdout",
     "output_type": "stream",
     "text": [
      "NRow: 1000\n",
      "NCol: 22"
     ]
    },
    {
     "data": {
      "text/html": [
       "<table>\n",
       "<thead><tr><th scope=col>X</th><th scope=col>V1</th><th scope=col>V2</th><th scope=col>V3</th><th scope=col>V4</th><th scope=col>V5</th><th scope=col>V6</th><th scope=col>V7</th><th scope=col>V8</th><th scope=col>V9</th><th scope=col>⋯</th><th scope=col>V12</th><th scope=col>V13</th><th scope=col>V14</th><th scope=col>V15</th><th scope=col>V16</th><th scope=col>V17</th><th scope=col>V18</th><th scope=col>V19</th><th scope=col>V20</th><th scope=col>V21</th></tr></thead>\n",
       "<tbody>\n",
       "\t<tr><td>1   </td><td>A11 </td><td> 6  </td><td>A34 </td><td>A43 </td><td>1169</td><td>A65 </td><td>A75 </td><td>4   </td><td>A93 </td><td>⋯   </td><td>A121</td><td>67  </td><td>A143</td><td>A152</td><td>2   </td><td>A173</td><td>good</td><td>A192</td><td>A201</td><td>1   </td></tr>\n",
       "\t<tr><td>2   </td><td>A12 </td><td>48  </td><td>A32 </td><td>A43 </td><td>5951</td><td>A61 </td><td>A73 </td><td>2   </td><td>A92 </td><td>⋯   </td><td>A121</td><td>22  </td><td>A143</td><td>A152</td><td>1   </td><td>A173</td><td>good</td><td>A191</td><td>A201</td><td>2   </td></tr>\n",
       "\t<tr><td>3   </td><td>A14 </td><td>12  </td><td>A34 </td><td>A46 </td><td>2096</td><td>A61 </td><td>A74 </td><td>2   </td><td>A93 </td><td>⋯   </td><td>A121</td><td>49  </td><td>A143</td><td>A152</td><td>1   </td><td>A172</td><td>bad </td><td>A191</td><td>A201</td><td>1   </td></tr>\n",
       "\t<tr><td>4   </td><td>A11 </td><td>42  </td><td>A32 </td><td>A42 </td><td>7882</td><td>A61 </td><td>A74 </td><td>2   </td><td>A93 </td><td>⋯   </td><td>A122</td><td>45  </td><td>A143</td><td>A153</td><td>1   </td><td>A173</td><td>bad </td><td>A191</td><td>A201</td><td>1   </td></tr>\n",
       "\t<tr><td>5   </td><td>A11 </td><td>24  </td><td>A33 </td><td>A40 </td><td>4870</td><td>A61 </td><td>A73 </td><td>3   </td><td>A93 </td><td>⋯   </td><td>A124</td><td>53  </td><td>A143</td><td>A153</td><td>2   </td><td>A173</td><td>bad </td><td>A191</td><td>A201</td><td>2   </td></tr>\n",
       "\t<tr><td>6   </td><td>A14 </td><td>36  </td><td>A32 </td><td>A46 </td><td>9055</td><td>A65 </td><td>A73 </td><td>2   </td><td>A93 </td><td>⋯   </td><td>A124</td><td>35  </td><td>A143</td><td>A153</td><td>1   </td><td>A172</td><td>bad </td><td>A192</td><td>A201</td><td>1   </td></tr>\n",
       "</tbody>\n",
       "</table>\n"
      ],
      "text/latex": [
       "\\begin{tabular}{r|llllllllllllllllllllll}\n",
       " X & V1 & V2 & V3 & V4 & V5 & V6 & V7 & V8 & V9 & ⋯ & V12 & V13 & V14 & V15 & V16 & V17 & V18 & V19 & V20 & V21\\\\\n",
       "\\hline\n",
       "\t 1    & A11  &  6   & A34  & A43  & 1169 & A65  & A75  & 4    & A93  & ⋯    & A121 & 67   & A143 & A152 & 2    & A173 & good & A192 & A201 & 1   \\\\\n",
       "\t 2    & A12  & 48   & A32  & A43  & 5951 & A61  & A73  & 2    & A92  & ⋯    & A121 & 22   & A143 & A152 & 1    & A173 & good & A191 & A201 & 2   \\\\\n",
       "\t 3    & A14  & 12   & A34  & A46  & 2096 & A61  & A74  & 2    & A93  & ⋯    & A121 & 49   & A143 & A152 & 1    & A172 & bad  & A191 & A201 & 1   \\\\\n",
       "\t 4    & A11  & 42   & A32  & A42  & 7882 & A61  & A74  & 2    & A93  & ⋯    & A122 & 45   & A143 & A153 & 1    & A173 & bad  & A191 & A201 & 1   \\\\\n",
       "\t 5    & A11  & 24   & A33  & A40  & 4870 & A61  & A73  & 3    & A93  & ⋯    & A124 & 53   & A143 & A153 & 2    & A173 & bad  & A191 & A201 & 2   \\\\\n",
       "\t 6    & A14  & 36   & A32  & A46  & 9055 & A65  & A73  & 2    & A93  & ⋯    & A124 & 35   & A143 & A153 & 1    & A172 & bad  & A192 & A201 & 1   \\\\\n",
       "\\end{tabular}\n"
      ],
      "text/markdown": [
       "\n",
       "X | V1 | V2 | V3 | V4 | V5 | V6 | V7 | V8 | V9 | ⋯ | V12 | V13 | V14 | V15 | V16 | V17 | V18 | V19 | V20 | V21 | \n",
       "|---|---|---|---|---|---|\n",
       "| 1    | A11  |  6   | A34  | A43  | 1169 | A65  | A75  | 4    | A93  | ⋯    | A121 | 67   | A143 | A152 | 2    | A173 | good | A192 | A201 | 1    | \n",
       "| 2    | A12  | 48   | A32  | A43  | 5951 | A61  | A73  | 2    | A92  | ⋯    | A121 | 22   | A143 | A152 | 1    | A173 | good | A191 | A201 | 2    | \n",
       "| 3    | A14  | 12   | A34  | A46  | 2096 | A61  | A74  | 2    | A93  | ⋯    | A121 | 49   | A143 | A152 | 1    | A172 | bad  | A191 | A201 | 1    | \n",
       "| 4    | A11  | 42   | A32  | A42  | 7882 | A61  | A74  | 2    | A93  | ⋯    | A122 | 45   | A143 | A153 | 1    | A173 | bad  | A191 | A201 | 1    | \n",
       "| 5    | A11  | 24   | A33  | A40  | 4870 | A61  | A73  | 3    | A93  | ⋯    | A124 | 53   | A143 | A153 | 2    | A173 | bad  | A191 | A201 | 2    | \n",
       "| 6    | A14  | 36   | A32  | A46  | 9055 | A65  | A73  | 2    | A93  | ⋯    | A124 | 35   | A143 | A153 | 1    | A172 | bad  | A192 | A201 | 1    | \n",
       "\n",
       "\n"
      ],
      "text/plain": [
       "  X V1  V2 V3  V4  V5   V6  V7  V8 V9  ⋯ V12  V13 V14  V15  V16 V17  V18  V19 \n",
       "1 1 A11  6 A34 A43 1169 A65 A75 4  A93 ⋯ A121 67  A143 A152 2   A173 good A192\n",
       "2 2 A12 48 A32 A43 5951 A61 A73 2  A92 ⋯ A121 22  A143 A152 1   A173 good A191\n",
       "3 3 A14 12 A34 A46 2096 A61 A74 2  A93 ⋯ A121 49  A143 A152 1   A172 bad  A191\n",
       "4 4 A11 42 A32 A42 7882 A61 A74 2  A93 ⋯ A122 45  A143 A153 1   A173 bad  A191\n",
       "5 5 A11 24 A33 A40 4870 A61 A73 3  A93 ⋯ A124 53  A143 A153 2   A173 bad  A191\n",
       "6 6 A14 36 A32 A46 9055 A65 A73 2  A93 ⋯ A124 35  A143 A153 1   A172 bad  A192\n",
       "  V20  V21\n",
       "1 A201 1  \n",
       "2 A201 2  \n",
       "3 A201 1  \n",
       "4 A201 1  \n",
       "5 A201 2  \n",
       "6 A201 1  "
      ]
     },
     "metadata": {},
     "output_type": "display_data"
    }
   ],
   "source": [
    "cat(sprintf('NRow: %d\\nNCol: %d',nrow(data), ncol(data)))\n",
    "head(data)"
   ]
  },
  {
   "cell_type": "markdown",
   "metadata": {},
   "source": [
    "<p style='color: red'> ATENTION: </p>Specifically in R, in classification problem, target must be set as Factor."
   ]
  },
  {
   "cell_type": "code",
   "execution_count": 4,
   "metadata": {
    "collapsed": true
   },
   "outputs": [],
   "source": [
    "data$V21 = as.factor(data$V21)"
   ]
  },
  {
   "cell_type": "markdown",
   "metadata": {},
   "source": [
    "MLR works only with features and target, this means that others columns must be dorped."
   ]
  },
  {
   "cell_type": "code",
   "execution_count": 5,
   "metadata": {
    "collapsed": false
   },
   "outputs": [
    {
     "name": "stdout",
     "output_type": "stream",
     "text": [
      "NRow: 1000\n",
      "NCol: 21"
     ]
    }
   ],
   "source": [
    "drops = c('X')\n",
    "data  = data[ , !(names(data) %in% drops)]\n",
    "cat(sprintf('NRow: %d\\nNCol: %d',nrow(data), ncol(data)))"
   ]
  },
  {
   "cell_type": "markdown",
   "metadata": {},
   "source": [
    "<h2>2. Modeling</h2>"
   ]
  },
  {
   "cell_type": "markdown",
   "metadata": {},
   "source": [
    "Function\n",
    "```R\n",
    "makeLearner(cl, id = cl, predict.type = \"response\", predict.threshold = NULL, \n",
    "            fix.factors.prediction = FALSE, ..., par.vals = list(), config = list())\n",
    "```\n",
    "Param.:\n",
    "\n",
    "* cl: [character(1)] Class of learner. By convention, all classification learners start with “classif.”. A list of all integrated learners is available on the learners help page < https://mlr-org.github.io/mlr-tutorial/release/html/integrated_learners/ >.\n",
    "* predict: [character(1)] “response” (= labels) or “prob” (= probabilities and labels by selecting the ones with maximal probability). Default is “response”.\n",
    "* par.vals: [list] Optional list of named (hyper)parameters. The arguments in ... take precedence over values in this list. We strongly encourage you to use one or the other to pass (hyper)parameters to the learner but not both.\n",
    "\n",
    "Doc.: https://www.rdocumentation.org/packages/mlr/versions/2.10/topics/makeLearner"
   ]
  },
  {
   "cell_type": "code",
   "execution_count": 6,
   "metadata": {
    "collapsed": true
   },
   "outputs": [],
   "source": [
    "cl = \"classif.naiveBayes\""
   ]
  },
  {
   "cell_type": "markdown",
   "metadata": {},
   "source": [
    "List all parameters that can be used in this classifier. The value must be set in par.vals parameter."
   ]
  },
  {
   "cell_type": "code",
   "execution_count": 7,
   "metadata": {
    "collapsed": false
   },
   "outputs": [
    {
     "data": {
      "text/plain": [
       "           Type len Def   Constr Req Tunable Trafo\n",
       "laplace numeric   -   0 0 to Inf   -    TRUE     -"
      ]
     },
     "metadata": {},
     "output_type": "display_data"
    }
   ],
   "source": [
    "getParamSet(cl)"
   ]
  },
  {
   "cell_type": "code",
   "execution_count": 8,
   "metadata": {
    "collapsed": false
   },
   "outputs": [],
   "source": [
    "learner = makeLearner(cl = cl\n",
    "                     , predict.type = \"prob\"\n",
    "                     , par.vals = list()\n",
    "                     )"
   ]
  },
  {
   "cell_type": "markdown",
   "metadata": {},
   "source": [
    "Function\n",
    "```R\n",
    "makeClassifTask(id = deparse(substitute(data)), data, target, weights = NULL, blocking = NULL, \n",
    "                positive = NA_character_, fixup.data = \"warn\", check.data = TRUE)\n",
    "```\n",
    "Param.:\n",
    "\n",
    "* data: [data.frame] A data frame containing the features and target variable(s).\n",
    "* target: [character(1)] Name of the target variable.\n",
    "* positive: [character(1)] Positive class for binary classification (otherwise ignored and set to NA). Default is the first factor level of the target attribute.\n",
    "* fixup.data: [character(1)] Should some basic cleaning up of data be performed? Currently this means removing empty factor levels for the columns. Possible coices are: “no” = Don't do it. “warn” = Do it but warn about it. “quiet” = Do it but keep silent. Default is “warn”.\n",
    "\n",
    "Doc.: https://www.rdocumentation.org/packages/mlr/versions/2.10/topics/makeLearner"
   ]
  },
  {
   "cell_type": "code",
   "execution_count": 9,
   "metadata": {
    "collapsed": false
   },
   "outputs": [],
   "source": [
    "task = makeClassifTask( data = data\n",
    "                      , target = 'V21'\n",
    "                      , positive = '2'\n",
    "                      , fixup.data = 'no'\n",
    "                      )"
   ]
  },
  {
   "cell_type": "markdown",
   "metadata": {},
   "source": [
    "Function:\n",
    "```R\n",
    "makeResampleDesc(method, predict = \"test\", ..., stratify = FALSE, stratify.cols = NULL)\n",
    "```\n",
    "Param.:\n",
    "\n",
    "* method: [character(1)] “CV” for cross-validation, “LOO” for leave-one-out, “RepCV” for repeated cross-validation, “Bootstrap” for out-of-bag bootstrap, “Subsample” for subsampling, “Holdout” for holdout.\n",
    "* predict: What to predict during resampling: “train”, “test” or “both” sets. Default is “test”.\n",
    "* ... : [any] Further parameters for strategies.\n",
    "    * iters [integer(1)] Number of iterations, for “CV”, “Subsample” and “Boostrap”.\n",
    "    * split [numeric(1)] Proportion of training cases for “Holdout” and “Subsample” between 0 and 1. Default is 2/3.\n",
    "    * reps [integer(1)] Repeats for “RepCV”. Here iters = folds * reps. Default is 10.\n",
    "    * folds [integer(1)] Folds in the repeated CV for RepCV. Here iters = folds * reps. Default is 10.\n",
    "\n",
    "Doc.: https://www.rdocumentation.org/packages/mlr/versions/2.10/topics/makeResampleDesc"
   ]
  },
  {
   "cell_type": "code",
   "execution_count": 10,
   "metadata": {
    "collapsed": false
   },
   "outputs": [],
   "source": [
    "resample = makeResampleDesc( method = \"CV\"\n",
    "                           , iters = 10\n",
    "                           , predict = 'both'\n",
    "                           , stratify = FALSE\n",
    "                           )"
   ]
  },
  {
   "cell_type": "markdown",
   "metadata": {},
   "source": [
    "List of performance measures:\n",
    "\n",
    "Doc.: http://mlr-org.github.io/mlr-tutorial/release/html/measures/"
   ]
  },
  {
   "cell_type": "code",
   "execution_count": 11,
   "metadata": {
    "collapsed": false
   },
   "outputs": [],
   "source": [
    "measures = list(mmce #MMCE \n",
    "               ,acc  #acuracia\n",
    "               ,f1   #f1\n",
    "               ,ppv  #precision\n",
    "               ,tpr  #recall\n",
    "               ,auc  #AUC\n",
    "               ,gini #Gini\n",
    "               ,timetrain #tempo execucao\n",
    "               )"
   ]
  },
  {
   "cell_type": "markdown",
   "metadata": {},
   "source": [
    "Function:\n",
    "```R\n",
    "resample(learner, task, resampling, measures, weights = NULL, models = FALSE, extract, \n",
    "         keep.pred = TRUE, ..., show.info = getMlrOption(\"show.info\"))\n",
    "```\n",
    "Param.:\n",
    "\n",
    "* learner: [Learner] The learner.\n",
    "* task: [Task] The task.\n",
    "* resampling: [ResampleInstance] Resampling strategy.\n",
    "* measures: [Measure | list of Measure] Performance measure(s) to evaluate. Default is mean misclassification error (mmce)\n",
    "* weights: [numeric] Optional, non-negative case weight vector to be used during fitting. If given, must be of same length as observations in task and in corresponding order. Overwrites weights specified in the task. By default NULL which means no weights are used unless specified in the task.\n",
    "* models: [logical(1)] Should all fitted models be returned? Default is FALSE.\n",
    "* keep.pred: [logical(1)] Keep the prediction data in the pred slot of the result object. If you do many experiments (on larger data sets) these objects might unnecessarily increase object size / mem usage, if you do not really need them. In this case you can set this argument to FALSE. Default is TRUE.\n",
    "* show.info: [logical(1)] Print verbose output on console? Default is set via configureMlr.\n",
    "\n",
    "Doc.: https://www.rdocumentation.org/packages/mlr/versions/2.10/topics/resample"
   ]
  },
  {
   "cell_type": "code",
   "execution_count": 12,
   "metadata": {
    "collapsed": false
   },
   "outputs": [
    {
     "name": "stderr",
     "output_type": "stream",
     "text": [
      "[Resample] cross-validation iter 1: mmce.test.mean=0.28,acc.test.mean=0.72,f1.test.mean=0.462,ppv.test.mean=0.48,tpr.test.mean=0.444,auc.test.mean=0.747,gini.test.mean=0.494,timetrain.test.mean=0.009\n",
      "[Resample] cross-validation iter 2: mmce.test.mean= 0.3,acc.test.mean= 0.7,f1.test.mean=0.464,ppv.test.mean=0.565,tpr.test.mean=0.394,auc.test.mean=0.751,gini.test.mean=0.502,timetrain.test.mean=0.05\n",
      "[Resample] cross-validation iter 3: mmce.test.mean=0.28,acc.test.mean=0.72,f1.test.mean=0.517,ppv.test.mean= 0.6,tpr.test.mean=0.455,auc.test.mean=0.801,gini.test.mean=0.602,timetrain.test.mean=0.014\n",
      "[Resample] cross-validation iter 4: mmce.test.mean= 0.2,acc.test.mean= 0.8,f1.test.mean=0.63,ppv.test.mean=0.773,tpr.test.mean=0.531,auc.test.mean=0.811,gini.test.mean=0.621,timetrain.test.mean=0.007\n",
      "[Resample] cross-validation iter 5: mmce.test.mean=0.27,acc.test.mean=0.73,f1.test.mean=0.509,ppv.test.mean=0.56,tpr.test.mean=0.467,auc.test.mean=0.757,gini.test.mean=0.513,timetrain.test.mean=0.008\n",
      "[Resample] cross-validation iter 6: mmce.test.mean=0.27,acc.test.mean=0.73,f1.test.mean=0.509,ppv.test.mean=0.583,tpr.test.mean=0.452,auc.test.mean=0.759,gini.test.mean=0.518,timetrain.test.mean=0.013\n",
      "[Resample] cross-validation iter 7: mmce.test.mean=0.18,acc.test.mean=0.82,f1.test.mean=0.735,ppv.test.mean=0.714,tpr.test.mean=0.758,auc.test.mean=0.842,gini.test.mean=0.684,timetrain.test.mean=0.006\n",
      "[Resample] cross-validation iter 8: mmce.test.mean=0.23,acc.test.mean=0.77,f1.test.mean=0.549,ppv.test.mean=0.583,tpr.test.mean=0.519,auc.test.mean=0.798,gini.test.mean=0.596,timetrain.test.mean=0.007\n",
      "[Resample] cross-validation iter 9: mmce.test.mean=0.17,acc.test.mean=0.83,f1.test.mean=0.585,ppv.test.mean=0.75,tpr.test.mean=0.48,auc.test.mean=0.818,gini.test.mean=0.635,timetrain.test.mean=0.006\n",
      "[Resample] cross-validation iter 10: mmce.test.mean=0.27,acc.test.mean=0.73,f1.test.mean=0.526,ppv.test.mean=0.536,tpr.test.mean=0.517,auc.test.mean=0.779,gini.test.mean=0.557,timetrain.test.mean=0.005\n",
      "[Resample] Aggr. Result: mmce.test.mean=0.245,acc.test.mean=0.755,f1.test.mean=0.549,ppv.test.mean=0.614,tpr.test.mean=0.502,auc.test.mean=0.786,gini.test.mean=0.572,timetrain.test.mean=0.0125\n"
     ]
    }
   ],
   "source": [
    "r = resample(learner = learner\n",
    "            ,task = task \n",
    "            ,resampling = resample \n",
    "            ,measures = measures\n",
    "            #---------------------#\n",
    "            ,models = TRUE\n",
    "            ,keep.pred = FALSE\n",
    "            ,show.info = TRUE)"
   ]
  },
  {
   "cell_type": "markdown",
   "metadata": {},
   "source": [
    "<h2>3. Result Analysis</h2>"
   ]
  },
  {
   "cell_type": "markdown",
   "metadata": {},
   "source": [
    "Train Measures"
   ]
  },
  {
   "cell_type": "code",
   "execution_count": 13,
   "metadata": {
    "collapsed": false
   },
   "outputs": [
    {
     "data": {
      "text/html": [
       "<table>\n",
       "<thead><tr><th scope=col>iter</th><th scope=col>mmce</th><th scope=col>acc</th><th scope=col>f1</th><th scope=col>ppv</th><th scope=col>tpr</th><th scope=col>auc</th><th scope=col>gini</th><th scope=col>timetrain</th></tr></thead>\n",
       "<tbody>\n",
       "\t<tr><td> 1       </td><td>0.2266667</td><td>0.7733333</td><td>0.5984252</td><td>0.6468085</td><td>0.5567766</td><td>0.8165752</td><td>0.6331505</td><td>0.009    </td></tr>\n",
       "\t<tr><td> 2       </td><td>0.2233333</td><td>0.7766667</td><td>0.5906314</td><td>0.6473214</td><td>0.5430712</td><td>0.8131956</td><td>0.6263912</td><td>0.050    </td></tr>\n",
       "\t<tr><td> 3       </td><td>0.2255556</td><td>0.7744444</td><td>0.5882353</td><td>0.6415929</td><td>0.5430712</td><td>0.8152783</td><td>0.6305566</td><td>0.014    </td></tr>\n",
       "\t<tr><td> 4       </td><td>0.2388889</td><td>0.7611111</td><td>0.5708583</td><td>0.6137339</td><td>0.5335821</td><td>0.8066196</td><td>0.6132392</td><td>0.007    </td></tr>\n",
       "\t<tr><td> 5       </td><td>0.2288889</td><td>0.7711111</td><td>0.5912698</td><td>0.6367521</td><td>0.5518519</td><td>0.8099588</td><td>0.6199177</td><td>0.008    </td></tr>\n",
       "\t<tr><td> 6       </td><td>0.2266667</td><td>0.7733333</td><td>0.5853659</td><td>0.6457399</td><td>0.5353160</td><td>0.8141205</td><td>0.6282410</td><td>0.013    </td></tr>\n",
       "\t<tr><td> 7       </td><td>0.2322222</td><td>0.7677778</td><td>0.5708419</td><td>0.6318182</td><td>0.5205993</td><td>0.8058943</td><td>0.6117886</td><td>0.006    </td></tr>\n",
       "\t<tr><td> 8       </td><td>0.2322222</td><td>0.7677778</td><td>0.5861386</td><td>0.6379310</td><td>0.5421245</td><td>0.8123864</td><td>0.6247729</td><td>0.007    </td></tr>\n",
       "\t<tr><td> 9       </td><td>0.2311111</td><td>0.7688889</td><td>0.5937500</td><td>0.6413502</td><td>0.5527273</td><td>0.8113105</td><td>0.6226211</td><td>0.006    </td></tr>\n",
       "\t<tr><td>10       </td><td>0.2266667</td><td>0.7733333</td><td>0.5920000</td><td>0.6462882</td><td>0.5461255</td><td>0.8105762</td><td>0.6211523</td><td>0.005    </td></tr>\n",
       "</tbody>\n",
       "</table>\n"
      ],
      "text/latex": [
       "\\begin{tabular}{r|lllllllll}\n",
       " iter & mmce & acc & f1 & ppv & tpr & auc & gini & timetrain\\\\\n",
       "\\hline\n",
       "\t  1        & 0.2266667 & 0.7733333 & 0.5984252 & 0.6468085 & 0.5567766 & 0.8165752 & 0.6331505 & 0.009    \\\\\n",
       "\t  2        & 0.2233333 & 0.7766667 & 0.5906314 & 0.6473214 & 0.5430712 & 0.8131956 & 0.6263912 & 0.050    \\\\\n",
       "\t  3        & 0.2255556 & 0.7744444 & 0.5882353 & 0.6415929 & 0.5430712 & 0.8152783 & 0.6305566 & 0.014    \\\\\n",
       "\t  4        & 0.2388889 & 0.7611111 & 0.5708583 & 0.6137339 & 0.5335821 & 0.8066196 & 0.6132392 & 0.007    \\\\\n",
       "\t  5        & 0.2288889 & 0.7711111 & 0.5912698 & 0.6367521 & 0.5518519 & 0.8099588 & 0.6199177 & 0.008    \\\\\n",
       "\t  6        & 0.2266667 & 0.7733333 & 0.5853659 & 0.6457399 & 0.5353160 & 0.8141205 & 0.6282410 & 0.013    \\\\\n",
       "\t  7        & 0.2322222 & 0.7677778 & 0.5708419 & 0.6318182 & 0.5205993 & 0.8058943 & 0.6117886 & 0.006    \\\\\n",
       "\t  8        & 0.2322222 & 0.7677778 & 0.5861386 & 0.6379310 & 0.5421245 & 0.8123864 & 0.6247729 & 0.007    \\\\\n",
       "\t  9        & 0.2311111 & 0.7688889 & 0.5937500 & 0.6413502 & 0.5527273 & 0.8113105 & 0.6226211 & 0.006    \\\\\n",
       "\t 10        & 0.2266667 & 0.7733333 & 0.5920000 & 0.6462882 & 0.5461255 & 0.8105762 & 0.6211523 & 0.005    \\\\\n",
       "\\end{tabular}\n"
      ],
      "text/markdown": [
       "\n",
       "iter | mmce | acc | f1 | ppv | tpr | auc | gini | timetrain | \n",
       "|---|---|---|---|---|---|---|---|---|---|\n",
       "|  1        | 0.2266667 | 0.7733333 | 0.5984252 | 0.6468085 | 0.5567766 | 0.8165752 | 0.6331505 | 0.009     | \n",
       "|  2        | 0.2233333 | 0.7766667 | 0.5906314 | 0.6473214 | 0.5430712 | 0.8131956 | 0.6263912 | 0.050     | \n",
       "|  3        | 0.2255556 | 0.7744444 | 0.5882353 | 0.6415929 | 0.5430712 | 0.8152783 | 0.6305566 | 0.014     | \n",
       "|  4        | 0.2388889 | 0.7611111 | 0.5708583 | 0.6137339 | 0.5335821 | 0.8066196 | 0.6132392 | 0.007     | \n",
       "|  5        | 0.2288889 | 0.7711111 | 0.5912698 | 0.6367521 | 0.5518519 | 0.8099588 | 0.6199177 | 0.008     | \n",
       "|  6        | 0.2266667 | 0.7733333 | 0.5853659 | 0.6457399 | 0.5353160 | 0.8141205 | 0.6282410 | 0.013     | \n",
       "|  7        | 0.2322222 | 0.7677778 | 0.5708419 | 0.6318182 | 0.5205993 | 0.8058943 | 0.6117886 | 0.006     | \n",
       "|  8        | 0.2322222 | 0.7677778 | 0.5861386 | 0.6379310 | 0.5421245 | 0.8123864 | 0.6247729 | 0.007     | \n",
       "|  9        | 0.2311111 | 0.7688889 | 0.5937500 | 0.6413502 | 0.5527273 | 0.8113105 | 0.6226211 | 0.006     | \n",
       "| 10        | 0.2266667 | 0.7733333 | 0.5920000 | 0.6462882 | 0.5461255 | 0.8105762 | 0.6211523 | 0.005     | \n",
       "\n",
       "\n"
      ],
      "text/plain": [
       "   iter mmce      acc       f1        ppv       tpr       auc       gini     \n",
       "1   1   0.2266667 0.7733333 0.5984252 0.6468085 0.5567766 0.8165752 0.6331505\n",
       "2   2   0.2233333 0.7766667 0.5906314 0.6473214 0.5430712 0.8131956 0.6263912\n",
       "3   3   0.2255556 0.7744444 0.5882353 0.6415929 0.5430712 0.8152783 0.6305566\n",
       "4   4   0.2388889 0.7611111 0.5708583 0.6137339 0.5335821 0.8066196 0.6132392\n",
       "5   5   0.2288889 0.7711111 0.5912698 0.6367521 0.5518519 0.8099588 0.6199177\n",
       "6   6   0.2266667 0.7733333 0.5853659 0.6457399 0.5353160 0.8141205 0.6282410\n",
       "7   7   0.2322222 0.7677778 0.5708419 0.6318182 0.5205993 0.8058943 0.6117886\n",
       "8   8   0.2322222 0.7677778 0.5861386 0.6379310 0.5421245 0.8123864 0.6247729\n",
       "9   9   0.2311111 0.7688889 0.5937500 0.6413502 0.5527273 0.8113105 0.6226211\n",
       "10 10   0.2266667 0.7733333 0.5920000 0.6462882 0.5461255 0.8105762 0.6211523\n",
       "   timetrain\n",
       "1  0.009    \n",
       "2  0.050    \n",
       "3  0.014    \n",
       "4  0.007    \n",
       "5  0.008    \n",
       "6  0.013    \n",
       "7  0.006    \n",
       "8  0.007    \n",
       "9  0.006    \n",
       "10 0.005    "
      ]
     },
     "metadata": {},
     "output_type": "display_data"
    }
   ],
   "source": [
    "r$measures.train"
   ]
  },
  {
   "cell_type": "markdown",
   "metadata": {},
   "source": [
    "Test Measures"
   ]
  },
  {
   "cell_type": "code",
   "execution_count": 14,
   "metadata": {
    "collapsed": false
   },
   "outputs": [
    {
     "data": {
      "text/html": [
       "<table>\n",
       "<thead><tr><th scope=col>iter</th><th scope=col>mmce</th><th scope=col>acc</th><th scope=col>f1</th><th scope=col>ppv</th><th scope=col>tpr</th><th scope=col>auc</th><th scope=col>gini</th><th scope=col>timetrain</th></tr></thead>\n",
       "<tbody>\n",
       "\t<tr><td> 1       </td><td>0.28     </td><td>0.72     </td><td>0.4615385</td><td>0.4800000</td><td>0.4444444</td><td>0.7468290</td><td>0.4936580</td><td>0.009    </td></tr>\n",
       "\t<tr><td> 2       </td><td>0.30     </td><td>0.70     </td><td>0.4642857</td><td>0.5652174</td><td>0.3939394</td><td>0.7512438</td><td>0.5024876</td><td>0.050    </td></tr>\n",
       "\t<tr><td> 3       </td><td>0.28     </td><td>0.72     </td><td>0.5172414</td><td>0.6000000</td><td>0.4545455</td><td>0.8009950</td><td>0.6019900</td><td>0.014    </td></tr>\n",
       "\t<tr><td> 4       </td><td>0.20     </td><td>0.80     </td><td>0.6296296</td><td>0.7727273</td><td>0.5312500</td><td>0.8106618</td><td>0.6213235</td><td>0.007    </td></tr>\n",
       "\t<tr><td> 5       </td><td>0.27     </td><td>0.73     </td><td>0.5090909</td><td>0.5600000</td><td>0.4666667</td><td>0.7566667</td><td>0.5133333</td><td>0.008    </td></tr>\n",
       "\t<tr><td> 6       </td><td>0.27     </td><td>0.73     </td><td>0.5090909</td><td>0.5833333</td><td>0.4516129</td><td>0.7587658</td><td>0.5175316</td><td>0.013    </td></tr>\n",
       "\t<tr><td> 7       </td><td>0.18     </td><td>0.82     </td><td>0.7352941</td><td>0.7142857</td><td>0.7575758</td><td>0.8421529</td><td>0.6843057</td><td>0.006    </td></tr>\n",
       "\t<tr><td> 8       </td><td>0.23     </td><td>0.77     </td><td>0.5490196</td><td>0.5833333</td><td>0.5185185</td><td>0.7980720</td><td>0.5961441</td><td>0.007    </td></tr>\n",
       "\t<tr><td> 9       </td><td>0.17     </td><td>0.83     </td><td>0.5853659</td><td>0.7500000</td><td>0.4800000</td><td>0.8176000</td><td>0.6352000</td><td>0.006    </td></tr>\n",
       "\t<tr><td>10       </td><td>0.27     </td><td>0.73     </td><td>0.5263158</td><td>0.5357143</td><td>0.5172414</td><td>0.7785333</td><td>0.5570665</td><td>0.005    </td></tr>\n",
       "</tbody>\n",
       "</table>\n"
      ],
      "text/latex": [
       "\\begin{tabular}{r|lllllllll}\n",
       " iter & mmce & acc & f1 & ppv & tpr & auc & gini & timetrain\\\\\n",
       "\\hline\n",
       "\t  1        & 0.28      & 0.72      & 0.4615385 & 0.4800000 & 0.4444444 & 0.7468290 & 0.4936580 & 0.009    \\\\\n",
       "\t  2        & 0.30      & 0.70      & 0.4642857 & 0.5652174 & 0.3939394 & 0.7512438 & 0.5024876 & 0.050    \\\\\n",
       "\t  3        & 0.28      & 0.72      & 0.5172414 & 0.6000000 & 0.4545455 & 0.8009950 & 0.6019900 & 0.014    \\\\\n",
       "\t  4        & 0.20      & 0.80      & 0.6296296 & 0.7727273 & 0.5312500 & 0.8106618 & 0.6213235 & 0.007    \\\\\n",
       "\t  5        & 0.27      & 0.73      & 0.5090909 & 0.5600000 & 0.4666667 & 0.7566667 & 0.5133333 & 0.008    \\\\\n",
       "\t  6        & 0.27      & 0.73      & 0.5090909 & 0.5833333 & 0.4516129 & 0.7587658 & 0.5175316 & 0.013    \\\\\n",
       "\t  7        & 0.18      & 0.82      & 0.7352941 & 0.7142857 & 0.7575758 & 0.8421529 & 0.6843057 & 0.006    \\\\\n",
       "\t  8        & 0.23      & 0.77      & 0.5490196 & 0.5833333 & 0.5185185 & 0.7980720 & 0.5961441 & 0.007    \\\\\n",
       "\t  9        & 0.17      & 0.83      & 0.5853659 & 0.7500000 & 0.4800000 & 0.8176000 & 0.6352000 & 0.006    \\\\\n",
       "\t 10        & 0.27      & 0.73      & 0.5263158 & 0.5357143 & 0.5172414 & 0.7785333 & 0.5570665 & 0.005    \\\\\n",
       "\\end{tabular}\n"
      ],
      "text/markdown": [
       "\n",
       "iter | mmce | acc | f1 | ppv | tpr | auc | gini | timetrain | \n",
       "|---|---|---|---|---|---|---|---|---|---|\n",
       "|  1        | 0.28      | 0.72      | 0.4615385 | 0.4800000 | 0.4444444 | 0.7468290 | 0.4936580 | 0.009     | \n",
       "|  2        | 0.30      | 0.70      | 0.4642857 | 0.5652174 | 0.3939394 | 0.7512438 | 0.5024876 | 0.050     | \n",
       "|  3        | 0.28      | 0.72      | 0.5172414 | 0.6000000 | 0.4545455 | 0.8009950 | 0.6019900 | 0.014     | \n",
       "|  4        | 0.20      | 0.80      | 0.6296296 | 0.7727273 | 0.5312500 | 0.8106618 | 0.6213235 | 0.007     | \n",
       "|  5        | 0.27      | 0.73      | 0.5090909 | 0.5600000 | 0.4666667 | 0.7566667 | 0.5133333 | 0.008     | \n",
       "|  6        | 0.27      | 0.73      | 0.5090909 | 0.5833333 | 0.4516129 | 0.7587658 | 0.5175316 | 0.013     | \n",
       "|  7        | 0.18      | 0.82      | 0.7352941 | 0.7142857 | 0.7575758 | 0.8421529 | 0.6843057 | 0.006     | \n",
       "|  8        | 0.23      | 0.77      | 0.5490196 | 0.5833333 | 0.5185185 | 0.7980720 | 0.5961441 | 0.007     | \n",
       "|  9        | 0.17      | 0.83      | 0.5853659 | 0.7500000 | 0.4800000 | 0.8176000 | 0.6352000 | 0.006     | \n",
       "| 10        | 0.27      | 0.73      | 0.5263158 | 0.5357143 | 0.5172414 | 0.7785333 | 0.5570665 | 0.005     | \n",
       "\n",
       "\n"
      ],
      "text/plain": [
       "   iter mmce acc  f1        ppv       tpr       auc       gini      timetrain\n",
       "1   1   0.28 0.72 0.4615385 0.4800000 0.4444444 0.7468290 0.4936580 0.009    \n",
       "2   2   0.30 0.70 0.4642857 0.5652174 0.3939394 0.7512438 0.5024876 0.050    \n",
       "3   3   0.28 0.72 0.5172414 0.6000000 0.4545455 0.8009950 0.6019900 0.014    \n",
       "4   4   0.20 0.80 0.6296296 0.7727273 0.5312500 0.8106618 0.6213235 0.007    \n",
       "5   5   0.27 0.73 0.5090909 0.5600000 0.4666667 0.7566667 0.5133333 0.008    \n",
       "6   6   0.27 0.73 0.5090909 0.5833333 0.4516129 0.7587658 0.5175316 0.013    \n",
       "7   7   0.18 0.82 0.7352941 0.7142857 0.7575758 0.8421529 0.6843057 0.006    \n",
       "8   8   0.23 0.77 0.5490196 0.5833333 0.5185185 0.7980720 0.5961441 0.007    \n",
       "9   9   0.17 0.83 0.5853659 0.7500000 0.4800000 0.8176000 0.6352000 0.006    \n",
       "10 10   0.27 0.73 0.5263158 0.5357143 0.5172414 0.7785333 0.5570665 0.005    "
      ]
     },
     "metadata": {},
     "output_type": "display_data"
    }
   ],
   "source": [
    "r$measures.test"
   ]
  },
  {
   "cell_type": "markdown",
   "metadata": {},
   "source": [
    "Train Aggregated Result"
   ]
  },
  {
   "cell_type": "code",
   "execution_count": 15,
   "metadata": {
    "collapsed": false
   },
   "outputs": [
    {
     "data": {
      "text/html": [
       "<dl class=dl-horizontal>\n",
       "\t<dt>iter</dt>\n",
       "\t\t<dd>5.5</dd>\n",
       "\t<dt>mmce</dt>\n",
       "\t\t<dd>0.229222222222222</dd>\n",
       "\t<dt>acc</dt>\n",
       "\t\t<dd>0.770777777777778</dd>\n",
       "\t<dt>f1</dt>\n",
       "\t\t<dd>0.58675163368701</dd>\n",
       "\t<dt>ppv</dt>\n",
       "\t\t<dd>0.638933644908754</dd>\n",
       "\t<dt>tpr</dt>\n",
       "\t\t<dd>0.542524533245089</dd>\n",
       "\t<dt>auc</dt>\n",
       "\t\t<dd>0.81159154968482</dd>\n",
       "\t<dt>gini</dt>\n",
       "\t\t<dd>0.623183099369639</dd>\n",
       "\t<dt>timetrain</dt>\n",
       "\t\t<dd>0.0125000000000001</dd>\n",
       "</dl>\n"
      ],
      "text/latex": [
       "\\begin{description*}\n",
       "\\item[iter] 5.5\n",
       "\\item[mmce] 0.229222222222222\n",
       "\\item[acc] 0.770777777777778\n",
       "\\item[f1] 0.58675163368701\n",
       "\\item[ppv] 0.638933644908754\n",
       "\\item[tpr] 0.542524533245089\n",
       "\\item[auc] 0.81159154968482\n",
       "\\item[gini] 0.623183099369639\n",
       "\\item[timetrain] 0.0125000000000001\n",
       "\\end{description*}\n"
      ],
      "text/markdown": [
       "iter\n",
       ":   5.5mmce\n",
       ":   0.229222222222222acc\n",
       ":   0.770777777777778f1\n",
       ":   0.58675163368701ppv\n",
       ":   0.638933644908754tpr\n",
       ":   0.542524533245089auc\n",
       ":   0.81159154968482gini\n",
       ":   0.623183099369639timetrain\n",
       ":   0.0125000000000001\n",
       "\n"
      ],
      "text/plain": [
       "     iter      mmce       acc        f1       ppv       tpr       auc      gini \n",
       "5.5000000 0.2292222 0.7707778 0.5867516 0.6389336 0.5425245 0.8115915 0.6231831 \n",
       "timetrain \n",
       "0.0125000 "
      ]
     },
     "metadata": {},
     "output_type": "display_data"
    }
   ],
   "source": [
    "apply(r$measures.train,2,mean)"
   ]
  },
  {
   "cell_type": "markdown",
   "metadata": {},
   "source": [
    "Test Aggregated Result"
   ]
  },
  {
   "cell_type": "code",
   "execution_count": 16,
   "metadata": {
    "collapsed": false
   },
   "outputs": [
    {
     "data": {
      "text/html": [
       "<dl class=dl-horizontal>\n",
       "\t<dt>iter</dt>\n",
       "\t\t<dd>5.5</dd>\n",
       "\t<dt>mmce</dt>\n",
       "\t\t<dd>0.245</dd>\n",
       "\t<dt>acc</dt>\n",
       "\t\t<dd>0.755</dd>\n",
       "\t<dt>f1</dt>\n",
       "\t\t<dd>0.548687237156839</dd>\n",
       "\t<dt>ppv</dt>\n",
       "\t\t<dd>0.614461133069829</dd>\n",
       "\t<dt>tpr</dt>\n",
       "\t\t<dd>0.501579451822639</dd>\n",
       "\t<dt>auc</dt>\n",
       "\t\t<dd>0.786152022177343</dd>\n",
       "\t<dt>gini</dt>\n",
       "\t\t<dd>0.572304044354686</dd>\n",
       "\t<dt>timetrain</dt>\n",
       "\t\t<dd>0.0125000000000001</dd>\n",
       "</dl>\n"
      ],
      "text/latex": [
       "\\begin{description*}\n",
       "\\item[iter] 5.5\n",
       "\\item[mmce] 0.245\n",
       "\\item[acc] 0.755\n",
       "\\item[f1] 0.548687237156839\n",
       "\\item[ppv] 0.614461133069829\n",
       "\\item[tpr] 0.501579451822639\n",
       "\\item[auc] 0.786152022177343\n",
       "\\item[gini] 0.572304044354686\n",
       "\\item[timetrain] 0.0125000000000001\n",
       "\\end{description*}\n"
      ],
      "text/markdown": [
       "iter\n",
       ":   5.5mmce\n",
       ":   0.245acc\n",
       ":   0.755f1\n",
       ":   0.548687237156839ppv\n",
       ":   0.614461133069829tpr\n",
       ":   0.501579451822639auc\n",
       ":   0.786152022177343gini\n",
       ":   0.572304044354686timetrain\n",
       ":   0.0125000000000001\n",
       "\n"
      ],
      "text/plain": [
       "     iter      mmce       acc        f1       ppv       tpr       auc      gini \n",
       "5.5000000 0.2450000 0.7550000 0.5486872 0.6144611 0.5015795 0.7861520 0.5723040 \n",
       "timetrain \n",
       "0.0125000 "
      ]
     },
     "metadata": {},
     "output_type": "display_data"
    }
   ],
   "source": [
    "apply(r$measures.test,2,mean)"
   ]
  },
  {
   "cell_type": "markdown",
   "metadata": {},
   "source": [
    "Run Time in seconds"
   ]
  },
  {
   "cell_type": "code",
   "execution_count": 17,
   "metadata": {
    "collapsed": false
   },
   "outputs": [
    {
     "data": {
      "text/html": [
       "5.14754915237427"
      ],
      "text/latex": [
       "5.14754915237427"
      ],
      "text/markdown": [
       "5.14754915237427"
      ],
      "text/plain": [
       "[1] 5.147549"
      ]
     },
     "metadata": {},
     "output_type": "display_data"
    }
   ],
   "source": [
    "r$runtime"
   ]
  },
  {
   "cell_type": "markdown",
   "metadata": {},
   "source": [
    "<h2>4. Prediction for new data</h2>"
   ]
  },
  {
   "cell_type": "markdown",
   "metadata": {},
   "source": [
    "Read the data to predict"
   ]
  },
  {
   "cell_type": "code",
   "execution_count": 18,
   "metadata": {
    "collapsed": true
   },
   "outputs": [],
   "source": [
    "new.data = read.csv(file=sprintf('%s/%s', folder_name, file_name))"
   ]
  },
  {
   "cell_type": "markdown",
   "metadata": {},
   "source": [
    "Search for the best model in crossvalidation and use it to score the incoming data"
   ]
  },
  {
   "cell_type": "code",
   "execution_count": 19,
   "metadata": {
    "collapsed": false
   },
   "outputs": [],
   "source": [
    "best.model = which.max(r$measures.test$acc)"
   ]
  },
  {
   "cell_type": "code",
   "execution_count": 20,
   "metadata": {
    "collapsed": false
   },
   "outputs": [],
   "source": [
    "pred = predict(r$models[[best.model]], newdata = new.data)"
   ]
  },
  {
   "cell_type": "markdown",
   "metadata": {},
   "source": [
    "Prediction Result"
   ]
  },
  {
   "cell_type": "code",
   "execution_count": 21,
   "metadata": {
    "collapsed": false
   },
   "outputs": [
    {
     "data": {
      "text/plain": [
       "Prediction: 1000 observations\n",
       "predict.type: prob\n",
       "threshold: 1=0.50,2=0.50\n",
       "time: 0.32\n",
       "  truth    prob.1     prob.2 response\n",
       "1     1 0.9875594 0.01244062        1\n",
       "2     2 0.3090151 0.69098487        2\n",
       "3     1 0.9866216 0.01337840        1\n",
       "4     1 0.1814895 0.81851051        2\n",
       "5     2 0.1872980 0.81270202        2\n",
       "6     1 0.2988458 0.70115419        2\n",
       "... (1000 rows, 4 cols)\n"
      ]
     },
     "metadata": {},
     "output_type": "display_data"
    }
   ],
   "source": [
    "pred"
   ]
  },
  {
   "cell_type": "markdown",
   "metadata": {},
   "source": [
    "Cast result to data.frame to access the prediction"
   ]
  },
  {
   "cell_type": "code",
   "execution_count": 22,
   "metadata": {
    "collapsed": false
   },
   "outputs": [
    {
     "data": {
      "text/html": [
       "<table>\n",
       "<thead><tr><th scope=col>truth</th><th scope=col>prob.1</th><th scope=col>prob.2</th><th scope=col>response</th></tr></thead>\n",
       "<tbody>\n",
       "\t<tr><td>1         </td><td>0.9875594 </td><td>0.01244062</td><td>1         </td></tr>\n",
       "\t<tr><td>2         </td><td>0.3090151 </td><td>0.69098487</td><td>2         </td></tr>\n",
       "\t<tr><td>1         </td><td>0.9866216 </td><td>0.01337840</td><td>1         </td></tr>\n",
       "\t<tr><td>1         </td><td>0.1814895 </td><td>0.81851051</td><td>2         </td></tr>\n",
       "\t<tr><td>2         </td><td>0.1872980 </td><td>0.81270202</td><td>2         </td></tr>\n",
       "\t<tr><td>1         </td><td>0.2988458 </td><td>0.70115419</td><td>2         </td></tr>\n",
       "</tbody>\n",
       "</table>\n"
      ],
      "text/latex": [
       "\\begin{tabular}{r|llll}\n",
       " truth & prob.1 & prob.2 & response\\\\\n",
       "\\hline\n",
       "\t 1          & 0.9875594  & 0.01244062 & 1         \\\\\n",
       "\t 2          & 0.3090151  & 0.69098487 & 2         \\\\\n",
       "\t 1          & 0.9866216  & 0.01337840 & 1         \\\\\n",
       "\t 1          & 0.1814895  & 0.81851051 & 2         \\\\\n",
       "\t 2          & 0.1872980  & 0.81270202 & 2         \\\\\n",
       "\t 1          & 0.2988458  & 0.70115419 & 2         \\\\\n",
       "\\end{tabular}\n"
      ],
      "text/markdown": [
       "\n",
       "truth | prob.1 | prob.2 | response | \n",
       "|---|---|---|---|---|---|\n",
       "| 1          | 0.9875594  | 0.01244062 | 1          | \n",
       "| 2          | 0.3090151  | 0.69098487 | 2          | \n",
       "| 1          | 0.9866216  | 0.01337840 | 1          | \n",
       "| 1          | 0.1814895  | 0.81851051 | 2          | \n",
       "| 2          | 0.1872980  | 0.81270202 | 2          | \n",
       "| 1          | 0.2988458  | 0.70115419 | 2          | \n",
       "\n",
       "\n"
      ],
      "text/plain": [
       "  truth prob.1    prob.2     response\n",
       "1 1     0.9875594 0.01244062 1       \n",
       "2 2     0.3090151 0.69098487 2       \n",
       "3 1     0.9866216 0.01337840 1       \n",
       "4 1     0.1814895 0.81851051 2       \n",
       "5 2     0.1872980 0.81270202 2       \n",
       "6 1     0.2988458 0.70115419 2       "
      ]
     },
     "metadata": {},
     "output_type": "display_data"
    }
   ],
   "source": [
    "head(as.data.frame(pred))"
   ]
  }
 ],
 "metadata": {
  "kernelspec": {
   "display_name": "R",
   "language": "R",
   "name": "ir"
  },
  "language_info": {
   "codemirror_mode": "r",
   "file_extension": ".r",
   "mimetype": "text/x-r-source",
   "name": "R",
   "pygments_lexer": "r",
   "version": "3.4.2"
  }
 },
 "nbformat": 4,
 "nbformat_minor": 2
}
