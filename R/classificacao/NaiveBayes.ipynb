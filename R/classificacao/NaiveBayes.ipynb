{
 "cells": [
  {
   "cell_type": "markdown",
   "metadata": {},
   "source": [
    "<h1>Naive Bayes</h1>"
   ]
  },
  {
   "cell_type": "code",
   "execution_count": 3,
   "metadata": {
    "collapsed": false
   },
   "outputs": [],
   "source": [
    "library(data.table)\n",
    "library(MLmetrics)\n",
    "library(mlr)\n",
    "library(doMC)\n",
    "\n",
    "set.seed(42)\n",
    "registerDoMC(cores = detectCores(all.tests = FALSE, logical = TRUE))\n",
    "\n",
    "folder_name = '.' \n",
    "file_name   = 'data.csv'"
   ]
  },
  {
   "cell_type": "code",
   "execution_count": 48,
   "metadata": {
    "collapsed": false
   },
   "outputs": [],
   "source": [
    "data = read.csv(file=sprintf('%s/%s',folder_name,file_name))"
   ]
  },
  {
   "cell_type": "code",
   "execution_count": 49,
   "metadata": {
    "collapsed": false
   },
   "outputs": [
    {
     "data": {
      "text/html": [
       "<ol class=list-inline>\n",
       "\t<li>150</li>\n",
       "\t<li>6</li>\n",
       "</ol>\n"
      ],
      "text/latex": [
       "\\begin{enumerate*}\n",
       "\\item 150\n",
       "\\item 6\n",
       "\\end{enumerate*}\n"
      ],
      "text/markdown": [
       "1. 150\n",
       "2. 6\n",
       "\n",
       "\n"
      ],
      "text/plain": [
       "[1] 150   6"
      ]
     },
     "metadata": {},
     "output_type": "display_data"
    }
   ],
   "source": [
    "dim(data)"
   ]
  },
  {
   "cell_type": "code",
   "execution_count": 50,
   "metadata": {
    "collapsed": false
   },
   "outputs": [
    {
     "data": {
      "text/html": [
       "<table>\n",
       "<thead><tr><th scope=col>Sepal.Length</th><th scope=col>Sepal.Width</th><th scope=col>Petal.Length</th><th scope=col>Petal.Width</th><th scope=col>Species</th><th scope=col>id</th></tr></thead>\n",
       "<tbody>\n",
       "\t<tr><td>5.1   </td><td>3.5   </td><td>1.4   </td><td>0.2   </td><td>setosa</td><td> 1    </td></tr>\n",
       "\t<tr><td>4.9   </td><td>3.0   </td><td>1.4   </td><td>0.2   </td><td>setosa</td><td> 2    </td></tr>\n",
       "\t<tr><td>4.7   </td><td>3.2   </td><td>1.3   </td><td>0.2   </td><td>setosa</td><td> 3    </td></tr>\n",
       "\t<tr><td>4.6   </td><td>3.1   </td><td>1.5   </td><td>0.2   </td><td>setosa</td><td> 4    </td></tr>\n",
       "\t<tr><td>5.0   </td><td>3.6   </td><td>1.4   </td><td>0.2   </td><td>setosa</td><td> 5    </td></tr>\n",
       "\t<tr><td>5.4   </td><td>3.9   </td><td>1.7   </td><td>0.4   </td><td>setosa</td><td> 6    </td></tr>\n",
       "\t<tr><td>4.6   </td><td>3.4   </td><td>1.4   </td><td>0.3   </td><td>setosa</td><td> 7    </td></tr>\n",
       "\t<tr><td>5.0   </td><td>3.4   </td><td>1.5   </td><td>0.2   </td><td>setosa</td><td> 8    </td></tr>\n",
       "\t<tr><td>4.4   </td><td>2.9   </td><td>1.4   </td><td>0.2   </td><td>setosa</td><td> 9    </td></tr>\n",
       "\t<tr><td>4.9   </td><td>3.1   </td><td>1.5   </td><td>0.1   </td><td>setosa</td><td>10    </td></tr>\n",
       "\t<tr><td>5.4   </td><td>3.7   </td><td>1.5   </td><td>0.2   </td><td>setosa</td><td>11    </td></tr>\n",
       "\t<tr><td>4.8   </td><td>3.4   </td><td>1.6   </td><td>0.2   </td><td>setosa</td><td>12    </td></tr>\n",
       "\t<tr><td>4.8   </td><td>3.0   </td><td>1.4   </td><td>0.1   </td><td>setosa</td><td>13    </td></tr>\n",
       "\t<tr><td>4.3   </td><td>3.0   </td><td>1.1   </td><td>0.1   </td><td>setosa</td><td>14    </td></tr>\n",
       "\t<tr><td>5.8   </td><td>4.0   </td><td>1.2   </td><td>0.2   </td><td>setosa</td><td>15    </td></tr>\n",
       "\t<tr><td>5.7   </td><td>4.4   </td><td>1.5   </td><td>0.4   </td><td>setosa</td><td>16    </td></tr>\n",
       "\t<tr><td>5.4   </td><td>3.9   </td><td>1.3   </td><td>0.4   </td><td>setosa</td><td>17    </td></tr>\n",
       "\t<tr><td>5.1   </td><td>3.5   </td><td>1.4   </td><td>0.3   </td><td>setosa</td><td>18    </td></tr>\n",
       "\t<tr><td>5.7   </td><td>3.8   </td><td>1.7   </td><td>0.3   </td><td>setosa</td><td>19    </td></tr>\n",
       "\t<tr><td>5.1   </td><td>3.8   </td><td>1.5   </td><td>0.3   </td><td>setosa</td><td>20    </td></tr>\n",
       "\t<tr><td>5.4   </td><td>3.4   </td><td>1.7   </td><td>0.2   </td><td>setosa</td><td>21    </td></tr>\n",
       "\t<tr><td>5.1   </td><td>3.7   </td><td>1.5   </td><td>0.4   </td><td>setosa</td><td>22    </td></tr>\n",
       "\t<tr><td>4.6   </td><td>3.6   </td><td>1.0   </td><td>0.2   </td><td>setosa</td><td>23    </td></tr>\n",
       "\t<tr><td>5.1   </td><td>3.3   </td><td>1.7   </td><td>0.5   </td><td>setosa</td><td>24    </td></tr>\n",
       "\t<tr><td>4.8   </td><td>3.4   </td><td>1.9   </td><td>0.2   </td><td>setosa</td><td>25    </td></tr>\n",
       "\t<tr><td>5.0   </td><td>3.0   </td><td>1.6   </td><td>0.2   </td><td>setosa</td><td>26    </td></tr>\n",
       "\t<tr><td>5.0   </td><td>3.4   </td><td>1.6   </td><td>0.4   </td><td>setosa</td><td>27    </td></tr>\n",
       "\t<tr><td>5.2   </td><td>3.5   </td><td>1.5   </td><td>0.2   </td><td>setosa</td><td>28    </td></tr>\n",
       "\t<tr><td>5.2   </td><td>3.4   </td><td>1.4   </td><td>0.2   </td><td>setosa</td><td>29    </td></tr>\n",
       "\t<tr><td>4.7   </td><td>3.2   </td><td>1.6   </td><td>0.2   </td><td>setosa</td><td>30    </td></tr>\n",
       "\t<tr><td>⋮</td><td>⋮</td><td>⋮</td><td>⋮</td><td>⋮</td><td>⋮</td></tr>\n",
       "\t<tr><td>6.9      </td><td>3.2      </td><td>5.7      </td><td>2.3      </td><td>virginica</td><td>121      </td></tr>\n",
       "\t<tr><td>5.6      </td><td>2.8      </td><td>4.9      </td><td>2.0      </td><td>virginica</td><td>122      </td></tr>\n",
       "\t<tr><td>7.7      </td><td>2.8      </td><td>6.7      </td><td>2.0      </td><td>virginica</td><td>123      </td></tr>\n",
       "\t<tr><td>6.3      </td><td>2.7      </td><td>4.9      </td><td>1.8      </td><td>virginica</td><td>124      </td></tr>\n",
       "\t<tr><td>6.7      </td><td>3.3      </td><td>5.7      </td><td>2.1      </td><td>virginica</td><td>125      </td></tr>\n",
       "\t<tr><td>7.2      </td><td>3.2      </td><td>6.0      </td><td>1.8      </td><td>virginica</td><td>126      </td></tr>\n",
       "\t<tr><td>6.2      </td><td>2.8      </td><td>4.8      </td><td>1.8      </td><td>virginica</td><td>127      </td></tr>\n",
       "\t<tr><td>6.1      </td><td>3.0      </td><td>4.9      </td><td>1.8      </td><td>virginica</td><td>128      </td></tr>\n",
       "\t<tr><td>6.4      </td><td>2.8      </td><td>5.6      </td><td>2.1      </td><td>virginica</td><td>129      </td></tr>\n",
       "\t<tr><td>7.2      </td><td>3.0      </td><td>5.8      </td><td>1.6      </td><td>virginica</td><td>130      </td></tr>\n",
       "\t<tr><td>7.4      </td><td>2.8      </td><td>6.1      </td><td>1.9      </td><td>virginica</td><td>131      </td></tr>\n",
       "\t<tr><td>7.9      </td><td>3.8      </td><td>6.4      </td><td>2.0      </td><td>virginica</td><td>132      </td></tr>\n",
       "\t<tr><td>6.4      </td><td>2.8      </td><td>5.6      </td><td>2.2      </td><td>virginica</td><td>133      </td></tr>\n",
       "\t<tr><td>6.3      </td><td>2.8      </td><td>5.1      </td><td>1.5      </td><td>virginica</td><td>134      </td></tr>\n",
       "\t<tr><td>6.1      </td><td>2.6      </td><td>5.6      </td><td>1.4      </td><td>virginica</td><td>135      </td></tr>\n",
       "\t<tr><td>7.7      </td><td>3.0      </td><td>6.1      </td><td>2.3      </td><td>virginica</td><td>136      </td></tr>\n",
       "\t<tr><td>6.3      </td><td>3.4      </td><td>5.6      </td><td>2.4      </td><td>virginica</td><td>137      </td></tr>\n",
       "\t<tr><td>6.4      </td><td>3.1      </td><td>5.5      </td><td>1.8      </td><td>virginica</td><td>138      </td></tr>\n",
       "\t<tr><td>6.0      </td><td>3.0      </td><td>4.8      </td><td>1.8      </td><td>virginica</td><td>139      </td></tr>\n",
       "\t<tr><td>6.9      </td><td>3.1      </td><td>5.4      </td><td>2.1      </td><td>virginica</td><td>140      </td></tr>\n",
       "\t<tr><td>6.7      </td><td>3.1      </td><td>5.6      </td><td>2.4      </td><td>virginica</td><td>141      </td></tr>\n",
       "\t<tr><td>6.9      </td><td>3.1      </td><td>5.1      </td><td>2.3      </td><td>virginica</td><td>142      </td></tr>\n",
       "\t<tr><td>5.8      </td><td>2.7      </td><td>5.1      </td><td>1.9      </td><td>virginica</td><td>143      </td></tr>\n",
       "\t<tr><td>6.8      </td><td>3.2      </td><td>5.9      </td><td>2.3      </td><td>virginica</td><td>144      </td></tr>\n",
       "\t<tr><td>6.7      </td><td>3.3      </td><td>5.7      </td><td>2.5      </td><td>virginica</td><td>145      </td></tr>\n",
       "\t<tr><td>6.7      </td><td>3.0      </td><td>5.2      </td><td>2.3      </td><td>virginica</td><td>146      </td></tr>\n",
       "\t<tr><td>6.3      </td><td>2.5      </td><td>5.0      </td><td>1.9      </td><td>virginica</td><td>147      </td></tr>\n",
       "\t<tr><td>6.5      </td><td>3.0      </td><td>5.2      </td><td>2.0      </td><td>virginica</td><td>148      </td></tr>\n",
       "\t<tr><td>6.2      </td><td>3.4      </td><td>5.4      </td><td>2.3      </td><td>virginica</td><td>149      </td></tr>\n",
       "\t<tr><td>5.9      </td><td>3.0      </td><td>5.1      </td><td>1.8      </td><td>virginica</td><td>150      </td></tr>\n",
       "</tbody>\n",
       "</table>\n"
      ],
      "text/latex": [
       "\\begin{tabular}{r|llllll}\n",
       " Sepal.Length & Sepal.Width & Petal.Length & Petal.Width & Species & id\\\\\n",
       "\\hline\n",
       "\t 5.1    & 3.5    & 1.4    & 0.2    & setosa &  1    \\\\\n",
       "\t 4.9    & 3.0    & 1.4    & 0.2    & setosa &  2    \\\\\n",
       "\t 4.7    & 3.2    & 1.3    & 0.2    & setosa &  3    \\\\\n",
       "\t 4.6    & 3.1    & 1.5    & 0.2    & setosa &  4    \\\\\n",
       "\t 5.0    & 3.6    & 1.4    & 0.2    & setosa &  5    \\\\\n",
       "\t 5.4    & 3.9    & 1.7    & 0.4    & setosa &  6    \\\\\n",
       "\t 4.6    & 3.4    & 1.4    & 0.3    & setosa &  7    \\\\\n",
       "\t 5.0    & 3.4    & 1.5    & 0.2    & setosa &  8    \\\\\n",
       "\t 4.4    & 2.9    & 1.4    & 0.2    & setosa &  9    \\\\\n",
       "\t 4.9    & 3.1    & 1.5    & 0.1    & setosa & 10    \\\\\n",
       "\t 5.4    & 3.7    & 1.5    & 0.2    & setosa & 11    \\\\\n",
       "\t 4.8    & 3.4    & 1.6    & 0.2    & setosa & 12    \\\\\n",
       "\t 4.8    & 3.0    & 1.4    & 0.1    & setosa & 13    \\\\\n",
       "\t 4.3    & 3.0    & 1.1    & 0.1    & setosa & 14    \\\\\n",
       "\t 5.8    & 4.0    & 1.2    & 0.2    & setosa & 15    \\\\\n",
       "\t 5.7    & 4.4    & 1.5    & 0.4    & setosa & 16    \\\\\n",
       "\t 5.4    & 3.9    & 1.3    & 0.4    & setosa & 17    \\\\\n",
       "\t 5.1    & 3.5    & 1.4    & 0.3    & setosa & 18    \\\\\n",
       "\t 5.7    & 3.8    & 1.7    & 0.3    & setosa & 19    \\\\\n",
       "\t 5.1    & 3.8    & 1.5    & 0.3    & setosa & 20    \\\\\n",
       "\t 5.4    & 3.4    & 1.7    & 0.2    & setosa & 21    \\\\\n",
       "\t 5.1    & 3.7    & 1.5    & 0.4    & setosa & 22    \\\\\n",
       "\t 4.6    & 3.6    & 1.0    & 0.2    & setosa & 23    \\\\\n",
       "\t 5.1    & 3.3    & 1.7    & 0.5    & setosa & 24    \\\\\n",
       "\t 4.8    & 3.4    & 1.9    & 0.2    & setosa & 25    \\\\\n",
       "\t 5.0    & 3.0    & 1.6    & 0.2    & setosa & 26    \\\\\n",
       "\t 5.0    & 3.4    & 1.6    & 0.4    & setosa & 27    \\\\\n",
       "\t 5.2    & 3.5    & 1.5    & 0.2    & setosa & 28    \\\\\n",
       "\t 5.2    & 3.4    & 1.4    & 0.2    & setosa & 29    \\\\\n",
       "\t 4.7    & 3.2    & 1.6    & 0.2    & setosa & 30    \\\\\n",
       "\t ⋮ & ⋮ & ⋮ & ⋮ & ⋮ & ⋮\\\\\n",
       "\t 6.9       & 3.2       & 5.7       & 2.3       & virginica & 121      \\\\\n",
       "\t 5.6       & 2.8       & 4.9       & 2.0       & virginica & 122      \\\\\n",
       "\t 7.7       & 2.8       & 6.7       & 2.0       & virginica & 123      \\\\\n",
       "\t 6.3       & 2.7       & 4.9       & 1.8       & virginica & 124      \\\\\n",
       "\t 6.7       & 3.3       & 5.7       & 2.1       & virginica & 125      \\\\\n",
       "\t 7.2       & 3.2       & 6.0       & 1.8       & virginica & 126      \\\\\n",
       "\t 6.2       & 2.8       & 4.8       & 1.8       & virginica & 127      \\\\\n",
       "\t 6.1       & 3.0       & 4.9       & 1.8       & virginica & 128      \\\\\n",
       "\t 6.4       & 2.8       & 5.6       & 2.1       & virginica & 129      \\\\\n",
       "\t 7.2       & 3.0       & 5.8       & 1.6       & virginica & 130      \\\\\n",
       "\t 7.4       & 2.8       & 6.1       & 1.9       & virginica & 131      \\\\\n",
       "\t 7.9       & 3.8       & 6.4       & 2.0       & virginica & 132      \\\\\n",
       "\t 6.4       & 2.8       & 5.6       & 2.2       & virginica & 133      \\\\\n",
       "\t 6.3       & 2.8       & 5.1       & 1.5       & virginica & 134      \\\\\n",
       "\t 6.1       & 2.6       & 5.6       & 1.4       & virginica & 135      \\\\\n",
       "\t 7.7       & 3.0       & 6.1       & 2.3       & virginica & 136      \\\\\n",
       "\t 6.3       & 3.4       & 5.6       & 2.4       & virginica & 137      \\\\\n",
       "\t 6.4       & 3.1       & 5.5       & 1.8       & virginica & 138      \\\\\n",
       "\t 6.0       & 3.0       & 4.8       & 1.8       & virginica & 139      \\\\\n",
       "\t 6.9       & 3.1       & 5.4       & 2.1       & virginica & 140      \\\\\n",
       "\t 6.7       & 3.1       & 5.6       & 2.4       & virginica & 141      \\\\\n",
       "\t 6.9       & 3.1       & 5.1       & 2.3       & virginica & 142      \\\\\n",
       "\t 5.8       & 2.7       & 5.1       & 1.9       & virginica & 143      \\\\\n",
       "\t 6.8       & 3.2       & 5.9       & 2.3       & virginica & 144      \\\\\n",
       "\t 6.7       & 3.3       & 5.7       & 2.5       & virginica & 145      \\\\\n",
       "\t 6.7       & 3.0       & 5.2       & 2.3       & virginica & 146      \\\\\n",
       "\t 6.3       & 2.5       & 5.0       & 1.9       & virginica & 147      \\\\\n",
       "\t 6.5       & 3.0       & 5.2       & 2.0       & virginica & 148      \\\\\n",
       "\t 6.2       & 3.4       & 5.4       & 2.3       & virginica & 149      \\\\\n",
       "\t 5.9       & 3.0       & 5.1       & 1.8       & virginica & 150      \\\\\n",
       "\\end{tabular}\n"
      ],
      "text/markdown": [
       "\n",
       "Sepal.Length | Sepal.Width | Petal.Length | Petal.Width | Species | id | \n",
       "|---|---|---|---|---|---|---|---|---|---|---|---|---|---|---|---|---|---|---|---|---|---|---|---|---|---|---|---|---|---|---|---|---|---|---|---|---|---|---|---|---|---|---|---|---|---|---|---|---|---|---|---|---|---|---|---|---|---|---|---|---|\n",
       "| 5.1    | 3.5    | 1.4    | 0.2    | setosa |  1     | \n",
       "| 4.9    | 3.0    | 1.4    | 0.2    | setosa |  2     | \n",
       "| 4.7    | 3.2    | 1.3    | 0.2    | setosa |  3     | \n",
       "| 4.6    | 3.1    | 1.5    | 0.2    | setosa |  4     | \n",
       "| 5.0    | 3.6    | 1.4    | 0.2    | setosa |  5     | \n",
       "| 5.4    | 3.9    | 1.7    | 0.4    | setosa |  6     | \n",
       "| 4.6    | 3.4    | 1.4    | 0.3    | setosa |  7     | \n",
       "| 5.0    | 3.4    | 1.5    | 0.2    | setosa |  8     | \n",
       "| 4.4    | 2.9    | 1.4    | 0.2    | setosa |  9     | \n",
       "| 4.9    | 3.1    | 1.5    | 0.1    | setosa | 10     | \n",
       "| 5.4    | 3.7    | 1.5    | 0.2    | setosa | 11     | \n",
       "| 4.8    | 3.4    | 1.6    | 0.2    | setosa | 12     | \n",
       "| 4.8    | 3.0    | 1.4    | 0.1    | setosa | 13     | \n",
       "| 4.3    | 3.0    | 1.1    | 0.1    | setosa | 14     | \n",
       "| 5.8    | 4.0    | 1.2    | 0.2    | setosa | 15     | \n",
       "| 5.7    | 4.4    | 1.5    | 0.4    | setosa | 16     | \n",
       "| 5.4    | 3.9    | 1.3    | 0.4    | setosa | 17     | \n",
       "| 5.1    | 3.5    | 1.4    | 0.3    | setosa | 18     | \n",
       "| 5.7    | 3.8    | 1.7    | 0.3    | setosa | 19     | \n",
       "| 5.1    | 3.8    | 1.5    | 0.3    | setosa | 20     | \n",
       "| 5.4    | 3.4    | 1.7    | 0.2    | setosa | 21     | \n",
       "| 5.1    | 3.7    | 1.5    | 0.4    | setosa | 22     | \n",
       "| 4.6    | 3.6    | 1.0    | 0.2    | setosa | 23     | \n",
       "| 5.1    | 3.3    | 1.7    | 0.5    | setosa | 24     | \n",
       "| 4.8    | 3.4    | 1.9    | 0.2    | setosa | 25     | \n",
       "| 5.0    | 3.0    | 1.6    | 0.2    | setosa | 26     | \n",
       "| 5.0    | 3.4    | 1.6    | 0.4    | setosa | 27     | \n",
       "| 5.2    | 3.5    | 1.5    | 0.2    | setosa | 28     | \n",
       "| 5.2    | 3.4    | 1.4    | 0.2    | setosa | 29     | \n",
       "| 4.7    | 3.2    | 1.6    | 0.2    | setosa | 30     | \n",
       "| ⋮ | ⋮ | ⋮ | ⋮ | ⋮ | ⋮ | \n",
       "| 6.9       | 3.2       | 5.7       | 2.3       | virginica | 121       | \n",
       "| 5.6       | 2.8       | 4.9       | 2.0       | virginica | 122       | \n",
       "| 7.7       | 2.8       | 6.7       | 2.0       | virginica | 123       | \n",
       "| 6.3       | 2.7       | 4.9       | 1.8       | virginica | 124       | \n",
       "| 6.7       | 3.3       | 5.7       | 2.1       | virginica | 125       | \n",
       "| 7.2       | 3.2       | 6.0       | 1.8       | virginica | 126       | \n",
       "| 6.2       | 2.8       | 4.8       | 1.8       | virginica | 127       | \n",
       "| 6.1       | 3.0       | 4.9       | 1.8       | virginica | 128       | \n",
       "| 6.4       | 2.8       | 5.6       | 2.1       | virginica | 129       | \n",
       "| 7.2       | 3.0       | 5.8       | 1.6       | virginica | 130       | \n",
       "| 7.4       | 2.8       | 6.1       | 1.9       | virginica | 131       | \n",
       "| 7.9       | 3.8       | 6.4       | 2.0       | virginica | 132       | \n",
       "| 6.4       | 2.8       | 5.6       | 2.2       | virginica | 133       | \n",
       "| 6.3       | 2.8       | 5.1       | 1.5       | virginica | 134       | \n",
       "| 6.1       | 2.6       | 5.6       | 1.4       | virginica | 135       | \n",
       "| 7.7       | 3.0       | 6.1       | 2.3       | virginica | 136       | \n",
       "| 6.3       | 3.4       | 5.6       | 2.4       | virginica | 137       | \n",
       "| 6.4       | 3.1       | 5.5       | 1.8       | virginica | 138       | \n",
       "| 6.0       | 3.0       | 4.8       | 1.8       | virginica | 139       | \n",
       "| 6.9       | 3.1       | 5.4       | 2.1       | virginica | 140       | \n",
       "| 6.7       | 3.1       | 5.6       | 2.4       | virginica | 141       | \n",
       "| 6.9       | 3.1       | 5.1       | 2.3       | virginica | 142       | \n",
       "| 5.8       | 2.7       | 5.1       | 1.9       | virginica | 143       | \n",
       "| 6.8       | 3.2       | 5.9       | 2.3       | virginica | 144       | \n",
       "| 6.7       | 3.3       | 5.7       | 2.5       | virginica | 145       | \n",
       "| 6.7       | 3.0       | 5.2       | 2.3       | virginica | 146       | \n",
       "| 6.3       | 2.5       | 5.0       | 1.9       | virginica | 147       | \n",
       "| 6.5       | 3.0       | 5.2       | 2.0       | virginica | 148       | \n",
       "| 6.2       | 3.4       | 5.4       | 2.3       | virginica | 149       | \n",
       "| 5.9       | 3.0       | 5.1       | 1.8       | virginica | 150       | \n",
       "\n",
       "\n"
      ],
      "text/plain": [
       "    Sepal.Length Sepal.Width Petal.Length Petal.Width Species   id \n",
       "1   5.1          3.5         1.4          0.2         setosa     1 \n",
       "2   4.9          3.0         1.4          0.2         setosa     2 \n",
       "3   4.7          3.2         1.3          0.2         setosa     3 \n",
       "4   4.6          3.1         1.5          0.2         setosa     4 \n",
       "5   5.0          3.6         1.4          0.2         setosa     5 \n",
       "6   5.4          3.9         1.7          0.4         setosa     6 \n",
       "7   4.6          3.4         1.4          0.3         setosa     7 \n",
       "8   5.0          3.4         1.5          0.2         setosa     8 \n",
       "9   4.4          2.9         1.4          0.2         setosa     9 \n",
       "10  4.9          3.1         1.5          0.1         setosa    10 \n",
       "11  5.4          3.7         1.5          0.2         setosa    11 \n",
       "12  4.8          3.4         1.6          0.2         setosa    12 \n",
       "13  4.8          3.0         1.4          0.1         setosa    13 \n",
       "14  4.3          3.0         1.1          0.1         setosa    14 \n",
       "15  5.8          4.0         1.2          0.2         setosa    15 \n",
       "16  5.7          4.4         1.5          0.4         setosa    16 \n",
       "17  5.4          3.9         1.3          0.4         setosa    17 \n",
       "18  5.1          3.5         1.4          0.3         setosa    18 \n",
       "19  5.7          3.8         1.7          0.3         setosa    19 \n",
       "20  5.1          3.8         1.5          0.3         setosa    20 \n",
       "21  5.4          3.4         1.7          0.2         setosa    21 \n",
       "22  5.1          3.7         1.5          0.4         setosa    22 \n",
       "23  4.6          3.6         1.0          0.2         setosa    23 \n",
       "24  5.1          3.3         1.7          0.5         setosa    24 \n",
       "25  4.8          3.4         1.9          0.2         setosa    25 \n",
       "26  5.0          3.0         1.6          0.2         setosa    26 \n",
       "27  5.0          3.4         1.6          0.4         setosa    27 \n",
       "28  5.2          3.5         1.5          0.2         setosa    28 \n",
       "29  5.2          3.4         1.4          0.2         setosa    29 \n",
       "30  4.7          3.2         1.6          0.2         setosa    30 \n",
       "⋮   ⋮            ⋮           ⋮            ⋮           ⋮         ⋮  \n",
       "121 6.9          3.2         5.7          2.3         virginica 121\n",
       "122 5.6          2.8         4.9          2.0         virginica 122\n",
       "123 7.7          2.8         6.7          2.0         virginica 123\n",
       "124 6.3          2.7         4.9          1.8         virginica 124\n",
       "125 6.7          3.3         5.7          2.1         virginica 125\n",
       "126 7.2          3.2         6.0          1.8         virginica 126\n",
       "127 6.2          2.8         4.8          1.8         virginica 127\n",
       "128 6.1          3.0         4.9          1.8         virginica 128\n",
       "129 6.4          2.8         5.6          2.1         virginica 129\n",
       "130 7.2          3.0         5.8          1.6         virginica 130\n",
       "131 7.4          2.8         6.1          1.9         virginica 131\n",
       "132 7.9          3.8         6.4          2.0         virginica 132\n",
       "133 6.4          2.8         5.6          2.2         virginica 133\n",
       "134 6.3          2.8         5.1          1.5         virginica 134\n",
       "135 6.1          2.6         5.6          1.4         virginica 135\n",
       "136 7.7          3.0         6.1          2.3         virginica 136\n",
       "137 6.3          3.4         5.6          2.4         virginica 137\n",
       "138 6.4          3.1         5.5          1.8         virginica 138\n",
       "139 6.0          3.0         4.8          1.8         virginica 139\n",
       "140 6.9          3.1         5.4          2.1         virginica 140\n",
       "141 6.7          3.1         5.6          2.4         virginica 141\n",
       "142 6.9          3.1         5.1          2.3         virginica 142\n",
       "143 5.8          2.7         5.1          1.9         virginica 143\n",
       "144 6.8          3.2         5.9          2.3         virginica 144\n",
       "145 6.7          3.3         5.7          2.5         virginica 145\n",
       "146 6.7          3.0         5.2          2.3         virginica 146\n",
       "147 6.3          2.5         5.0          1.9         virginica 147\n",
       "148 6.5          3.0         5.2          2.0         virginica 148\n",
       "149 6.2          3.4         5.4          2.3         virginica 149\n",
       "150 5.9          3.0         5.1          1.8         virginica 150"
      ]
     },
     "metadata": {},
     "output_type": "display_data"
    }
   ],
   "source": [
    "data"
   ]
  },
  {
   "cell_type": "code",
   "execution_count": 56,
   "metadata": {
    "collapsed": false
   },
   "outputs": [],
   "source": [
    "task = makeClassifTask(data = data, target = 'Species', id = c('id'))"
   ]
  },
  {
   "cell_type": "code",
   "execution_count": 57,
   "metadata": {
    "collapsed": false
   },
   "outputs": [],
   "source": [
    "lrn = makeLearner(\"classif.naiveBayes\")"
   ]
  },
  {
   "cell_type": "code",
   "execution_count": 58,
   "metadata": {
    "collapsed": false
   },
   "outputs": [],
   "source": [
    "crossValidation = makeResampleDesc(\"CV\", iters = 10, stratify = T)"
   ]
  },
  {
   "cell_type": "code",
   "execution_count": 59,
   "metadata": {
    "collapsed": true
   },
   "outputs": [],
   "source": [
    "measures = list(mmce, acc, timetrain)"
   ]
  },
  {
   "cell_type": "code",
   "execution_count": 61,
   "metadata": {
    "collapsed": false
   },
   "outputs": [
    {
     "name": "stderr",
     "output_type": "stream",
     "text": [
      "Resampling: cross-validation\n",
      "Measures:             mmce        acc         timetrain   \n",
      "[Resample] iter 1:    0.0000000   1.0000000   0.0040000   \n",
      "[Resample] iter 2:    0.0000000   1.0000000   0.0080000   \n",
      "[Resample] iter 3:    0.0000000   1.0000000   0.0100000   \n",
      "[Resample] iter 4:    0.0000000   1.0000000   0.0060000   \n",
      "[Resample] iter 5:    0.0666667   0.9333333   0.0070000   \n",
      "[Resample] iter 6:    0.0000000   1.0000000   0.0050000   \n",
      "[Resample] iter 7:    0.0000000   1.0000000   0.0100000   \n",
      "[Resample] iter 8:    0.0000000   1.0000000   0.0060000   \n",
      "[Resample] iter 9:    0.0000000   1.0000000   0.0040000   \n",
      "[Resample] iter 10:   0.0000000   1.0000000   0.0030000   \n",
      "\n",
      "\n",
      "Aggregated Result: mmce.test.mean=0.0066667,acc.test.mean=0.9933333,timetrain.test.mean=0.0063000\n",
      "\n",
      "\n"
     ]
    }
   ],
   "source": [
    "r = resample(lrn, \n",
    "             task, \n",
    "             crossValidation, \n",
    "             measures = measures,\n",
    "             show.info = TRUE)"
   ]
  }
 ],
 "metadata": {
  "kernelspec": {
   "display_name": "R",
   "language": "R",
   "name": "ir"
  },
  "language_info": {
   "codemirror_mode": "r",
   "file_extension": ".r",
   "mimetype": "text/x-r-source",
   "name": "R",
   "pygments_lexer": "r",
   "version": "3.4.2"
  }
 },
 "nbformat": 4,
 "nbformat_minor": 2
}
