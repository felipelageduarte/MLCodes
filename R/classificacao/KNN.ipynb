{
 "cells": [
  {
   "cell_type": "markdown",
   "metadata": {},
   "source": [
    "<h1>KNN - K Nearest Neighbor</h1>"
   ]
  },
  {
   "cell_type": "code",
   "execution_count": 8,
   "metadata": {
    "collapsed": false
   },
   "outputs": [],
   "source": [
    "library(mlr)\n",
    "source('../utils.r')\n",
    "\n",
    "set.seed(42)\n",
    "\n",
    "folder_name = '../../raw_data' \n",
    "file_name   = 'german.csv'"
   ]
  },
  {
   "cell_type": "markdown",
   "metadata": {},
   "source": [
    "<h2>1. Dataprep</h2>"
   ]
  },
  {
   "cell_type": "code",
   "execution_count": 9,
   "metadata": {
    "collapsed": false
   },
   "outputs": [],
   "source": [
    "data = read.csv(file=sprintf('%s/%s',folder_name,file_name))"
   ]
  },
  {
   "cell_type": "code",
   "execution_count": 10,
   "metadata": {
    "collapsed": false
   },
   "outputs": [
    {
     "name": "stdout",
     "output_type": "stream",
     "text": [
      "NRow: 1000\n",
      "NCol: 22"
     ]
    },
    {
     "data": {
      "text/html": [
       "<table>\n",
       "<thead><tr><th scope=col>X</th><th scope=col>V1</th><th scope=col>V2</th><th scope=col>V3</th><th scope=col>V4</th><th scope=col>V5</th><th scope=col>V6</th><th scope=col>V7</th><th scope=col>V8</th><th scope=col>V9</th><th scope=col>⋯</th><th scope=col>V12</th><th scope=col>V13</th><th scope=col>V14</th><th scope=col>V15</th><th scope=col>V16</th><th scope=col>V17</th><th scope=col>V18</th><th scope=col>V19</th><th scope=col>V20</th><th scope=col>V21</th></tr></thead>\n",
       "<tbody>\n",
       "\t<tr><td>1   </td><td>A11 </td><td> 6  </td><td>A34 </td><td>A43 </td><td>1169</td><td>A65 </td><td>A75 </td><td>4   </td><td>A93 </td><td>⋯   </td><td>A121</td><td>67  </td><td>A143</td><td>A152</td><td>2   </td><td>A173</td><td>good</td><td>A192</td><td>A201</td><td>1   </td></tr>\n",
       "\t<tr><td>2   </td><td>A12 </td><td>48  </td><td>A32 </td><td>A43 </td><td>5951</td><td>A61 </td><td>A73 </td><td>2   </td><td>A92 </td><td>⋯   </td><td>A121</td><td>22  </td><td>A143</td><td>A152</td><td>1   </td><td>A173</td><td>good</td><td>A191</td><td>A201</td><td>2   </td></tr>\n",
       "\t<tr><td>3   </td><td>A14 </td><td>12  </td><td>A34 </td><td>A46 </td><td>2096</td><td>A61 </td><td>A74 </td><td>2   </td><td>A93 </td><td>⋯   </td><td>A121</td><td>49  </td><td>A143</td><td>A152</td><td>1   </td><td>A172</td><td>bad </td><td>A191</td><td>A201</td><td>1   </td></tr>\n",
       "\t<tr><td>4   </td><td>A11 </td><td>42  </td><td>A32 </td><td>A42 </td><td>7882</td><td>A61 </td><td>A74 </td><td>2   </td><td>A93 </td><td>⋯   </td><td>A122</td><td>45  </td><td>A143</td><td>A153</td><td>1   </td><td>A173</td><td>bad </td><td>A191</td><td>A201</td><td>1   </td></tr>\n",
       "\t<tr><td>5   </td><td>A11 </td><td>24  </td><td>A33 </td><td>A40 </td><td>4870</td><td>A61 </td><td>A73 </td><td>3   </td><td>A93 </td><td>⋯   </td><td>A124</td><td>53  </td><td>A143</td><td>A153</td><td>2   </td><td>A173</td><td>bad </td><td>A191</td><td>A201</td><td>2   </td></tr>\n",
       "\t<tr><td>6   </td><td>A14 </td><td>36  </td><td>A32 </td><td>A46 </td><td>9055</td><td>A65 </td><td>A73 </td><td>2   </td><td>A93 </td><td>⋯   </td><td>A124</td><td>35  </td><td>A143</td><td>A153</td><td>1   </td><td>A172</td><td>bad </td><td>A192</td><td>A201</td><td>1   </td></tr>\n",
       "</tbody>\n",
       "</table>\n"
      ],
      "text/latex": [
       "\\begin{tabular}{r|llllllllllllllllllllll}\n",
       " X & V1 & V2 & V3 & V4 & V5 & V6 & V7 & V8 & V9 & ⋯ & V12 & V13 & V14 & V15 & V16 & V17 & V18 & V19 & V20 & V21\\\\\n",
       "\\hline\n",
       "\t 1    & A11  &  6   & A34  & A43  & 1169 & A65  & A75  & 4    & A93  & ⋯    & A121 & 67   & A143 & A152 & 2    & A173 & good & A192 & A201 & 1   \\\\\n",
       "\t 2    & A12  & 48   & A32  & A43  & 5951 & A61  & A73  & 2    & A92  & ⋯    & A121 & 22   & A143 & A152 & 1    & A173 & good & A191 & A201 & 2   \\\\\n",
       "\t 3    & A14  & 12   & A34  & A46  & 2096 & A61  & A74  & 2    & A93  & ⋯    & A121 & 49   & A143 & A152 & 1    & A172 & bad  & A191 & A201 & 1   \\\\\n",
       "\t 4    & A11  & 42   & A32  & A42  & 7882 & A61  & A74  & 2    & A93  & ⋯    & A122 & 45   & A143 & A153 & 1    & A173 & bad  & A191 & A201 & 1   \\\\\n",
       "\t 5    & A11  & 24   & A33  & A40  & 4870 & A61  & A73  & 3    & A93  & ⋯    & A124 & 53   & A143 & A153 & 2    & A173 & bad  & A191 & A201 & 2   \\\\\n",
       "\t 6    & A14  & 36   & A32  & A46  & 9055 & A65  & A73  & 2    & A93  & ⋯    & A124 & 35   & A143 & A153 & 1    & A172 & bad  & A192 & A201 & 1   \\\\\n",
       "\\end{tabular}\n"
      ],
      "text/markdown": [
       "\n",
       "X | V1 | V2 | V3 | V4 | V5 | V6 | V7 | V8 | V9 | ⋯ | V12 | V13 | V14 | V15 | V16 | V17 | V18 | V19 | V20 | V21 | \n",
       "|---|---|---|---|---|---|\n",
       "| 1    | A11  |  6   | A34  | A43  | 1169 | A65  | A75  | 4    | A93  | ⋯    | A121 | 67   | A143 | A152 | 2    | A173 | good | A192 | A201 | 1    | \n",
       "| 2    | A12  | 48   | A32  | A43  | 5951 | A61  | A73  | 2    | A92  | ⋯    | A121 | 22   | A143 | A152 | 1    | A173 | good | A191 | A201 | 2    | \n",
       "| 3    | A14  | 12   | A34  | A46  | 2096 | A61  | A74  | 2    | A93  | ⋯    | A121 | 49   | A143 | A152 | 1    | A172 | bad  | A191 | A201 | 1    | \n",
       "| 4    | A11  | 42   | A32  | A42  | 7882 | A61  | A74  | 2    | A93  | ⋯    | A122 | 45   | A143 | A153 | 1    | A173 | bad  | A191 | A201 | 1    | \n",
       "| 5    | A11  | 24   | A33  | A40  | 4870 | A61  | A73  | 3    | A93  | ⋯    | A124 | 53   | A143 | A153 | 2    | A173 | bad  | A191 | A201 | 2    | \n",
       "| 6    | A14  | 36   | A32  | A46  | 9055 | A65  | A73  | 2    | A93  | ⋯    | A124 | 35   | A143 | A153 | 1    | A172 | bad  | A192 | A201 | 1    | \n",
       "\n",
       "\n"
      ],
      "text/plain": [
       "  X V1  V2 V3  V4  V5   V6  V7  V8 V9  ⋯ V12  V13 V14  V15  V16 V17  V18  V19 \n",
       "1 1 A11  6 A34 A43 1169 A65 A75 4  A93 ⋯ A121 67  A143 A152 2   A173 good A192\n",
       "2 2 A12 48 A32 A43 5951 A61 A73 2  A92 ⋯ A121 22  A143 A152 1   A173 good A191\n",
       "3 3 A14 12 A34 A46 2096 A61 A74 2  A93 ⋯ A121 49  A143 A152 1   A172 bad  A191\n",
       "4 4 A11 42 A32 A42 7882 A61 A74 2  A93 ⋯ A122 45  A143 A153 1   A173 bad  A191\n",
       "5 5 A11 24 A33 A40 4870 A61 A73 3  A93 ⋯ A124 53  A143 A153 2   A173 bad  A191\n",
       "6 6 A14 36 A32 A46 9055 A65 A73 2  A93 ⋯ A124 35  A143 A153 1   A172 bad  A192\n",
       "  V20  V21\n",
       "1 A201 1  \n",
       "2 A201 2  \n",
       "3 A201 1  \n",
       "4 A201 1  \n",
       "5 A201 2  \n",
       "6 A201 1  "
      ]
     },
     "metadata": {},
     "output_type": "display_data"
    }
   ],
   "source": [
    "cat(sprintf('NRow: %d\\nNCol: %d',nrow(data), ncol(data)))\n",
    "head(data)"
   ]
  },
  {
   "cell_type": "markdown",
   "metadata": {},
   "source": [
    "<p style='color: red'> ATENTION: </p>Specifically in R, in classification problem, target must be set as Factor."
   ]
  },
  {
   "cell_type": "code",
   "execution_count": 11,
   "metadata": {
    "collapsed": true
   },
   "outputs": [],
   "source": [
    "data$V21 = as.factor(data$V21)"
   ]
  },
  {
   "cell_type": "markdown",
   "metadata": {},
   "source": [
    "MLR works only with features and target, this means that others columns must be dorped."
   ]
  },
  {
   "cell_type": "code",
   "execution_count": 12,
   "metadata": {
    "collapsed": false
   },
   "outputs": [
    {
     "name": "stdout",
     "output_type": "stream",
     "text": [
      "NRow: 1000\n",
      "NCol: 21"
     ]
    }
   ],
   "source": [
    "drops = c('X')\n",
    "data  = data[ , !(names(data) %in% drops)]\n",
    "cat(sprintf('NRow: %d\\nNCol: %d',nrow(data), ncol(data)))"
   ]
  },
  {
   "cell_type": "markdown",
   "metadata": {},
   "source": [
    "<h2>2. Modeling</h2>"
   ]
  },
  {
   "cell_type": "markdown",
   "metadata": {},
   "source": [
    "Function\n",
    "```R\n",
    "makeLearner(cl, id = cl, predict.type = \"response\", predict.threshold = NULL, \n",
    "            fix.factors.prediction = FALSE, ..., par.vals = list(), config = list())\n",
    "```\n",
    "Param.:\n",
    "\n",
    "* cl: [character(1)] Class of learner. By convention, all classification learners start with “classif.”. A list of all integrated learners is available on the learners help page < https://mlr-org.github.io/mlr-tutorial/release/html/integrated_learners/ >.\n",
    "* predict: [character(1)] “response” (= labels) or “prob” (= probabilities and labels by selecting the ones with maximal probability). Default is “response”.\n",
    "* par.vals: [list] Optional list of named (hyper)parameters. The arguments in ... take precedence over values in this list. We strongly encourage you to use one or the other to pass (hyper)parameters to the learner but not both.\n",
    "\n",
    "Doc.: https://www.rdocumentation.org/packages/mlr/versions/2.10/topics/makeLearner"
   ]
  },
  {
   "cell_type": "code",
   "execution_count": 13,
   "metadata": {
    "collapsed": true
   },
   "outputs": [],
   "source": [
    "cl = \"classif.kknn\""
   ]
  },
  {
   "cell_type": "markdown",
   "metadata": {},
   "source": [
    "List all parameters that can be used in this classifier. The value must be set in par.vals parameter."
   ]
  },
  {
   "cell_type": "code",
   "execution_count": 14,
   "metadata": {
    "collapsed": false
   },
   "outputs": [
    {
     "data": {
      "text/plain": [
       "             Type len     Def                                   Constr Req\n",
       "k         integer   -       7                                 1 to Inf   -\n",
       "distance  numeric   -       2                                 0 to Inf   -\n",
       "kernel   discrete   - optimal rectangular,triangular,epanechnikov,b...   -\n",
       "scale     logical   -    TRUE                                        -   -\n",
       "         Tunable Trafo\n",
       "k           TRUE     -\n",
       "distance    TRUE     -\n",
       "kernel      TRUE     -\n",
       "scale       TRUE     -"
      ]
     },
     "metadata": {},
     "output_type": "display_data"
    }
   ],
   "source": [
    "getParamSet(cl)"
   ]
  },
  {
   "cell_type": "code",
   "execution_count": 15,
   "metadata": {
    "collapsed": false
   },
   "outputs": [],
   "source": [
    "learner = makeLearner(cl = \"classif.kknn\"\n",
    "                     , predict.type = \"prob\"\n",
    "                     , par.vals = list(k = 10)\n",
    "                     )"
   ]
  },
  {
   "cell_type": "markdown",
   "metadata": {},
   "source": [
    "Function\n",
    "```R\n",
    "makeClassifTask(id = deparse(substitute(data)), data, target, weights = NULL, blocking = NULL, \n",
    "                positive = NA_character_, fixup.data = \"warn\", check.data = TRUE)\n",
    "```\n",
    "Param.:\n",
    "\n",
    "* data: [data.frame] A data frame containing the features and target variable(s).\n",
    "* target: [character(1)] Name of the target variable.\n",
    "* positive: [character(1)] Positive class for binary classification (otherwise ignored and set to NA). Default is the first factor level of the target attribute.\n",
    "* fixup.data: [character(1)] Should some basic cleaning up of data be performed? Currently this means removing empty factor levels for the columns. Possible coices are: “no” = Don't do it. “warn” = Do it but warn about it. “quiet” = Do it but keep silent. Default is “warn”.\n",
    "\n",
    "Doc.: https://www.rdocumentation.org/packages/mlr/versions/2.10/topics/makeLearner"
   ]
  },
  {
   "cell_type": "code",
   "execution_count": 16,
   "metadata": {
    "collapsed": false
   },
   "outputs": [],
   "source": [
    "task = makeClassifTask( data = data\n",
    "                      , target = 'V21'\n",
    "                      , positive = '2'\n",
    "                      , fixup.data = 'no'\n",
    ")"
   ]
  },
  {
   "cell_type": "markdown",
   "metadata": {},
   "source": [
    "Function:\n",
    "```R\n",
    "makeResampleDesc(method, predict = \"test\", ..., stratify = FALSE, stratify.cols = NULL)\n",
    "```\n",
    "Param.:\n",
    "\n",
    "* method: [character(1)] “CV” for cross-validation, “LOO” for leave-one-out, “RepCV” for repeated cross-validation, “Bootstrap” for out-of-bag bootstrap, “Subsample” for subsampling, “Holdout” for holdout.\n",
    "* predict: What to predict during resampling: “train”, “test” or “both” sets. Default is “test”.\n",
    "* ... : [any] Further parameters for strategies.\n",
    "    * iters [integer(1)] Number of iterations, for “CV”, “Subsample” and “Boostrap”.\n",
    "    * split [numeric(1)] Proportion of training cases for “Holdout” and “Subsample” between 0 and 1. Default is 2/3.\n",
    "    * reps [integer(1)] Repeats for “RepCV”. Here iters = folds * reps. Default is 10.\n",
    "    * folds [integer(1)] Folds in the repeated CV for RepCV. Here iters = folds * reps. Default is 10.\n",
    "\n",
    "Doc.: https://www.rdocumentation.org/packages/mlr/versions/2.10/topics/makeResampleDesc"
   ]
  },
  {
   "cell_type": "code",
   "execution_count": 17,
   "metadata": {
    "collapsed": false
   },
   "outputs": [],
   "source": [
    "resample = makeResampleDesc(\n",
    "    method = \"CV\",\n",
    "    iters = 10,\n",
    "    predict = 'both',\n",
    "    stratify = FALSE\n",
    ")"
   ]
  },
  {
   "cell_type": "markdown",
   "metadata": {},
   "source": [
    "List of performance measures:\n",
    "\n",
    "Doc.: http://mlr-org.github.io/mlr-tutorial/release/html/measures/"
   ]
  },
  {
   "cell_type": "code",
   "execution_count": 18,
   "metadata": {
    "collapsed": false
   },
   "outputs": [],
   "source": [
    "measures = list(mmce #MMCE \n",
    "               ,acc  #acuracia\n",
    "               ,f1   #f1\n",
    "               ,ppv  #precision\n",
    "               ,tpr  #recall\n",
    "               ,auc  #AUC\n",
    "               ,gini #Gini\n",
    "               #,timetrain #tempo execucao\n",
    "               )"
   ]
  },
  {
   "cell_type": "markdown",
   "metadata": {},
   "source": [
    "Function:\n",
    "```R\n",
    "resample(learner, task, resampling, measures, weights = NULL, models = FALSE, extract, \n",
    "         keep.pred = TRUE, ..., show.info = getMlrOption(\"show.info\"))\n",
    "```\n",
    "Param.:\n",
    "\n",
    "* learner: [Learner] The learner.\n",
    "* task: [Task] The task.\n",
    "* resampling: [ResampleInstance] Resampling strategy.\n",
    "* measures: [Measure | list of Measure] Performance measure(s) to evaluate. Default is mean misclassification error (mmce)\n",
    "* weights: [numeric] Optional, non-negative case weight vector to be used during fitting. If given, must be of same length as observations in task and in corresponding order. Overwrites weights specified in the task. By default NULL which means no weights are used unless specified in the task.\n",
    "* models: [logical(1)] Should all fitted models be returned? Default is FALSE.\n",
    "* keep.pred: [logical(1)] Keep the prediction data in the pred slot of the result object. If you do many experiments (on larger data sets) these objects might unnecessarily increase object size / mem usage, if you do not really need them. In this case you can set this argument to FALSE. Default is TRUE.\n",
    "* show.info: [logical(1)] Print verbose output on console? Default is set via configureMlr.\n",
    "\n",
    "Doc.: https://www.rdocumentation.org/packages/mlr/versions/2.10/topics/resample"
   ]
  },
  {
   "cell_type": "code",
   "execution_count": 19,
   "metadata": {
    "collapsed": false
   },
   "outputs": [
    {
     "name": "stderr",
     "output_type": "stream",
     "text": [
      "Resampling: cross-validation\n",
      "Measures:             mmce.test   acc.test    f1.test     ppv.test    tpr.test    auc.test    gini.test   \n",
      "[Resample] iter 1:    0.2000000   0.8000000   0.5238095   0.7333333   0.4074074   0.7283105   0.4566210   \n",
      "[Resample] iter 2:    0.2900000   0.7100000   0.4313725   0.6111111   0.3333333   0.6720941   0.3441882   \n",
      "[Resample] iter 3:    0.2700000   0.7300000   0.4905660   0.6500000   0.3939394   0.7365445   0.4730891   \n",
      "[Resample] iter 4:    0.3100000   0.6900000   0.4150943   0.5238095   0.3437500   0.7192096   0.4384191   \n",
      "[Resample] iter 5:    0.2600000   0.7400000   0.4800000   0.6000000   0.4000000   0.7788095   0.5576190   \n",
      "[Resample] iter 6:    0.2600000   0.7400000   0.4583333   0.6470588   0.3548387   0.7428705   0.4857410   \n",
      "[Resample] iter 7:    0.2400000   0.7600000   0.5862069   0.6800000   0.5151515   0.7720488   0.5440977   \n",
      "[Resample] iter 8:    0.2000000   0.8000000   0.5238095   0.7333333   0.4074074   0.7841197   0.5682395   \n",
      "[Resample] iter 9:    0.2300000   0.7700000   0.4102564   0.5714286   0.3200000   0.7320000   0.4640000   \n",
      "[Resample] iter 10:   0.2400000   0.7600000   0.4782609   0.6470588   0.3793103   0.7661486   0.5322972   \n",
      "\n",
      "\n",
      "Aggregated Result: mmce.test.mean=0.2500000,acc.test.mean=0.7500000,f1.test.mean=0.4797709,ppv.test.mean=0.6397134,tpr.test.mean=0.3855138,auc.test.mean=0.7432156,gini.test.mean=0.4864312\n",
      "\n",
      "\n"
     ]
    }
   ],
   "source": [
    "r = resample(learner = learner\n",
    "            ,task = task \n",
    "            ,resampling = resample \n",
    "            ,measures = measures\n",
    "            #---------------------#\n",
    "            ,models = TRUE\n",
    "            ,keep.pred = FALSE\n",
    "            ,show.info = TRUE)"
   ]
  },
  {
   "cell_type": "markdown",
   "metadata": {},
   "source": [
    "<h2>3. Result Analysis</h2>"
   ]
  },
  {
   "cell_type": "markdown",
   "metadata": {},
   "source": [
    "Train Measures"
   ]
  },
  {
   "cell_type": "code",
   "execution_count": 20,
   "metadata": {
    "collapsed": false
   },
   "outputs": [
    {
     "data": {
      "text/html": [
       "<table>\n",
       "<thead><tr><th scope=col>iter</th><th scope=col>mmce</th><th scope=col>acc</th><th scope=col>f1</th><th scope=col>ppv</th><th scope=col>tpr</th><th scope=col>auc</th><th scope=col>gini</th></tr></thead>\n",
       "<tbody>\n",
       "\t<tr><td> 1       </td><td>0.1211111</td><td>0.8788889</td><td>0.7655914</td><td>0.9270833</td><td>0.6520147</td><td>0.9716073</td><td>0.9432147</td></tr>\n",
       "\t<tr><td> 2       </td><td>0.1166667</td><td>0.8833333</td><td>0.7692308</td><td>0.9308511</td><td>0.6554307</td><td>0.9723213</td><td>0.9446427</td></tr>\n",
       "\t<tr><td> 3       </td><td>0.1188889</td><td>0.8811111</td><td>0.7616927</td><td>0.9395604</td><td>0.6404494</td><td>0.9744869</td><td>0.9489737</td></tr>\n",
       "\t<tr><td> 4       </td><td>0.1211111</td><td>0.8788889</td><td>0.7614880</td><td>0.9206349</td><td>0.6492537</td><td>0.9730836</td><td>0.9461671</td></tr>\n",
       "\t<tr><td> 5       </td><td>0.1266667</td><td>0.8733333</td><td>0.7500000</td><td>0.9193548</td><td>0.6333333</td><td>0.9701646</td><td>0.9403292</td></tr>\n",
       "\t<tr><td> 6       </td><td>0.1222222</td><td>0.8777778</td><td>0.7598253</td><td>0.9206349</td><td>0.6468401</td><td>0.9697418</td><td>0.9394836</td></tr>\n",
       "\t<tr><td> 7       </td><td>0.1233333</td><td>0.8766667</td><td>0.7560440</td><td>0.9148936</td><td>0.6441948</td><td>0.9699724</td><td>0.9399447</td></tr>\n",
       "\t<tr><td> 8       </td><td>0.1266667</td><td>0.8733333</td><td>0.7553648</td><td>0.9119171</td><td>0.6446886</td><td>0.9696794</td><td>0.9393589</td></tr>\n",
       "\t<tr><td> 9       </td><td>0.1255556</td><td>0.8744444</td><td>0.7590618</td><td>0.9175258</td><td>0.6472727</td><td>0.9744465</td><td>0.9488931</td></tr>\n",
       "\t<tr><td>10       </td><td>0.1222222</td><td>0.8777778</td><td>0.7619048</td><td>0.9214660</td><td>0.6494465</td><td>0.9732604</td><td>0.9465209</td></tr>\n",
       "</tbody>\n",
       "</table>\n"
      ],
      "text/latex": [
       "\\begin{tabular}{r|llllllll}\n",
       " iter & mmce & acc & f1 & ppv & tpr & auc & gini\\\\\n",
       "\\hline\n",
       "\t  1        & 0.1211111 & 0.8788889 & 0.7655914 & 0.9270833 & 0.6520147 & 0.9716073 & 0.9432147\\\\\n",
       "\t  2        & 0.1166667 & 0.8833333 & 0.7692308 & 0.9308511 & 0.6554307 & 0.9723213 & 0.9446427\\\\\n",
       "\t  3        & 0.1188889 & 0.8811111 & 0.7616927 & 0.9395604 & 0.6404494 & 0.9744869 & 0.9489737\\\\\n",
       "\t  4        & 0.1211111 & 0.8788889 & 0.7614880 & 0.9206349 & 0.6492537 & 0.9730836 & 0.9461671\\\\\n",
       "\t  5        & 0.1266667 & 0.8733333 & 0.7500000 & 0.9193548 & 0.6333333 & 0.9701646 & 0.9403292\\\\\n",
       "\t  6        & 0.1222222 & 0.8777778 & 0.7598253 & 0.9206349 & 0.6468401 & 0.9697418 & 0.9394836\\\\\n",
       "\t  7        & 0.1233333 & 0.8766667 & 0.7560440 & 0.9148936 & 0.6441948 & 0.9699724 & 0.9399447\\\\\n",
       "\t  8        & 0.1266667 & 0.8733333 & 0.7553648 & 0.9119171 & 0.6446886 & 0.9696794 & 0.9393589\\\\\n",
       "\t  9        & 0.1255556 & 0.8744444 & 0.7590618 & 0.9175258 & 0.6472727 & 0.9744465 & 0.9488931\\\\\n",
       "\t 10        & 0.1222222 & 0.8777778 & 0.7619048 & 0.9214660 & 0.6494465 & 0.9732604 & 0.9465209\\\\\n",
       "\\end{tabular}\n"
      ],
      "text/markdown": [
       "\n",
       "iter | mmce | acc | f1 | ppv | tpr | auc | gini | \n",
       "|---|---|---|---|---|---|---|---|---|---|\n",
       "|  1        | 0.1211111 | 0.8788889 | 0.7655914 | 0.9270833 | 0.6520147 | 0.9716073 | 0.9432147 | \n",
       "|  2        | 0.1166667 | 0.8833333 | 0.7692308 | 0.9308511 | 0.6554307 | 0.9723213 | 0.9446427 | \n",
       "|  3        | 0.1188889 | 0.8811111 | 0.7616927 | 0.9395604 | 0.6404494 | 0.9744869 | 0.9489737 | \n",
       "|  4        | 0.1211111 | 0.8788889 | 0.7614880 | 0.9206349 | 0.6492537 | 0.9730836 | 0.9461671 | \n",
       "|  5        | 0.1266667 | 0.8733333 | 0.7500000 | 0.9193548 | 0.6333333 | 0.9701646 | 0.9403292 | \n",
       "|  6        | 0.1222222 | 0.8777778 | 0.7598253 | 0.9206349 | 0.6468401 | 0.9697418 | 0.9394836 | \n",
       "|  7        | 0.1233333 | 0.8766667 | 0.7560440 | 0.9148936 | 0.6441948 | 0.9699724 | 0.9399447 | \n",
       "|  8        | 0.1266667 | 0.8733333 | 0.7553648 | 0.9119171 | 0.6446886 | 0.9696794 | 0.9393589 | \n",
       "|  9        | 0.1255556 | 0.8744444 | 0.7590618 | 0.9175258 | 0.6472727 | 0.9744465 | 0.9488931 | \n",
       "| 10        | 0.1222222 | 0.8777778 | 0.7619048 | 0.9214660 | 0.6494465 | 0.9732604 | 0.9465209 | \n",
       "\n",
       "\n"
      ],
      "text/plain": [
       "   iter mmce      acc       f1        ppv       tpr       auc       gini     \n",
       "1   1   0.1211111 0.8788889 0.7655914 0.9270833 0.6520147 0.9716073 0.9432147\n",
       "2   2   0.1166667 0.8833333 0.7692308 0.9308511 0.6554307 0.9723213 0.9446427\n",
       "3   3   0.1188889 0.8811111 0.7616927 0.9395604 0.6404494 0.9744869 0.9489737\n",
       "4   4   0.1211111 0.8788889 0.7614880 0.9206349 0.6492537 0.9730836 0.9461671\n",
       "5   5   0.1266667 0.8733333 0.7500000 0.9193548 0.6333333 0.9701646 0.9403292\n",
       "6   6   0.1222222 0.8777778 0.7598253 0.9206349 0.6468401 0.9697418 0.9394836\n",
       "7   7   0.1233333 0.8766667 0.7560440 0.9148936 0.6441948 0.9699724 0.9399447\n",
       "8   8   0.1266667 0.8733333 0.7553648 0.9119171 0.6446886 0.9696794 0.9393589\n",
       "9   9   0.1255556 0.8744444 0.7590618 0.9175258 0.6472727 0.9744465 0.9488931\n",
       "10 10   0.1222222 0.8777778 0.7619048 0.9214660 0.6494465 0.9732604 0.9465209"
      ]
     },
     "metadata": {},
     "output_type": "display_data"
    }
   ],
   "source": [
    "r$measures.train"
   ]
  },
  {
   "cell_type": "markdown",
   "metadata": {},
   "source": [
    "Test Measures"
   ]
  },
  {
   "cell_type": "code",
   "execution_count": 21,
   "metadata": {
    "collapsed": false
   },
   "outputs": [
    {
     "data": {
      "text/html": [
       "<table>\n",
       "<thead><tr><th scope=col>iter</th><th scope=col>mmce</th><th scope=col>acc</th><th scope=col>f1</th><th scope=col>ppv</th><th scope=col>tpr</th><th scope=col>auc</th><th scope=col>gini</th></tr></thead>\n",
       "<tbody>\n",
       "\t<tr><td> 1       </td><td>0.20     </td><td>0.80     </td><td>0.5238095</td><td>0.7333333</td><td>0.4074074</td><td>0.7283105</td><td>0.4566210</td></tr>\n",
       "\t<tr><td> 2       </td><td>0.29     </td><td>0.71     </td><td>0.4313725</td><td>0.6111111</td><td>0.3333333</td><td>0.6720941</td><td>0.3441882</td></tr>\n",
       "\t<tr><td> 3       </td><td>0.27     </td><td>0.73     </td><td>0.4905660</td><td>0.6500000</td><td>0.3939394</td><td>0.7365445</td><td>0.4730891</td></tr>\n",
       "\t<tr><td> 4       </td><td>0.31     </td><td>0.69     </td><td>0.4150943</td><td>0.5238095</td><td>0.3437500</td><td>0.7192096</td><td>0.4384191</td></tr>\n",
       "\t<tr><td> 5       </td><td>0.26     </td><td>0.74     </td><td>0.4800000</td><td>0.6000000</td><td>0.4000000</td><td>0.7788095</td><td>0.5576190</td></tr>\n",
       "\t<tr><td> 6       </td><td>0.26     </td><td>0.74     </td><td>0.4583333</td><td>0.6470588</td><td>0.3548387</td><td>0.7428705</td><td>0.4857410</td></tr>\n",
       "\t<tr><td> 7       </td><td>0.24     </td><td>0.76     </td><td>0.5862069</td><td>0.6800000</td><td>0.5151515</td><td>0.7720488</td><td>0.5440977</td></tr>\n",
       "\t<tr><td> 8       </td><td>0.20     </td><td>0.80     </td><td>0.5238095</td><td>0.7333333</td><td>0.4074074</td><td>0.7841197</td><td>0.5682395</td></tr>\n",
       "\t<tr><td> 9       </td><td>0.23     </td><td>0.77     </td><td>0.4102564</td><td>0.5714286</td><td>0.3200000</td><td>0.7320000</td><td>0.4640000</td></tr>\n",
       "\t<tr><td>10       </td><td>0.24     </td><td>0.76     </td><td>0.4782609</td><td>0.6470588</td><td>0.3793103</td><td>0.7661486</td><td>0.5322972</td></tr>\n",
       "</tbody>\n",
       "</table>\n"
      ],
      "text/latex": [
       "\\begin{tabular}{r|llllllll}\n",
       " iter & mmce & acc & f1 & ppv & tpr & auc & gini\\\\\n",
       "\\hline\n",
       "\t  1        & 0.20      & 0.80      & 0.5238095 & 0.7333333 & 0.4074074 & 0.7283105 & 0.4566210\\\\\n",
       "\t  2        & 0.29      & 0.71      & 0.4313725 & 0.6111111 & 0.3333333 & 0.6720941 & 0.3441882\\\\\n",
       "\t  3        & 0.27      & 0.73      & 0.4905660 & 0.6500000 & 0.3939394 & 0.7365445 & 0.4730891\\\\\n",
       "\t  4        & 0.31      & 0.69      & 0.4150943 & 0.5238095 & 0.3437500 & 0.7192096 & 0.4384191\\\\\n",
       "\t  5        & 0.26      & 0.74      & 0.4800000 & 0.6000000 & 0.4000000 & 0.7788095 & 0.5576190\\\\\n",
       "\t  6        & 0.26      & 0.74      & 0.4583333 & 0.6470588 & 0.3548387 & 0.7428705 & 0.4857410\\\\\n",
       "\t  7        & 0.24      & 0.76      & 0.5862069 & 0.6800000 & 0.5151515 & 0.7720488 & 0.5440977\\\\\n",
       "\t  8        & 0.20      & 0.80      & 0.5238095 & 0.7333333 & 0.4074074 & 0.7841197 & 0.5682395\\\\\n",
       "\t  9        & 0.23      & 0.77      & 0.4102564 & 0.5714286 & 0.3200000 & 0.7320000 & 0.4640000\\\\\n",
       "\t 10        & 0.24      & 0.76      & 0.4782609 & 0.6470588 & 0.3793103 & 0.7661486 & 0.5322972\\\\\n",
       "\\end{tabular}\n"
      ],
      "text/markdown": [
       "\n",
       "iter | mmce | acc | f1 | ppv | tpr | auc | gini | \n",
       "|---|---|---|---|---|---|---|---|---|---|\n",
       "|  1        | 0.20      | 0.80      | 0.5238095 | 0.7333333 | 0.4074074 | 0.7283105 | 0.4566210 | \n",
       "|  2        | 0.29      | 0.71      | 0.4313725 | 0.6111111 | 0.3333333 | 0.6720941 | 0.3441882 | \n",
       "|  3        | 0.27      | 0.73      | 0.4905660 | 0.6500000 | 0.3939394 | 0.7365445 | 0.4730891 | \n",
       "|  4        | 0.31      | 0.69      | 0.4150943 | 0.5238095 | 0.3437500 | 0.7192096 | 0.4384191 | \n",
       "|  5        | 0.26      | 0.74      | 0.4800000 | 0.6000000 | 0.4000000 | 0.7788095 | 0.5576190 | \n",
       "|  6        | 0.26      | 0.74      | 0.4583333 | 0.6470588 | 0.3548387 | 0.7428705 | 0.4857410 | \n",
       "|  7        | 0.24      | 0.76      | 0.5862069 | 0.6800000 | 0.5151515 | 0.7720488 | 0.5440977 | \n",
       "|  8        | 0.20      | 0.80      | 0.5238095 | 0.7333333 | 0.4074074 | 0.7841197 | 0.5682395 | \n",
       "|  9        | 0.23      | 0.77      | 0.4102564 | 0.5714286 | 0.3200000 | 0.7320000 | 0.4640000 | \n",
       "| 10        | 0.24      | 0.76      | 0.4782609 | 0.6470588 | 0.3793103 | 0.7661486 | 0.5322972 | \n",
       "\n",
       "\n"
      ],
      "text/plain": [
       "   iter mmce acc  f1        ppv       tpr       auc       gini     \n",
       "1   1   0.20 0.80 0.5238095 0.7333333 0.4074074 0.7283105 0.4566210\n",
       "2   2   0.29 0.71 0.4313725 0.6111111 0.3333333 0.6720941 0.3441882\n",
       "3   3   0.27 0.73 0.4905660 0.6500000 0.3939394 0.7365445 0.4730891\n",
       "4   4   0.31 0.69 0.4150943 0.5238095 0.3437500 0.7192096 0.4384191\n",
       "5   5   0.26 0.74 0.4800000 0.6000000 0.4000000 0.7788095 0.5576190\n",
       "6   6   0.26 0.74 0.4583333 0.6470588 0.3548387 0.7428705 0.4857410\n",
       "7   7   0.24 0.76 0.5862069 0.6800000 0.5151515 0.7720488 0.5440977\n",
       "8   8   0.20 0.80 0.5238095 0.7333333 0.4074074 0.7841197 0.5682395\n",
       "9   9   0.23 0.77 0.4102564 0.5714286 0.3200000 0.7320000 0.4640000\n",
       "10 10   0.24 0.76 0.4782609 0.6470588 0.3793103 0.7661486 0.5322972"
      ]
     },
     "metadata": {},
     "output_type": "display_data"
    }
   ],
   "source": [
    "r$measures.test"
   ]
  },
  {
   "cell_type": "markdown",
   "metadata": {},
   "source": [
    "Train Aggregated Result"
   ]
  },
  {
   "cell_type": "code",
   "execution_count": 22,
   "metadata": {
    "collapsed": false
   },
   "outputs": [
    {
     "data": {
      "text/html": [
       "<dl class=dl-horizontal>\n",
       "\t<dt>iter</dt>\n",
       "\t\t<dd>5.5</dd>\n",
       "\t<dt>mmce</dt>\n",
       "\t\t<dd>0.122444444444444</dd>\n",
       "\t<dt>acc</dt>\n",
       "\t\t<dd>0.877555555555556</dd>\n",
       "\t<dt>f1</dt>\n",
       "\t\t<dd>0.760020346841865</dd>\n",
       "\t<dt>ppv</dt>\n",
       "\t\t<dd>0.922392197395221</dd>\n",
       "\t<dt>tpr</dt>\n",
       "\t\t<dd>0.646292463818351</dd>\n",
       "\t<dt>auc</dt>\n",
       "\t\t<dd>0.971876426838332</dd>\n",
       "\t<dt>gini</dt>\n",
       "\t\t<dd>0.943752853676664</dd>\n",
       "</dl>\n"
      ],
      "text/latex": [
       "\\begin{description*}\n",
       "\\item[iter] 5.5\n",
       "\\item[mmce] 0.122444444444444\n",
       "\\item[acc] 0.877555555555556\n",
       "\\item[f1] 0.760020346841865\n",
       "\\item[ppv] 0.922392197395221\n",
       "\\item[tpr] 0.646292463818351\n",
       "\\item[auc] 0.971876426838332\n",
       "\\item[gini] 0.943752853676664\n",
       "\\end{description*}\n"
      ],
      "text/markdown": [
       "iter\n",
       ":   5.5mmce\n",
       ":   0.122444444444444acc\n",
       ":   0.877555555555556f1\n",
       ":   0.760020346841865ppv\n",
       ":   0.922392197395221tpr\n",
       ":   0.646292463818351auc\n",
       ":   0.971876426838332gini\n",
       ":   0.943752853676664\n",
       "\n"
      ],
      "text/plain": [
       "     iter      mmce       acc        f1       ppv       tpr       auc      gini \n",
       "5.5000000 0.1224444 0.8775556 0.7600203 0.9223922 0.6462925 0.9718764 0.9437529 "
      ]
     },
     "metadata": {},
     "output_type": "display_data"
    }
   ],
   "source": [
    "apply(r$measures.train,2,mean)"
   ]
  },
  {
   "cell_type": "markdown",
   "metadata": {},
   "source": [
    "Test Aggregated Result"
   ]
  },
  {
   "cell_type": "code",
   "execution_count": 23,
   "metadata": {
    "collapsed": false
   },
   "outputs": [
    {
     "data": {
      "text/html": [
       "<dl class=dl-horizontal>\n",
       "\t<dt>iter</dt>\n",
       "\t\t<dd>5.5</dd>\n",
       "\t<dt>mmce</dt>\n",
       "\t\t<dd>0.25</dd>\n",
       "\t<dt>acc</dt>\n",
       "\t\t<dd>0.75</dd>\n",
       "\t<dt>f1</dt>\n",
       "\t\t<dd>0.479770948370383</dd>\n",
       "\t<dt>ppv</dt>\n",
       "\t\t<dd>0.63971335200747</dd>\n",
       "\t<dt>tpr</dt>\n",
       "\t\t<dd>0.385513811174406</dd>\n",
       "\t<dt>auc</dt>\n",
       "\t\t<dd>0.743215590888962</dd>\n",
       "\t<dt>gini</dt>\n",
       "\t\t<dd>0.486431181777924</dd>\n",
       "</dl>\n"
      ],
      "text/latex": [
       "\\begin{description*}\n",
       "\\item[iter] 5.5\n",
       "\\item[mmce] 0.25\n",
       "\\item[acc] 0.75\n",
       "\\item[f1] 0.479770948370383\n",
       "\\item[ppv] 0.63971335200747\n",
       "\\item[tpr] 0.385513811174406\n",
       "\\item[auc] 0.743215590888962\n",
       "\\item[gini] 0.486431181777924\n",
       "\\end{description*}\n"
      ],
      "text/markdown": [
       "iter\n",
       ":   5.5mmce\n",
       ":   0.25acc\n",
       ":   0.75f1\n",
       ":   0.479770948370383ppv\n",
       ":   0.63971335200747tpr\n",
       ":   0.385513811174406auc\n",
       ":   0.743215590888962gini\n",
       ":   0.486431181777924\n",
       "\n"
      ],
      "text/plain": [
       "     iter      mmce       acc        f1       ppv       tpr       auc      gini \n",
       "5.5000000 0.2500000 0.7500000 0.4797709 0.6397134 0.3855138 0.7432156 0.4864312 "
      ]
     },
     "metadata": {},
     "output_type": "display_data"
    }
   ],
   "source": [
    "apply(r$measures.test,2,mean)"
   ]
  },
  {
   "cell_type": "markdown",
   "metadata": {},
   "source": [
    "Run Time in seconds"
   ]
  },
  {
   "cell_type": "code",
   "execution_count": 24,
   "metadata": {
    "collapsed": false
   },
   "outputs": [
    {
     "data": {
      "text/html": [
       "2.47172594070435"
      ],
      "text/latex": [
       "2.47172594070435"
      ],
      "text/markdown": [
       "2.47172594070435"
      ],
      "text/plain": [
       "[1] 2.471726"
      ]
     },
     "metadata": {},
     "output_type": "display_data"
    }
   ],
   "source": [
    "r$runtime"
   ]
  },
  {
   "cell_type": "markdown",
   "metadata": {},
   "source": [
    "<h2>4. Prediction for new data</h2>"
   ]
  },
  {
   "cell_type": "markdown",
   "metadata": {},
   "source": [
    "Read the data to predict"
   ]
  },
  {
   "cell_type": "code",
   "execution_count": 25,
   "metadata": {
    "collapsed": true
   },
   "outputs": [],
   "source": [
    "new.data = read.csv(file=sprintf('%s/%s', folder_name, file_name))"
   ]
  },
  {
   "cell_type": "markdown",
   "metadata": {},
   "source": [
    "Search for the best model in crossvalidation and use it to score the incoming data"
   ]
  },
  {
   "cell_type": "code",
   "execution_count": 26,
   "metadata": {
    "collapsed": false
   },
   "outputs": [],
   "source": [
    "best.model = which.max(r$measures.test$acc)"
   ]
  },
  {
   "cell_type": "code",
   "execution_count": 27,
   "metadata": {
    "collapsed": false
   },
   "outputs": [],
   "source": [
    "pred = predict(r$models[[best.model]], newdata = new.data)"
   ]
  },
  {
   "cell_type": "markdown",
   "metadata": {},
   "source": [
    "Prediction Result"
   ]
  },
  {
   "cell_type": "code",
   "execution_count": 28,
   "metadata": {
    "collapsed": false
   },
   "outputs": [
    {
     "data": {
      "text/plain": [
       "Prediction: 1000 observations\n",
       "predict.type: prob\n",
       "threshold: 1=0.50,2=0.50\n",
       "time: 0.40\n",
       "  truth    prob.1     prob.2 response\n",
       "1     1 0.9822112 0.01778882        1\n",
       "2     2 0.2957408 0.70425921        2\n",
       "3     1 1.0000000 0.00000000        1\n",
       "4     1 0.6284030 0.37159702        1\n",
       "5     2 0.2002128 0.79978718        2\n",
       "6     1 0.7618780 0.23812202        1\n",
       "... (#rows: 1000, #cols: 4)"
      ]
     },
     "metadata": {},
     "output_type": "display_data"
    }
   ],
   "source": [
    "pred"
   ]
  },
  {
   "cell_type": "markdown",
   "metadata": {},
   "source": [
    "Cast result to data.frame to access the prediction"
   ]
  },
  {
   "cell_type": "code",
   "execution_count": 29,
   "metadata": {
    "collapsed": false
   },
   "outputs": [
    {
     "data": {
      "text/html": [
       "<table>\n",
       "<thead><tr><th scope=col>truth</th><th scope=col>prob.1</th><th scope=col>prob.2</th><th scope=col>response</th></tr></thead>\n",
       "<tbody>\n",
       "\t<tr><td>1         </td><td>0.9822112 </td><td>0.01778882</td><td>1         </td></tr>\n",
       "\t<tr><td>2         </td><td>0.2957408 </td><td>0.70425921</td><td>2         </td></tr>\n",
       "\t<tr><td>1         </td><td>1.0000000 </td><td>0.00000000</td><td>1         </td></tr>\n",
       "\t<tr><td>1         </td><td>0.6284030 </td><td>0.37159702</td><td>1         </td></tr>\n",
       "\t<tr><td>2         </td><td>0.2002128 </td><td>0.79978718</td><td>2         </td></tr>\n",
       "\t<tr><td>1         </td><td>0.7618780 </td><td>0.23812202</td><td>1         </td></tr>\n",
       "</tbody>\n",
       "</table>\n"
      ],
      "text/latex": [
       "\\begin{tabular}{r|llll}\n",
       " truth & prob.1 & prob.2 & response\\\\\n",
       "\\hline\n",
       "\t 1          & 0.9822112  & 0.01778882 & 1         \\\\\n",
       "\t 2          & 0.2957408  & 0.70425921 & 2         \\\\\n",
       "\t 1          & 1.0000000  & 0.00000000 & 1         \\\\\n",
       "\t 1          & 0.6284030  & 0.37159702 & 1         \\\\\n",
       "\t 2          & 0.2002128  & 0.79978718 & 2         \\\\\n",
       "\t 1          & 0.7618780  & 0.23812202 & 1         \\\\\n",
       "\\end{tabular}\n"
      ],
      "text/markdown": [
       "\n",
       "truth | prob.1 | prob.2 | response | \n",
       "|---|---|---|---|---|---|\n",
       "| 1          | 0.9822112  | 0.01778882 | 1          | \n",
       "| 2          | 0.2957408  | 0.70425921 | 2          | \n",
       "| 1          | 1.0000000  | 0.00000000 | 1          | \n",
       "| 1          | 0.6284030  | 0.37159702 | 1          | \n",
       "| 2          | 0.2002128  | 0.79978718 | 2          | \n",
       "| 1          | 0.7618780  | 0.23812202 | 1          | \n",
       "\n",
       "\n"
      ],
      "text/plain": [
       "  truth prob.1    prob.2     response\n",
       "1 1     0.9822112 0.01778882 1       \n",
       "2 2     0.2957408 0.70425921 2       \n",
       "3 1     1.0000000 0.00000000 1       \n",
       "4 1     0.6284030 0.37159702 1       \n",
       "5 2     0.2002128 0.79978718 2       \n",
       "6 1     0.7618780 0.23812202 1       "
      ]
     },
     "metadata": {},
     "output_type": "display_data"
    }
   ],
   "source": [
    "head(as.data.frame(pred))"
   ]
  }
 ],
 "metadata": {
  "kernelspec": {
   "display_name": "R",
   "language": "R",
   "name": "ir"
  },
  "language_info": {
   "codemirror_mode": "r",
   "file_extension": ".r",
   "mimetype": "text/x-r-source",
   "name": "R",
   "pygments_lexer": "r",
   "version": "3.4.2"
  }
 },
 "nbformat": 4,
 "nbformat_minor": 2
}
