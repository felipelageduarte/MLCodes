{
 "cells": [
  {
   "cell_type": "markdown",
   "metadata": {},
   "source": [
    "<h1>L2-Regularized Logistic Regression</h1>"
   ]
  },
  {
   "cell_type": "code",
   "execution_count": 1,
   "metadata": {
    "collapsed": false
   },
   "outputs": [
    {
     "name": "stderr",
     "output_type": "stream",
     "text": [
      "Loading required package: ParamHelpers\n",
      "Warning message:\n",
      "“replacing previous import ‘BBmisc::isFALSE’ by ‘backports::isFALSE’ when loading ‘mlr’”"
     ]
    }
   ],
   "source": [
    "library(mlr)\n",
    "source('../utils.r')\n",
    "\n",
    "set.seed(42)\n",
    "\n",
    "folder_name = '../../raw_data' \n",
    "file_name   = 'german.csv'"
   ]
  },
  {
   "cell_type": "markdown",
   "metadata": {},
   "source": [
    "<h2>1. Dataprep</h2>"
   ]
  },
  {
   "cell_type": "code",
   "execution_count": 2,
   "metadata": {
    "collapsed": false
   },
   "outputs": [],
   "source": [
    "data = read.csv(file=sprintf('%s/%s',folder_name,file_name))"
   ]
  },
  {
   "cell_type": "code",
   "execution_count": 3,
   "metadata": {
    "collapsed": false
   },
   "outputs": [
    {
     "name": "stdout",
     "output_type": "stream",
     "text": [
      "NRow: 1000\n",
      "NCol: 22"
     ]
    },
    {
     "data": {
      "text/html": [
       "<table>\n",
       "<thead><tr><th scope=col>X</th><th scope=col>V1</th><th scope=col>V2</th><th scope=col>V3</th><th scope=col>V4</th><th scope=col>V5</th><th scope=col>V6</th><th scope=col>V7</th><th scope=col>V8</th><th scope=col>V9</th><th scope=col>⋯</th><th scope=col>V12</th><th scope=col>V13</th><th scope=col>V14</th><th scope=col>V15</th><th scope=col>V16</th><th scope=col>V17</th><th scope=col>V18</th><th scope=col>V19</th><th scope=col>V20</th><th scope=col>V21</th></tr></thead>\n",
       "<tbody>\n",
       "\t<tr><td>1   </td><td>A11 </td><td> 6  </td><td>A34 </td><td>A43 </td><td>1169</td><td>A65 </td><td>A75 </td><td>4   </td><td>A93 </td><td>⋯   </td><td>A121</td><td>67  </td><td>A143</td><td>A152</td><td>2   </td><td>A173</td><td>good</td><td>A192</td><td>A201</td><td>1   </td></tr>\n",
       "\t<tr><td>2   </td><td>A12 </td><td>48  </td><td>A32 </td><td>A43 </td><td>5951</td><td>A61 </td><td>A73 </td><td>2   </td><td>A92 </td><td>⋯   </td><td>A121</td><td>22  </td><td>A143</td><td>A152</td><td>1   </td><td>A173</td><td>good</td><td>A191</td><td>A201</td><td>2   </td></tr>\n",
       "\t<tr><td>3   </td><td>A14 </td><td>12  </td><td>A34 </td><td>A46 </td><td>2096</td><td>A61 </td><td>A74 </td><td>2   </td><td>A93 </td><td>⋯   </td><td>A121</td><td>49  </td><td>A143</td><td>A152</td><td>1   </td><td>A172</td><td>bad </td><td>A191</td><td>A201</td><td>1   </td></tr>\n",
       "\t<tr><td>4   </td><td>A11 </td><td>42  </td><td>A32 </td><td>A42 </td><td>7882</td><td>A61 </td><td>A74 </td><td>2   </td><td>A93 </td><td>⋯   </td><td>A122</td><td>45  </td><td>A143</td><td>A153</td><td>1   </td><td>A173</td><td>bad </td><td>A191</td><td>A201</td><td>1   </td></tr>\n",
       "\t<tr><td>5   </td><td>A11 </td><td>24  </td><td>A33 </td><td>A40 </td><td>4870</td><td>A61 </td><td>A73 </td><td>3   </td><td>A93 </td><td>⋯   </td><td>A124</td><td>53  </td><td>A143</td><td>A153</td><td>2   </td><td>A173</td><td>bad </td><td>A191</td><td>A201</td><td>2   </td></tr>\n",
       "\t<tr><td>6   </td><td>A14 </td><td>36  </td><td>A32 </td><td>A46 </td><td>9055</td><td>A65 </td><td>A73 </td><td>2   </td><td>A93 </td><td>⋯   </td><td>A124</td><td>35  </td><td>A143</td><td>A153</td><td>1   </td><td>A172</td><td>bad </td><td>A192</td><td>A201</td><td>1   </td></tr>\n",
       "</tbody>\n",
       "</table>\n"
      ],
      "text/latex": [
       "\\begin{tabular}{r|llllllllllllllllllllll}\n",
       " X & V1 & V2 & V3 & V4 & V5 & V6 & V7 & V8 & V9 & ⋯ & V12 & V13 & V14 & V15 & V16 & V17 & V18 & V19 & V20 & V21\\\\\n",
       "\\hline\n",
       "\t 1    & A11  &  6   & A34  & A43  & 1169 & A65  & A75  & 4    & A93  & ⋯    & A121 & 67   & A143 & A152 & 2    & A173 & good & A192 & A201 & 1   \\\\\n",
       "\t 2    & A12  & 48   & A32  & A43  & 5951 & A61  & A73  & 2    & A92  & ⋯    & A121 & 22   & A143 & A152 & 1    & A173 & good & A191 & A201 & 2   \\\\\n",
       "\t 3    & A14  & 12   & A34  & A46  & 2096 & A61  & A74  & 2    & A93  & ⋯    & A121 & 49   & A143 & A152 & 1    & A172 & bad  & A191 & A201 & 1   \\\\\n",
       "\t 4    & A11  & 42   & A32  & A42  & 7882 & A61  & A74  & 2    & A93  & ⋯    & A122 & 45   & A143 & A153 & 1    & A173 & bad  & A191 & A201 & 1   \\\\\n",
       "\t 5    & A11  & 24   & A33  & A40  & 4870 & A61  & A73  & 3    & A93  & ⋯    & A124 & 53   & A143 & A153 & 2    & A173 & bad  & A191 & A201 & 2   \\\\\n",
       "\t 6    & A14  & 36   & A32  & A46  & 9055 & A65  & A73  & 2    & A93  & ⋯    & A124 & 35   & A143 & A153 & 1    & A172 & bad  & A192 & A201 & 1   \\\\\n",
       "\\end{tabular}\n"
      ],
      "text/markdown": [
       "\n",
       "X | V1 | V2 | V3 | V4 | V5 | V6 | V7 | V8 | V9 | ⋯ | V12 | V13 | V14 | V15 | V16 | V17 | V18 | V19 | V20 | V21 | \n",
       "|---|---|---|---|---|---|\n",
       "| 1    | A11  |  6   | A34  | A43  | 1169 | A65  | A75  | 4    | A93  | ⋯    | A121 | 67   | A143 | A152 | 2    | A173 | good | A192 | A201 | 1    | \n",
       "| 2    | A12  | 48   | A32  | A43  | 5951 | A61  | A73  | 2    | A92  | ⋯    | A121 | 22   | A143 | A152 | 1    | A173 | good | A191 | A201 | 2    | \n",
       "| 3    | A14  | 12   | A34  | A46  | 2096 | A61  | A74  | 2    | A93  | ⋯    | A121 | 49   | A143 | A152 | 1    | A172 | bad  | A191 | A201 | 1    | \n",
       "| 4    | A11  | 42   | A32  | A42  | 7882 | A61  | A74  | 2    | A93  | ⋯    | A122 | 45   | A143 | A153 | 1    | A173 | bad  | A191 | A201 | 1    | \n",
       "| 5    | A11  | 24   | A33  | A40  | 4870 | A61  | A73  | 3    | A93  | ⋯    | A124 | 53   | A143 | A153 | 2    | A173 | bad  | A191 | A201 | 2    | \n",
       "| 6    | A14  | 36   | A32  | A46  | 9055 | A65  | A73  | 2    | A93  | ⋯    | A124 | 35   | A143 | A153 | 1    | A172 | bad  | A192 | A201 | 1    | \n",
       "\n",
       "\n"
      ],
      "text/plain": [
       "  X V1  V2 V3  V4  V5   V6  V7  V8 V9  ⋯ V12  V13 V14  V15  V16 V17  V18  V19 \n",
       "1 1 A11  6 A34 A43 1169 A65 A75 4  A93 ⋯ A121 67  A143 A152 2   A173 good A192\n",
       "2 2 A12 48 A32 A43 5951 A61 A73 2  A92 ⋯ A121 22  A143 A152 1   A173 good A191\n",
       "3 3 A14 12 A34 A46 2096 A61 A74 2  A93 ⋯ A121 49  A143 A152 1   A172 bad  A191\n",
       "4 4 A11 42 A32 A42 7882 A61 A74 2  A93 ⋯ A122 45  A143 A153 1   A173 bad  A191\n",
       "5 5 A11 24 A33 A40 4870 A61 A73 3  A93 ⋯ A124 53  A143 A153 2   A173 bad  A191\n",
       "6 6 A14 36 A32 A46 9055 A65 A73 2  A93 ⋯ A124 35  A143 A153 1   A172 bad  A192\n",
       "  V20  V21\n",
       "1 A201 1  \n",
       "2 A201 2  \n",
       "3 A201 1  \n",
       "4 A201 1  \n",
       "5 A201 2  \n",
       "6 A201 1  "
      ]
     },
     "metadata": {},
     "output_type": "display_data"
    }
   ],
   "source": [
    "cat(sprintf('NRow: %d\\nNCol: %d',nrow(data), ncol(data)))\n",
    "head(data)"
   ]
  },
  {
   "cell_type": "markdown",
   "metadata": {},
   "source": [
    "<p style='color: red'> ATENTION: </p>Specifically in R, in classification problem, target must be set as Factor."
   ]
  },
  {
   "cell_type": "code",
   "execution_count": 4,
   "metadata": {
    "collapsed": true
   },
   "outputs": [],
   "source": [
    "data$V21 = as.factor(data$V21)"
   ]
  },
  {
   "cell_type": "markdown",
   "metadata": {},
   "source": [
    "MLR works only with features and target, this means that others columns must be dorped."
   ]
  },
  {
   "cell_type": "code",
   "execution_count": 5,
   "metadata": {
    "collapsed": false
   },
   "outputs": [
    {
     "name": "stdout",
     "output_type": "stream",
     "text": [
      "NRow: 1000\n",
      "NCol: 21"
     ]
    }
   ],
   "source": [
    "drops = c('X')\n",
    "data  = data[ , !(names(data) %in% drops)]\n",
    "cat(sprintf('NRow: %d\\nNCol: %d',nrow(data), ncol(data)))"
   ]
  },
  {
   "cell_type": "markdown",
   "metadata": {},
   "source": [
    "Function\n",
    "```R\n",
    "createDummyFeatures(obj, target = character(0L), method = \"1-of-n\",  cols = NULL)\n",
    "```\n",
    "\n",
    "Doc.: https://www.rdocumentation.org/packages/mlr/versions/2.10/topics/createDummyFeatures"
   ]
  },
  {
   "cell_type": "code",
   "execution_count": 6,
   "metadata": {
    "collapsed": false
   },
   "outputs": [
    {
     "name": "stdout",
     "output_type": "stream",
     "text": [
      "NRow: 1000\n",
      "NCol: 63"
     ]
    }
   ],
   "source": [
    "data = createDummyFeatures(obj = data, target = 'V21')\n",
    "cat(sprintf('NRow: %d\\nNCol: %d',nrow(data), ncol(data)))"
   ]
  },
  {
   "cell_type": "markdown",
   "metadata": {},
   "source": [
    "<h2>2. Modeling</h2>"
   ]
  },
  {
   "cell_type": "markdown",
   "metadata": {},
   "source": [
    "Function\n",
    "```R\n",
    "makeLearner(cl, id = cl, predict.type = \"response\", predict.threshold = NULL, \n",
    "            fix.factors.prediction = FALSE, ..., par.vals = list(), config = list())\n",
    "```\n",
    "Param.:\n",
    "\n",
    "* cl: [character(1)] Class of learner. By convention, all classification learners start with “classif.”. A list of all integrated learners is available on the learners help page < https://mlr-org.github.io/mlr-tutorial/release/html/integrated_learners/ >.\n",
    "* predict: [character(1)] “response” (= labels) or “prob” (= probabilities and labels by selecting the ones with maximal probability). Default is “response”.\n",
    "* par.vals: [list] Optional list of named (hyper)parameters. The arguments in ... take precedence over values in this list. We strongly encourage you to use one or the other to pass (hyper)parameters to the learner but not both.\n",
    "\n",
    "Doc.: https://www.rdocumentation.org/packages/mlr/versions/2.10/topics/makeLearner"
   ]
  },
  {
   "cell_type": "code",
   "execution_count": 7,
   "metadata": {
    "collapsed": true
   },
   "outputs": [],
   "source": [
    "cl = \"classif.LiblineaRL2LogReg\""
   ]
  },
  {
   "cell_type": "markdown",
   "metadata": {},
   "source": [
    "List all parameters that can be used in this classifier. The value must be set in par.vals parameter."
   ]
  },
  {
   "cell_type": "code",
   "execution_count": 8,
   "metadata": {
    "collapsed": false
   },
   "outputs": [
    {
     "data": {
      "text/plain": [
       "                 Type  len   Def      Constr Req Tunable Trafo\n",
       "type         discrete    -     0         0,7   -    TRUE     -\n",
       "cost          numeric    -     1    0 to Inf   -    TRUE     -\n",
       "epsilon       numeric    -     -    0 to Inf   -    TRUE     -\n",
       "bias          logical    -  TRUE           -   -    TRUE     -\n",
       "wi      numericvector <NA>     - -Inf to Inf   -    TRUE     -\n",
       "cross         integer    -     0    0 to Inf   -   FALSE     -\n",
       "verbose       logical    - FALSE           -   -   FALSE     -"
      ]
     },
     "metadata": {},
     "output_type": "display_data"
    }
   ],
   "source": [
    "getParamSet(cl)"
   ]
  },
  {
   "cell_type": "code",
   "execution_count": 9,
   "metadata": {
    "collapsed": false
   },
   "outputs": [],
   "source": [
    "learner = makeLearner(cl = cl\n",
    "                     , predict.type = \"prob\"\n",
    "                     , par.vals = list()\n",
    "                     )"
   ]
  },
  {
   "cell_type": "markdown",
   "metadata": {},
   "source": [
    "Function\n",
    "```R\n",
    "makeClassifTask(id = deparse(substitute(data)), data, target, weights = NULL, blocking = NULL, \n",
    "                positive = NA_character_, fixup.data = \"warn\", check.data = TRUE)\n",
    "```\n",
    "Param.:\n",
    "\n",
    "* data: [data.frame] A data frame containing the features and target variable(s).\n",
    "* target: [character(1)] Name of the target variable.\n",
    "* positive: [character(1)] Positive class for binary classification (otherwise ignored and set to NA). Default is the first factor level of the target attribute.\n",
    "* fixup.data: [character(1)] Should some basic cleaning up of data be performed? Currently this means removing empty factor levels for the columns. Possible coices are: “no” = Don't do it. “warn” = Do it but warn about it. “quiet” = Do it but keep silent. Default is “warn”.\n",
    "\n",
    "Doc.: https://www.rdocumentation.org/packages/mlr/versions/2.10/topics/makeLearner"
   ]
  },
  {
   "cell_type": "code",
   "execution_count": 10,
   "metadata": {
    "collapsed": false
   },
   "outputs": [],
   "source": [
    "task = makeClassifTask( data = data\n",
    "                      , target = 'V21'\n",
    "                      , positive = '2'\n",
    "                      , fixup.data = 'no'\n",
    "                      )"
   ]
  },
  {
   "cell_type": "markdown",
   "metadata": {},
   "source": [
    "Function:\n",
    "```R\n",
    "makeResampleDesc(method, predict = \"test\", ..., stratify = FALSE, stratify.cols = NULL)\n",
    "```\n",
    "Param.:\n",
    "\n",
    "* method: [character(1)] “CV” for cross-validation, “LOO” for leave-one-out, “RepCV” for repeated cross-validation, “Bootstrap” for out-of-bag bootstrap, “Subsample” for subsampling, “Holdout” for holdout.\n",
    "* predict: What to predict during resampling: “train”, “test” or “both” sets. Default is “test”.\n",
    "* ... : [any] Further parameters for strategies.\n",
    "    * iters [integer(1)] Number of iterations, for “CV”, “Subsample” and “Boostrap”.\n",
    "    * split [numeric(1)] Proportion of training cases for “Holdout” and “Subsample” between 0 and 1. Default is 2/3.\n",
    "    * reps [integer(1)] Repeats for “RepCV”. Here iters = folds * reps. Default is 10.\n",
    "    * folds [integer(1)] Folds in the repeated CV for RepCV. Here iters = folds * reps. Default is 10.\n",
    "\n",
    "Doc.: https://www.rdocumentation.org/packages/mlr/versions/2.10/topics/makeResampleDesc"
   ]
  },
  {
   "cell_type": "code",
   "execution_count": 11,
   "metadata": {
    "collapsed": false
   },
   "outputs": [],
   "source": [
    "resample = makeResampleDesc( method = \"CV\"\n",
    "                           , iters = 10\n",
    "                           , predict = 'both'\n",
    "                           , stratify = FALSE\n",
    "                           )"
   ]
  },
  {
   "cell_type": "markdown",
   "metadata": {},
   "source": [
    "List of performance measures:\n",
    "\n",
    "Doc.: http://mlr-org.github.io/mlr-tutorial/release/html/measures/"
   ]
  },
  {
   "cell_type": "code",
   "execution_count": 12,
   "metadata": {
    "collapsed": false
   },
   "outputs": [],
   "source": [
    "measures = list(mmce #MMCE \n",
    "               ,acc  #acuracia\n",
    "               ,f1   #f1\n",
    "               ,ppv  #precision\n",
    "               ,tpr  #recall\n",
    "               ,auc  #AUC\n",
    "               ,gini #Gini\n",
    "               ,timetrain #tempo execucao\n",
    "               )"
   ]
  },
  {
   "cell_type": "markdown",
   "metadata": {},
   "source": [
    "Function:\n",
    "```R\n",
    "resample(learner, task, resampling, measures, weights = NULL, models = FALSE, extract, \n",
    "         keep.pred = TRUE, ..., show.info = getMlrOption(\"show.info\"))\n",
    "```\n",
    "Param.:\n",
    "\n",
    "* learner: [Learner] The learner.\n",
    "* task: [Task] The task.\n",
    "* resampling: [ResampleInstance] Resampling strategy.\n",
    "* measures: [Measure | list of Measure] Performance measure(s) to evaluate. Default is mean misclassification error (mmce)\n",
    "* weights: [numeric] Optional, non-negative case weight vector to be used during fitting. If given, must be of same length as observations in task and in corresponding order. Overwrites weights specified in the task. By default NULL which means no weights are used unless specified in the task.\n",
    "* models: [logical(1)] Should all fitted models be returned? Default is FALSE.\n",
    "* keep.pred: [logical(1)] Keep the prediction data in the pred slot of the result object. If you do many experiments (on larger data sets) these objects might unnecessarily increase object size / mem usage, if you do not really need them. In this case you can set this argument to FALSE. Default is TRUE.\n",
    "* show.info: [logical(1)] Print verbose output on console? Default is set via configureMlr.\n",
    "\n",
    "Doc.: https://www.rdocumentation.org/packages/mlr/versions/2.10/topics/resample"
   ]
  },
  {
   "cell_type": "code",
   "execution_count": 13,
   "metadata": {
    "collapsed": false
   },
   "outputs": [
    {
     "name": "stderr",
     "output_type": "stream",
     "text": [
      "[Resample] cross-validation iter 1: mmce.test.mean=0.24,acc.test.mean=0.76,f1.test.mean=0.25,ppv.test.mean= 0.8,tpr.test.mean=0.148,auc.test.mean=0.62,gini.test.mean=0.241,timetrain.test.mean=0.006\n",
      "[Resample] cross-validation iter 2: mmce.test.mean=0.34,acc.test.mean=0.66,f1.test.mean=   0,ppv.test.mean=   0,tpr.test.mean=   0,auc.test.mean=0.594,gini.test.mean=0.188,timetrain.test.mean=0.083\n",
      "[Resample] cross-validation iter 3: mmce.test.mean=0.33,acc.test.mean=0.67,f1.test.mean=   0,ppv.test.mean=   0,tpr.test.mean=   0,auc.test.mean=0.567,gini.test.mean=0.133,timetrain.test.mean=0.004\n",
      "[Resample] cross-validation iter 4: mmce.test.mean=0.32,acc.test.mean=0.68,f1.test.mean=   0,ppv.test.mean=   1,tpr.test.mean=   0,auc.test.mean=0.533,gini.test.mean=0.0662,timetrain.test.mean=0.006\n",
      "[Resample] cross-validation iter 5: mmce.test.mean= 0.3,acc.test.mean= 0.7,f1.test.mean=   0,ppv.test.mean=   1,tpr.test.mean=   0,auc.test.mean=0.703,gini.test.mean=0.407,timetrain.test.mean=0.009\n",
      "[Resample] cross-validation iter 6: mmce.test.mean= 0.3,acc.test.mean= 0.7,f1.test.mean=0.118,ppv.test.mean=0.667,tpr.test.mean=0.0645,auc.test.mean=0.569,gini.test.mean=0.139,timetrain.test.mean=0.008\n",
      "[Resample] cross-validation iter 7: mmce.test.mean= 0.3,acc.test.mean= 0.7,f1.test.mean=0.25,ppv.test.mean=0.714,tpr.test.mean=0.152,auc.test.mean=0.616,gini.test.mean=0.232,timetrain.test.mean=0.004\n",
      "[Resample] cross-validation iter 8: mmce.test.mean=0.24,acc.test.mean=0.76,f1.test.mean= 0.2,ppv.test.mean=   1,tpr.test.mean=0.111,auc.test.mean=0.646,gini.test.mean=0.293,timetrain.test.mean=0.012\n",
      "[Resample] cross-validation iter 9: mmce.test.mean=0.23,acc.test.mean=0.77,f1.test.mean=0.148,ppv.test.mean=   1,tpr.test.mean=0.08,auc.test.mean=0.645,gini.test.mean=0.29,timetrain.test.mean=0.008\n",
      "[Resample] cross-validation iter 10: mmce.test.mean= 0.3,acc.test.mean= 0.7,f1.test.mean=   0,ppv.test.mean=   0,tpr.test.mean=   0,auc.test.mean=0.495,gini.test.mean=-0.0102,timetrain.test.mean=0.005\n",
      "[Resample] Aggr. Result: mmce.test.mean=0.29,acc.test.mean=0.71,f1.test.mean=0.0966,ppv.test.mean=0.618,tpr.test.mean=0.0555,auc.test.mean=0.599,gini.test.mean=0.198,timetrain.test.mean=0.0145\n"
     ]
    }
   ],
   "source": [
    "r = resample(learner = learner\n",
    "            ,task = task \n",
    "            ,resampling = resample \n",
    "            ,measures = measures\n",
    "            #---------------------#\n",
    "            ,models = TRUE\n",
    "            ,keep.pred = FALSE\n",
    "            ,show.info = TRUE)"
   ]
  },
  {
   "cell_type": "markdown",
   "metadata": {},
   "source": [
    "<h2>3. Result Analysis</h2>"
   ]
  },
  {
   "cell_type": "markdown",
   "metadata": {},
   "source": [
    "Train Measures"
   ]
  },
  {
   "cell_type": "code",
   "execution_count": 14,
   "metadata": {
    "collapsed": false
   },
   "outputs": [
    {
     "data": {
      "text/html": [
       "<table>\n",
       "<thead><tr><th scope=col>iter</th><th scope=col>mmce</th><th scope=col>acc</th><th scope=col>f1</th><th scope=col>ppv</th><th scope=col>tpr</th><th scope=col>auc</th><th scope=col>gini</th><th scope=col>timetrain</th></tr></thead>\n",
       "<tbody>\n",
       "\t<tr><td> 1        </td><td>0.2955556 </td><td>0.7044444 </td><td>0.10738255</td><td>0.6400000 </td><td>0.05860806</td><td>0.5895975 </td><td>0.1791951 </td><td>0.006     </td></tr>\n",
       "\t<tr><td> 2        </td><td>0.2855556 </td><td>0.7144444 </td><td>0.11072664</td><td>0.7272727 </td><td>0.05992509</td><td>0.6065167 </td><td>0.2130335 </td><td>0.083     </td></tr>\n",
       "\t<tr><td> 3        </td><td>0.2922222 </td><td>0.7077778 </td><td>0.03663004</td><td>0.8333333 </td><td>0.01872659</td><td>0.5810214 </td><td>0.1620427 </td><td>0.004     </td></tr>\n",
       "\t<tr><td> 4        </td><td>0.2911111 </td><td>0.7088889 </td><td>0.06428571</td><td>0.7500000 </td><td>0.03358209</td><td>0.5901663 </td><td>0.1803325 </td><td>0.006     </td></tr>\n",
       "\t<tr><td> 5        </td><td>0.2855556 </td><td>0.7144444 </td><td>0.14046823</td><td>0.7241379 </td><td>0.07777778</td><td>0.6095297 </td><td>0.2190594 </td><td>0.009     </td></tr>\n",
       "\t<tr><td> 6        </td><td>0.2922222 </td><td>0.7077778 </td><td>0.10847458</td><td>0.6153846 </td><td>0.05947955</td><td>0.6003688 </td><td>0.2007376 </td><td>0.008     </td></tr>\n",
       "\t<tr><td> 7        </td><td>0.2877778 </td><td>0.7122222 </td><td>0.08480565</td><td>0.7500000 </td><td>0.04494382</td><td>0.6136109 </td><td>0.2272219 </td><td>0.004     </td></tr>\n",
       "\t<tr><td> 8        </td><td>0.2944444 </td><td>0.7055556 </td><td>0.09556314</td><td>0.7000000 </td><td>0.05128205</td><td>0.6107168 </td><td>0.2214335 </td><td>0.012     </td></tr>\n",
       "\t<tr><td> 9        </td><td>0.2966667 </td><td>0.7033333 </td><td>0.08873720</td><td>0.7222222 </td><td>0.04727273</td><td>0.5786182 </td><td>0.1572364 </td><td>0.008     </td></tr>\n",
       "\t<tr><td>10        </td><td>0.2877778 </td><td>0.7122222 </td><td>0.12794613</td><td>0.7307692 </td><td>0.07011070</td><td>0.5980148 </td><td>0.1960295 </td><td>0.005     </td></tr>\n",
       "</tbody>\n",
       "</table>\n"
      ],
      "text/latex": [
       "\\begin{tabular}{r|lllllllll}\n",
       " iter & mmce & acc & f1 & ppv & tpr & auc & gini & timetrain\\\\\n",
       "\\hline\n",
       "\t  1         & 0.2955556  & 0.7044444  & 0.10738255 & 0.6400000  & 0.05860806 & 0.5895975  & 0.1791951  & 0.006     \\\\\n",
       "\t  2         & 0.2855556  & 0.7144444  & 0.11072664 & 0.7272727  & 0.05992509 & 0.6065167  & 0.2130335  & 0.083     \\\\\n",
       "\t  3         & 0.2922222  & 0.7077778  & 0.03663004 & 0.8333333  & 0.01872659 & 0.5810214  & 0.1620427  & 0.004     \\\\\n",
       "\t  4         & 0.2911111  & 0.7088889  & 0.06428571 & 0.7500000  & 0.03358209 & 0.5901663  & 0.1803325  & 0.006     \\\\\n",
       "\t  5         & 0.2855556  & 0.7144444  & 0.14046823 & 0.7241379  & 0.07777778 & 0.6095297  & 0.2190594  & 0.009     \\\\\n",
       "\t  6         & 0.2922222  & 0.7077778  & 0.10847458 & 0.6153846  & 0.05947955 & 0.6003688  & 0.2007376  & 0.008     \\\\\n",
       "\t  7         & 0.2877778  & 0.7122222  & 0.08480565 & 0.7500000  & 0.04494382 & 0.6136109  & 0.2272219  & 0.004     \\\\\n",
       "\t  8         & 0.2944444  & 0.7055556  & 0.09556314 & 0.7000000  & 0.05128205 & 0.6107168  & 0.2214335  & 0.012     \\\\\n",
       "\t  9         & 0.2966667  & 0.7033333  & 0.08873720 & 0.7222222  & 0.04727273 & 0.5786182  & 0.1572364  & 0.008     \\\\\n",
       "\t 10         & 0.2877778  & 0.7122222  & 0.12794613 & 0.7307692  & 0.07011070 & 0.5980148  & 0.1960295  & 0.005     \\\\\n",
       "\\end{tabular}\n"
      ],
      "text/markdown": [
       "\n",
       "iter | mmce | acc | f1 | ppv | tpr | auc | gini | timetrain | \n",
       "|---|---|---|---|---|---|---|---|---|---|\n",
       "|  1         | 0.2955556  | 0.7044444  | 0.10738255 | 0.6400000  | 0.05860806 | 0.5895975  | 0.1791951  | 0.006      | \n",
       "|  2         | 0.2855556  | 0.7144444  | 0.11072664 | 0.7272727  | 0.05992509 | 0.6065167  | 0.2130335  | 0.083      | \n",
       "|  3         | 0.2922222  | 0.7077778  | 0.03663004 | 0.8333333  | 0.01872659 | 0.5810214  | 0.1620427  | 0.004      | \n",
       "|  4         | 0.2911111  | 0.7088889  | 0.06428571 | 0.7500000  | 0.03358209 | 0.5901663  | 0.1803325  | 0.006      | \n",
       "|  5         | 0.2855556  | 0.7144444  | 0.14046823 | 0.7241379  | 0.07777778 | 0.6095297  | 0.2190594  | 0.009      | \n",
       "|  6         | 0.2922222  | 0.7077778  | 0.10847458 | 0.6153846  | 0.05947955 | 0.6003688  | 0.2007376  | 0.008      | \n",
       "|  7         | 0.2877778  | 0.7122222  | 0.08480565 | 0.7500000  | 0.04494382 | 0.6136109  | 0.2272219  | 0.004      | \n",
       "|  8         | 0.2944444  | 0.7055556  | 0.09556314 | 0.7000000  | 0.05128205 | 0.6107168  | 0.2214335  | 0.012      | \n",
       "|  9         | 0.2966667  | 0.7033333  | 0.08873720 | 0.7222222  | 0.04727273 | 0.5786182  | 0.1572364  | 0.008      | \n",
       "| 10         | 0.2877778  | 0.7122222  | 0.12794613 | 0.7307692  | 0.07011070 | 0.5980148  | 0.1960295  | 0.005      | \n",
       "\n",
       "\n"
      ],
      "text/plain": [
       "   iter mmce      acc       f1         ppv       tpr        auc       gini     \n",
       "1   1   0.2955556 0.7044444 0.10738255 0.6400000 0.05860806 0.5895975 0.1791951\n",
       "2   2   0.2855556 0.7144444 0.11072664 0.7272727 0.05992509 0.6065167 0.2130335\n",
       "3   3   0.2922222 0.7077778 0.03663004 0.8333333 0.01872659 0.5810214 0.1620427\n",
       "4   4   0.2911111 0.7088889 0.06428571 0.7500000 0.03358209 0.5901663 0.1803325\n",
       "5   5   0.2855556 0.7144444 0.14046823 0.7241379 0.07777778 0.6095297 0.2190594\n",
       "6   6   0.2922222 0.7077778 0.10847458 0.6153846 0.05947955 0.6003688 0.2007376\n",
       "7   7   0.2877778 0.7122222 0.08480565 0.7500000 0.04494382 0.6136109 0.2272219\n",
       "8   8   0.2944444 0.7055556 0.09556314 0.7000000 0.05128205 0.6107168 0.2214335\n",
       "9   9   0.2966667 0.7033333 0.08873720 0.7222222 0.04727273 0.5786182 0.1572364\n",
       "10 10   0.2877778 0.7122222 0.12794613 0.7307692 0.07011070 0.5980148 0.1960295\n",
       "   timetrain\n",
       "1  0.006    \n",
       "2  0.083    \n",
       "3  0.004    \n",
       "4  0.006    \n",
       "5  0.009    \n",
       "6  0.008    \n",
       "7  0.004    \n",
       "8  0.012    \n",
       "9  0.008    \n",
       "10 0.005    "
      ]
     },
     "metadata": {},
     "output_type": "display_data"
    }
   ],
   "source": [
    "r$measures.train"
   ]
  },
  {
   "cell_type": "markdown",
   "metadata": {},
   "source": [
    "Test Measures"
   ]
  },
  {
   "cell_type": "code",
   "execution_count": 15,
   "metadata": {
    "collapsed": false
   },
   "outputs": [
    {
     "data": {
      "text/html": [
       "<table>\n",
       "<thead><tr><th scope=col>iter</th><th scope=col>mmce</th><th scope=col>acc</th><th scope=col>f1</th><th scope=col>ppv</th><th scope=col>tpr</th><th scope=col>auc</th><th scope=col>gini</th><th scope=col>timetrain</th></tr></thead>\n",
       "<tbody>\n",
       "\t<tr><td> 1         </td><td>0.24       </td><td>0.76       </td><td>0.2500000  </td><td>0.8000000  </td><td>0.14814815 </td><td>0.6204972  </td><td> 0.24099442</td><td>0.006      </td></tr>\n",
       "\t<tr><td> 2         </td><td>0.34       </td><td>0.66       </td><td>0.0000000  </td><td>0.0000000  </td><td>0.00000000 </td><td>0.5938489  </td><td> 0.18769787</td><td>0.083      </td></tr>\n",
       "\t<tr><td> 3         </td><td>0.33       </td><td>0.67       </td><td>0.0000000  </td><td>0.0000000  </td><td>0.00000000 </td><td>0.5667119  </td><td> 0.13342379</td><td>0.004      </td></tr>\n",
       "\t<tr><td> 4         </td><td>0.32       </td><td>0.68       </td><td>0.0000000  </td><td>1.0000000  </td><td>0.00000000 </td><td>0.5330882  </td><td> 0.06617647</td><td>0.006      </td></tr>\n",
       "\t<tr><td> 5         </td><td>0.30       </td><td>0.70       </td><td>0.0000000  </td><td>1.0000000  </td><td>0.00000000 </td><td>0.7033333  </td><td> 0.40666667</td><td>0.009      </td></tr>\n",
       "\t<tr><td> 6         </td><td>0.30       </td><td>0.70       </td><td>0.1176471  </td><td>0.6666667  </td><td>0.06451613 </td><td>0.5694250  </td><td> 0.13884993</td><td>0.008      </td></tr>\n",
       "\t<tr><td> 7         </td><td>0.30       </td><td>0.70       </td><td>0.2500000  </td><td>0.7142857  </td><td>0.15151515 </td><td>0.6160109  </td><td> 0.23202171</td><td>0.004      </td></tr>\n",
       "\t<tr><td> 8         </td><td>0.24       </td><td>0.76       </td><td>0.2000000  </td><td>1.0000000  </td><td>0.11111111 </td><td>0.6463724  </td><td> 0.29274480</td><td>0.012      </td></tr>\n",
       "\t<tr><td> 9         </td><td>0.23       </td><td>0.77       </td><td>0.1481481  </td><td>1.0000000  </td><td>0.08000000 </td><td>0.6448000  </td><td> 0.28960000</td><td>0.008      </td></tr>\n",
       "\t<tr><td>10         </td><td>0.30       </td><td>0.70       </td><td>0.0000000  </td><td>0.0000000  </td><td>0.00000000 </td><td>0.4949004  </td><td>-0.01019913</td><td>0.005      </td></tr>\n",
       "</tbody>\n",
       "</table>\n"
      ],
      "text/latex": [
       "\\begin{tabular}{r|lllllllll}\n",
       " iter & mmce & acc & f1 & ppv & tpr & auc & gini & timetrain\\\\\n",
       "\\hline\n",
       "\t  1          & 0.24        & 0.76        & 0.2500000   & 0.8000000   & 0.14814815  & 0.6204972   &  0.24099442 & 0.006      \\\\\n",
       "\t  2          & 0.34        & 0.66        & 0.0000000   & 0.0000000   & 0.00000000  & 0.5938489   &  0.18769787 & 0.083      \\\\\n",
       "\t  3          & 0.33        & 0.67        & 0.0000000   & 0.0000000   & 0.00000000  & 0.5667119   &  0.13342379 & 0.004      \\\\\n",
       "\t  4          & 0.32        & 0.68        & 0.0000000   & 1.0000000   & 0.00000000  & 0.5330882   &  0.06617647 & 0.006      \\\\\n",
       "\t  5          & 0.30        & 0.70        & 0.0000000   & 1.0000000   & 0.00000000  & 0.7033333   &  0.40666667 & 0.009      \\\\\n",
       "\t  6          & 0.30        & 0.70        & 0.1176471   & 0.6666667   & 0.06451613  & 0.5694250   &  0.13884993 & 0.008      \\\\\n",
       "\t  7          & 0.30        & 0.70        & 0.2500000   & 0.7142857   & 0.15151515  & 0.6160109   &  0.23202171 & 0.004      \\\\\n",
       "\t  8          & 0.24        & 0.76        & 0.2000000   & 1.0000000   & 0.11111111  & 0.6463724   &  0.29274480 & 0.012      \\\\\n",
       "\t  9          & 0.23        & 0.77        & 0.1481481   & 1.0000000   & 0.08000000  & 0.6448000   &  0.28960000 & 0.008      \\\\\n",
       "\t 10          & 0.30        & 0.70        & 0.0000000   & 0.0000000   & 0.00000000  & 0.4949004   & -0.01019913 & 0.005      \\\\\n",
       "\\end{tabular}\n"
      ],
      "text/markdown": [
       "\n",
       "iter | mmce | acc | f1 | ppv | tpr | auc | gini | timetrain | \n",
       "|---|---|---|---|---|---|---|---|---|---|\n",
       "|  1          | 0.24        | 0.76        | 0.2500000   | 0.8000000   | 0.14814815  | 0.6204972   |  0.24099442 | 0.006       | \n",
       "|  2          | 0.34        | 0.66        | 0.0000000   | 0.0000000   | 0.00000000  | 0.5938489   |  0.18769787 | 0.083       | \n",
       "|  3          | 0.33        | 0.67        | 0.0000000   | 0.0000000   | 0.00000000  | 0.5667119   |  0.13342379 | 0.004       | \n",
       "|  4          | 0.32        | 0.68        | 0.0000000   | 1.0000000   | 0.00000000  | 0.5330882   |  0.06617647 | 0.006       | \n",
       "|  5          | 0.30        | 0.70        | 0.0000000   | 1.0000000   | 0.00000000  | 0.7033333   |  0.40666667 | 0.009       | \n",
       "|  6          | 0.30        | 0.70        | 0.1176471   | 0.6666667   | 0.06451613  | 0.5694250   |  0.13884993 | 0.008       | \n",
       "|  7          | 0.30        | 0.70        | 0.2500000   | 0.7142857   | 0.15151515  | 0.6160109   |  0.23202171 | 0.004       | \n",
       "|  8          | 0.24        | 0.76        | 0.2000000   | 1.0000000   | 0.11111111  | 0.6463724   |  0.29274480 | 0.012       | \n",
       "|  9          | 0.23        | 0.77        | 0.1481481   | 1.0000000   | 0.08000000  | 0.6448000   |  0.28960000 | 0.008       | \n",
       "| 10          | 0.30        | 0.70        | 0.0000000   | 0.0000000   | 0.00000000  | 0.4949004   | -0.01019913 | 0.005       | \n",
       "\n",
       "\n"
      ],
      "text/plain": [
       "   iter mmce acc  f1        ppv       tpr        auc       gini       \n",
       "1   1   0.24 0.76 0.2500000 0.8000000 0.14814815 0.6204972  0.24099442\n",
       "2   2   0.34 0.66 0.0000000 0.0000000 0.00000000 0.5938489  0.18769787\n",
       "3   3   0.33 0.67 0.0000000 0.0000000 0.00000000 0.5667119  0.13342379\n",
       "4   4   0.32 0.68 0.0000000 1.0000000 0.00000000 0.5330882  0.06617647\n",
       "5   5   0.30 0.70 0.0000000 1.0000000 0.00000000 0.7033333  0.40666667\n",
       "6   6   0.30 0.70 0.1176471 0.6666667 0.06451613 0.5694250  0.13884993\n",
       "7   7   0.30 0.70 0.2500000 0.7142857 0.15151515 0.6160109  0.23202171\n",
       "8   8   0.24 0.76 0.2000000 1.0000000 0.11111111 0.6463724  0.29274480\n",
       "9   9   0.23 0.77 0.1481481 1.0000000 0.08000000 0.6448000  0.28960000\n",
       "10 10   0.30 0.70 0.0000000 0.0000000 0.00000000 0.4949004 -0.01019913\n",
       "   timetrain\n",
       "1  0.006    \n",
       "2  0.083    \n",
       "3  0.004    \n",
       "4  0.006    \n",
       "5  0.009    \n",
       "6  0.008    \n",
       "7  0.004    \n",
       "8  0.012    \n",
       "9  0.008    \n",
       "10 0.005    "
      ]
     },
     "metadata": {},
     "output_type": "display_data"
    }
   ],
   "source": [
    "r$measures.test"
   ]
  },
  {
   "cell_type": "markdown",
   "metadata": {},
   "source": [
    "Train Aggregated Result"
   ]
  },
  {
   "cell_type": "code",
   "execution_count": 16,
   "metadata": {
    "collapsed": false
   },
   "outputs": [
    {
     "data": {
      "text/html": [
       "<dl class=dl-horizontal>\n",
       "\t<dt>iter</dt>\n",
       "\t\t<dd>5.5</dd>\n",
       "\t<dt>mmce</dt>\n",
       "\t\t<dd>0.290888888888889</dd>\n",
       "\t<dt>acc</dt>\n",
       "\t\t<dd>0.709111111111111</dd>\n",
       "\t<dt>f1</dt>\n",
       "\t\t<dd>0.0965019871499177</dd>\n",
       "\t<dt>ppv</dt>\n",
       "\t\t<dd>0.719312006001661</dd>\n",
       "\t<dt>tpr</dt>\n",
       "\t\t<dd>0.0521708465121188</dd>\n",
       "\t<dt>auc</dt>\n",
       "\t\t<dd>0.597816104416536</dd>\n",
       "\t<dt>gini</dt>\n",
       "\t\t<dd>0.195632208833071</dd>\n",
       "\t<dt>timetrain</dt>\n",
       "\t\t<dd>0.0145</dd>\n",
       "</dl>\n"
      ],
      "text/latex": [
       "\\begin{description*}\n",
       "\\item[iter] 5.5\n",
       "\\item[mmce] 0.290888888888889\n",
       "\\item[acc] 0.709111111111111\n",
       "\\item[f1] 0.0965019871499177\n",
       "\\item[ppv] 0.719312006001661\n",
       "\\item[tpr] 0.0521708465121188\n",
       "\\item[auc] 0.597816104416536\n",
       "\\item[gini] 0.195632208833071\n",
       "\\item[timetrain] 0.0145\n",
       "\\end{description*}\n"
      ],
      "text/markdown": [
       "iter\n",
       ":   5.5mmce\n",
       ":   0.290888888888889acc\n",
       ":   0.709111111111111f1\n",
       ":   0.0965019871499177ppv\n",
       ":   0.719312006001661tpr\n",
       ":   0.0521708465121188auc\n",
       ":   0.597816104416536gini\n",
       ":   0.195632208833071timetrain\n",
       ":   0.0145\n",
       "\n"
      ],
      "text/plain": [
       "      iter       mmce        acc         f1        ppv        tpr        auc \n",
       "5.50000000 0.29088889 0.70911111 0.09650199 0.71931201 0.05217085 0.59781610 \n",
       "      gini  timetrain \n",
       "0.19563221 0.01450000 "
      ]
     },
     "metadata": {},
     "output_type": "display_data"
    }
   ],
   "source": [
    "apply(r$measures.train,2,mean)"
   ]
  },
  {
   "cell_type": "markdown",
   "metadata": {},
   "source": [
    "Test Aggregated Result"
   ]
  },
  {
   "cell_type": "code",
   "execution_count": 17,
   "metadata": {
    "collapsed": false
   },
   "outputs": [
    {
     "data": {
      "text/html": [
       "<dl class=dl-horizontal>\n",
       "\t<dt>iter</dt>\n",
       "\t\t<dd>5.5</dd>\n",
       "\t<dt>mmce</dt>\n",
       "\t\t<dd>0.29</dd>\n",
       "\t<dt>acc</dt>\n",
       "\t\t<dd>0.71</dd>\n",
       "\t<dt>f1</dt>\n",
       "\t\t<dd>0.0965795206971678</dd>\n",
       "\t<dt>ppv</dt>\n",
       "\t\t<dd>0.618095238095238</dd>\n",
       "\t<dt>tpr</dt>\n",
       "\t\t<dd>0.0555290539806669</dd>\n",
       "\t<dt>auc</dt>\n",
       "\t\t<dd>0.598898826702454</dd>\n",
       "\t<dt>gini</dt>\n",
       "\t\t<dd>0.197797653404908</dd>\n",
       "\t<dt>timetrain</dt>\n",
       "\t\t<dd>0.0145</dd>\n",
       "</dl>\n"
      ],
      "text/latex": [
       "\\begin{description*}\n",
       "\\item[iter] 5.5\n",
       "\\item[mmce] 0.29\n",
       "\\item[acc] 0.71\n",
       "\\item[f1] 0.0965795206971678\n",
       "\\item[ppv] 0.618095238095238\n",
       "\\item[tpr] 0.0555290539806669\n",
       "\\item[auc] 0.598898826702454\n",
       "\\item[gini] 0.197797653404908\n",
       "\\item[timetrain] 0.0145\n",
       "\\end{description*}\n"
      ],
      "text/markdown": [
       "iter\n",
       ":   5.5mmce\n",
       ":   0.29acc\n",
       ":   0.71f1\n",
       ":   0.0965795206971678ppv\n",
       ":   0.618095238095238tpr\n",
       ":   0.0555290539806669auc\n",
       ":   0.598898826702454gini\n",
       ":   0.197797653404908timetrain\n",
       ":   0.0145\n",
       "\n"
      ],
      "text/plain": [
       "      iter       mmce        acc         f1        ppv        tpr        auc \n",
       "5.50000000 0.29000000 0.71000000 0.09657952 0.61809524 0.05552905 0.59889883 \n",
       "      gini  timetrain \n",
       "0.19779765 0.01450000 "
      ]
     },
     "metadata": {},
     "output_type": "display_data"
    }
   ],
   "source": [
    "apply(r$measures.test,2,mean)"
   ]
  },
  {
   "cell_type": "markdown",
   "metadata": {},
   "source": [
    "Run Time in seconds"
   ]
  },
  {
   "cell_type": "code",
   "execution_count": 18,
   "metadata": {
    "collapsed": false
   },
   "outputs": [
    {
     "data": {
      "text/html": [
       "0.50543999671936"
      ],
      "text/latex": [
       "0.50543999671936"
      ],
      "text/markdown": [
       "0.50543999671936"
      ],
      "text/plain": [
       "[1] 0.50544"
      ]
     },
     "metadata": {},
     "output_type": "display_data"
    }
   ],
   "source": [
    "r$runtime"
   ]
  },
  {
   "cell_type": "markdown",
   "metadata": {},
   "source": [
    "<h2>4. Prediction for new data</h2>"
   ]
  },
  {
   "cell_type": "markdown",
   "metadata": {},
   "source": [
    "Read the data to predict"
   ]
  },
  {
   "cell_type": "code",
   "execution_count": 19,
   "metadata": {
    "collapsed": true
   },
   "outputs": [],
   "source": [
    "new.data = read.csv(file=sprintf('%s/%s', folder_name, file_name))\n",
    "new.data = createDummyFeatures(obj = new.data, target = 'V21')"
   ]
  },
  {
   "cell_type": "markdown",
   "metadata": {},
   "source": [
    "Search for the best model in crossvalidation and use it to score the incoming data"
   ]
  },
  {
   "cell_type": "code",
   "execution_count": 20,
   "metadata": {
    "collapsed": false
   },
   "outputs": [],
   "source": [
    "best.model = which.max(r$measures.test$acc)"
   ]
  },
  {
   "cell_type": "code",
   "execution_count": 21,
   "metadata": {
    "collapsed": false
   },
   "outputs": [],
   "source": [
    "pred = predict(r$models[[best.model]], newdata = new.data)"
   ]
  },
  {
   "cell_type": "markdown",
   "metadata": {},
   "source": [
    "Prediction Result"
   ]
  },
  {
   "cell_type": "code",
   "execution_count": 22,
   "metadata": {
    "collapsed": false
   },
   "outputs": [
    {
     "data": {
      "text/plain": [
       "Prediction: 1000 observations\n",
       "predict.type: prob\n",
       "threshold: 1=0.50,2=0.50\n",
       "time: 0.00\n",
       "  truth    prob.1       prob.2 response\n",
       "1     1 0.8529108 1.470892e-01        1\n",
       "2     2 1.0000000 1.148481e-09        1\n",
       "3     1 0.6904802 3.095198e-01        1\n",
       "4     1 0.9557165 4.428352e-02        1\n",
       "5     2 0.9547498 4.525016e-02        1\n",
       "6     1 0.7656937 2.343063e-01        1\n",
       "... (1000 rows, 4 cols)\n"
      ]
     },
     "metadata": {},
     "output_type": "display_data"
    }
   ],
   "source": [
    "pred"
   ]
  },
  {
   "cell_type": "markdown",
   "metadata": {},
   "source": [
    "Cast result to data.frame to access the prediction"
   ]
  },
  {
   "cell_type": "code",
   "execution_count": 23,
   "metadata": {
    "collapsed": false
   },
   "outputs": [
    {
     "data": {
      "text/html": [
       "<table>\n",
       "<thead><tr><th scope=col>truth</th><th scope=col>prob.1</th><th scope=col>prob.2</th><th scope=col>response</th></tr></thead>\n",
       "<tbody>\n",
       "\t<tr><td>1           </td><td>0.8529108   </td><td>1.470892e-01</td><td>1           </td></tr>\n",
       "\t<tr><td>2           </td><td>1.0000000   </td><td>1.148481e-09</td><td>1           </td></tr>\n",
       "\t<tr><td>1           </td><td>0.6904802   </td><td>3.095198e-01</td><td>1           </td></tr>\n",
       "\t<tr><td>1           </td><td>0.9557165   </td><td>4.428352e-02</td><td>1           </td></tr>\n",
       "\t<tr><td>2           </td><td>0.9547498   </td><td>4.525016e-02</td><td>1           </td></tr>\n",
       "\t<tr><td>1           </td><td>0.7656937   </td><td>2.343063e-01</td><td>1           </td></tr>\n",
       "</tbody>\n",
       "</table>\n"
      ],
      "text/latex": [
       "\\begin{tabular}{r|llll}\n",
       " truth & prob.1 & prob.2 & response\\\\\n",
       "\\hline\n",
       "\t 1            & 0.8529108    & 1.470892e-01 & 1           \\\\\n",
       "\t 2            & 1.0000000    & 1.148481e-09 & 1           \\\\\n",
       "\t 1            & 0.6904802    & 3.095198e-01 & 1           \\\\\n",
       "\t 1            & 0.9557165    & 4.428352e-02 & 1           \\\\\n",
       "\t 2            & 0.9547498    & 4.525016e-02 & 1           \\\\\n",
       "\t 1            & 0.7656937    & 2.343063e-01 & 1           \\\\\n",
       "\\end{tabular}\n"
      ],
      "text/markdown": [
       "\n",
       "truth | prob.1 | prob.2 | response | \n",
       "|---|---|---|---|---|---|\n",
       "| 1            | 0.8529108    | 1.470892e-01 | 1            | \n",
       "| 2            | 1.0000000    | 1.148481e-09 | 1            | \n",
       "| 1            | 0.6904802    | 3.095198e-01 | 1            | \n",
       "| 1            | 0.9557165    | 4.428352e-02 | 1            | \n",
       "| 2            | 0.9547498    | 4.525016e-02 | 1            | \n",
       "| 1            | 0.7656937    | 2.343063e-01 | 1            | \n",
       "\n",
       "\n"
      ],
      "text/plain": [
       "  truth prob.1    prob.2       response\n",
       "1 1     0.8529108 1.470892e-01 1       \n",
       "2 2     1.0000000 1.148481e-09 1       \n",
       "3 1     0.6904802 3.095198e-01 1       \n",
       "4 1     0.9557165 4.428352e-02 1       \n",
       "5 2     0.9547498 4.525016e-02 1       \n",
       "6 1     0.7656937 2.343063e-01 1       "
      ]
     },
     "metadata": {},
     "output_type": "display_data"
    }
   ],
   "source": [
    "head(as.data.frame(pred))"
   ]
  }
 ],
 "metadata": {
  "kernelspec": {
   "display_name": "R",
   "language": "R",
   "name": "ir"
  },
  "language_info": {
   "codemirror_mode": "r",
   "file_extension": ".r",
   "mimetype": "text/x-r-source",
   "name": "R",
   "pygments_lexer": "r",
   "version": "3.4.2"
  }
 },
 "nbformat": 4,
 "nbformat_minor": 2
}
