{
 "cells": [
  {
   "cell_type": "markdown",
   "metadata": {},
   "source": [
    "<h1>Decision Tree</h1>"
   ]
  },
  {
   "cell_type": "code",
   "execution_count": 111,
   "metadata": {
    "collapsed": false
   },
   "outputs": [],
   "source": [
    "library(mlr)\n",
    "source('../utils.r')\n",
    "\n",
    "set.seed(42)\n",
    "\n",
    "folder_name = '../../raw_data' \n",
    "file_name   = 'german.csv'"
   ]
  },
  {
   "cell_type": "markdown",
   "metadata": {},
   "source": [
    "<h2>1. Dataprep</h2>"
   ]
  },
  {
   "cell_type": "code",
   "execution_count": 112,
   "metadata": {
    "collapsed": false
   },
   "outputs": [],
   "source": [
    "data = read.csv(file=sprintf('%s/%s',folder_name,file_name))"
   ]
  },
  {
   "cell_type": "code",
   "execution_count": 113,
   "metadata": {
    "collapsed": false
   },
   "outputs": [
    {
     "name": "stdout",
     "output_type": "stream",
     "text": [
      "NRow: 1000\n",
      "NCol: 22"
     ]
    },
    {
     "data": {
      "text/html": [
       "<table>\n",
       "<thead><tr><th scope=col>X</th><th scope=col>V1</th><th scope=col>V2</th><th scope=col>V3</th><th scope=col>V4</th><th scope=col>V5</th><th scope=col>V6</th><th scope=col>V7</th><th scope=col>V8</th><th scope=col>V9</th><th scope=col>⋯</th><th scope=col>V12</th><th scope=col>V13</th><th scope=col>V14</th><th scope=col>V15</th><th scope=col>V16</th><th scope=col>V17</th><th scope=col>V18</th><th scope=col>V19</th><th scope=col>V20</th><th scope=col>V21</th></tr></thead>\n",
       "<tbody>\n",
       "\t<tr><td>1   </td><td>A11 </td><td> 6  </td><td>A34 </td><td>A43 </td><td>1169</td><td>A65 </td><td>A75 </td><td>4   </td><td>A93 </td><td>⋯   </td><td>A121</td><td>67  </td><td>A143</td><td>A152</td><td>2   </td><td>A173</td><td>good</td><td>A192</td><td>A201</td><td>1   </td></tr>\n",
       "\t<tr><td>2   </td><td>A12 </td><td>48  </td><td>A32 </td><td>A43 </td><td>5951</td><td>A61 </td><td>A73 </td><td>2   </td><td>A92 </td><td>⋯   </td><td>A121</td><td>22  </td><td>A143</td><td>A152</td><td>1   </td><td>A173</td><td>good</td><td>A191</td><td>A201</td><td>2   </td></tr>\n",
       "\t<tr><td>3   </td><td>A14 </td><td>12  </td><td>A34 </td><td>A46 </td><td>2096</td><td>A61 </td><td>A74 </td><td>2   </td><td>A93 </td><td>⋯   </td><td>A121</td><td>49  </td><td>A143</td><td>A152</td><td>1   </td><td>A172</td><td>bad </td><td>A191</td><td>A201</td><td>1   </td></tr>\n",
       "\t<tr><td>4   </td><td>A11 </td><td>42  </td><td>A32 </td><td>A42 </td><td>7882</td><td>A61 </td><td>A74 </td><td>2   </td><td>A93 </td><td>⋯   </td><td>A122</td><td>45  </td><td>A143</td><td>A153</td><td>1   </td><td>A173</td><td>bad </td><td>A191</td><td>A201</td><td>1   </td></tr>\n",
       "\t<tr><td>5   </td><td>A11 </td><td>24  </td><td>A33 </td><td>A40 </td><td>4870</td><td>A61 </td><td>A73 </td><td>3   </td><td>A93 </td><td>⋯   </td><td>A124</td><td>53  </td><td>A143</td><td>A153</td><td>2   </td><td>A173</td><td>bad </td><td>A191</td><td>A201</td><td>2   </td></tr>\n",
       "\t<tr><td>6   </td><td>A14 </td><td>36  </td><td>A32 </td><td>A46 </td><td>9055</td><td>A65 </td><td>A73 </td><td>2   </td><td>A93 </td><td>⋯   </td><td>A124</td><td>35  </td><td>A143</td><td>A153</td><td>1   </td><td>A172</td><td>bad </td><td>A192</td><td>A201</td><td>1   </td></tr>\n",
       "</tbody>\n",
       "</table>\n"
      ],
      "text/latex": [
       "\\begin{tabular}{r|llllllllllllllllllllll}\n",
       " X & V1 & V2 & V3 & V4 & V5 & V6 & V7 & V8 & V9 & ⋯ & V12 & V13 & V14 & V15 & V16 & V17 & V18 & V19 & V20 & V21\\\\\n",
       "\\hline\n",
       "\t 1    & A11  &  6   & A34  & A43  & 1169 & A65  & A75  & 4    & A93  & ⋯    & A121 & 67   & A143 & A152 & 2    & A173 & good & A192 & A201 & 1   \\\\\n",
       "\t 2    & A12  & 48   & A32  & A43  & 5951 & A61  & A73  & 2    & A92  & ⋯    & A121 & 22   & A143 & A152 & 1    & A173 & good & A191 & A201 & 2   \\\\\n",
       "\t 3    & A14  & 12   & A34  & A46  & 2096 & A61  & A74  & 2    & A93  & ⋯    & A121 & 49   & A143 & A152 & 1    & A172 & bad  & A191 & A201 & 1   \\\\\n",
       "\t 4    & A11  & 42   & A32  & A42  & 7882 & A61  & A74  & 2    & A93  & ⋯    & A122 & 45   & A143 & A153 & 1    & A173 & bad  & A191 & A201 & 1   \\\\\n",
       "\t 5    & A11  & 24   & A33  & A40  & 4870 & A61  & A73  & 3    & A93  & ⋯    & A124 & 53   & A143 & A153 & 2    & A173 & bad  & A191 & A201 & 2   \\\\\n",
       "\t 6    & A14  & 36   & A32  & A46  & 9055 & A65  & A73  & 2    & A93  & ⋯    & A124 & 35   & A143 & A153 & 1    & A172 & bad  & A192 & A201 & 1   \\\\\n",
       "\\end{tabular}\n"
      ],
      "text/markdown": [
       "\n",
       "X | V1 | V2 | V3 | V4 | V5 | V6 | V7 | V8 | V9 | ⋯ | V12 | V13 | V14 | V15 | V16 | V17 | V18 | V19 | V20 | V21 | \n",
       "|---|---|---|---|---|---|\n",
       "| 1    | A11  |  6   | A34  | A43  | 1169 | A65  | A75  | 4    | A93  | ⋯    | A121 | 67   | A143 | A152 | 2    | A173 | good | A192 | A201 | 1    | \n",
       "| 2    | A12  | 48   | A32  | A43  | 5951 | A61  | A73  | 2    | A92  | ⋯    | A121 | 22   | A143 | A152 | 1    | A173 | good | A191 | A201 | 2    | \n",
       "| 3    | A14  | 12   | A34  | A46  | 2096 | A61  | A74  | 2    | A93  | ⋯    | A121 | 49   | A143 | A152 | 1    | A172 | bad  | A191 | A201 | 1    | \n",
       "| 4    | A11  | 42   | A32  | A42  | 7882 | A61  | A74  | 2    | A93  | ⋯    | A122 | 45   | A143 | A153 | 1    | A173 | bad  | A191 | A201 | 1    | \n",
       "| 5    | A11  | 24   | A33  | A40  | 4870 | A61  | A73  | 3    | A93  | ⋯    | A124 | 53   | A143 | A153 | 2    | A173 | bad  | A191 | A201 | 2    | \n",
       "| 6    | A14  | 36   | A32  | A46  | 9055 | A65  | A73  | 2    | A93  | ⋯    | A124 | 35   | A143 | A153 | 1    | A172 | bad  | A192 | A201 | 1    | \n",
       "\n",
       "\n"
      ],
      "text/plain": [
       "  X V1  V2 V3  V4  V5   V6  V7  V8 V9  ⋯ V12  V13 V14  V15  V16 V17  V18  V19 \n",
       "1 1 A11  6 A34 A43 1169 A65 A75 4  A93 ⋯ A121 67  A143 A152 2   A173 good A192\n",
       "2 2 A12 48 A32 A43 5951 A61 A73 2  A92 ⋯ A121 22  A143 A152 1   A173 good A191\n",
       "3 3 A14 12 A34 A46 2096 A61 A74 2  A93 ⋯ A121 49  A143 A152 1   A172 bad  A191\n",
       "4 4 A11 42 A32 A42 7882 A61 A74 2  A93 ⋯ A122 45  A143 A153 1   A173 bad  A191\n",
       "5 5 A11 24 A33 A40 4870 A61 A73 3  A93 ⋯ A124 53  A143 A153 2   A173 bad  A191\n",
       "6 6 A14 36 A32 A46 9055 A65 A73 2  A93 ⋯ A124 35  A143 A153 1   A172 bad  A192\n",
       "  V20  V21\n",
       "1 A201 1  \n",
       "2 A201 2  \n",
       "3 A201 1  \n",
       "4 A201 1  \n",
       "5 A201 2  \n",
       "6 A201 1  "
      ]
     },
     "metadata": {},
     "output_type": "display_data"
    }
   ],
   "source": [
    "cat(sprintf('NRow: %d\\nNCol: %d',nrow(data), ncol(data)))\n",
    "head(data)"
   ]
  },
  {
   "cell_type": "markdown",
   "metadata": {},
   "source": [
    "<p style='color: red'> ATENTION: </p>Specifically in R, in classification problem, target must be set as Factor."
   ]
  },
  {
   "cell_type": "code",
   "execution_count": 114,
   "metadata": {
    "collapsed": false
   },
   "outputs": [],
   "source": [
    "data$V21 = as.factor(data$V21)"
   ]
  },
  {
   "cell_type": "markdown",
   "metadata": {},
   "source": [
    "MLR works only with features and target, this means that others columns must be dorped."
   ]
  },
  {
   "cell_type": "code",
   "execution_count": 115,
   "metadata": {
    "collapsed": false
   },
   "outputs": [
    {
     "name": "stdout",
     "output_type": "stream",
     "text": [
      "NRow: 1000\n",
      "NCol: 22"
     ]
    }
   ],
   "source": [
    "drops = c()\n",
    "data  = data[ , !(names(data) %in% drops)]\n",
    "cat(sprintf('NRow: %d\\nNCol: %d',nrow(data), ncol(data)))"
   ]
  },
  {
   "cell_type": "markdown",
   "metadata": {},
   "source": [
    "<h2>2. Modeling</h2>"
   ]
  },
  {
   "cell_type": "markdown",
   "metadata": {},
   "source": [
    "Function\n",
    "```R\n",
    "makeLearner(cl, id = cl, predict.type = \"response\", predict.threshold = NULL, \n",
    "            fix.factors.prediction = FALSE, ..., par.vals = list(), config = list())\n",
    "```\n",
    "Param.:\n",
    "\n",
    "* cl: [character(1)] Class of learner. By convention, all classification learners start with “classif.”. A list of all integrated learners is available on the learners help page < https://mlr-org.github.io/mlr-tutorial/release/html/integrated_learners/ >.\n",
    "* predict: [character(1)] “response” (= labels) or “prob” (= probabilities and labels by selecting the ones with maximal probability). Default is “response”.\n",
    "* par.vals: [list] Optional list of named (hyper)parameters. The arguments in ... take precedence over values in this list. We strongly encourage you to use one or the other to pass (hyper)parameters to the learner but not both.\n",
    "\n",
    "Doc.: https://www.rdocumentation.org/packages/mlr/versions/2.10/topics/makeLearner <br>\n",
    "Rpart Parameters: https://www.rdocumentation.org/packages/rpart/versions/4.1-11/topics/rpart.control"
   ]
  },
  {
   "cell_type": "code",
   "execution_count": 136,
   "metadata": {
    "collapsed": true
   },
   "outputs": [],
   "source": [
    "cl = \"classif.rpart\""
   ]
  },
  {
   "cell_type": "markdown",
   "metadata": {},
   "source": [
    "List all parameters that can be used in this classifier.\n",
    "The value must be set in par.vals parameter."
   ]
  },
  {
   "cell_type": "code",
   "execution_count": 137,
   "metadata": {
    "collapsed": false
   },
   "outputs": [
    {
     "data": {
      "text/plain": [
       "                   Type len  Def   Constr Req Tunable Trafo\n",
       "minsplit        integer   -   20 1 to Inf   -    TRUE     -\n",
       "minbucket       integer   -    - 1 to Inf   -    TRUE     -\n",
       "cp              numeric   - 0.01   0 to 1   -    TRUE     -\n",
       "maxcompete      integer   -    4 0 to Inf   -    TRUE     -\n",
       "maxsurrogate    integer   -    5 0 to Inf   -    TRUE     -\n",
       "usesurrogate   discrete   -    2    0,1,2   -    TRUE     -\n",
       "surrogatestyle discrete   -    0      0,1   -    TRUE     -\n",
       "maxdepth        integer   -   30  1 to 30   -    TRUE     -\n",
       "xval            integer   -   10 0 to Inf   -   FALSE     -\n",
       "parms           untyped   -    -        -   -    TRUE     -"
      ]
     },
     "metadata": {},
     "output_type": "display_data"
    }
   ],
   "source": [
    "getParamSet(cl)"
   ]
  },
  {
   "cell_type": "code",
   "execution_count": 141,
   "metadata": {
    "collapsed": false
   },
   "outputs": [],
   "source": [
    "learner = makeLearner(cl = cl\n",
    "                     , predict.type = \"prob\"\n",
    "                     , par.vals = list(minsplit = 20\n",
    "                                      ,cp = 0.01 \n",
    "                                      ,parms = list(split = 'information') #gini or information\n",
    "                                      )\n",
    "                     )"
   ]
  },
  {
   "cell_type": "markdown",
   "metadata": {},
   "source": [
    "Function\n",
    "```R\n",
    "makeClassifTask(id = deparse(substitute(data)), data, target, weights = NULL, blocking = NULL, \n",
    "                positive = NA_character_, fixup.data = \"warn\", check.data = TRUE)\n",
    "```\n",
    "Param.:\n",
    "\n",
    "* data: [data.frame] A data frame containing the features and target variable(s).\n",
    "* target: [character(1)] Name of the target variable.\n",
    "* positive: [character(1)] Positive class for binary classification (otherwise ignored and set to NA). Default is the first factor level of the target attribute.\n",
    "* fixup.data: [character(1)] Should some basic cleaning up of data be performed? Currently this means removing empty factor levels for the columns. Possible coices are: “no” = Don't do it. “warn” = Do it but warn about it. “quiet” = Do it but keep silent. Default is “warn”.\n",
    "\n",
    "Doc.: https://www.rdocumentation.org/packages/mlr/versions/2.10/topics/makeLearner"
   ]
  },
  {
   "cell_type": "code",
   "execution_count": 117,
   "metadata": {
    "collapsed": false
   },
   "outputs": [],
   "source": [
    "task = makeClassifTask( data = data\n",
    "                      , target = 'V21'\n",
    "                      , positive = '2'\n",
    "                      , fixup.data = 'no'\n",
    "                      )"
   ]
  },
  {
   "cell_type": "markdown",
   "metadata": {},
   "source": [
    "Function:\n",
    "```R\n",
    "makeResampleDesc(method, predict = \"test\", ..., stratify = FALSE, stratify.cols = NULL)\n",
    "```\n",
    "Param.:\n",
    "\n",
    "* method: [character(1)] “CV” for cross-validation, “LOO” for leave-one-out, “RepCV” for repeated cross-validation, “Bootstrap” for out-of-bag bootstrap, “Subsample” for subsampling, “Holdout” for holdout.\n",
    "* predict: What to predict during resampling: “train”, “test” or “both” sets. Default is “test”.\n",
    "* ... : [any] Further parameters for strategies.\n",
    "    * iters [integer(1)] Number of iterations, for “CV”, “Subsample” and “Boostrap”.\n",
    "    * split [numeric(1)] Proportion of training cases for “Holdout” and “Subsample” between 0 and 1. Default is 2/3.\n",
    "    * reps [integer(1)] Repeats for “RepCV”. Here iters = folds * reps. Default is 10.\n",
    "    * folds [integer(1)] Folds in the repeated CV for RepCV. Here iters = folds * reps. Default is 10.\n",
    "\n",
    "Doc.: https://www.rdocumentation.org/packages/mlr/versions/2.10/topics/makeResampleDesc"
   ]
  },
  {
   "cell_type": "code",
   "execution_count": 118,
   "metadata": {
    "collapsed": false
   },
   "outputs": [],
   "source": [
    "resample = makeResampleDesc(\n",
    "    method = \"CV\",\n",
    "    iters = 10,\n",
    "    predict = 'both',\n",
    "    stratify = FALSE\n",
    ")"
   ]
  },
  {
   "cell_type": "markdown",
   "metadata": {},
   "source": [
    "List of performance measures:\n",
    "\n",
    "Doc.: http://mlr-org.github.io/mlr-tutorial/release/html/measures/"
   ]
  },
  {
   "cell_type": "code",
   "execution_count": 119,
   "metadata": {
    "collapsed": false
   },
   "outputs": [],
   "source": [
    "measures = list(mmce #MMCE \n",
    "               ,acc  #acuracia\n",
    "               ,f1   #f1\n",
    "               ,ppv  #precision\n",
    "               ,tpr  #recall\n",
    "               ,auc  #AUC\n",
    "               ,gini #Gini\n",
    "               #,timetrain #tempo execucao\n",
    "               )"
   ]
  },
  {
   "cell_type": "markdown",
   "metadata": {},
   "source": [
    "Function:\n",
    "```R\n",
    "resample(learner, task, resampling, measures, weights = NULL, models = FALSE, extract, \n",
    "         keep.pred = TRUE, ..., show.info = getMlrOption(\"show.info\"))\n",
    "```\n",
    "Param.:\n",
    "\n",
    "* learner: [Learner] The learner.\n",
    "* task: [Task] The task.\n",
    "* resampling: [ResampleInstance] Resampling strategy.\n",
    "* measures: [Measure | list of Measure] Performance measure(s) to evaluate. Default is mean misclassification error (mmce)\n",
    "* weights: [numeric] Optional, non-negative case weight vector to be used during fitting. If given, must be of same length as observations in task and in corresponding order. Overwrites weights specified in the task. By default NULL which means no weights are used unless specified in the task.\n",
    "* models: [logical(1)] Should all fitted models be returned? Default is FALSE.\n",
    "* keep.pred: [logical(1)] Keep the prediction data in the pred slot of the result object. If you do many experiments (on larger data sets) these objects might unnecessarily increase object size / mem usage, if you do not really need them. In this case you can set this argument to FALSE. Default is TRUE.\n",
    "* show.info: [logical(1)] Print verbose output on console? Default is set via configureMlr.\n",
    "\n",
    "Doc.: https://www.rdocumentation.org/packages/mlr/versions/2.10/topics/resample"
   ]
  },
  {
   "cell_type": "code",
   "execution_count": 120,
   "metadata": {
    "collapsed": false
   },
   "outputs": [
    {
     "name": "stderr",
     "output_type": "stream",
     "text": [
      "Resampling: cross-validation\n",
      "Measures:             mmce.test   acc.test    f1.test     ppv.test    tpr.test    auc.test    gini.test   \n",
      "[Resample] iter 1:    0.2600000   0.7400000   0.4090909   0.5294118   0.3333333   0.6714866   0.3429731   \n",
      "[Resample] iter 2:    0.3200000   0.6800000   0.3846154   0.5263158   0.3030303   0.6793306   0.3586612   \n",
      "[Resample] iter 3:    0.2900000   0.7100000   0.4313725   0.6111111   0.3333333   0.7360923   0.4721845   \n",
      "[Resample] iter 4:    0.2900000   0.7100000   0.4727273   0.5652174   0.4062500   0.6500460   0.3000919   \n",
      "[Resample] iter 5:    0.2600000   0.7400000   0.5806452   0.5625000   0.6000000   0.7133333   0.4266667   \n",
      "[Resample] iter 6:    0.2700000   0.7300000   0.5090909   0.5833333   0.4516129   0.7318841   0.4637681   \n",
      "[Resample] iter 7:    0.2500000   0.7500000   0.5098039   0.7222222   0.3939394   0.7057892   0.4115785   \n",
      "[Resample] iter 8:    0.2300000   0.7700000   0.4888889   0.6111111   0.4074074   0.6922882   0.3845764   \n",
      "[Resample] iter 9:    0.2200000   0.7800000   0.5217391   0.5714286   0.4800000   0.7138667   0.4277333   \n",
      "[Resample] iter 10:   0.2700000   0.7300000   0.4255319   0.5555556   0.3448276   0.7047110   0.4094220   \n",
      "\n",
      "\n",
      "Aggregated Result: mmce.test.mean=0.2660000,acc.test.mean=0.7340000,f1.test.mean=0.4733506,ppv.test.mean=0.5838207,tpr.test.mean=0.4053734,auc.test.mean=0.6998828,gini.test.mean=0.3997656\n",
      "\n",
      "\n"
     ]
    }
   ],
   "source": [
    "r = resample(learner = learner\n",
    "            ,task = task \n",
    "            ,resampling = resample \n",
    "            ,measures = measures\n",
    "            #---------------------#\n",
    "            ,models = TRUE\n",
    "            ,keep.pred = FALSE\n",
    "            ,show.info = TRUE\n",
    "            )"
   ]
  },
  {
   "cell_type": "markdown",
   "metadata": {},
   "source": [
    "<h2>3. Result Analysis</h2>"
   ]
  },
  {
   "cell_type": "markdown",
   "metadata": {},
   "source": [
    "Train Measures"
   ]
  },
  {
   "cell_type": "code",
   "execution_count": 121,
   "metadata": {
    "collapsed": false
   },
   "outputs": [
    {
     "data": {
      "text/html": [
       "<table>\n",
       "<thead><tr><th scope=col>iter</th><th scope=col>mmce</th><th scope=col>acc</th><th scope=col>f1</th><th scope=col>ppv</th><th scope=col>tpr</th><th scope=col>auc</th><th scope=col>gini</th></tr></thead>\n",
       "<tbody>\n",
       "\t<tr><td> 1       </td><td>0.2166667</td><td>0.7833333</td><td>0.5877378</td><td>0.6950000</td><td>0.5091575</td><td>0.7687021</td><td>0.5374041</td></tr>\n",
       "\t<tr><td> 2       </td><td>0.1744444</td><td>0.8255556</td><td>0.6594360</td><td>0.7835052</td><td>0.5692884</td><td>0.8061162</td><td>0.6122323</td></tr>\n",
       "\t<tr><td> 3       </td><td>0.1566667</td><td>0.8433333</td><td>0.6914661</td><td>0.8315789</td><td>0.5917603</td><td>0.8082788</td><td>0.6165575</td></tr>\n",
       "\t<tr><td> 4       </td><td>0.1800000</td><td>0.8200000</td><td>0.6772908</td><td>0.7264957</td><td>0.6343284</td><td>0.8108469</td><td>0.6216937</td></tr>\n",
       "\t<tr><td> 5       </td><td>0.1511111</td><td>0.8488889</td><td>0.7190083</td><td>0.8130841</td><td>0.6444444</td><td>0.8419959</td><td>0.6839918</td></tr>\n",
       "\t<tr><td> 6       </td><td>0.1733333</td><td>0.8266667</td><td>0.6763485</td><td>0.7652582</td><td>0.6059480</td><td>0.8016484</td><td>0.6032968</td></tr>\n",
       "\t<tr><td> 7       </td><td>0.1966667</td><td>0.8033333</td><td>0.5629630</td><td>0.8260870</td><td>0.4269663</td><td>0.7667016</td><td>0.5334032</td></tr>\n",
       "\t<tr><td> 8       </td><td>0.2300000</td><td>0.7700000</td><td>0.5306122</td><td>0.6964286</td><td>0.4285714</td><td>0.7521835</td><td>0.5043670</td></tr>\n",
       "\t<tr><td> 9       </td><td>0.1866667</td><td>0.8133333</td><td>0.6571429</td><td>0.7488372</td><td>0.5854545</td><td>0.7996655</td><td>0.5993309</td></tr>\n",
       "\t<tr><td>10       </td><td>0.1822222</td><td>0.8177778</td><td>0.6289593</td><td>0.8128655</td><td>0.5129151</td><td>0.7823054</td><td>0.5646108</td></tr>\n",
       "</tbody>\n",
       "</table>\n"
      ],
      "text/latex": [
       "\\begin{tabular}{r|llllllll}\n",
       " iter & mmce & acc & f1 & ppv & tpr & auc & gini\\\\\n",
       "\\hline\n",
       "\t  1        & 0.2166667 & 0.7833333 & 0.5877378 & 0.6950000 & 0.5091575 & 0.7687021 & 0.5374041\\\\\n",
       "\t  2        & 0.1744444 & 0.8255556 & 0.6594360 & 0.7835052 & 0.5692884 & 0.8061162 & 0.6122323\\\\\n",
       "\t  3        & 0.1566667 & 0.8433333 & 0.6914661 & 0.8315789 & 0.5917603 & 0.8082788 & 0.6165575\\\\\n",
       "\t  4        & 0.1800000 & 0.8200000 & 0.6772908 & 0.7264957 & 0.6343284 & 0.8108469 & 0.6216937\\\\\n",
       "\t  5        & 0.1511111 & 0.8488889 & 0.7190083 & 0.8130841 & 0.6444444 & 0.8419959 & 0.6839918\\\\\n",
       "\t  6        & 0.1733333 & 0.8266667 & 0.6763485 & 0.7652582 & 0.6059480 & 0.8016484 & 0.6032968\\\\\n",
       "\t  7        & 0.1966667 & 0.8033333 & 0.5629630 & 0.8260870 & 0.4269663 & 0.7667016 & 0.5334032\\\\\n",
       "\t  8        & 0.2300000 & 0.7700000 & 0.5306122 & 0.6964286 & 0.4285714 & 0.7521835 & 0.5043670\\\\\n",
       "\t  9        & 0.1866667 & 0.8133333 & 0.6571429 & 0.7488372 & 0.5854545 & 0.7996655 & 0.5993309\\\\\n",
       "\t 10        & 0.1822222 & 0.8177778 & 0.6289593 & 0.8128655 & 0.5129151 & 0.7823054 & 0.5646108\\\\\n",
       "\\end{tabular}\n"
      ],
      "text/markdown": [
       "\n",
       "iter | mmce | acc | f1 | ppv | tpr | auc | gini | \n",
       "|---|---|---|---|---|---|---|---|---|---|\n",
       "|  1        | 0.2166667 | 0.7833333 | 0.5877378 | 0.6950000 | 0.5091575 | 0.7687021 | 0.5374041 | \n",
       "|  2        | 0.1744444 | 0.8255556 | 0.6594360 | 0.7835052 | 0.5692884 | 0.8061162 | 0.6122323 | \n",
       "|  3        | 0.1566667 | 0.8433333 | 0.6914661 | 0.8315789 | 0.5917603 | 0.8082788 | 0.6165575 | \n",
       "|  4        | 0.1800000 | 0.8200000 | 0.6772908 | 0.7264957 | 0.6343284 | 0.8108469 | 0.6216937 | \n",
       "|  5        | 0.1511111 | 0.8488889 | 0.7190083 | 0.8130841 | 0.6444444 | 0.8419959 | 0.6839918 | \n",
       "|  6        | 0.1733333 | 0.8266667 | 0.6763485 | 0.7652582 | 0.6059480 | 0.8016484 | 0.6032968 | \n",
       "|  7        | 0.1966667 | 0.8033333 | 0.5629630 | 0.8260870 | 0.4269663 | 0.7667016 | 0.5334032 | \n",
       "|  8        | 0.2300000 | 0.7700000 | 0.5306122 | 0.6964286 | 0.4285714 | 0.7521835 | 0.5043670 | \n",
       "|  9        | 0.1866667 | 0.8133333 | 0.6571429 | 0.7488372 | 0.5854545 | 0.7996655 | 0.5993309 | \n",
       "| 10        | 0.1822222 | 0.8177778 | 0.6289593 | 0.8128655 | 0.5129151 | 0.7823054 | 0.5646108 | \n",
       "\n",
       "\n"
      ],
      "text/plain": [
       "   iter mmce      acc       f1        ppv       tpr       auc       gini     \n",
       "1   1   0.2166667 0.7833333 0.5877378 0.6950000 0.5091575 0.7687021 0.5374041\n",
       "2   2   0.1744444 0.8255556 0.6594360 0.7835052 0.5692884 0.8061162 0.6122323\n",
       "3   3   0.1566667 0.8433333 0.6914661 0.8315789 0.5917603 0.8082788 0.6165575\n",
       "4   4   0.1800000 0.8200000 0.6772908 0.7264957 0.6343284 0.8108469 0.6216937\n",
       "5   5   0.1511111 0.8488889 0.7190083 0.8130841 0.6444444 0.8419959 0.6839918\n",
       "6   6   0.1733333 0.8266667 0.6763485 0.7652582 0.6059480 0.8016484 0.6032968\n",
       "7   7   0.1966667 0.8033333 0.5629630 0.8260870 0.4269663 0.7667016 0.5334032\n",
       "8   8   0.2300000 0.7700000 0.5306122 0.6964286 0.4285714 0.7521835 0.5043670\n",
       "9   9   0.1866667 0.8133333 0.6571429 0.7488372 0.5854545 0.7996655 0.5993309\n",
       "10 10   0.1822222 0.8177778 0.6289593 0.8128655 0.5129151 0.7823054 0.5646108"
      ]
     },
     "metadata": {},
     "output_type": "display_data"
    }
   ],
   "source": [
    "r$measures.train"
   ]
  },
  {
   "cell_type": "markdown",
   "metadata": {},
   "source": [
    "Test Measures"
   ]
  },
  {
   "cell_type": "code",
   "execution_count": 122,
   "metadata": {
    "collapsed": false
   },
   "outputs": [
    {
     "data": {
      "text/html": [
       "<table>\n",
       "<thead><tr><th scope=col>iter</th><th scope=col>mmce</th><th scope=col>acc</th><th scope=col>f1</th><th scope=col>ppv</th><th scope=col>tpr</th><th scope=col>auc</th><th scope=col>gini</th></tr></thead>\n",
       "<tbody>\n",
       "\t<tr><td> 1       </td><td>0.26     </td><td>0.74     </td><td>0.4090909</td><td>0.5294118</td><td>0.3333333</td><td>0.6714866</td><td>0.3429731</td></tr>\n",
       "\t<tr><td> 2       </td><td>0.32     </td><td>0.68     </td><td>0.3846154</td><td>0.5263158</td><td>0.3030303</td><td>0.6793306</td><td>0.3586612</td></tr>\n",
       "\t<tr><td> 3       </td><td>0.29     </td><td>0.71     </td><td>0.4313725</td><td>0.6111111</td><td>0.3333333</td><td>0.7360923</td><td>0.4721845</td></tr>\n",
       "\t<tr><td> 4       </td><td>0.29     </td><td>0.71     </td><td>0.4727273</td><td>0.5652174</td><td>0.4062500</td><td>0.6500460</td><td>0.3000919</td></tr>\n",
       "\t<tr><td> 5       </td><td>0.26     </td><td>0.74     </td><td>0.5806452</td><td>0.5625000</td><td>0.6000000</td><td>0.7133333</td><td>0.4266667</td></tr>\n",
       "\t<tr><td> 6       </td><td>0.27     </td><td>0.73     </td><td>0.5090909</td><td>0.5833333</td><td>0.4516129</td><td>0.7318841</td><td>0.4637681</td></tr>\n",
       "\t<tr><td> 7       </td><td>0.25     </td><td>0.75     </td><td>0.5098039</td><td>0.7222222</td><td>0.3939394</td><td>0.7057892</td><td>0.4115785</td></tr>\n",
       "\t<tr><td> 8       </td><td>0.23     </td><td>0.77     </td><td>0.4888889</td><td>0.6111111</td><td>0.4074074</td><td>0.6922882</td><td>0.3845764</td></tr>\n",
       "\t<tr><td> 9       </td><td>0.22     </td><td>0.78     </td><td>0.5217391</td><td>0.5714286</td><td>0.4800000</td><td>0.7138667</td><td>0.4277333</td></tr>\n",
       "\t<tr><td>10       </td><td>0.27     </td><td>0.73     </td><td>0.4255319</td><td>0.5555556</td><td>0.3448276</td><td>0.7047110</td><td>0.4094220</td></tr>\n",
       "</tbody>\n",
       "</table>\n"
      ],
      "text/latex": [
       "\\begin{tabular}{r|llllllll}\n",
       " iter & mmce & acc & f1 & ppv & tpr & auc & gini\\\\\n",
       "\\hline\n",
       "\t  1        & 0.26      & 0.74      & 0.4090909 & 0.5294118 & 0.3333333 & 0.6714866 & 0.3429731\\\\\n",
       "\t  2        & 0.32      & 0.68      & 0.3846154 & 0.5263158 & 0.3030303 & 0.6793306 & 0.3586612\\\\\n",
       "\t  3        & 0.29      & 0.71      & 0.4313725 & 0.6111111 & 0.3333333 & 0.7360923 & 0.4721845\\\\\n",
       "\t  4        & 0.29      & 0.71      & 0.4727273 & 0.5652174 & 0.4062500 & 0.6500460 & 0.3000919\\\\\n",
       "\t  5        & 0.26      & 0.74      & 0.5806452 & 0.5625000 & 0.6000000 & 0.7133333 & 0.4266667\\\\\n",
       "\t  6        & 0.27      & 0.73      & 0.5090909 & 0.5833333 & 0.4516129 & 0.7318841 & 0.4637681\\\\\n",
       "\t  7        & 0.25      & 0.75      & 0.5098039 & 0.7222222 & 0.3939394 & 0.7057892 & 0.4115785\\\\\n",
       "\t  8        & 0.23      & 0.77      & 0.4888889 & 0.6111111 & 0.4074074 & 0.6922882 & 0.3845764\\\\\n",
       "\t  9        & 0.22      & 0.78      & 0.5217391 & 0.5714286 & 0.4800000 & 0.7138667 & 0.4277333\\\\\n",
       "\t 10        & 0.27      & 0.73      & 0.4255319 & 0.5555556 & 0.3448276 & 0.7047110 & 0.4094220\\\\\n",
       "\\end{tabular}\n"
      ],
      "text/markdown": [
       "\n",
       "iter | mmce | acc | f1 | ppv | tpr | auc | gini | \n",
       "|---|---|---|---|---|---|---|---|---|---|\n",
       "|  1        | 0.26      | 0.74      | 0.4090909 | 0.5294118 | 0.3333333 | 0.6714866 | 0.3429731 | \n",
       "|  2        | 0.32      | 0.68      | 0.3846154 | 0.5263158 | 0.3030303 | 0.6793306 | 0.3586612 | \n",
       "|  3        | 0.29      | 0.71      | 0.4313725 | 0.6111111 | 0.3333333 | 0.7360923 | 0.4721845 | \n",
       "|  4        | 0.29      | 0.71      | 0.4727273 | 0.5652174 | 0.4062500 | 0.6500460 | 0.3000919 | \n",
       "|  5        | 0.26      | 0.74      | 0.5806452 | 0.5625000 | 0.6000000 | 0.7133333 | 0.4266667 | \n",
       "|  6        | 0.27      | 0.73      | 0.5090909 | 0.5833333 | 0.4516129 | 0.7318841 | 0.4637681 | \n",
       "|  7        | 0.25      | 0.75      | 0.5098039 | 0.7222222 | 0.3939394 | 0.7057892 | 0.4115785 | \n",
       "|  8        | 0.23      | 0.77      | 0.4888889 | 0.6111111 | 0.4074074 | 0.6922882 | 0.3845764 | \n",
       "|  9        | 0.22      | 0.78      | 0.5217391 | 0.5714286 | 0.4800000 | 0.7138667 | 0.4277333 | \n",
       "| 10        | 0.27      | 0.73      | 0.4255319 | 0.5555556 | 0.3448276 | 0.7047110 | 0.4094220 | \n",
       "\n",
       "\n"
      ],
      "text/plain": [
       "   iter mmce acc  f1        ppv       tpr       auc       gini     \n",
       "1   1   0.26 0.74 0.4090909 0.5294118 0.3333333 0.6714866 0.3429731\n",
       "2   2   0.32 0.68 0.3846154 0.5263158 0.3030303 0.6793306 0.3586612\n",
       "3   3   0.29 0.71 0.4313725 0.6111111 0.3333333 0.7360923 0.4721845\n",
       "4   4   0.29 0.71 0.4727273 0.5652174 0.4062500 0.6500460 0.3000919\n",
       "5   5   0.26 0.74 0.5806452 0.5625000 0.6000000 0.7133333 0.4266667\n",
       "6   6   0.27 0.73 0.5090909 0.5833333 0.4516129 0.7318841 0.4637681\n",
       "7   7   0.25 0.75 0.5098039 0.7222222 0.3939394 0.7057892 0.4115785\n",
       "8   8   0.23 0.77 0.4888889 0.6111111 0.4074074 0.6922882 0.3845764\n",
       "9   9   0.22 0.78 0.5217391 0.5714286 0.4800000 0.7138667 0.4277333\n",
       "10 10   0.27 0.73 0.4255319 0.5555556 0.3448276 0.7047110 0.4094220"
      ]
     },
     "metadata": {},
     "output_type": "display_data"
    }
   ],
   "source": [
    "r$measures.test"
   ]
  },
  {
   "cell_type": "markdown",
   "metadata": {},
   "source": [
    "Train Aggregated Result"
   ]
  },
  {
   "cell_type": "code",
   "execution_count": 123,
   "metadata": {
    "collapsed": false
   },
   "outputs": [
    {
     "data": {
      "text/html": [
       "<dl class=dl-horizontal>\n",
       "\t<dt>iter</dt>\n",
       "\t\t<dd>5.5</dd>\n",
       "\t<dt>mmce</dt>\n",
       "\t\t<dd>0.184777777777778</dd>\n",
       "\t<dt>acc</dt>\n",
       "\t\t<dd>0.815222222222222</dd>\n",
       "\t<dt>f1</dt>\n",
       "\t\t<dd>0.639096492523549</dd>\n",
       "\t<dt>ppv</dt>\n",
       "\t\t<dd>0.769914039094396</dd>\n",
       "\t<dt>tpr</dt>\n",
       "\t\t<dd>0.550883435165192</dd>\n",
       "\t<dt>auc</dt>\n",
       "\t\t<dd>0.793844409199723</dd>\n",
       "\t<dt>gini</dt>\n",
       "\t\t<dd>0.587688818399446</dd>\n",
       "</dl>\n"
      ],
      "text/latex": [
       "\\begin{description*}\n",
       "\\item[iter] 5.5\n",
       "\\item[mmce] 0.184777777777778\n",
       "\\item[acc] 0.815222222222222\n",
       "\\item[f1] 0.639096492523549\n",
       "\\item[ppv] 0.769914039094396\n",
       "\\item[tpr] 0.550883435165192\n",
       "\\item[auc] 0.793844409199723\n",
       "\\item[gini] 0.587688818399446\n",
       "\\end{description*}\n"
      ],
      "text/markdown": [
       "iter\n",
       ":   5.5mmce\n",
       ":   0.184777777777778acc\n",
       ":   0.815222222222222f1\n",
       ":   0.639096492523549ppv\n",
       ":   0.769914039094396tpr\n",
       ":   0.550883435165192auc\n",
       ":   0.793844409199723gini\n",
       ":   0.587688818399446\n",
       "\n"
      ],
      "text/plain": [
       "     iter      mmce       acc        f1       ppv       tpr       auc      gini \n",
       "5.5000000 0.1847778 0.8152222 0.6390965 0.7699140 0.5508834 0.7938444 0.5876888 "
      ]
     },
     "metadata": {},
     "output_type": "display_data"
    }
   ],
   "source": [
    "apply(r$measures.train,2,mean)"
   ]
  },
  {
   "cell_type": "markdown",
   "metadata": {},
   "source": [
    "Test Aggregated Result"
   ]
  },
  {
   "cell_type": "code",
   "execution_count": 124,
   "metadata": {
    "collapsed": false
   },
   "outputs": [
    {
     "data": {
      "text/html": [
       "<dl class=dl-horizontal>\n",
       "\t<dt>iter</dt>\n",
       "\t\t<dd>5.5</dd>\n",
       "\t<dt>mmce</dt>\n",
       "\t\t<dd>0.266</dd>\n",
       "\t<dt>acc</dt>\n",
       "\t\t<dd>0.734</dd>\n",
       "\t<dt>f1</dt>\n",
       "\t\t<dd>0.473350604162032</dd>\n",
       "\t<dt>ppv</dt>\n",
       "\t\t<dd>0.583820685024582</dd>\n",
       "\t<dt>tpr</dt>\n",
       "\t\t<dd>0.405373426047647</dd>\n",
       "\t<dt>auc</dt>\n",
       "\t\t<dd>0.699882789347254</dd>\n",
       "\t<dt>gini</dt>\n",
       "\t\t<dd>0.399765578694508</dd>\n",
       "</dl>\n"
      ],
      "text/latex": [
       "\\begin{description*}\n",
       "\\item[iter] 5.5\n",
       "\\item[mmce] 0.266\n",
       "\\item[acc] 0.734\n",
       "\\item[f1] 0.473350604162032\n",
       "\\item[ppv] 0.583820685024582\n",
       "\\item[tpr] 0.405373426047647\n",
       "\\item[auc] 0.699882789347254\n",
       "\\item[gini] 0.399765578694508\n",
       "\\end{description*}\n"
      ],
      "text/markdown": [
       "iter\n",
       ":   5.5mmce\n",
       ":   0.266acc\n",
       ":   0.734f1\n",
       ":   0.473350604162032ppv\n",
       ":   0.583820685024582tpr\n",
       ":   0.405373426047647auc\n",
       ":   0.699882789347254gini\n",
       ":   0.399765578694508\n",
       "\n"
      ],
      "text/plain": [
       "     iter      mmce       acc        f1       ppv       tpr       auc      gini \n",
       "5.5000000 0.2660000 0.7340000 0.4733506 0.5838207 0.4053734 0.6998828 0.3997656 "
      ]
     },
     "metadata": {},
     "output_type": "display_data"
    }
   ],
   "source": [
    "apply(r$measures.test,2,mean)"
   ]
  },
  {
   "cell_type": "markdown",
   "metadata": {},
   "source": [
    "Run Time in seconds"
   ]
  },
  {
   "cell_type": "code",
   "execution_count": 125,
   "metadata": {
    "collapsed": false
   },
   "outputs": [
    {
     "data": {
      "text/html": [
       "0.970401048660278"
      ],
      "text/latex": [
       "0.970401048660278"
      ],
      "text/markdown": [
       "0.970401048660278"
      ],
      "text/plain": [
       "[1] 0.970401"
      ]
     },
     "metadata": {},
     "output_type": "display_data"
    }
   ],
   "source": [
    "r$runtime"
   ]
  },
  {
   "cell_type": "markdown",
   "metadata": {},
   "source": [
    "<h2>4. Prediction for new data</h2>"
   ]
  },
  {
   "cell_type": "markdown",
   "metadata": {},
   "source": [
    "Read the data to predict"
   ]
  },
  {
   "cell_type": "code",
   "execution_count": 126,
   "metadata": {
    "collapsed": true
   },
   "outputs": [],
   "source": [
    "new.data = read.csv(file=sprintf('%s/%s', folder_name, file_name))"
   ]
  },
  {
   "cell_type": "markdown",
   "metadata": {},
   "source": [
    "Search for the best model in crossvalidation and use it to score the incoming data"
   ]
  },
  {
   "cell_type": "code",
   "execution_count": 127,
   "metadata": {
    "collapsed": false
   },
   "outputs": [],
   "source": [
    "best.model = which.max(r$measures.test$acc)"
   ]
  },
  {
   "cell_type": "code",
   "execution_count": 128,
   "metadata": {
    "collapsed": false
   },
   "outputs": [],
   "source": [
    "pred = predict(r$models[[best.model]], newdata = new.data)"
   ]
  },
  {
   "cell_type": "markdown",
   "metadata": {},
   "source": [
    "Prediction Result"
   ]
  },
  {
   "cell_type": "code",
   "execution_count": 129,
   "metadata": {
    "collapsed": false
   },
   "outputs": [
    {
     "data": {
      "text/plain": [
       "Prediction: 1000 observations\n",
       "predict.type: prob\n",
       "threshold: 1=0.50,2=0.50\n",
       "time: 0.01\n",
       "  truth    prob.1     prob.2 response\n",
       "1     1 0.9411765 0.05882353        1\n",
       "2     2 0.2868852 0.71311475        2\n",
       "3     1 0.8658537 0.13414634        1\n",
       "4     1 0.2868852 0.71311475        2\n",
       "5     2 0.2868852 0.71311475        2\n",
       "6     1 0.8658537 0.13414634        1\n",
       "... (#rows: 1000, #cols: 4)"
      ]
     },
     "metadata": {},
     "output_type": "display_data"
    }
   ],
   "source": [
    "pred"
   ]
  },
  {
   "cell_type": "markdown",
   "metadata": {},
   "source": [
    "Cast result to data.frame to access the prediction"
   ]
  },
  {
   "cell_type": "code",
   "execution_count": 130,
   "metadata": {
    "collapsed": false
   },
   "outputs": [
    {
     "data": {
      "text/html": [
       "<table>\n",
       "<thead><tr><th scope=col>truth</th><th scope=col>prob.1</th><th scope=col>prob.2</th><th scope=col>response</th></tr></thead>\n",
       "<tbody>\n",
       "\t<tr><td>1         </td><td>0.9411765 </td><td>0.05882353</td><td>1         </td></tr>\n",
       "\t<tr><td>2         </td><td>0.2868852 </td><td>0.71311475</td><td>2         </td></tr>\n",
       "\t<tr><td>1         </td><td>0.8658537 </td><td>0.13414634</td><td>1         </td></tr>\n",
       "\t<tr><td>1         </td><td>0.2868852 </td><td>0.71311475</td><td>2         </td></tr>\n",
       "\t<tr><td>2         </td><td>0.2868852 </td><td>0.71311475</td><td>2         </td></tr>\n",
       "\t<tr><td>1         </td><td>0.8658537 </td><td>0.13414634</td><td>1         </td></tr>\n",
       "</tbody>\n",
       "</table>\n"
      ],
      "text/latex": [
       "\\begin{tabular}{r|llll}\n",
       " truth & prob.1 & prob.2 & response\\\\\n",
       "\\hline\n",
       "\t 1          & 0.9411765  & 0.05882353 & 1         \\\\\n",
       "\t 2          & 0.2868852  & 0.71311475 & 2         \\\\\n",
       "\t 1          & 0.8658537  & 0.13414634 & 1         \\\\\n",
       "\t 1          & 0.2868852  & 0.71311475 & 2         \\\\\n",
       "\t 2          & 0.2868852  & 0.71311475 & 2         \\\\\n",
       "\t 1          & 0.8658537  & 0.13414634 & 1         \\\\\n",
       "\\end{tabular}\n"
      ],
      "text/markdown": [
       "\n",
       "truth | prob.1 | prob.2 | response | \n",
       "|---|---|---|---|---|---|\n",
       "| 1          | 0.9411765  | 0.05882353 | 1          | \n",
       "| 2          | 0.2868852  | 0.71311475 | 2          | \n",
       "| 1          | 0.8658537  | 0.13414634 | 1          | \n",
       "| 1          | 0.2868852  | 0.71311475 | 2          | \n",
       "| 2          | 0.2868852  | 0.71311475 | 2          | \n",
       "| 1          | 0.8658537  | 0.13414634 | 1          | \n",
       "\n",
       "\n"
      ],
      "text/plain": [
       "  truth prob.1    prob.2     response\n",
       "1 1     0.9411765 0.05882353 1       \n",
       "2 2     0.2868852 0.71311475 2       \n",
       "3 1     0.8658537 0.13414634 1       \n",
       "4 1     0.2868852 0.71311475 2       \n",
       "5 2     0.2868852 0.71311475 2       \n",
       "6 1     0.8658537 0.13414634 1       "
      ]
     },
     "metadata": {},
     "output_type": "display_data"
    }
   ],
   "source": [
    "head(as.data.frame(pred))"
   ]
  }
 ],
 "metadata": {
  "kernelspec": {
   "display_name": "R",
   "language": "R",
   "name": "ir"
  },
  "language_info": {
   "codemirror_mode": "r",
   "file_extension": ".r",
   "mimetype": "text/x-r-source",
   "name": "R",
   "pygments_lexer": "r",
   "version": "3.4.2"
  }
 },
 "nbformat": 4,
 "nbformat_minor": 2
}
