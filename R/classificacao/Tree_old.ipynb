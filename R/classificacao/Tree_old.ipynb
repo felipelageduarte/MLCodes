{
 "cells": [
  {
   "cell_type": "markdown",
   "metadata": {},
   "source": [
    "<h1>Decision Tree</h1>"
   ]
  },
  {
   "cell_type": "code",
   "execution_count": 1,
   "metadata": {
    "collapsed": false
   },
   "outputs": [
    {
     "name": "stderr",
     "output_type": "stream",
     "text": [
      "Loading required package: ParamHelpers\n",
      "Warning message:\n",
      "“replacing previous import ‘BBmisc::isFALSE’ by ‘backports::isFALSE’ when loading ‘mlr’”"
     ]
    }
   ],
   "source": [
    "library(mlr)\n",
    "source('../utils.r')\n",
    "\n",
    "set.seed(42)\n",
    "\n",
    "folder_name = '../../raw_data' \n",
    "file_name   = 'german.csv'"
   ]
  },
  {
   "cell_type": "markdown",
   "metadata": {},
   "source": [
    "<h2>1. Dataprep</h2>"
   ]
  },
  {
   "cell_type": "code",
   "execution_count": 2,
   "metadata": {
    "collapsed": false
   },
   "outputs": [],
   "source": [
    "data = read.csv(file=sprintf('%s/%s',folder_name,file_name))"
   ]
  },
  {
   "cell_type": "code",
   "execution_count": 3,
   "metadata": {
    "collapsed": false
   },
   "outputs": [
    {
     "name": "stdout",
     "output_type": "stream",
     "text": [
      "NRow: 1000\n",
      "NCol: 22"
     ]
    },
    {
     "data": {
      "text/html": [
       "<table>\n",
       "<thead><tr><th scope=col>X</th><th scope=col>V1</th><th scope=col>V2</th><th scope=col>V3</th><th scope=col>V4</th><th scope=col>V5</th><th scope=col>V6</th><th scope=col>V7</th><th scope=col>V8</th><th scope=col>V9</th><th scope=col>⋯</th><th scope=col>V12</th><th scope=col>V13</th><th scope=col>V14</th><th scope=col>V15</th><th scope=col>V16</th><th scope=col>V17</th><th scope=col>V18</th><th scope=col>V19</th><th scope=col>V20</th><th scope=col>V21</th></tr></thead>\n",
       "<tbody>\n",
       "\t<tr><td>1   </td><td>A11 </td><td> 6  </td><td>A34 </td><td>A43 </td><td>1169</td><td>A65 </td><td>A75 </td><td>4   </td><td>A93 </td><td>⋯   </td><td>A121</td><td>67  </td><td>A143</td><td>A152</td><td>2   </td><td>A173</td><td>good</td><td>A192</td><td>A201</td><td>1   </td></tr>\n",
       "\t<tr><td>2   </td><td>A12 </td><td>48  </td><td>A32 </td><td>A43 </td><td>5951</td><td>A61 </td><td>A73 </td><td>2   </td><td>A92 </td><td>⋯   </td><td>A121</td><td>22  </td><td>A143</td><td>A152</td><td>1   </td><td>A173</td><td>good</td><td>A191</td><td>A201</td><td>2   </td></tr>\n",
       "\t<tr><td>3   </td><td>A14 </td><td>12  </td><td>A34 </td><td>A46 </td><td>2096</td><td>A61 </td><td>A74 </td><td>2   </td><td>A93 </td><td>⋯   </td><td>A121</td><td>49  </td><td>A143</td><td>A152</td><td>1   </td><td>A172</td><td>bad </td><td>A191</td><td>A201</td><td>1   </td></tr>\n",
       "\t<tr><td>4   </td><td>A11 </td><td>42  </td><td>A32 </td><td>A42 </td><td>7882</td><td>A61 </td><td>A74 </td><td>2   </td><td>A93 </td><td>⋯   </td><td>A122</td><td>45  </td><td>A143</td><td>A153</td><td>1   </td><td>A173</td><td>bad </td><td>A191</td><td>A201</td><td>1   </td></tr>\n",
       "\t<tr><td>5   </td><td>A11 </td><td>24  </td><td>A33 </td><td>A40 </td><td>4870</td><td>A61 </td><td>A73 </td><td>3   </td><td>A93 </td><td>⋯   </td><td>A124</td><td>53  </td><td>A143</td><td>A153</td><td>2   </td><td>A173</td><td>bad </td><td>A191</td><td>A201</td><td>2   </td></tr>\n",
       "\t<tr><td>6   </td><td>A14 </td><td>36  </td><td>A32 </td><td>A46 </td><td>9055</td><td>A65 </td><td>A73 </td><td>2   </td><td>A93 </td><td>⋯   </td><td>A124</td><td>35  </td><td>A143</td><td>A153</td><td>1   </td><td>A172</td><td>bad </td><td>A192</td><td>A201</td><td>1   </td></tr>\n",
       "</tbody>\n",
       "</table>\n"
      ],
      "text/latex": [
       "\\begin{tabular}{r|llllllllllllllllllllll}\n",
       " X & V1 & V2 & V3 & V4 & V5 & V6 & V7 & V8 & V9 & ⋯ & V12 & V13 & V14 & V15 & V16 & V17 & V18 & V19 & V20 & V21\\\\\n",
       "\\hline\n",
       "\t 1    & A11  &  6   & A34  & A43  & 1169 & A65  & A75  & 4    & A93  & ⋯    & A121 & 67   & A143 & A152 & 2    & A173 & good & A192 & A201 & 1   \\\\\n",
       "\t 2    & A12  & 48   & A32  & A43  & 5951 & A61  & A73  & 2    & A92  & ⋯    & A121 & 22   & A143 & A152 & 1    & A173 & good & A191 & A201 & 2   \\\\\n",
       "\t 3    & A14  & 12   & A34  & A46  & 2096 & A61  & A74  & 2    & A93  & ⋯    & A121 & 49   & A143 & A152 & 1    & A172 & bad  & A191 & A201 & 1   \\\\\n",
       "\t 4    & A11  & 42   & A32  & A42  & 7882 & A61  & A74  & 2    & A93  & ⋯    & A122 & 45   & A143 & A153 & 1    & A173 & bad  & A191 & A201 & 1   \\\\\n",
       "\t 5    & A11  & 24   & A33  & A40  & 4870 & A61  & A73  & 3    & A93  & ⋯    & A124 & 53   & A143 & A153 & 2    & A173 & bad  & A191 & A201 & 2   \\\\\n",
       "\t 6    & A14  & 36   & A32  & A46  & 9055 & A65  & A73  & 2    & A93  & ⋯    & A124 & 35   & A143 & A153 & 1    & A172 & bad  & A192 & A201 & 1   \\\\\n",
       "\\end{tabular}\n"
      ],
      "text/markdown": [
       "\n",
       "X | V1 | V2 | V3 | V4 | V5 | V6 | V7 | V8 | V9 | ⋯ | V12 | V13 | V14 | V15 | V16 | V17 | V18 | V19 | V20 | V21 | \n",
       "|---|---|---|---|---|---|\n",
       "| 1    | A11  |  6   | A34  | A43  | 1169 | A65  | A75  | 4    | A93  | ⋯    | A121 | 67   | A143 | A152 | 2    | A173 | good | A192 | A201 | 1    | \n",
       "| 2    | A12  | 48   | A32  | A43  | 5951 | A61  | A73  | 2    | A92  | ⋯    | A121 | 22   | A143 | A152 | 1    | A173 | good | A191 | A201 | 2    | \n",
       "| 3    | A14  | 12   | A34  | A46  | 2096 | A61  | A74  | 2    | A93  | ⋯    | A121 | 49   | A143 | A152 | 1    | A172 | bad  | A191 | A201 | 1    | \n",
       "| 4    | A11  | 42   | A32  | A42  | 7882 | A61  | A74  | 2    | A93  | ⋯    | A122 | 45   | A143 | A153 | 1    | A173 | bad  | A191 | A201 | 1    | \n",
       "| 5    | A11  | 24   | A33  | A40  | 4870 | A61  | A73  | 3    | A93  | ⋯    | A124 | 53   | A143 | A153 | 2    | A173 | bad  | A191 | A201 | 2    | \n",
       "| 6    | A14  | 36   | A32  | A46  | 9055 | A65  | A73  | 2    | A93  | ⋯    | A124 | 35   | A143 | A153 | 1    | A172 | bad  | A192 | A201 | 1    | \n",
       "\n",
       "\n"
      ],
      "text/plain": [
       "  X V1  V2 V3  V4  V5   V6  V7  V8 V9  ⋯ V12  V13 V14  V15  V16 V17  V18  V19 \n",
       "1 1 A11  6 A34 A43 1169 A65 A75 4  A93 ⋯ A121 67  A143 A152 2   A173 good A192\n",
       "2 2 A12 48 A32 A43 5951 A61 A73 2  A92 ⋯ A121 22  A143 A152 1   A173 good A191\n",
       "3 3 A14 12 A34 A46 2096 A61 A74 2  A93 ⋯ A121 49  A143 A152 1   A172 bad  A191\n",
       "4 4 A11 42 A32 A42 7882 A61 A74 2  A93 ⋯ A122 45  A143 A153 1   A173 bad  A191\n",
       "5 5 A11 24 A33 A40 4870 A61 A73 3  A93 ⋯ A124 53  A143 A153 2   A173 bad  A191\n",
       "6 6 A14 36 A32 A46 9055 A65 A73 2  A93 ⋯ A124 35  A143 A153 1   A172 bad  A192\n",
       "  V20  V21\n",
       "1 A201 1  \n",
       "2 A201 2  \n",
       "3 A201 1  \n",
       "4 A201 1  \n",
       "5 A201 2  \n",
       "6 A201 1  "
      ]
     },
     "metadata": {},
     "output_type": "display_data"
    }
   ],
   "source": [
    "cat(sprintf('NRow: %d\\nNCol: %d',nrow(data), ncol(data)))\n",
    "head(data)"
   ]
  },
  {
   "cell_type": "markdown",
   "metadata": {},
   "source": [
    "<p style='color: red'> ATENTION: </p>Specifically in R, in classification problem, target must be set as Factor."
   ]
  },
  {
   "cell_type": "code",
   "execution_count": 4,
   "metadata": {
    "collapsed": false
   },
   "outputs": [],
   "source": [
    "data$V21 = as.factor(data$V21)"
   ]
  },
  {
   "cell_type": "markdown",
   "metadata": {},
   "source": [
    "MLR works only with features and target, this means that others columns must be dorped."
   ]
  },
  {
   "cell_type": "code",
   "execution_count": 5,
   "metadata": {
    "collapsed": false
   },
   "outputs": [
    {
     "name": "stdout",
     "output_type": "stream",
     "text": [
      "NRow: 1000\n",
      "NCol: 21"
     ]
    }
   ],
   "source": [
    "drops = c('X')\n",
    "data  = data[ , !(names(data) %in% drops)]\n",
    "cat(sprintf('NRow: %d\\nNCol: %d',nrow(data), ncol(data)))"
   ]
  },
  {
   "cell_type": "markdown",
   "metadata": {},
   "source": [
    "<h2>2. Modeling</h2>"
   ]
  },
  {
   "cell_type": "markdown",
   "metadata": {},
   "source": [
    "Function\n",
    "```R\n",
    "makeLearner(cl, id = cl, predict.type = \"response\", predict.threshold = NULL, \n",
    "            fix.factors.prediction = FALSE, ..., par.vals = list(), config = list())\n",
    "```\n",
    "Param.:\n",
    "\n",
    "* cl: [character(1)] Class of learner. By convention, all classification learners start with “classif.”. A list of all integrated learners is available on the learners help page < https://mlr-org.github.io/mlr-tutorial/release/html/integrated_learners/ >.\n",
    "* predict: [character(1)] “response” (= labels) or “prob” (= probabilities and labels by selecting the ones with maximal probability). Default is “response”.\n",
    "* par.vals: [list] Optional list of named (hyper)parameters. The arguments in ... take precedence over values in this list. We strongly encourage you to use one or the other to pass (hyper)parameters to the learner but not both.\n",
    "\n",
    "Doc.: https://www.rdocumentation.org/packages/mlr/versions/2.10/topics/makeLearner <br>\n",
    "Rpart Parameters: https://www.rdocumentation.org/packages/rpart/versions/4.1-11/topics/rpart.control"
   ]
  },
  {
   "cell_type": "code",
   "execution_count": 6,
   "metadata": {
    "collapsed": true
   },
   "outputs": [],
   "source": [
    "cl = \"classif.rpart\""
   ]
  },
  {
   "cell_type": "markdown",
   "metadata": {},
   "source": [
    "List all parameters that can be used in this classifier.\n",
    "The value must be set in par.vals parameter."
   ]
  },
  {
   "cell_type": "code",
   "execution_count": 7,
   "metadata": {
    "collapsed": false
   },
   "outputs": [
    {
     "data": {
      "text/plain": [
       "                   Type len  Def   Constr Req Tunable Trafo\n",
       "minsplit        integer   -   20 1 to Inf   -    TRUE     -\n",
       "minbucket       integer   -    - 1 to Inf   -    TRUE     -\n",
       "cp              numeric   - 0.01   0 to 1   -    TRUE     -\n",
       "maxcompete      integer   -    4 0 to Inf   -    TRUE     -\n",
       "maxsurrogate    integer   -    5 0 to Inf   -    TRUE     -\n",
       "usesurrogate   discrete   -    2    0,1,2   -    TRUE     -\n",
       "surrogatestyle discrete   -    0      0,1   -    TRUE     -\n",
       "maxdepth        integer   -   30  1 to 30   -    TRUE     -\n",
       "xval            integer   -   10 0 to Inf   -   FALSE     -\n",
       "parms           untyped   -    -        -   -    TRUE     -"
      ]
     },
     "metadata": {},
     "output_type": "display_data"
    }
   ],
   "source": [
    "getParamSet(cl)"
   ]
  },
  {
   "cell_type": "code",
   "execution_count": 8,
   "metadata": {
    "collapsed": false
   },
   "outputs": [],
   "source": [
    "learner = makeLearner(cl = cl\n",
    "                     , predict.type = \"prob\"\n",
    "                     , par.vals = list(minsplit = 20\n",
    "                                      ,cp = 0.01 \n",
    "                                      ,parms = list(split = 'information') #gini or information\n",
    "                                      )\n",
    "                     )"
   ]
  },
  {
   "cell_type": "markdown",
   "metadata": {},
   "source": [
    "Function\n",
    "```R\n",
    "makeClassifTask(id = deparse(substitute(data)), data, target, weights = NULL, blocking = NULL, \n",
    "                positive = NA_character_, fixup.data = \"warn\", check.data = TRUE)\n",
    "```\n",
    "Param.:\n",
    "\n",
    "* data: [data.frame] A data frame containing the features and target variable(s).\n",
    "* target: [character(1)] Name of the target variable.\n",
    "* positive: [character(1)] Positive class for binary classification (otherwise ignored and set to NA). Default is the first factor level of the target attribute.\n",
    "* fixup.data: [character(1)] Should some basic cleaning up of data be performed? Currently this means removing empty factor levels for the columns. Possible coices are: “no” = Don't do it. “warn” = Do it but warn about it. “quiet” = Do it but keep silent. Default is “warn”.\n",
    "\n",
    "Doc.: https://www.rdocumentation.org/packages/mlr/versions/2.10/topics/makeLearner"
   ]
  },
  {
   "cell_type": "code",
   "execution_count": 9,
   "metadata": {
    "collapsed": false
   },
   "outputs": [],
   "source": [
    "task = makeClassifTask( data = data\n",
    "                      , target = 'V21'\n",
    "                      , positive = '2'\n",
    "                      , fixup.data = 'no'\n",
    "                      )"
   ]
  },
  {
   "cell_type": "markdown",
   "metadata": {},
   "source": [
    "Function:\n",
    "```R\n",
    "makeResampleDesc(method, predict = \"test\", ..., stratify = FALSE, stratify.cols = NULL)\n",
    "```\n",
    "Param.:\n",
    "\n",
    "* method: [character(1)] “CV” for cross-validation, “LOO” for leave-one-out, “RepCV” for repeated cross-validation, “Bootstrap” for out-of-bag bootstrap, “Subsample” for subsampling, “Holdout” for holdout.\n",
    "* predict: What to predict during resampling: “train”, “test” or “both” sets. Default is “test”.\n",
    "* ... : [any] Further parameters for strategies.\n",
    "    * iters [integer(1)] Number of iterations, for “CV”, “Subsample” and “Boostrap”.\n",
    "    * split [numeric(1)] Proportion of training cases for “Holdout” and “Subsample” between 0 and 1. Default is 2/3.\n",
    "    * reps [integer(1)] Repeats for “RepCV”. Here iters = folds * reps. Default is 10.\n",
    "    * folds [integer(1)] Folds in the repeated CV for RepCV. Here iters = folds * reps. Default is 10.\n",
    "\n",
    "Doc.: https://www.rdocumentation.org/packages/mlr/versions/2.10/topics/makeResampleDesc"
   ]
  },
  {
   "cell_type": "code",
   "execution_count": 10,
   "metadata": {
    "collapsed": false
   },
   "outputs": [],
   "source": [
    "resample = makeResampleDesc( method = \"CV\"\n",
    "                           , iters = 10\n",
    "                           , predict = 'both'\n",
    "                           , stratify = FALSE\n",
    "                           )"
   ]
  },
  {
   "cell_type": "markdown",
   "metadata": {},
   "source": [
    "List of performance measures:\n",
    "\n",
    "Doc.: http://mlr-org.github.io/mlr-tutorial/release/html/measures/"
   ]
  },
  {
   "cell_type": "code",
   "execution_count": 11,
   "metadata": {
    "collapsed": false
   },
   "outputs": [],
   "source": [
    "measures = list(mmce #MMCE \n",
    "               ,acc  #acuracia\n",
    "               ,f1   #f1\n",
    "               ,ppv  #precision\n",
    "               ,tpr  #recall\n",
    "               ,auc  #AUC\n",
    "               ,gini #Gini\n",
    "               ,timetrain #tempo execucao\n",
    "               )"
   ]
  },
  {
   "cell_type": "markdown",
   "metadata": {},
   "source": [
    "Function:\n",
    "```R\n",
    "resample(learner, task, resampling, measures, weights = NULL, models = FALSE, extract, \n",
    "         keep.pred = TRUE, ..., show.info = getMlrOption(\"show.info\"))\n",
    "```\n",
    "Param.:\n",
    "\n",
    "* learner: [Learner] The learner.\n",
    "* task: [Task] The task.\n",
    "* resampling: [ResampleInstance] Resampling strategy.\n",
    "* measures: [Measure | list of Measure] Performance measure(s) to evaluate. Default is mean misclassification error (mmce)\n",
    "* weights: [numeric] Optional, non-negative case weight vector to be used during fitting. If given, must be of same length as observations in task and in corresponding order. Overwrites weights specified in the task. By default NULL which means no weights are used unless specified in the task.\n",
    "* models: [logical(1)] Should all fitted models be returned? Default is FALSE.\n",
    "* keep.pred: [logical(1)] Keep the prediction data in the pred slot of the result object. If you do many experiments (on larger data sets) these objects might unnecessarily increase object size / mem usage, if you do not really need them. In this case you can set this argument to FALSE. Default is TRUE.\n",
    "* show.info: [logical(1)] Print verbose output on console? Default is set via configureMlr.\n",
    "\n",
    "Doc.: https://www.rdocumentation.org/packages/mlr/versions/2.10/topics/resample"
   ]
  },
  {
   "cell_type": "code",
   "execution_count": 12,
   "metadata": {
    "collapsed": false
   },
   "outputs": [
    {
     "name": "stderr",
     "output_type": "stream",
     "text": [
      "[Resample] cross-validation iter 1: mmce.test.mean=0.25,acc.test.mean=0.75,f1.test.mean=0.468,ppv.test.mean=0.55,tpr.test.mean=0.407,auc.test.mean=0.681,gini.test.mean=0.362,timetrain.test.mean=0.025\n",
      "[Resample] cross-validation iter 2: mmce.test.mean=0.31,acc.test.mean=0.69,f1.test.mean=0.436,ppv.test.mean=0.545,tpr.test.mean=0.364,auc.test.mean=0.683,gini.test.mean=0.367,timetrain.test.mean=0.016\n",
      "[Resample] cross-validation iter 3: mmce.test.mean=0.22,acc.test.mean=0.78,f1.test.mean=0.593,ppv.test.mean=0.762,tpr.test.mean=0.485,auc.test.mean=0.687,gini.test.mean=0.374,timetrain.test.mean=0.019\n",
      "[Resample] cross-validation iter 4: mmce.test.mean=0.29,acc.test.mean=0.71,f1.test.mean=0.473,ppv.test.mean=0.565,tpr.test.mean=0.406,auc.test.mean=0.742,gini.test.mean=0.484,timetrain.test.mean=0.016\n",
      "[Resample] cross-validation iter 5: mmce.test.mean=0.26,acc.test.mean=0.74,f1.test.mean=0.458,ppv.test.mean=0.611,tpr.test.mean=0.367,auc.test.mean=0.698,gini.test.mean=0.396,timetrain.test.mean=0.014\n",
      "[Resample] cross-validation iter 6: mmce.test.mean=0.27,acc.test.mean=0.73,f1.test.mean=0.509,ppv.test.mean=0.583,tpr.test.mean=0.452,auc.test.mean=0.722,gini.test.mean=0.444,timetrain.test.mean=0.013\n",
      "[Resample] cross-validation iter 7: mmce.test.mean=0.22,acc.test.mean=0.78,f1.test.mean=0.607,ppv.test.mean=0.739,tpr.test.mean=0.515,auc.test.mean=0.807,gini.test.mean=0.613,timetrain.test.mean=0.013\n",
      "[Resample] cross-validation iter 8: mmce.test.mean=0.24,acc.test.mean=0.76,f1.test.mean=0.538,ppv.test.mean=0.56,tpr.test.mean=0.519,auc.test.mean=0.709,gini.test.mean=0.417,timetrain.test.mean=0.014\n",
      "[Resample] cross-validation iter 9: mmce.test.mean= 0.2,acc.test.mean= 0.8,f1.test.mean=0.524,ppv.test.mean=0.647,tpr.test.mean=0.44,auc.test.mean=0.715,gini.test.mean=0.429,timetrain.test.mean=0.014\n",
      "[Resample] cross-validation iter 10: mmce.test.mean=0.26,acc.test.mean=0.74,f1.test.mean=0.435,ppv.test.mean=0.588,tpr.test.mean=0.345,auc.test.mean=0.714,gini.test.mean=0.428,timetrain.test.mean=0.012\n",
      "[Resample] Aggr. Result: mmce.test.mean=0.252,acc.test.mean=0.748,f1.test.mean=0.504,ppv.test.mean=0.615,tpr.test.mean=0.43,auc.test.mean=0.716,gini.test.mean=0.432,timetrain.test.mean=0.0156\n"
     ]
    }
   ],
   "source": [
    "r = resample(learner = learner\n",
    "            ,task = task \n",
    "            ,resampling = resample \n",
    "            ,measures = measures\n",
    "            #---------------------#\n",
    "            ,models = TRUE\n",
    "            ,keep.pred = FALSE\n",
    "            ,show.info = TRUE\n",
    "            )"
   ]
  },
  {
   "cell_type": "markdown",
   "metadata": {},
   "source": [
    "<h2>3. Result Analysis</h2>"
   ]
  },
  {
   "cell_type": "markdown",
   "metadata": {},
   "source": [
    "Train Measures"
   ]
  },
  {
   "cell_type": "code",
   "execution_count": 13,
   "metadata": {
    "collapsed": false
   },
   "outputs": [
    {
     "data": {
      "text/html": [
       "<table>\n",
       "<thead><tr><th scope=col>iter</th><th scope=col>mmce</th><th scope=col>acc</th><th scope=col>f1</th><th scope=col>ppv</th><th scope=col>tpr</th><th scope=col>auc</th><th scope=col>gini</th><th scope=col>timetrain</th></tr></thead>\n",
       "<tbody>\n",
       "\t<tr><td> 1       </td><td>0.1977778</td><td>0.8022222</td><td>0.6468254</td><td>0.7056277</td><td>0.5970696</td><td>0.7858107</td><td>0.5716214</td><td>0.025    </td></tr>\n",
       "\t<tr><td> 2       </td><td>0.1966667</td><td>0.8033333</td><td>0.6273684</td><td>0.7163462</td><td>0.5580524</td><td>0.7888274</td><td>0.5776547</td><td>0.016    </td></tr>\n",
       "\t<tr><td> 3       </td><td>0.1700000</td><td>0.8300000</td><td>0.6858316</td><td>0.7590909</td><td>0.6254682</td><td>0.8188905</td><td>0.6377810</td><td>0.019    </td></tr>\n",
       "\t<tr><td> 4       </td><td>0.1977778</td><td>0.8022222</td><td>0.6454183</td><td>0.6923077</td><td>0.6044776</td><td>0.7832278</td><td>0.5664557</td><td>0.016    </td></tr>\n",
       "\t<tr><td> 5       </td><td>0.2033333</td><td>0.7966667</td><td>0.5632458</td><td>0.7919463</td><td>0.4370370</td><td>0.7739536</td><td>0.5479071</td><td>0.014    </td></tr>\n",
       "\t<tr><td> 6       </td><td>0.1888889</td><td>0.8111111</td><td>0.6382979</td><td>0.7462687</td><td>0.5576208</td><td>0.7899982</td><td>0.5799963</td><td>0.013    </td></tr>\n",
       "\t<tr><td> 7       </td><td>0.1877778</td><td>0.8122222</td><td>0.6167800</td><td>0.7816092</td><td>0.5093633</td><td>0.7769642</td><td>0.5539284</td><td>0.013    </td></tr>\n",
       "\t<tr><td> 8       </td><td>0.2055556</td><td>0.7944444</td><td>0.6232179</td><td>0.7018349</td><td>0.5604396</td><td>0.7770183</td><td>0.5540366</td><td>0.014    </td></tr>\n",
       "\t<tr><td> 9       </td><td>0.1966667</td><td>0.8033333</td><td>0.6177106</td><td>0.7606383</td><td>0.5200000</td><td>0.7808553</td><td>0.5617105</td><td>0.014    </td></tr>\n",
       "\t<tr><td>10       </td><td>0.1966667</td><td>0.8033333</td><td>0.5986395</td><td>0.7764706</td><td>0.4870849</td><td>0.7724291</td><td>0.5448583</td><td>0.012    </td></tr>\n",
       "</tbody>\n",
       "</table>\n"
      ],
      "text/latex": [
       "\\begin{tabular}{r|lllllllll}\n",
       " iter & mmce & acc & f1 & ppv & tpr & auc & gini & timetrain\\\\\n",
       "\\hline\n",
       "\t  1        & 0.1977778 & 0.8022222 & 0.6468254 & 0.7056277 & 0.5970696 & 0.7858107 & 0.5716214 & 0.025    \\\\\n",
       "\t  2        & 0.1966667 & 0.8033333 & 0.6273684 & 0.7163462 & 0.5580524 & 0.7888274 & 0.5776547 & 0.016    \\\\\n",
       "\t  3        & 0.1700000 & 0.8300000 & 0.6858316 & 0.7590909 & 0.6254682 & 0.8188905 & 0.6377810 & 0.019    \\\\\n",
       "\t  4        & 0.1977778 & 0.8022222 & 0.6454183 & 0.6923077 & 0.6044776 & 0.7832278 & 0.5664557 & 0.016    \\\\\n",
       "\t  5        & 0.2033333 & 0.7966667 & 0.5632458 & 0.7919463 & 0.4370370 & 0.7739536 & 0.5479071 & 0.014    \\\\\n",
       "\t  6        & 0.1888889 & 0.8111111 & 0.6382979 & 0.7462687 & 0.5576208 & 0.7899982 & 0.5799963 & 0.013    \\\\\n",
       "\t  7        & 0.1877778 & 0.8122222 & 0.6167800 & 0.7816092 & 0.5093633 & 0.7769642 & 0.5539284 & 0.013    \\\\\n",
       "\t  8        & 0.2055556 & 0.7944444 & 0.6232179 & 0.7018349 & 0.5604396 & 0.7770183 & 0.5540366 & 0.014    \\\\\n",
       "\t  9        & 0.1966667 & 0.8033333 & 0.6177106 & 0.7606383 & 0.5200000 & 0.7808553 & 0.5617105 & 0.014    \\\\\n",
       "\t 10        & 0.1966667 & 0.8033333 & 0.5986395 & 0.7764706 & 0.4870849 & 0.7724291 & 0.5448583 & 0.012    \\\\\n",
       "\\end{tabular}\n"
      ],
      "text/markdown": [
       "\n",
       "iter | mmce | acc | f1 | ppv | tpr | auc | gini | timetrain | \n",
       "|---|---|---|---|---|---|---|---|---|---|\n",
       "|  1        | 0.1977778 | 0.8022222 | 0.6468254 | 0.7056277 | 0.5970696 | 0.7858107 | 0.5716214 | 0.025     | \n",
       "|  2        | 0.1966667 | 0.8033333 | 0.6273684 | 0.7163462 | 0.5580524 | 0.7888274 | 0.5776547 | 0.016     | \n",
       "|  3        | 0.1700000 | 0.8300000 | 0.6858316 | 0.7590909 | 0.6254682 | 0.8188905 | 0.6377810 | 0.019     | \n",
       "|  4        | 0.1977778 | 0.8022222 | 0.6454183 | 0.6923077 | 0.6044776 | 0.7832278 | 0.5664557 | 0.016     | \n",
       "|  5        | 0.2033333 | 0.7966667 | 0.5632458 | 0.7919463 | 0.4370370 | 0.7739536 | 0.5479071 | 0.014     | \n",
       "|  6        | 0.1888889 | 0.8111111 | 0.6382979 | 0.7462687 | 0.5576208 | 0.7899982 | 0.5799963 | 0.013     | \n",
       "|  7        | 0.1877778 | 0.8122222 | 0.6167800 | 0.7816092 | 0.5093633 | 0.7769642 | 0.5539284 | 0.013     | \n",
       "|  8        | 0.2055556 | 0.7944444 | 0.6232179 | 0.7018349 | 0.5604396 | 0.7770183 | 0.5540366 | 0.014     | \n",
       "|  9        | 0.1966667 | 0.8033333 | 0.6177106 | 0.7606383 | 0.5200000 | 0.7808553 | 0.5617105 | 0.014     | \n",
       "| 10        | 0.1966667 | 0.8033333 | 0.5986395 | 0.7764706 | 0.4870849 | 0.7724291 | 0.5448583 | 0.012     | \n",
       "\n",
       "\n"
      ],
      "text/plain": [
       "   iter mmce      acc       f1        ppv       tpr       auc       gini     \n",
       "1   1   0.1977778 0.8022222 0.6468254 0.7056277 0.5970696 0.7858107 0.5716214\n",
       "2   2   0.1966667 0.8033333 0.6273684 0.7163462 0.5580524 0.7888274 0.5776547\n",
       "3   3   0.1700000 0.8300000 0.6858316 0.7590909 0.6254682 0.8188905 0.6377810\n",
       "4   4   0.1977778 0.8022222 0.6454183 0.6923077 0.6044776 0.7832278 0.5664557\n",
       "5   5   0.2033333 0.7966667 0.5632458 0.7919463 0.4370370 0.7739536 0.5479071\n",
       "6   6   0.1888889 0.8111111 0.6382979 0.7462687 0.5576208 0.7899982 0.5799963\n",
       "7   7   0.1877778 0.8122222 0.6167800 0.7816092 0.5093633 0.7769642 0.5539284\n",
       "8   8   0.2055556 0.7944444 0.6232179 0.7018349 0.5604396 0.7770183 0.5540366\n",
       "9   9   0.1966667 0.8033333 0.6177106 0.7606383 0.5200000 0.7808553 0.5617105\n",
       "10 10   0.1966667 0.8033333 0.5986395 0.7764706 0.4870849 0.7724291 0.5448583\n",
       "   timetrain\n",
       "1  0.025    \n",
       "2  0.016    \n",
       "3  0.019    \n",
       "4  0.016    \n",
       "5  0.014    \n",
       "6  0.013    \n",
       "7  0.013    \n",
       "8  0.014    \n",
       "9  0.014    \n",
       "10 0.012    "
      ]
     },
     "metadata": {},
     "output_type": "display_data"
    }
   ],
   "source": [
    "r$measures.train"
   ]
  },
  {
   "cell_type": "markdown",
   "metadata": {},
   "source": [
    "Test Measures"
   ]
  },
  {
   "cell_type": "code",
   "execution_count": 14,
   "metadata": {
    "collapsed": false
   },
   "outputs": [
    {
     "data": {
      "text/html": [
       "<table>\n",
       "<thead><tr><th scope=col>iter</th><th scope=col>mmce</th><th scope=col>acc</th><th scope=col>f1</th><th scope=col>ppv</th><th scope=col>tpr</th><th scope=col>auc</th><th scope=col>gini</th><th scope=col>timetrain</th></tr></thead>\n",
       "<tbody>\n",
       "\t<tr><td> 1       </td><td>0.25     </td><td>0.75     </td><td>0.4680851</td><td>0.5500000</td><td>0.4074074</td><td>0.6811263</td><td>0.3622527</td><td>0.025    </td></tr>\n",
       "\t<tr><td> 2       </td><td>0.31     </td><td>0.69     </td><td>0.4363636</td><td>0.5454545</td><td>0.3636364</td><td>0.6834012</td><td>0.3668024</td><td>0.016    </td></tr>\n",
       "\t<tr><td> 3       </td><td>0.22     </td><td>0.78     </td><td>0.5925926</td><td>0.7619048</td><td>0.4848485</td><td>0.6872456</td><td>0.3744912</td><td>0.019    </td></tr>\n",
       "\t<tr><td> 4       </td><td>0.29     </td><td>0.71     </td><td>0.4727273</td><td>0.5652174</td><td>0.4062500</td><td>0.7419577</td><td>0.4839154</td><td>0.016    </td></tr>\n",
       "\t<tr><td> 5       </td><td>0.26     </td><td>0.74     </td><td>0.4583333</td><td>0.6111111</td><td>0.3666667</td><td>0.6980952</td><td>0.3961905</td><td>0.014    </td></tr>\n",
       "\t<tr><td> 6       </td><td>0.27     </td><td>0.73     </td><td>0.5090909</td><td>0.5833333</td><td>0.4516129</td><td>0.7218326</td><td>0.4436653</td><td>0.013    </td></tr>\n",
       "\t<tr><td> 7       </td><td>0.22     </td><td>0.78     </td><td>0.6071429</td><td>0.7391304</td><td>0.5151515</td><td>0.8066486</td><td>0.6132972</td><td>0.013    </td></tr>\n",
       "\t<tr><td> 8       </td><td>0.24     </td><td>0.76     </td><td>0.5384615</td><td>0.5600000</td><td>0.5185185</td><td>0.7085236</td><td>0.4170472</td><td>0.014    </td></tr>\n",
       "\t<tr><td> 9       </td><td>0.20     </td><td>0.80     </td><td>0.5238095</td><td>0.6470588</td><td>0.4400000</td><td>0.7146667</td><td>0.4293333</td><td>0.014    </td></tr>\n",
       "\t<tr><td>10       </td><td>0.26     </td><td>0.74     </td><td>0.4347826</td><td>0.5882353</td><td>0.3448276</td><td>0.7141816</td><td>0.4283633</td><td>0.012    </td></tr>\n",
       "</tbody>\n",
       "</table>\n"
      ],
      "text/latex": [
       "\\begin{tabular}{r|lllllllll}\n",
       " iter & mmce & acc & f1 & ppv & tpr & auc & gini & timetrain\\\\\n",
       "\\hline\n",
       "\t  1        & 0.25      & 0.75      & 0.4680851 & 0.5500000 & 0.4074074 & 0.6811263 & 0.3622527 & 0.025    \\\\\n",
       "\t  2        & 0.31      & 0.69      & 0.4363636 & 0.5454545 & 0.3636364 & 0.6834012 & 0.3668024 & 0.016    \\\\\n",
       "\t  3        & 0.22      & 0.78      & 0.5925926 & 0.7619048 & 0.4848485 & 0.6872456 & 0.3744912 & 0.019    \\\\\n",
       "\t  4        & 0.29      & 0.71      & 0.4727273 & 0.5652174 & 0.4062500 & 0.7419577 & 0.4839154 & 0.016    \\\\\n",
       "\t  5        & 0.26      & 0.74      & 0.4583333 & 0.6111111 & 0.3666667 & 0.6980952 & 0.3961905 & 0.014    \\\\\n",
       "\t  6        & 0.27      & 0.73      & 0.5090909 & 0.5833333 & 0.4516129 & 0.7218326 & 0.4436653 & 0.013    \\\\\n",
       "\t  7        & 0.22      & 0.78      & 0.6071429 & 0.7391304 & 0.5151515 & 0.8066486 & 0.6132972 & 0.013    \\\\\n",
       "\t  8        & 0.24      & 0.76      & 0.5384615 & 0.5600000 & 0.5185185 & 0.7085236 & 0.4170472 & 0.014    \\\\\n",
       "\t  9        & 0.20      & 0.80      & 0.5238095 & 0.6470588 & 0.4400000 & 0.7146667 & 0.4293333 & 0.014    \\\\\n",
       "\t 10        & 0.26      & 0.74      & 0.4347826 & 0.5882353 & 0.3448276 & 0.7141816 & 0.4283633 & 0.012    \\\\\n",
       "\\end{tabular}\n"
      ],
      "text/markdown": [
       "\n",
       "iter | mmce | acc | f1 | ppv | tpr | auc | gini | timetrain | \n",
       "|---|---|---|---|---|---|---|---|---|---|\n",
       "|  1        | 0.25      | 0.75      | 0.4680851 | 0.5500000 | 0.4074074 | 0.6811263 | 0.3622527 | 0.025     | \n",
       "|  2        | 0.31      | 0.69      | 0.4363636 | 0.5454545 | 0.3636364 | 0.6834012 | 0.3668024 | 0.016     | \n",
       "|  3        | 0.22      | 0.78      | 0.5925926 | 0.7619048 | 0.4848485 | 0.6872456 | 0.3744912 | 0.019     | \n",
       "|  4        | 0.29      | 0.71      | 0.4727273 | 0.5652174 | 0.4062500 | 0.7419577 | 0.4839154 | 0.016     | \n",
       "|  5        | 0.26      | 0.74      | 0.4583333 | 0.6111111 | 0.3666667 | 0.6980952 | 0.3961905 | 0.014     | \n",
       "|  6        | 0.27      | 0.73      | 0.5090909 | 0.5833333 | 0.4516129 | 0.7218326 | 0.4436653 | 0.013     | \n",
       "|  7        | 0.22      | 0.78      | 0.6071429 | 0.7391304 | 0.5151515 | 0.8066486 | 0.6132972 | 0.013     | \n",
       "|  8        | 0.24      | 0.76      | 0.5384615 | 0.5600000 | 0.5185185 | 0.7085236 | 0.4170472 | 0.014     | \n",
       "|  9        | 0.20      | 0.80      | 0.5238095 | 0.6470588 | 0.4400000 | 0.7146667 | 0.4293333 | 0.014     | \n",
       "| 10        | 0.26      | 0.74      | 0.4347826 | 0.5882353 | 0.3448276 | 0.7141816 | 0.4283633 | 0.012     | \n",
       "\n",
       "\n"
      ],
      "text/plain": [
       "   iter mmce acc  f1        ppv       tpr       auc       gini      timetrain\n",
       "1   1   0.25 0.75 0.4680851 0.5500000 0.4074074 0.6811263 0.3622527 0.025    \n",
       "2   2   0.31 0.69 0.4363636 0.5454545 0.3636364 0.6834012 0.3668024 0.016    \n",
       "3   3   0.22 0.78 0.5925926 0.7619048 0.4848485 0.6872456 0.3744912 0.019    \n",
       "4   4   0.29 0.71 0.4727273 0.5652174 0.4062500 0.7419577 0.4839154 0.016    \n",
       "5   5   0.26 0.74 0.4583333 0.6111111 0.3666667 0.6980952 0.3961905 0.014    \n",
       "6   6   0.27 0.73 0.5090909 0.5833333 0.4516129 0.7218326 0.4436653 0.013    \n",
       "7   7   0.22 0.78 0.6071429 0.7391304 0.5151515 0.8066486 0.6132972 0.013    \n",
       "8   8   0.24 0.76 0.5384615 0.5600000 0.5185185 0.7085236 0.4170472 0.014    \n",
       "9   9   0.20 0.80 0.5238095 0.6470588 0.4400000 0.7146667 0.4293333 0.014    \n",
       "10 10   0.26 0.74 0.4347826 0.5882353 0.3448276 0.7141816 0.4283633 0.012    "
      ]
     },
     "metadata": {},
     "output_type": "display_data"
    }
   ],
   "source": [
    "r$measures.test"
   ]
  },
  {
   "cell_type": "markdown",
   "metadata": {},
   "source": [
    "Train Aggregated Result"
   ]
  },
  {
   "cell_type": "code",
   "execution_count": 15,
   "metadata": {
    "collapsed": false
   },
   "outputs": [
    {
     "data": {
      "text/html": [
       "<dl class=dl-horizontal>\n",
       "\t<dt>iter</dt>\n",
       "\t\t<dd>5.5</dd>\n",
       "\t<dt>mmce</dt>\n",
       "\t\t<dd>0.194111111111111</dd>\n",
       "\t<dt>acc</dt>\n",
       "\t\t<dd>0.805888888888889</dd>\n",
       "\t<dt>f1</dt>\n",
       "\t\t<dd>0.626333546937135</dd>\n",
       "\t<dt>ppv</dt>\n",
       "\t\t<dd>0.743214037020897</dd>\n",
       "\t<dt>tpr</dt>\n",
       "\t\t<dd>0.545661339031015</dd>\n",
       "\t<dt>auc</dt>\n",
       "\t\t<dd>0.784797504440737</dd>\n",
       "\t<dt>gini</dt>\n",
       "\t\t<dd>0.569595008881474</dd>\n",
       "\t<dt>timetrain</dt>\n",
       "\t\t<dd>0.0156000000000001</dd>\n",
       "</dl>\n"
      ],
      "text/latex": [
       "\\begin{description*}\n",
       "\\item[iter] 5.5\n",
       "\\item[mmce] 0.194111111111111\n",
       "\\item[acc] 0.805888888888889\n",
       "\\item[f1] 0.626333546937135\n",
       "\\item[ppv] 0.743214037020897\n",
       "\\item[tpr] 0.545661339031015\n",
       "\\item[auc] 0.784797504440737\n",
       "\\item[gini] 0.569595008881474\n",
       "\\item[timetrain] 0.0156000000000001\n",
       "\\end{description*}\n"
      ],
      "text/markdown": [
       "iter\n",
       ":   5.5mmce\n",
       ":   0.194111111111111acc\n",
       ":   0.805888888888889f1\n",
       ":   0.626333546937135ppv\n",
       ":   0.743214037020897tpr\n",
       ":   0.545661339031015auc\n",
       ":   0.784797504440737gini\n",
       ":   0.569595008881474timetrain\n",
       ":   0.0156000000000001\n",
       "\n"
      ],
      "text/plain": [
       "     iter      mmce       acc        f1       ppv       tpr       auc      gini \n",
       "5.5000000 0.1941111 0.8058889 0.6263335 0.7432140 0.5456613 0.7847975 0.5695950 \n",
       "timetrain \n",
       "0.0156000 "
      ]
     },
     "metadata": {},
     "output_type": "display_data"
    }
   ],
   "source": [
    "apply(r$measures.train,2,mean)"
   ]
  },
  {
   "cell_type": "markdown",
   "metadata": {},
   "source": [
    "Test Aggregated Result"
   ]
  },
  {
   "cell_type": "code",
   "execution_count": 16,
   "metadata": {
    "collapsed": false
   },
   "outputs": [
    {
     "data": {
      "text/html": [
       "<dl class=dl-horizontal>\n",
       "\t<dt>iter</dt>\n",
       "\t\t<dd>5.5</dd>\n",
       "\t<dt>mmce</dt>\n",
       "\t\t<dd>0.252</dd>\n",
       "\t<dt>acc</dt>\n",
       "\t\t<dd>0.748</dd>\n",
       "\t<dt>f1</dt>\n",
       "\t\t<dd>0.504138937860029</dd>\n",
       "\t<dt>ppv</dt>\n",
       "\t\t<dd>0.615144569553777</dd>\n",
       "\t<dt>tpr</dt>\n",
       "\t\t<dd>0.429891944566166</dd>\n",
       "\t<dt>auc</dt>\n",
       "\t\t<dd>0.715767916436573</dd>\n",
       "\t<dt>gini</dt>\n",
       "\t\t<dd>0.431535832873145</dd>\n",
       "\t<dt>timetrain</dt>\n",
       "\t\t<dd>0.0156000000000001</dd>\n",
       "</dl>\n"
      ],
      "text/latex": [
       "\\begin{description*}\n",
       "\\item[iter] 5.5\n",
       "\\item[mmce] 0.252\n",
       "\\item[acc] 0.748\n",
       "\\item[f1] 0.504138937860029\n",
       "\\item[ppv] 0.615144569553777\n",
       "\\item[tpr] 0.429891944566166\n",
       "\\item[auc] 0.715767916436573\n",
       "\\item[gini] 0.431535832873145\n",
       "\\item[timetrain] 0.0156000000000001\n",
       "\\end{description*}\n"
      ],
      "text/markdown": [
       "iter\n",
       ":   5.5mmce\n",
       ":   0.252acc\n",
       ":   0.748f1\n",
       ":   0.504138937860029ppv\n",
       ":   0.615144569553777tpr\n",
       ":   0.429891944566166auc\n",
       ":   0.715767916436573gini\n",
       ":   0.431535832873145timetrain\n",
       ":   0.0156000000000001\n",
       "\n"
      ],
      "text/plain": [
       "     iter      mmce       acc        f1       ppv       tpr       auc      gini \n",
       "5.5000000 0.2520000 0.7480000 0.5041389 0.6151446 0.4298919 0.7157679 0.4315358 \n",
       "timetrain \n",
       "0.0156000 "
      ]
     },
     "metadata": {},
     "output_type": "display_data"
    }
   ],
   "source": [
    "apply(r$measures.test,2,mean)"
   ]
  },
  {
   "cell_type": "markdown",
   "metadata": {},
   "source": [
    "Run Time in seconds"
   ]
  },
  {
   "cell_type": "code",
   "execution_count": 17,
   "metadata": {
    "collapsed": false
   },
   "outputs": [
    {
     "data": {
      "text/html": [
       "0.627004146575928"
      ],
      "text/latex": [
       "0.627004146575928"
      ],
      "text/markdown": [
       "0.627004146575928"
      ],
      "text/plain": [
       "[1] 0.6270041"
      ]
     },
     "metadata": {},
     "output_type": "display_data"
    }
   ],
   "source": [
    "r$runtime"
   ]
  },
  {
   "cell_type": "markdown",
   "metadata": {},
   "source": [
    "<h2>4. Prediction for new data</h2>"
   ]
  },
  {
   "cell_type": "markdown",
   "metadata": {},
   "source": [
    "Read the data to predict"
   ]
  },
  {
   "cell_type": "code",
   "execution_count": 18,
   "metadata": {
    "collapsed": true
   },
   "outputs": [],
   "source": [
    "new.data = read.csv(file=sprintf('%s/%s', folder_name, file_name))"
   ]
  },
  {
   "cell_type": "markdown",
   "metadata": {},
   "source": [
    "Search for the best model in crossvalidation and use it to score the incoming data"
   ]
  },
  {
   "cell_type": "code",
   "execution_count": 19,
   "metadata": {
    "collapsed": false
   },
   "outputs": [],
   "source": [
    "best.model = which.max(r$measures.test$acc)"
   ]
  },
  {
   "cell_type": "code",
   "execution_count": 20,
   "metadata": {
    "collapsed": false
   },
   "outputs": [],
   "source": [
    "pred = predict(r$models[[best.model]], newdata = new.data)"
   ]
  },
  {
   "cell_type": "markdown",
   "metadata": {},
   "source": [
    "Prediction Result"
   ]
  },
  {
   "cell_type": "code",
   "execution_count": 21,
   "metadata": {
    "collapsed": false
   },
   "outputs": [
    {
     "data": {
      "text/plain": [
       "Prediction: 1000 observations\n",
       "predict.type: prob\n",
       "threshold: 1=0.50,2=0.50\n",
       "time: 0.01\n",
       "  truth     prob.1    prob.2 response\n",
       "1     1 0.73684211 0.2631579        1\n",
       "2     2 0.07692308 0.9230769        2\n",
       "3     1 0.86585366 0.1341463        1\n",
       "4     1 0.33663366 0.6633663        2\n",
       "5     2 0.33663366 0.6633663        2\n",
       "6     1 0.86585366 0.1341463        1\n",
       "... (1000 rows, 4 cols)\n"
      ]
     },
     "metadata": {},
     "output_type": "display_data"
    }
   ],
   "source": [
    "pred"
   ]
  },
  {
   "cell_type": "markdown",
   "metadata": {},
   "source": [
    "Cast result to data.frame to access the prediction"
   ]
  },
  {
   "cell_type": "code",
   "execution_count": 22,
   "metadata": {
    "collapsed": false
   },
   "outputs": [
    {
     "data": {
      "text/html": [
       "<table>\n",
       "<thead><tr><th scope=col>truth</th><th scope=col>prob.1</th><th scope=col>prob.2</th><th scope=col>response</th></tr></thead>\n",
       "<tbody>\n",
       "\t<tr><td>1         </td><td>0.73684211</td><td>0.2631579 </td><td>1         </td></tr>\n",
       "\t<tr><td>2         </td><td>0.07692308</td><td>0.9230769 </td><td>2         </td></tr>\n",
       "\t<tr><td>1         </td><td>0.86585366</td><td>0.1341463 </td><td>1         </td></tr>\n",
       "\t<tr><td>1         </td><td>0.33663366</td><td>0.6633663 </td><td>2         </td></tr>\n",
       "\t<tr><td>2         </td><td>0.33663366</td><td>0.6633663 </td><td>2         </td></tr>\n",
       "\t<tr><td>1         </td><td>0.86585366</td><td>0.1341463 </td><td>1         </td></tr>\n",
       "</tbody>\n",
       "</table>\n"
      ],
      "text/latex": [
       "\\begin{tabular}{r|llll}\n",
       " truth & prob.1 & prob.2 & response\\\\\n",
       "\\hline\n",
       "\t 1          & 0.73684211 & 0.2631579  & 1         \\\\\n",
       "\t 2          & 0.07692308 & 0.9230769  & 2         \\\\\n",
       "\t 1          & 0.86585366 & 0.1341463  & 1         \\\\\n",
       "\t 1          & 0.33663366 & 0.6633663  & 2         \\\\\n",
       "\t 2          & 0.33663366 & 0.6633663  & 2         \\\\\n",
       "\t 1          & 0.86585366 & 0.1341463  & 1         \\\\\n",
       "\\end{tabular}\n"
      ],
      "text/markdown": [
       "\n",
       "truth | prob.1 | prob.2 | response | \n",
       "|---|---|---|---|---|---|\n",
       "| 1          | 0.73684211 | 0.2631579  | 1          | \n",
       "| 2          | 0.07692308 | 0.9230769  | 2          | \n",
       "| 1          | 0.86585366 | 0.1341463  | 1          | \n",
       "| 1          | 0.33663366 | 0.6633663  | 2          | \n",
       "| 2          | 0.33663366 | 0.6633663  | 2          | \n",
       "| 1          | 0.86585366 | 0.1341463  | 1          | \n",
       "\n",
       "\n"
      ],
      "text/plain": [
       "  truth prob.1     prob.2    response\n",
       "1 1     0.73684211 0.2631579 1       \n",
       "2 2     0.07692308 0.9230769 2       \n",
       "3 1     0.86585366 0.1341463 1       \n",
       "4 1     0.33663366 0.6633663 2       \n",
       "5 2     0.33663366 0.6633663 2       \n",
       "6 1     0.86585366 0.1341463 1       "
      ]
     },
     "metadata": {},
     "output_type": "display_data"
    }
   ],
   "source": [
    "head(as.data.frame(pred))"
   ]
  }
 ],
 "metadata": {
  "kernelspec": {
   "display_name": "R",
   "language": "R",
   "name": "ir"
  },
  "language_info": {
   "codemirror_mode": "r",
   "file_extension": ".r",
   "mimetype": "text/x-r-source",
   "name": "R",
   "pygments_lexer": "r",
   "version": "3.4.2"
  }
 },
 "nbformat": 4,
 "nbformat_minor": 2
}
