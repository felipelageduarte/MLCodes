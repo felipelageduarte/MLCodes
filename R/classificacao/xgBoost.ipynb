{
 "cells": [
  {
   "cell_type": "markdown",
   "metadata": {},
   "source": [
    "<h1>xgBoost</h1>"
   ]
  },
  {
   "cell_type": "code",
   "execution_count": 1,
   "metadata": {
    "collapsed": false
   },
   "outputs": [
    {
     "name": "stderr",
     "output_type": "stream",
     "text": [
      "Loading required package: ParamHelpers\n",
      "Warning message:\n",
      "“replacing previous import ‘BBmisc::isFALSE’ by ‘backports::isFALSE’ when loading ‘mlr’”"
     ]
    }
   ],
   "source": [
    "library(mlr)\n",
    "source('../utils.r')\n",
    "\n",
    "set.seed(42)\n",
    "\n",
    "folder_name = '../../raw_data' \n",
    "file_name   = 'german.csv'"
   ]
  },
  {
   "cell_type": "markdown",
   "metadata": {},
   "source": [
    "<h2>1. Dataprep</h2>"
   ]
  },
  {
   "cell_type": "code",
   "execution_count": 2,
   "metadata": {
    "collapsed": false
   },
   "outputs": [],
   "source": [
    "data = read.csv(file=sprintf('%s/%s',folder_name,file_name))"
   ]
  },
  {
   "cell_type": "code",
   "execution_count": 3,
   "metadata": {
    "collapsed": false
   },
   "outputs": [
    {
     "name": "stdout",
     "output_type": "stream",
     "text": [
      "NRow: 1000\n",
      "NCol: 22"
     ]
    },
    {
     "data": {
      "text/html": [
       "<table>\n",
       "<thead><tr><th scope=col>X</th><th scope=col>V1</th><th scope=col>V2</th><th scope=col>V3</th><th scope=col>V4</th><th scope=col>V5</th><th scope=col>V6</th><th scope=col>V7</th><th scope=col>V8</th><th scope=col>V9</th><th scope=col>⋯</th><th scope=col>V12</th><th scope=col>V13</th><th scope=col>V14</th><th scope=col>V15</th><th scope=col>V16</th><th scope=col>V17</th><th scope=col>V18</th><th scope=col>V19</th><th scope=col>V20</th><th scope=col>V21</th></tr></thead>\n",
       "<tbody>\n",
       "\t<tr><td>1   </td><td>A11 </td><td> 6  </td><td>A34 </td><td>A43 </td><td>1169</td><td>A65 </td><td>A75 </td><td>4   </td><td>A93 </td><td>⋯   </td><td>A121</td><td>67  </td><td>A143</td><td>A152</td><td>2   </td><td>A173</td><td>good</td><td>A192</td><td>A201</td><td>1   </td></tr>\n",
       "\t<tr><td>2   </td><td>A12 </td><td>48  </td><td>A32 </td><td>A43 </td><td>5951</td><td>A61 </td><td>A73 </td><td>2   </td><td>A92 </td><td>⋯   </td><td>A121</td><td>22  </td><td>A143</td><td>A152</td><td>1   </td><td>A173</td><td>good</td><td>A191</td><td>A201</td><td>2   </td></tr>\n",
       "\t<tr><td>3   </td><td>A14 </td><td>12  </td><td>A34 </td><td>A46 </td><td>2096</td><td>A61 </td><td>A74 </td><td>2   </td><td>A93 </td><td>⋯   </td><td>A121</td><td>49  </td><td>A143</td><td>A152</td><td>1   </td><td>A172</td><td>bad </td><td>A191</td><td>A201</td><td>1   </td></tr>\n",
       "\t<tr><td>4   </td><td>A11 </td><td>42  </td><td>A32 </td><td>A42 </td><td>7882</td><td>A61 </td><td>A74 </td><td>2   </td><td>A93 </td><td>⋯   </td><td>A122</td><td>45  </td><td>A143</td><td>A153</td><td>1   </td><td>A173</td><td>bad </td><td>A191</td><td>A201</td><td>1   </td></tr>\n",
       "\t<tr><td>5   </td><td>A11 </td><td>24  </td><td>A33 </td><td>A40 </td><td>4870</td><td>A61 </td><td>A73 </td><td>3   </td><td>A93 </td><td>⋯   </td><td>A124</td><td>53  </td><td>A143</td><td>A153</td><td>2   </td><td>A173</td><td>bad </td><td>A191</td><td>A201</td><td>2   </td></tr>\n",
       "\t<tr><td>6   </td><td>A14 </td><td>36  </td><td>A32 </td><td>A46 </td><td>9055</td><td>A65 </td><td>A73 </td><td>2   </td><td>A93 </td><td>⋯   </td><td>A124</td><td>35  </td><td>A143</td><td>A153</td><td>1   </td><td>A172</td><td>bad </td><td>A192</td><td>A201</td><td>1   </td></tr>\n",
       "</tbody>\n",
       "</table>\n"
      ],
      "text/latex": [
       "\\begin{tabular}{r|llllllllllllllllllllll}\n",
       " X & V1 & V2 & V3 & V4 & V5 & V6 & V7 & V8 & V9 & ⋯ & V12 & V13 & V14 & V15 & V16 & V17 & V18 & V19 & V20 & V21\\\\\n",
       "\\hline\n",
       "\t 1    & A11  &  6   & A34  & A43  & 1169 & A65  & A75  & 4    & A93  & ⋯    & A121 & 67   & A143 & A152 & 2    & A173 & good & A192 & A201 & 1   \\\\\n",
       "\t 2    & A12  & 48   & A32  & A43  & 5951 & A61  & A73  & 2    & A92  & ⋯    & A121 & 22   & A143 & A152 & 1    & A173 & good & A191 & A201 & 2   \\\\\n",
       "\t 3    & A14  & 12   & A34  & A46  & 2096 & A61  & A74  & 2    & A93  & ⋯    & A121 & 49   & A143 & A152 & 1    & A172 & bad  & A191 & A201 & 1   \\\\\n",
       "\t 4    & A11  & 42   & A32  & A42  & 7882 & A61  & A74  & 2    & A93  & ⋯    & A122 & 45   & A143 & A153 & 1    & A173 & bad  & A191 & A201 & 1   \\\\\n",
       "\t 5    & A11  & 24   & A33  & A40  & 4870 & A61  & A73  & 3    & A93  & ⋯    & A124 & 53   & A143 & A153 & 2    & A173 & bad  & A191 & A201 & 2   \\\\\n",
       "\t 6    & A14  & 36   & A32  & A46  & 9055 & A65  & A73  & 2    & A93  & ⋯    & A124 & 35   & A143 & A153 & 1    & A172 & bad  & A192 & A201 & 1   \\\\\n",
       "\\end{tabular}\n"
      ],
      "text/markdown": [
       "\n",
       "X | V1 | V2 | V3 | V4 | V5 | V6 | V7 | V8 | V9 | ⋯ | V12 | V13 | V14 | V15 | V16 | V17 | V18 | V19 | V20 | V21 | \n",
       "|---|---|---|---|---|---|\n",
       "| 1    | A11  |  6   | A34  | A43  | 1169 | A65  | A75  | 4    | A93  | ⋯    | A121 | 67   | A143 | A152 | 2    | A173 | good | A192 | A201 | 1    | \n",
       "| 2    | A12  | 48   | A32  | A43  | 5951 | A61  | A73  | 2    | A92  | ⋯    | A121 | 22   | A143 | A152 | 1    | A173 | good | A191 | A201 | 2    | \n",
       "| 3    | A14  | 12   | A34  | A46  | 2096 | A61  | A74  | 2    | A93  | ⋯    | A121 | 49   | A143 | A152 | 1    | A172 | bad  | A191 | A201 | 1    | \n",
       "| 4    | A11  | 42   | A32  | A42  | 7882 | A61  | A74  | 2    | A93  | ⋯    | A122 | 45   | A143 | A153 | 1    | A173 | bad  | A191 | A201 | 1    | \n",
       "| 5    | A11  | 24   | A33  | A40  | 4870 | A61  | A73  | 3    | A93  | ⋯    | A124 | 53   | A143 | A153 | 2    | A173 | bad  | A191 | A201 | 2    | \n",
       "| 6    | A14  | 36   | A32  | A46  | 9055 | A65  | A73  | 2    | A93  | ⋯    | A124 | 35   | A143 | A153 | 1    | A172 | bad  | A192 | A201 | 1    | \n",
       "\n",
       "\n"
      ],
      "text/plain": [
       "  X V1  V2 V3  V4  V5   V6  V7  V8 V9  ⋯ V12  V13 V14  V15  V16 V17  V18  V19 \n",
       "1 1 A11  6 A34 A43 1169 A65 A75 4  A93 ⋯ A121 67  A143 A152 2   A173 good A192\n",
       "2 2 A12 48 A32 A43 5951 A61 A73 2  A92 ⋯ A121 22  A143 A152 1   A173 good A191\n",
       "3 3 A14 12 A34 A46 2096 A61 A74 2  A93 ⋯ A121 49  A143 A152 1   A172 bad  A191\n",
       "4 4 A11 42 A32 A42 7882 A61 A74 2  A93 ⋯ A122 45  A143 A153 1   A173 bad  A191\n",
       "5 5 A11 24 A33 A40 4870 A61 A73 3  A93 ⋯ A124 53  A143 A153 2   A173 bad  A191\n",
       "6 6 A14 36 A32 A46 9055 A65 A73 2  A93 ⋯ A124 35  A143 A153 1   A172 bad  A192\n",
       "  V20  V21\n",
       "1 A201 1  \n",
       "2 A201 2  \n",
       "3 A201 1  \n",
       "4 A201 1  \n",
       "5 A201 2  \n",
       "6 A201 1  "
      ]
     },
     "metadata": {},
     "output_type": "display_data"
    }
   ],
   "source": [
    "cat(sprintf('NRow: %d\\nNCol: %d',nrow(data), ncol(data)))\n",
    "head(data)"
   ]
  },
  {
   "cell_type": "markdown",
   "metadata": {},
   "source": [
    "<p style='color: red'> ATENTION: </p>Specifically in R, in classification problem, target must be set as Factor."
   ]
  },
  {
   "cell_type": "code",
   "execution_count": 4,
   "metadata": {
    "collapsed": false
   },
   "outputs": [],
   "source": [
    "data$V21 = as.factor(data$V21)"
   ]
  },
  {
   "cell_type": "markdown",
   "metadata": {},
   "source": [
    "MLR works only with features and target, this means that others columns must be dorped."
   ]
  },
  {
   "cell_type": "code",
   "execution_count": 5,
   "metadata": {
    "collapsed": false
   },
   "outputs": [
    {
     "name": "stdout",
     "output_type": "stream",
     "text": [
      "NRow: 1000\n",
      "NCol: 21"
     ]
    }
   ],
   "source": [
    "drops = c('X')\n",
    "data  = data[ , !(names(data) %in% drops)]\n",
    "cat(sprintf('NRow: %d\\nNCol: %d',nrow(data), ncol(data)))"
   ]
  },
  {
   "cell_type": "markdown",
   "metadata": {},
   "source": [
    "Function\n",
    "```R\n",
    "createDummyFeatures(obj, target = character(0L), method = \"1-of-n\",  cols = NULL)\n",
    "```\n",
    "\n",
    "Doc.: https://www.rdocumentation.org/packages/mlr/versions/2.10/topics/createDummyFeatures"
   ]
  },
  {
   "cell_type": "code",
   "execution_count": 6,
   "metadata": {
    "collapsed": false
   },
   "outputs": [
    {
     "name": "stdout",
     "output_type": "stream",
     "text": [
      "NRow: 1000\n",
      "NCol: 63"
     ]
    }
   ],
   "source": [
    "data = createDummyFeatures(obj = data, target = 'V21')\n",
    "cat(sprintf('NRow: %d\\nNCol: %d',nrow(data), ncol(data)))"
   ]
  },
  {
   "cell_type": "markdown",
   "metadata": {},
   "source": [
    "<h2>2. Modeling</h2>"
   ]
  },
  {
   "cell_type": "markdown",
   "metadata": {},
   "source": [
    "Function\n",
    "```R\n",
    "makeLearner(cl, id = cl, predict.type = \"response\", predict.threshold = NULL, \n",
    "            fix.factors.prediction = FALSE, ..., par.vals = list(), config = list())\n",
    "```\n",
    "Param.:\n",
    "\n",
    "* cl: [character(1)] Class of learner. By convention, all classification learners start with “classif.”. A list of all integrated learners is available on the learners help page < https://mlr-org.github.io/mlr-tutorial/release/html/integrated_learners/ >.\n",
    "* predict: [character(1)] “response” (= labels) or “prob” (= probabilities and labels by selecting the ones with maximal probability). Default is “response”.\n",
    "* par.vals: [list] Optional list of named (hyper)parameters. The arguments in ... take precedence over values in this list. We strongly encourage you to use one or the other to pass (hyper)parameters to the learner but not both.\n",
    "\n",
    "Doc.: https://www.rdocumentation.org/packages/mlr/versions/2.10/topics/makeLearner <br>\n",
    "Rpart Parameters: https://www.rdocumentation.org/packages/rpart/versions/4.1-11/topics/rpart.control"
   ]
  },
  {
   "cell_type": "code",
   "execution_count": 7,
   "metadata": {
    "collapsed": true
   },
   "outputs": [],
   "source": [
    "cl = \"classif.xgboost\""
   ]
  },
  {
   "cell_type": "markdown",
   "metadata": {},
   "source": [
    "List all parameters that can be used in this classifier.\n",
    "The value must be set in par.vals parameter."
   ]
  },
  {
   "cell_type": "code",
   "execution_count": 8,
   "metadata": {
    "collapsed": false
   },
   "outputs": [
    {
     "data": {
      "text/plain": [
       "                          Type len             Def               Constr Req\n",
       "booster               discrete   -          gbtree gbtree,gblinear,dart   -\n",
       "silent                 integer   -               0          -Inf to Inf   -\n",
       "eta                    numeric   -             0.3               0 to 1   -\n",
       "gamma                  numeric   -               0             0 to Inf   -\n",
       "max_depth              integer   -               6             1 to Inf   -\n",
       "min_child_weight       numeric   -               1             0 to Inf   -\n",
       "subsample              numeric   -               1               0 to 1   -\n",
       "colsample_bytree       numeric   -               1               0 to 1   -\n",
       "colsample_bylevel      numeric   -               1               0 to 1   -\n",
       "num_parallel_tree      integer   -               1             1 to Inf   -\n",
       "lambda                 numeric   -               0             0 to Inf   -\n",
       "lambda_bias            numeric   -               0             0 to Inf   -\n",
       "alpha                  numeric   -               0             0 to Inf   -\n",
       "objective              untyped   - binary:logistic                    -   -\n",
       "eval_metric            untyped   -           error                    -   -\n",
       "base_score             numeric   -             0.5          -Inf to Inf   -\n",
       "max_delta_step         numeric   -               0             0 to Inf   -\n",
       "missing                numeric   -          <NULL>          -Inf to Inf   -\n",
       "nthread                integer   -               -             1 to Inf   -\n",
       "nrounds                integer   -               1             1 to Inf   -\n",
       "feval                  untyped   -          <NULL>                    -   -\n",
       "verbose                integer   -               1               0 to 2   -\n",
       "print_every_n          integer   -               1             1 to Inf   Y\n",
       "early_stopping_rounds  integer   -          <NULL>             1 to Inf   -\n",
       "maximize               logical   -          <NULL>                    -   -\n",
       "sample_type           discrete   -         uniform     uniform,weighted   Y\n",
       "normalize_type        discrete   -            tree          tree,forest   Y\n",
       "rate_drop              numeric   -               0               0 to 1   Y\n",
       "skip_drop              numeric   -               0               0 to 1   Y\n",
       "                      Tunable Trafo\n",
       "booster                  TRUE     -\n",
       "silent                  FALSE     -\n",
       "eta                      TRUE     -\n",
       "gamma                    TRUE     -\n",
       "max_depth                TRUE     -\n",
       "min_child_weight         TRUE     -\n",
       "subsample                TRUE     -\n",
       "colsample_bytree         TRUE     -\n",
       "colsample_bylevel        TRUE     -\n",
       "num_parallel_tree        TRUE     -\n",
       "lambda                   TRUE     -\n",
       "lambda_bias              TRUE     -\n",
       "alpha                    TRUE     -\n",
       "objective               FALSE     -\n",
       "eval_metric             FALSE     -\n",
       "base_score              FALSE     -\n",
       "max_delta_step           TRUE     -\n",
       "missing                 FALSE     -\n",
       "nthread                 FALSE     -\n",
       "nrounds                  TRUE     -\n",
       "feval                   FALSE     -\n",
       "verbose                 FALSE     -\n",
       "print_every_n           FALSE     -\n",
       "early_stopping_rounds   FALSE     -\n",
       "maximize                FALSE     -\n",
       "sample_type              TRUE     -\n",
       "normalize_type           TRUE     -\n",
       "rate_drop                TRUE     -\n",
       "skip_drop                TRUE     -"
      ]
     },
     "metadata": {},
     "output_type": "display_data"
    }
   ],
   "source": [
    "getParamSet(cl)"
   ]
  },
  {
   "cell_type": "code",
   "execution_count": 9,
   "metadata": {
    "collapsed": false
   },
   "outputs": [],
   "source": [
    "learner = makeLearner(cl = cl\n",
    "                     , predict.type = \"prob\"\n",
    "                     , par.vals = list()\n",
    "                     )"
   ]
  },
  {
   "cell_type": "markdown",
   "metadata": {},
   "source": [
    "Function\n",
    "```R\n",
    "makeClassifTask(id = deparse(substitute(data)), data, target, weights = NULL, blocking = NULL, \n",
    "                positive = NA_character_, fixup.data = \"warn\", check.data = TRUE)\n",
    "```\n",
    "Param.:\n",
    "\n",
    "* data: [data.frame] A data frame containing the features and target variable(s).\n",
    "* target: [character(1)] Name of the target variable.\n",
    "* positive: [character(1)] Positive class for binary classification (otherwise ignored and set to NA). Default is the first factor level of the target attribute.\n",
    "* fixup.data: [character(1)] Should some basic cleaning up of data be performed? Currently this means removing empty factor levels for the columns. Possible coices are: “no” = Don't do it. “warn” = Do it but warn about it. “quiet” = Do it but keep silent. Default is “warn”.\n",
    "\n",
    "Doc.: https://www.rdocumentation.org/packages/mlr/versions/2.10/topics/makeLearner"
   ]
  },
  {
   "cell_type": "code",
   "execution_count": 10,
   "metadata": {
    "collapsed": false
   },
   "outputs": [],
   "source": [
    "task = makeClassifTask( data = data\n",
    "                      , target = 'V21'\n",
    "                      , positive = '2'\n",
    "                      , fixup.data = 'no'\n",
    "                      )"
   ]
  },
  {
   "cell_type": "markdown",
   "metadata": {},
   "source": [
    "Function:\n",
    "```R\n",
    "makeResampleDesc(method, predict = \"test\", ..., stratify = FALSE, stratify.cols = NULL)\n",
    "```\n",
    "Param.:\n",
    "\n",
    "* method: [character(1)] “CV” for cross-validation, “LOO” for leave-one-out, “RepCV” for repeated cross-validation, “Bootstrap” for out-of-bag bootstrap, “Subsample” for subsampling, “Holdout” for holdout.\n",
    "* predict: What to predict during resampling: “train”, “test” or “both” sets. Default is “test”.\n",
    "* ... : [any] Further parameters for strategies.\n",
    "    * iters [integer(1)] Number of iterations, for “CV”, “Subsample” and “Boostrap”.\n",
    "    * split [numeric(1)] Proportion of training cases for “Holdout” and “Subsample” between 0 and 1. Default is 2/3.\n",
    "    * reps [integer(1)] Repeats for “RepCV”. Here iters = folds * reps. Default is 10.\n",
    "    * folds [integer(1)] Folds in the repeated CV for RepCV. Here iters = folds * reps. Default is 10.\n",
    "\n",
    "Doc.: https://www.rdocumentation.org/packages/mlr/versions/2.10/topics/makeResampleDesc"
   ]
  },
  {
   "cell_type": "code",
   "execution_count": 11,
   "metadata": {
    "collapsed": false
   },
   "outputs": [],
   "source": [
    "resample = makeResampleDesc( method = \"CV\"\n",
    "                           , iters = 10\n",
    "                           , predict = 'both'\n",
    "                           , stratify = FALSE\n",
    "                           )"
   ]
  },
  {
   "cell_type": "markdown",
   "metadata": {},
   "source": [
    "List of performance measures:\n",
    "\n",
    "Doc.: http://mlr-org.github.io/mlr-tutorial/release/html/measures/"
   ]
  },
  {
   "cell_type": "code",
   "execution_count": 12,
   "metadata": {
    "collapsed": false
   },
   "outputs": [],
   "source": [
    "measures = list(mmce #MMCE \n",
    "               ,acc  #acuracia\n",
    "               ,f1   #f1\n",
    "               ,ppv  #precision\n",
    "               ,tpr  #recall\n",
    "               ,auc  #AUC\n",
    "               ,gini #Gini\n",
    "               #,timetrain #tempo execucao\n",
    "               )"
   ]
  },
  {
   "cell_type": "markdown",
   "metadata": {},
   "source": [
    "Function:\n",
    "```R\n",
    "resample(learner, task, resampling, measures, weights = NULL, models = FALSE, extract, \n",
    "         keep.pred = TRUE, ..., show.info = getMlrOption(\"show.info\"))\n",
    "```\n",
    "Param.:\n",
    "\n",
    "* learner: [Learner] The learner.\n",
    "* task: [Task] The task.\n",
    "* resampling: [ResampleInstance] Resampling strategy.\n",
    "* measures: [Measure | list of Measure] Performance measure(s) to evaluate. Default is mean misclassification error (mmce)\n",
    "* weights: [numeric] Optional, non-negative case weight vector to be used during fitting. If given, must be of same length as observations in task and in corresponding order. Overwrites weights specified in the task. By default NULL which means no weights are used unless specified in the task.\n",
    "* models: [logical(1)] Should all fitted models be returned? Default is FALSE.\n",
    "* keep.pred: [logical(1)] Keep the prediction data in the pred slot of the result object. If you do many experiments (on larger data sets) these objects might unnecessarily increase object size / mem usage, if you do not really need them. In this case you can set this argument to FALSE. Default is TRUE.\n",
    "* show.info: [logical(1)] Print verbose output on console? Default is set via configureMlr.\n",
    "\n",
    "Doc.: https://www.rdocumentation.org/packages/mlr/versions/2.10/topics/resample"
   ]
  },
  {
   "cell_type": "code",
   "execution_count": 13,
   "metadata": {
    "collapsed": false
   },
   "outputs": [
    {
     "name": "stderr",
     "output_type": "stream",
     "text": [
      "[Resample] cross-validation iter 1: mmce.test.mean=0.29,acc.test.mean=0.71,f1.test.mean=0.408,ppv.test.mean=0.455,tpr.test.mean=0.37,auc.test.mean=0.649,gini.test.mean=0.297\n",
      "[Resample] cross-validation iter 2: mmce.test.mean=0.28,acc.test.mean=0.72,f1.test.mean=0.391,ppv.test.mean=0.692,tpr.test.mean=0.273,auc.test.mean=0.71,gini.test.mean=0.42\n",
      "[Resample] cross-validation iter 3: mmce.test.mean=0.31,acc.test.mean=0.69,f1.test.mean=0.492,ppv.test.mean=0.536,tpr.test.mean=0.455,auc.test.mean=0.745,gini.test.mean=0.49\n",
      "[Resample] cross-validation iter 4: mmce.test.mean=0.27,acc.test.mean=0.73,f1.test.mean= 0.4,ppv.test.mean=0.692,tpr.test.mean=0.281,auc.test.mean=0.694,gini.test.mean=0.389\n",
      "[Resample] cross-validation iter 5: mmce.test.mean= 0.3,acc.test.mean= 0.7,f1.test.mean=0.516,ppv.test.mean= 0.5,tpr.test.mean=0.533,auc.test.mean=0.752,gini.test.mean=0.504\n",
      "[Resample] cross-validation iter 6: mmce.test.mean= 0.3,acc.test.mean= 0.7,f1.test.mean=0.444,ppv.test.mean=0.522,tpr.test.mean=0.387,auc.test.mean=0.78,gini.test.mean=0.56\n",
      "[Resample] cross-validation iter 7: mmce.test.mean=0.32,acc.test.mean=0.68,f1.test.mean=0.448,ppv.test.mean=0.52,tpr.test.mean=0.394,auc.test.mean=0.741,gini.test.mean=0.481\n",
      "[Resample] cross-validation iter 8: mmce.test.mean=0.28,acc.test.mean=0.72,f1.test.mean=0.533,ppv.test.mean=0.485,tpr.test.mean=0.593,auc.test.mean=0.746,gini.test.mean=0.492\n",
      "[Resample] cross-validation iter 9: mmce.test.mean=0.24,acc.test.mean=0.76,f1.test.mean=0.455,ppv.test.mean=0.526,tpr.test.mean= 0.4,auc.test.mean=0.771,gini.test.mean=0.541\n",
      "[Resample] cross-validation iter 10: mmce.test.mean=0.28,acc.test.mean=0.72,f1.test.mean=0.548,ppv.test.mean=0.515,tpr.test.mean=0.586,auc.test.mean=0.754,gini.test.mean=0.509\n",
      "[Resample] Aggr. Result: mmce.test.mean=0.287,acc.test.mean=0.713,f1.test.mean=0.464,ppv.test.mean=0.544,tpr.test.mean=0.427,auc.test.mean=0.734,gini.test.mean=0.468\n"
     ]
    }
   ],
   "source": [
    "r = resample(learner = learner\n",
    "            ,task = task \n",
    "            ,resampling = resample \n",
    "            ,measures = measures\n",
    "            #---------------------#\n",
    "            ,models = TRUE\n",
    "            ,keep.pred = FALSE\n",
    "            ,show.info = TRUE\n",
    "            )"
   ]
  },
  {
   "cell_type": "markdown",
   "metadata": {},
   "source": [
    "<h2>3. Result Analysis</h2>"
   ]
  },
  {
   "cell_type": "markdown",
   "metadata": {},
   "source": [
    "Train Measures"
   ]
  },
  {
   "cell_type": "code",
   "execution_count": 14,
   "metadata": {
    "collapsed": false
   },
   "outputs": [
    {
     "data": {
      "text/html": [
       "<table>\n",
       "<thead><tr><th scope=col>iter</th><th scope=col>mmce</th><th scope=col>acc</th><th scope=col>f1</th><th scope=col>ppv</th><th scope=col>tpr</th><th scope=col>auc</th><th scope=col>gini</th></tr></thead>\n",
       "<tbody>\n",
       "\t<tr><td> 1       </td><td>0.1977778</td><td>0.8022222</td><td>0.6352459</td><td>0.7209302</td><td>0.5677656</td><td>0.8564447</td><td>0.7128894</td></tr>\n",
       "\t<tr><td> 2       </td><td>0.1866667</td><td>0.8133333</td><td>0.6018957</td><td>0.8193548</td><td>0.4756554</td><td>0.8666951</td><td>0.7333901</td></tr>\n",
       "\t<tr><td> 3       </td><td>0.1900000</td><td>0.8100000</td><td>0.6430063</td><td>0.7264151</td><td>0.5767790</td><td>0.8596511</td><td>0.7193023</td></tr>\n",
       "\t<tr><td> 4       </td><td>0.1800000</td><td>0.8200000</td><td>0.6462882</td><td>0.7789474</td><td>0.5522388</td><td>0.8610783</td><td>0.7221566</td></tr>\n",
       "\t<tr><td> 5       </td><td>0.1966667</td><td>0.8033333</td><td>0.5931034</td><td>0.7818182</td><td>0.4777778</td><td>0.8403616</td><td>0.6807231</td></tr>\n",
       "\t<tr><td> 6       </td><td>0.1922222</td><td>0.8077778</td><td>0.6587771</td><td>0.7016807</td><td>0.6208178</td><td>0.8505058</td><td>0.7010116</td></tr>\n",
       "\t<tr><td> 7       </td><td>0.1811111</td><td>0.8188889</td><td>0.6337079</td><td>0.7921348</td><td>0.5280899</td><td>0.8553230</td><td>0.7106461</td></tr>\n",
       "\t<tr><td> 8       </td><td>0.1944444</td><td>0.8055556</td><td>0.6492986</td><td>0.7168142</td><td>0.5934066</td><td>0.8489756</td><td>0.6979512</td></tr>\n",
       "\t<tr><td> 9       </td><td>0.2066667</td><td>0.7933333</td><td>0.6108787</td><td>0.7192118</td><td>0.5309091</td><td>0.8453207</td><td>0.6906415</td></tr>\n",
       "\t<tr><td>10       </td><td>0.1911111</td><td>0.8088889</td><td>0.6653696</td><td>0.7037037</td><td>0.6309963</td><td>0.8495709</td><td>0.6991417</td></tr>\n",
       "</tbody>\n",
       "</table>\n"
      ],
      "text/latex": [
       "\\begin{tabular}{r|llllllll}\n",
       " iter & mmce & acc & f1 & ppv & tpr & auc & gini\\\\\n",
       "\\hline\n",
       "\t  1        & 0.1977778 & 0.8022222 & 0.6352459 & 0.7209302 & 0.5677656 & 0.8564447 & 0.7128894\\\\\n",
       "\t  2        & 0.1866667 & 0.8133333 & 0.6018957 & 0.8193548 & 0.4756554 & 0.8666951 & 0.7333901\\\\\n",
       "\t  3        & 0.1900000 & 0.8100000 & 0.6430063 & 0.7264151 & 0.5767790 & 0.8596511 & 0.7193023\\\\\n",
       "\t  4        & 0.1800000 & 0.8200000 & 0.6462882 & 0.7789474 & 0.5522388 & 0.8610783 & 0.7221566\\\\\n",
       "\t  5        & 0.1966667 & 0.8033333 & 0.5931034 & 0.7818182 & 0.4777778 & 0.8403616 & 0.6807231\\\\\n",
       "\t  6        & 0.1922222 & 0.8077778 & 0.6587771 & 0.7016807 & 0.6208178 & 0.8505058 & 0.7010116\\\\\n",
       "\t  7        & 0.1811111 & 0.8188889 & 0.6337079 & 0.7921348 & 0.5280899 & 0.8553230 & 0.7106461\\\\\n",
       "\t  8        & 0.1944444 & 0.8055556 & 0.6492986 & 0.7168142 & 0.5934066 & 0.8489756 & 0.6979512\\\\\n",
       "\t  9        & 0.2066667 & 0.7933333 & 0.6108787 & 0.7192118 & 0.5309091 & 0.8453207 & 0.6906415\\\\\n",
       "\t 10        & 0.1911111 & 0.8088889 & 0.6653696 & 0.7037037 & 0.6309963 & 0.8495709 & 0.6991417\\\\\n",
       "\\end{tabular}\n"
      ],
      "text/markdown": [
       "\n",
       "iter | mmce | acc | f1 | ppv | tpr | auc | gini | \n",
       "|---|---|---|---|---|---|---|---|---|---|\n",
       "|  1        | 0.1977778 | 0.8022222 | 0.6352459 | 0.7209302 | 0.5677656 | 0.8564447 | 0.7128894 | \n",
       "|  2        | 0.1866667 | 0.8133333 | 0.6018957 | 0.8193548 | 0.4756554 | 0.8666951 | 0.7333901 | \n",
       "|  3        | 0.1900000 | 0.8100000 | 0.6430063 | 0.7264151 | 0.5767790 | 0.8596511 | 0.7193023 | \n",
       "|  4        | 0.1800000 | 0.8200000 | 0.6462882 | 0.7789474 | 0.5522388 | 0.8610783 | 0.7221566 | \n",
       "|  5        | 0.1966667 | 0.8033333 | 0.5931034 | 0.7818182 | 0.4777778 | 0.8403616 | 0.6807231 | \n",
       "|  6        | 0.1922222 | 0.8077778 | 0.6587771 | 0.7016807 | 0.6208178 | 0.8505058 | 0.7010116 | \n",
       "|  7        | 0.1811111 | 0.8188889 | 0.6337079 | 0.7921348 | 0.5280899 | 0.8553230 | 0.7106461 | \n",
       "|  8        | 0.1944444 | 0.8055556 | 0.6492986 | 0.7168142 | 0.5934066 | 0.8489756 | 0.6979512 | \n",
       "|  9        | 0.2066667 | 0.7933333 | 0.6108787 | 0.7192118 | 0.5309091 | 0.8453207 | 0.6906415 | \n",
       "| 10        | 0.1911111 | 0.8088889 | 0.6653696 | 0.7037037 | 0.6309963 | 0.8495709 | 0.6991417 | \n",
       "\n",
       "\n"
      ],
      "text/plain": [
       "   iter mmce      acc       f1        ppv       tpr       auc       gini     \n",
       "1   1   0.1977778 0.8022222 0.6352459 0.7209302 0.5677656 0.8564447 0.7128894\n",
       "2   2   0.1866667 0.8133333 0.6018957 0.8193548 0.4756554 0.8666951 0.7333901\n",
       "3   3   0.1900000 0.8100000 0.6430063 0.7264151 0.5767790 0.8596511 0.7193023\n",
       "4   4   0.1800000 0.8200000 0.6462882 0.7789474 0.5522388 0.8610783 0.7221566\n",
       "5   5   0.1966667 0.8033333 0.5931034 0.7818182 0.4777778 0.8403616 0.6807231\n",
       "6   6   0.1922222 0.8077778 0.6587771 0.7016807 0.6208178 0.8505058 0.7010116\n",
       "7   7   0.1811111 0.8188889 0.6337079 0.7921348 0.5280899 0.8553230 0.7106461\n",
       "8   8   0.1944444 0.8055556 0.6492986 0.7168142 0.5934066 0.8489756 0.6979512\n",
       "9   9   0.2066667 0.7933333 0.6108787 0.7192118 0.5309091 0.8453207 0.6906415\n",
       "10 10   0.1911111 0.8088889 0.6653696 0.7037037 0.6309963 0.8495709 0.6991417"
      ]
     },
     "metadata": {},
     "output_type": "display_data"
    }
   ],
   "source": [
    "r$measures.train"
   ]
  },
  {
   "cell_type": "markdown",
   "metadata": {},
   "source": [
    "Test Measures"
   ]
  },
  {
   "cell_type": "code",
   "execution_count": 15,
   "metadata": {
    "collapsed": false
   },
   "outputs": [
    {
     "data": {
      "text/html": [
       "<table>\n",
       "<thead><tr><th scope=col>iter</th><th scope=col>mmce</th><th scope=col>acc</th><th scope=col>f1</th><th scope=col>ppv</th><th scope=col>tpr</th><th scope=col>auc</th><th scope=col>gini</th></tr></thead>\n",
       "<tbody>\n",
       "\t<tr><td> 1       </td><td>0.29     </td><td>0.71     </td><td>0.4081633</td><td>0.4545455</td><td>0.3703704</td><td>0.6486555</td><td>0.2973110</td></tr>\n",
       "\t<tr><td> 2       </td><td>0.28     </td><td>0.72     </td><td>0.3913043</td><td>0.6923077</td><td>0.2727273</td><td>0.7098598</td><td>0.4197196</td></tr>\n",
       "\t<tr><td> 3       </td><td>0.31     </td><td>0.69     </td><td>0.4918033</td><td>0.5357143</td><td>0.4545455</td><td>0.7451379</td><td>0.4902759</td></tr>\n",
       "\t<tr><td> 4       </td><td>0.27     </td><td>0.73     </td><td>0.4000000</td><td>0.6923077</td><td>0.2812500</td><td>0.6943934</td><td>0.3887868</td></tr>\n",
       "\t<tr><td> 5       </td><td>0.30     </td><td>0.70     </td><td>0.5161290</td><td>0.5000000</td><td>0.5333333</td><td>0.7521429</td><td>0.5042857</td></tr>\n",
       "\t<tr><td> 6       </td><td>0.30     </td><td>0.70     </td><td>0.4444444</td><td>0.5217391</td><td>0.3870968</td><td>0.7800374</td><td>0.5600748</td></tr>\n",
       "\t<tr><td> 7       </td><td>0.32     </td><td>0.68     </td><td>0.4482759</td><td>0.5200000</td><td>0.3939394</td><td>0.7406151</td><td>0.4812302</td></tr>\n",
       "\t<tr><td> 8       </td><td>0.28     </td><td>0.72     </td><td>0.5333333</td><td>0.4848485</td><td>0.5925926</td><td>0.7460680</td><td>0.4921360</td></tr>\n",
       "\t<tr><td> 9       </td><td>0.24     </td><td>0.76     </td><td>0.4545455</td><td>0.5263158</td><td>0.4000000</td><td>0.7706667</td><td>0.5413333</td></tr>\n",
       "\t<tr><td>10       </td><td>0.28     </td><td>0.72     </td><td>0.5483871</td><td>0.5151515</td><td>0.5862069</td><td>0.7544925</td><td>0.5089849</td></tr>\n",
       "</tbody>\n",
       "</table>\n"
      ],
      "text/latex": [
       "\\begin{tabular}{r|llllllll}\n",
       " iter & mmce & acc & f1 & ppv & tpr & auc & gini\\\\\n",
       "\\hline\n",
       "\t  1        & 0.29      & 0.71      & 0.4081633 & 0.4545455 & 0.3703704 & 0.6486555 & 0.2973110\\\\\n",
       "\t  2        & 0.28      & 0.72      & 0.3913043 & 0.6923077 & 0.2727273 & 0.7098598 & 0.4197196\\\\\n",
       "\t  3        & 0.31      & 0.69      & 0.4918033 & 0.5357143 & 0.4545455 & 0.7451379 & 0.4902759\\\\\n",
       "\t  4        & 0.27      & 0.73      & 0.4000000 & 0.6923077 & 0.2812500 & 0.6943934 & 0.3887868\\\\\n",
       "\t  5        & 0.30      & 0.70      & 0.5161290 & 0.5000000 & 0.5333333 & 0.7521429 & 0.5042857\\\\\n",
       "\t  6        & 0.30      & 0.70      & 0.4444444 & 0.5217391 & 0.3870968 & 0.7800374 & 0.5600748\\\\\n",
       "\t  7        & 0.32      & 0.68      & 0.4482759 & 0.5200000 & 0.3939394 & 0.7406151 & 0.4812302\\\\\n",
       "\t  8        & 0.28      & 0.72      & 0.5333333 & 0.4848485 & 0.5925926 & 0.7460680 & 0.4921360\\\\\n",
       "\t  9        & 0.24      & 0.76      & 0.4545455 & 0.5263158 & 0.4000000 & 0.7706667 & 0.5413333\\\\\n",
       "\t 10        & 0.28      & 0.72      & 0.5483871 & 0.5151515 & 0.5862069 & 0.7544925 & 0.5089849\\\\\n",
       "\\end{tabular}\n"
      ],
      "text/markdown": [
       "\n",
       "iter | mmce | acc | f1 | ppv | tpr | auc | gini | \n",
       "|---|---|---|---|---|---|---|---|---|---|\n",
       "|  1        | 0.29      | 0.71      | 0.4081633 | 0.4545455 | 0.3703704 | 0.6486555 | 0.2973110 | \n",
       "|  2        | 0.28      | 0.72      | 0.3913043 | 0.6923077 | 0.2727273 | 0.7098598 | 0.4197196 | \n",
       "|  3        | 0.31      | 0.69      | 0.4918033 | 0.5357143 | 0.4545455 | 0.7451379 | 0.4902759 | \n",
       "|  4        | 0.27      | 0.73      | 0.4000000 | 0.6923077 | 0.2812500 | 0.6943934 | 0.3887868 | \n",
       "|  5        | 0.30      | 0.70      | 0.5161290 | 0.5000000 | 0.5333333 | 0.7521429 | 0.5042857 | \n",
       "|  6        | 0.30      | 0.70      | 0.4444444 | 0.5217391 | 0.3870968 | 0.7800374 | 0.5600748 | \n",
       "|  7        | 0.32      | 0.68      | 0.4482759 | 0.5200000 | 0.3939394 | 0.7406151 | 0.4812302 | \n",
       "|  8        | 0.28      | 0.72      | 0.5333333 | 0.4848485 | 0.5925926 | 0.7460680 | 0.4921360 | \n",
       "|  9        | 0.24      | 0.76      | 0.4545455 | 0.5263158 | 0.4000000 | 0.7706667 | 0.5413333 | \n",
       "| 10        | 0.28      | 0.72      | 0.5483871 | 0.5151515 | 0.5862069 | 0.7544925 | 0.5089849 | \n",
       "\n",
       "\n"
      ],
      "text/plain": [
       "   iter mmce acc  f1        ppv       tpr       auc       gini     \n",
       "1   1   0.29 0.71 0.4081633 0.4545455 0.3703704 0.6486555 0.2973110\n",
       "2   2   0.28 0.72 0.3913043 0.6923077 0.2727273 0.7098598 0.4197196\n",
       "3   3   0.31 0.69 0.4918033 0.5357143 0.4545455 0.7451379 0.4902759\n",
       "4   4   0.27 0.73 0.4000000 0.6923077 0.2812500 0.6943934 0.3887868\n",
       "5   5   0.30 0.70 0.5161290 0.5000000 0.5333333 0.7521429 0.5042857\n",
       "6   6   0.30 0.70 0.4444444 0.5217391 0.3870968 0.7800374 0.5600748\n",
       "7   7   0.32 0.68 0.4482759 0.5200000 0.3939394 0.7406151 0.4812302\n",
       "8   8   0.28 0.72 0.5333333 0.4848485 0.5925926 0.7460680 0.4921360\n",
       "9   9   0.24 0.76 0.4545455 0.5263158 0.4000000 0.7706667 0.5413333\n",
       "10 10   0.28 0.72 0.5483871 0.5151515 0.5862069 0.7544925 0.5089849"
      ]
     },
     "metadata": {},
     "output_type": "display_data"
    }
   ],
   "source": [
    "r$measures.test"
   ]
  },
  {
   "cell_type": "markdown",
   "metadata": {},
   "source": [
    "Train Aggregated Result"
   ]
  },
  {
   "cell_type": "code",
   "execution_count": 16,
   "metadata": {
    "collapsed": false
   },
   "outputs": [
    {
     "data": {
      "text/html": [
       "<dl class=dl-horizontal>\n",
       "\t<dt>iter</dt>\n",
       "\t\t<dd>5.5</dd>\n",
       "\t<dt>mmce</dt>\n",
       "\t\t<dd>0.191666666666667</dd>\n",
       "\t<dt>acc</dt>\n",
       "\t\t<dd>0.808333333333333</dd>\n",
       "\t<dt>f1</dt>\n",
       "\t\t<dd>0.633757145073919</dd>\n",
       "\t<dt>ppv</dt>\n",
       "\t\t<dd>0.746101090523209</dd>\n",
       "\t<dt>tpr</dt>\n",
       "\t\t<dd>0.555443633422774</dd>\n",
       "\t<dt>auc</dt>\n",
       "\t\t<dd>0.85339267824886</dd>\n",
       "\t<dt>gini</dt>\n",
       "\t\t<dd>0.706785356497719</dd>\n",
       "</dl>\n"
      ],
      "text/latex": [
       "\\begin{description*}\n",
       "\\item[iter] 5.5\n",
       "\\item[mmce] 0.191666666666667\n",
       "\\item[acc] 0.808333333333333\n",
       "\\item[f1] 0.633757145073919\n",
       "\\item[ppv] 0.746101090523209\n",
       "\\item[tpr] 0.555443633422774\n",
       "\\item[auc] 0.85339267824886\n",
       "\\item[gini] 0.706785356497719\n",
       "\\end{description*}\n"
      ],
      "text/markdown": [
       "iter\n",
       ":   5.5mmce\n",
       ":   0.191666666666667acc\n",
       ":   0.808333333333333f1\n",
       ":   0.633757145073919ppv\n",
       ":   0.746101090523209tpr\n",
       ":   0.555443633422774auc\n",
       ":   0.85339267824886gini\n",
       ":   0.706785356497719\n",
       "\n"
      ],
      "text/plain": [
       "     iter      mmce       acc        f1       ppv       tpr       auc      gini \n",
       "5.5000000 0.1916667 0.8083333 0.6337571 0.7461011 0.5554436 0.8533927 0.7067854 "
      ]
     },
     "metadata": {},
     "output_type": "display_data"
    }
   ],
   "source": [
    "apply(r$measures.train,2,mean)"
   ]
  },
  {
   "cell_type": "markdown",
   "metadata": {},
   "source": [
    "Test Aggregated Result"
   ]
  },
  {
   "cell_type": "code",
   "execution_count": 17,
   "metadata": {
    "collapsed": false
   },
   "outputs": [
    {
     "data": {
      "text/html": [
       "<dl class=dl-horizontal>\n",
       "\t<dt>iter</dt>\n",
       "\t\t<dd>5.5</dd>\n",
       "\t<dt>mmce</dt>\n",
       "\t\t<dd>0.287</dd>\n",
       "\t<dt>acc</dt>\n",
       "\t\t<dd>0.713</dd>\n",
       "\t<dt>f1</dt>\n",
       "\t\t<dd>0.463638611524519</dd>\n",
       "\t<dt>ppv</dt>\n",
       "\t\t<dd>0.544293004478359</dd>\n",
       "\t<dt>tpr</dt>\n",
       "\t\t<dd>0.427206208825369</dd>\n",
       "\t<dt>auc</dt>\n",
       "\t\t<dd>0.734206911437128</dd>\n",
       "\t<dt>gini</dt>\n",
       "\t\t<dd>0.468413822874255</dd>\n",
       "</dl>\n"
      ],
      "text/latex": [
       "\\begin{description*}\n",
       "\\item[iter] 5.5\n",
       "\\item[mmce] 0.287\n",
       "\\item[acc] 0.713\n",
       "\\item[f1] 0.463638611524519\n",
       "\\item[ppv] 0.544293004478359\n",
       "\\item[tpr] 0.427206208825369\n",
       "\\item[auc] 0.734206911437128\n",
       "\\item[gini] 0.468413822874255\n",
       "\\end{description*}\n"
      ],
      "text/markdown": [
       "iter\n",
       ":   5.5mmce\n",
       ":   0.287acc\n",
       ":   0.713f1\n",
       ":   0.463638611524519ppv\n",
       ":   0.544293004478359tpr\n",
       ":   0.427206208825369auc\n",
       ":   0.734206911437128gini\n",
       ":   0.468413822874255\n",
       "\n"
      ],
      "text/plain": [
       "     iter      mmce       acc        f1       ppv       tpr       auc      gini \n",
       "5.5000000 0.2870000 0.7130000 0.4636386 0.5442930 0.4272062 0.7342069 0.4684138 "
      ]
     },
     "metadata": {},
     "output_type": "display_data"
    }
   ],
   "source": [
    "apply(r$measures.test,2,mean)"
   ]
  },
  {
   "cell_type": "markdown",
   "metadata": {},
   "source": [
    "Run Time in seconds"
   ]
  },
  {
   "cell_type": "code",
   "execution_count": 18,
   "metadata": {
    "collapsed": false
   },
   "outputs": [
    {
     "data": {
      "text/html": [
       "1.00373005867004"
      ],
      "text/latex": [
       "1.00373005867004"
      ],
      "text/markdown": [
       "1.00373005867004"
      ],
      "text/plain": [
       "[1] 1.00373"
      ]
     },
     "metadata": {},
     "output_type": "display_data"
    }
   ],
   "source": [
    "r$runtime"
   ]
  },
  {
   "cell_type": "markdown",
   "metadata": {},
   "source": [
    "<h2>4. Prediction for new data</h2>"
   ]
  },
  {
   "cell_type": "markdown",
   "metadata": {},
   "source": [
    "Read the data to predict"
   ]
  },
  {
   "cell_type": "code",
   "execution_count": 19,
   "metadata": {
    "collapsed": true
   },
   "outputs": [],
   "source": [
    "new.data = read.csv(file=sprintf('%s/%s', folder_name, file_name))\n",
    "new.data = createDummyFeatures(obj = new.data, target = 'V21')"
   ]
  },
  {
   "cell_type": "markdown",
   "metadata": {},
   "source": [
    "Search for the best model in crossvalidation and use it to score the incoming data"
   ]
  },
  {
   "cell_type": "code",
   "execution_count": 20,
   "metadata": {
    "collapsed": false
   },
   "outputs": [],
   "source": [
    "best.model = which.max(r$measures.test$acc)"
   ]
  },
  {
   "cell_type": "code",
   "execution_count": 21,
   "metadata": {
    "collapsed": false
   },
   "outputs": [],
   "source": [
    "pred = predict(r$models[[best.model]], newdata = new.data)"
   ]
  },
  {
   "cell_type": "markdown",
   "metadata": {},
   "source": [
    "Prediction Result"
   ]
  },
  {
   "cell_type": "code",
   "execution_count": 22,
   "metadata": {
    "collapsed": false
   },
   "outputs": [
    {
     "data": {
      "text/plain": [
       "Prediction: 1000 observations\n",
       "predict.type: prob\n",
       "threshold: 1=0.50,2=0.50\n",
       "time: 0.00\n",
       "  truth    prob.1    prob.2 response\n",
       "1     1 0.5299640 0.4700360        1\n",
       "2     2 0.5299640 0.4700360        1\n",
       "3     1 0.6248065 0.3751935        1\n",
       "4     1 0.5299640 0.4700360        1\n",
       "5     2 0.5299640 0.4700360        1\n",
       "6     1 0.6248065 0.3751935        1\n",
       "... (1000 rows, 4 cols)\n"
      ]
     },
     "metadata": {},
     "output_type": "display_data"
    }
   ],
   "source": [
    "pred"
   ]
  },
  {
   "cell_type": "markdown",
   "metadata": {},
   "source": [
    "Cast result to data.frame to access the prediction"
   ]
  },
  {
   "cell_type": "code",
   "execution_count": 23,
   "metadata": {
    "collapsed": false
   },
   "outputs": [
    {
     "data": {
      "text/html": [
       "<table>\n",
       "<thead><tr><th scope=col>truth</th><th scope=col>prob.1</th><th scope=col>prob.2</th><th scope=col>response</th></tr></thead>\n",
       "<tbody>\n",
       "\t<tr><td>1        </td><td>0.5299640</td><td>0.4700360</td><td>1        </td></tr>\n",
       "\t<tr><td>2        </td><td>0.5299640</td><td>0.4700360</td><td>1        </td></tr>\n",
       "\t<tr><td>1        </td><td>0.6248065</td><td>0.3751935</td><td>1        </td></tr>\n",
       "\t<tr><td>1        </td><td>0.5299640</td><td>0.4700360</td><td>1        </td></tr>\n",
       "\t<tr><td>2        </td><td>0.5299640</td><td>0.4700360</td><td>1        </td></tr>\n",
       "\t<tr><td>1        </td><td>0.6248065</td><td>0.3751935</td><td>1        </td></tr>\n",
       "</tbody>\n",
       "</table>\n"
      ],
      "text/latex": [
       "\\begin{tabular}{r|llll}\n",
       " truth & prob.1 & prob.2 & response\\\\\n",
       "\\hline\n",
       "\t 1         & 0.5299640 & 0.4700360 & 1        \\\\\n",
       "\t 2         & 0.5299640 & 0.4700360 & 1        \\\\\n",
       "\t 1         & 0.6248065 & 0.3751935 & 1        \\\\\n",
       "\t 1         & 0.5299640 & 0.4700360 & 1        \\\\\n",
       "\t 2         & 0.5299640 & 0.4700360 & 1        \\\\\n",
       "\t 1         & 0.6248065 & 0.3751935 & 1        \\\\\n",
       "\\end{tabular}\n"
      ],
      "text/markdown": [
       "\n",
       "truth | prob.1 | prob.2 | response | \n",
       "|---|---|---|---|---|---|\n",
       "| 1         | 0.5299640 | 0.4700360 | 1         | \n",
       "| 2         | 0.5299640 | 0.4700360 | 1         | \n",
       "| 1         | 0.6248065 | 0.3751935 | 1         | \n",
       "| 1         | 0.5299640 | 0.4700360 | 1         | \n",
       "| 2         | 0.5299640 | 0.4700360 | 1         | \n",
       "| 1         | 0.6248065 | 0.3751935 | 1         | \n",
       "\n",
       "\n"
      ],
      "text/plain": [
       "  truth prob.1    prob.2    response\n",
       "1 1     0.5299640 0.4700360 1       \n",
       "2 2     0.5299640 0.4700360 1       \n",
       "3 1     0.6248065 0.3751935 1       \n",
       "4 1     0.5299640 0.4700360 1       \n",
       "5 2     0.5299640 0.4700360 1       \n",
       "6 1     0.6248065 0.3751935 1       "
      ]
     },
     "metadata": {},
     "output_type": "display_data"
    }
   ],
   "source": [
    "head(as.data.frame(pred))"
   ]
  },
  {
   "cell_type": "code",
   "execution_count": null,
   "metadata": {
    "collapsed": true
   },
   "outputs": [],
   "source": []
  }
 ],
 "metadata": {
  "kernelspec": {
   "display_name": "R",
   "language": "R",
   "name": "ir"
  },
  "language_info": {
   "codemirror_mode": "r",
   "file_extension": ".r",
   "mimetype": "text/x-r-source",
   "name": "R",
   "pygments_lexer": "r",
   "version": "3.4.2"
  }
 },
 "nbformat": 4,
 "nbformat_minor": 2
}
