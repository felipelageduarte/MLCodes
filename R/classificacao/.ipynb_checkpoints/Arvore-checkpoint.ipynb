{
 "cells": [
  {
   "cell_type": "markdown",
   "metadata": {},
   "source": [
    "<h1>Naive Bayes</h1>"
   ]
  },
  {
   "cell_type": "code",
   "execution_count": 58,
   "metadata": {
    "collapsed": false
   },
   "outputs": [],
   "source": [
    "library(data.table)\n",
    "library(MLmetrics)\n",
    "library(mlr)\n",
    "library(doMC)\n",
    "\n",
    "source('../utils.r')\n",
    "\n",
    "set.seed(42)\n",
    "registerDoMC(cores = detectCores(all.tests = FALSE, logical = TRUE))\n",
    "\n",
    "folder_name = '../../raw_data' \n",
    "file_name   = 'german.csv'"
   ]
  },
  {
   "cell_type": "code",
   "execution_count": 59,
   "metadata": {
    "collapsed": false
   },
   "outputs": [],
   "source": [
    "data = read.csv(file=sprintf('%s/%s',folder_name,file_name))"
   ]
  },
  {
   "cell_type": "code",
   "execution_count": 60,
   "metadata": {
    "collapsed": false
   },
   "outputs": [
    {
     "data": {
      "text/html": [
       "<ol class=list-inline>\n",
       "\t<li>1000</li>\n",
       "\t<li>22</li>\n",
       "</ol>\n"
      ],
      "text/latex": [
       "\\begin{enumerate*}\n",
       "\\item 1000\n",
       "\\item 22\n",
       "\\end{enumerate*}\n"
      ],
      "text/markdown": [
       "1. 1000\n",
       "2. 22\n",
       "\n",
       "\n"
      ],
      "text/plain": [
       "[1] 1000   22"
      ]
     },
     "metadata": {},
     "output_type": "display_data"
    }
   ],
   "source": [
    "dim(data)"
   ]
  },
  {
   "cell_type": "code",
   "execution_count": 61,
   "metadata": {
    "collapsed": false
   },
   "outputs": [
    {
     "data": {
      "text/html": [
       "<table>\n",
       "<thead><tr><th scope=col>X</th><th scope=col>V1</th><th scope=col>V2</th><th scope=col>V3</th><th scope=col>V4</th><th scope=col>V5</th><th scope=col>V6</th><th scope=col>V7</th><th scope=col>V8</th><th scope=col>V9</th><th scope=col>⋯</th><th scope=col>V12</th><th scope=col>V13</th><th scope=col>V14</th><th scope=col>V15</th><th scope=col>V16</th><th scope=col>V17</th><th scope=col>V18</th><th scope=col>V19</th><th scope=col>V20</th><th scope=col>V21</th></tr></thead>\n",
       "<tbody>\n",
       "\t<tr><td> 1   </td><td>A11  </td><td> 6   </td><td>A34  </td><td>A43  </td><td> 1169</td><td>A65  </td><td>A75  </td><td>4    </td><td>A93  </td><td>⋯    </td><td>A121 </td><td>67   </td><td>A143 </td><td>A152 </td><td>2    </td><td>A173 </td><td>good </td><td>A192 </td><td>A201 </td><td>1    </td></tr>\n",
       "\t<tr><td> 2   </td><td>A12  </td><td>48   </td><td>A32  </td><td>A43  </td><td> 5951</td><td>A61  </td><td>A73  </td><td>2    </td><td>A92  </td><td>⋯    </td><td>A121 </td><td>22   </td><td>A143 </td><td>A152 </td><td>1    </td><td>A173 </td><td>good </td><td>A191 </td><td>A201 </td><td>2    </td></tr>\n",
       "\t<tr><td> 3   </td><td>A14  </td><td>12   </td><td>A34  </td><td>A46  </td><td> 2096</td><td>A61  </td><td>A74  </td><td>2    </td><td>A93  </td><td>⋯    </td><td>A121 </td><td>49   </td><td>A143 </td><td>A152 </td><td>1    </td><td>A172 </td><td>bad  </td><td>A191 </td><td>A201 </td><td>1    </td></tr>\n",
       "\t<tr><td> 4   </td><td>A11  </td><td>42   </td><td>A32  </td><td>A42  </td><td> 7882</td><td>A61  </td><td>A74  </td><td>2    </td><td>A93  </td><td>⋯    </td><td>A122 </td><td>45   </td><td>A143 </td><td>A153 </td><td>1    </td><td>A173 </td><td>bad  </td><td>A191 </td><td>A201 </td><td>1    </td></tr>\n",
       "\t<tr><td> 5   </td><td>A11  </td><td>24   </td><td>A33  </td><td>A40  </td><td> 4870</td><td>A61  </td><td>A73  </td><td>3    </td><td>A93  </td><td>⋯    </td><td>A124 </td><td>53   </td><td>A143 </td><td>A153 </td><td>2    </td><td>A173 </td><td>bad  </td><td>A191 </td><td>A201 </td><td>2    </td></tr>\n",
       "\t<tr><td> 6   </td><td>A14  </td><td>36   </td><td>A32  </td><td>A46  </td><td> 9055</td><td>A65  </td><td>A73  </td><td>2    </td><td>A93  </td><td>⋯    </td><td>A124 </td><td>35   </td><td>A143 </td><td>A153 </td><td>1    </td><td>A172 </td><td>bad  </td><td>A192 </td><td>A201 </td><td>1    </td></tr>\n",
       "\t<tr><td> 7   </td><td>A14  </td><td>24   </td><td>A32  </td><td>A42  </td><td> 2835</td><td>A63  </td><td>A75  </td><td>3    </td><td>A93  </td><td>⋯    </td><td>A122 </td><td>53   </td><td>A143 </td><td>A152 </td><td>1    </td><td>A173 </td><td>good </td><td>A191 </td><td>A201 </td><td>1    </td></tr>\n",
       "\t<tr><td> 8   </td><td>A12  </td><td>36   </td><td>A32  </td><td>A41  </td><td> 6948</td><td>A61  </td><td>A73  </td><td>2    </td><td>A93  </td><td>⋯    </td><td>A123 </td><td>35   </td><td>A143 </td><td>A151 </td><td>1    </td><td>A174 </td><td>good </td><td>A192 </td><td>A201 </td><td>1    </td></tr>\n",
       "\t<tr><td> 9   </td><td>A14  </td><td>12   </td><td>A32  </td><td>A43  </td><td> 3059</td><td>A64  </td><td>A74  </td><td>2    </td><td>A91  </td><td>⋯    </td><td>A121 </td><td>61   </td><td>A143 </td><td>A152 </td><td>1    </td><td>A172 </td><td>good </td><td>A191 </td><td>A201 </td><td>1    </td></tr>\n",
       "\t<tr><td>10   </td><td>A12  </td><td>30   </td><td>A34  </td><td>A40  </td><td> 5234</td><td>A61  </td><td>A71  </td><td>4    </td><td>A94  </td><td>⋯    </td><td>A123 </td><td>28   </td><td>A143 </td><td>A152 </td><td>2    </td><td>A174 </td><td>good </td><td>A191 </td><td>A201 </td><td>2    </td></tr>\n",
       "\t<tr><td>11   </td><td>A12  </td><td>12   </td><td>A32  </td><td>A40  </td><td> 1295</td><td>A61  </td><td>A72  </td><td>3    </td><td>A92  </td><td>⋯    </td><td>A123 </td><td>25   </td><td>A143 </td><td>A151 </td><td>1    </td><td>A173 </td><td>good </td><td>A191 </td><td>A201 </td><td>2    </td></tr>\n",
       "\t<tr><td>12   </td><td>A11  </td><td>48   </td><td>A32  </td><td>A49  </td><td> 4308</td><td>A61  </td><td>A72  </td><td>3    </td><td>A92  </td><td>⋯    </td><td>A122 </td><td>24   </td><td>A143 </td><td>A151 </td><td>1    </td><td>A173 </td><td>good </td><td>A191 </td><td>A201 </td><td>2    </td></tr>\n",
       "\t<tr><td>13   </td><td>A12  </td><td>12   </td><td>A32  </td><td>A43  </td><td> 1567</td><td>A61  </td><td>A73  </td><td>1    </td><td>A92  </td><td>⋯    </td><td>A123 </td><td>22   </td><td>A143 </td><td>A152 </td><td>1    </td><td>A173 </td><td>good </td><td>A192 </td><td>A201 </td><td>1    </td></tr>\n",
       "\t<tr><td>14   </td><td>A11  </td><td>24   </td><td>A34  </td><td>A40  </td><td> 1199</td><td>A61  </td><td>A75  </td><td>4    </td><td>A93  </td><td>⋯    </td><td>A123 </td><td>60   </td><td>A143 </td><td>A152 </td><td>2    </td><td>A172 </td><td>good </td><td>A191 </td><td>A201 </td><td>2    </td></tr>\n",
       "\t<tr><td>15   </td><td>A11  </td><td>15   </td><td>A32  </td><td>A40  </td><td> 1403</td><td>A61  </td><td>A73  </td><td>2    </td><td>A92  </td><td>⋯    </td><td>A123 </td><td>28   </td><td>A143 </td><td>A151 </td><td>1    </td><td>A173 </td><td>good </td><td>A191 </td><td>A201 </td><td>1    </td></tr>\n",
       "\t<tr><td>16   </td><td>A11  </td><td>24   </td><td>A32  </td><td>A43  </td><td> 1282</td><td>A62  </td><td>A73  </td><td>4    </td><td>A92  </td><td>⋯    </td><td>A123 </td><td>32   </td><td>A143 </td><td>A152 </td><td>1    </td><td>A172 </td><td>good </td><td>A191 </td><td>A201 </td><td>2    </td></tr>\n",
       "\t<tr><td>17   </td><td>A14  </td><td>24   </td><td>A34  </td><td>A43  </td><td> 2424</td><td>A65  </td><td>A75  </td><td>4    </td><td>A93  </td><td>⋯    </td><td>A122 </td><td>53   </td><td>A143 </td><td>A152 </td><td>2    </td><td>A173 </td><td>good </td><td>A191 </td><td>A201 </td><td>1    </td></tr>\n",
       "\t<tr><td>18   </td><td>A11  </td><td>30   </td><td>A30  </td><td>A49  </td><td> 8072</td><td>A65  </td><td>A72  </td><td>2    </td><td>A93  </td><td>⋯    </td><td>A123 </td><td>25   </td><td>A141 </td><td>A152 </td><td>3    </td><td>A173 </td><td>good </td><td>A191 </td><td>A201 </td><td>1    </td></tr>\n",
       "\t<tr><td>19   </td><td>A12  </td><td>24   </td><td>A32  </td><td>A41  </td><td>12579</td><td>A61  </td><td>A75  </td><td>4    </td><td>A92  </td><td>⋯    </td><td>A124 </td><td>44   </td><td>A143 </td><td>A153 </td><td>1    </td><td>A174 </td><td>good </td><td>A192 </td><td>A201 </td><td>2    </td></tr>\n",
       "\t<tr><td>20   </td><td>A14  </td><td>24   </td><td>A32  </td><td>A43  </td><td> 3430</td><td>A63  </td><td>A75  </td><td>3    </td><td>A93  </td><td>⋯    </td><td>A123 </td><td>31   </td><td>A143 </td><td>A152 </td><td>1    </td><td>A173 </td><td>bad  </td><td>A192 </td><td>A201 </td><td>1    </td></tr>\n",
       "\t<tr><td>21   </td><td>A14  </td><td> 9   </td><td>A34  </td><td>A40  </td><td> 2134</td><td>A61  </td><td>A73  </td><td>4    </td><td>A93  </td><td>⋯    </td><td>A123 </td><td>48   </td><td>A143 </td><td>A152 </td><td>3    </td><td>A173 </td><td>good </td><td>A192 </td><td>A201 </td><td>1    </td></tr>\n",
       "\t<tr><td>22   </td><td>A11  </td><td> 6   </td><td>A32  </td><td>A43  </td><td> 2647</td><td>A63  </td><td>A73  </td><td>2    </td><td>A93  </td><td>⋯    </td><td>A121 </td><td>44   </td><td>A143 </td><td>A151 </td><td>1    </td><td>A173 </td><td>bad  </td><td>A191 </td><td>A201 </td><td>1    </td></tr>\n",
       "\t<tr><td>23   </td><td>A11  </td><td>10   </td><td>A34  </td><td>A40  </td><td> 2241</td><td>A61  </td><td>A72  </td><td>1    </td><td>A93  </td><td>⋯    </td><td>A121 </td><td>48   </td><td>A143 </td><td>A151 </td><td>2    </td><td>A172 </td><td>bad  </td><td>A191 </td><td>A202 </td><td>1    </td></tr>\n",
       "\t<tr><td>24   </td><td>A12  </td><td>12   </td><td>A34  </td><td>A41  </td><td> 1804</td><td>A62  </td><td>A72  </td><td>3    </td><td>A93  </td><td>⋯    </td><td>A122 </td><td>44   </td><td>A143 </td><td>A152 </td><td>1    </td><td>A173 </td><td>good </td><td>A191 </td><td>A201 </td><td>1    </td></tr>\n",
       "\t<tr><td>25   </td><td>A14  </td><td>10   </td><td>A34  </td><td>A42  </td><td> 2069</td><td>A65  </td><td>A73  </td><td>2    </td><td>A94  </td><td>⋯    </td><td>A123 </td><td>26   </td><td>A143 </td><td>A152 </td><td>2    </td><td>A173 </td><td>good </td><td>A191 </td><td>A202 </td><td>1    </td></tr>\n",
       "\t<tr><td>26   </td><td>A11  </td><td> 6   </td><td>A32  </td><td>A42  </td><td> 1374</td><td>A61  </td><td>A73  </td><td>1    </td><td>A93  </td><td>⋯    </td><td>A121 </td><td>36   </td><td>A141 </td><td>A152 </td><td>1    </td><td>A172 </td><td>good </td><td>A192 </td><td>A201 </td><td>1    </td></tr>\n",
       "\t<tr><td>27   </td><td>A14  </td><td> 6   </td><td>A30  </td><td>A43  </td><td>  426</td><td>A61  </td><td>A75  </td><td>4    </td><td>A94  </td><td>⋯    </td><td>A123 </td><td>39   </td><td>A143 </td><td>A152 </td><td>1    </td><td>A172 </td><td>good </td><td>A191 </td><td>A201 </td><td>1    </td></tr>\n",
       "\t<tr><td>28   </td><td>A13  </td><td>12   </td><td>A31  </td><td>A43  </td><td>  409</td><td>A64  </td><td>A73  </td><td>3    </td><td>A92  </td><td>⋯    </td><td>A121 </td><td>42   </td><td>A143 </td><td>A151 </td><td>2    </td><td>A173 </td><td>good </td><td>A191 </td><td>A201 </td><td>1    </td></tr>\n",
       "\t<tr><td>29   </td><td>A12  </td><td> 7   </td><td>A32  </td><td>A43  </td><td> 2415</td><td>A61  </td><td>A73  </td><td>3    </td><td>A93  </td><td>⋯    </td><td>A121 </td><td>34   </td><td>A143 </td><td>A152 </td><td>1    </td><td>A173 </td><td>good </td><td>A191 </td><td>A201 </td><td>1    </td></tr>\n",
       "\t<tr><td>30   </td><td>A11  </td><td>60   </td><td>A33  </td><td>A49  </td><td> 6836</td><td>A61  </td><td>A75  </td><td>3    </td><td>A93  </td><td>⋯    </td><td>A124 </td><td>63   </td><td>A143 </td><td>A152 </td><td>2    </td><td>A173 </td><td>good </td><td>A192 </td><td>A201 </td><td>2    </td></tr>\n",
       "\t<tr><td>⋮</td><td>⋮</td><td>⋮</td><td>⋮</td><td>⋮</td><td>⋮</td><td>⋮</td><td>⋮</td><td>⋮</td><td>⋮</td><td>⋱</td><td>⋮</td><td>⋮</td><td>⋮</td><td>⋮</td><td>⋮</td><td>⋮</td><td>⋮</td><td>⋮</td><td>⋮</td><td>⋮</td></tr>\n",
       "\t<tr><td> 971</td><td>A12 </td><td>15  </td><td>A32 </td><td>A45 </td><td>1514</td><td>A62 </td><td>A73 </td><td>4   </td><td>A93 </td><td>⋯   </td><td>A121</td><td>22  </td><td>A143</td><td>A152</td><td>1   </td><td>A173</td><td>good</td><td>A191</td><td>A201</td><td>1   </td></tr>\n",
       "\t<tr><td> 972</td><td>A14 </td><td>24  </td><td>A32 </td><td>A40 </td><td>7393</td><td>A61 </td><td>A73 </td><td>1   </td><td>A93 </td><td>⋯   </td><td>A122</td><td>43  </td><td>A143</td><td>A152</td><td>1   </td><td>A172</td><td>bad </td><td>A191</td><td>A201</td><td>1   </td></tr>\n",
       "\t<tr><td> 973</td><td>A11 </td><td>24  </td><td>A31 </td><td>A40 </td><td>1193</td><td>A61 </td><td>A71 </td><td>1   </td><td>A92 </td><td>⋯   </td><td>A124</td><td>29  </td><td>A143</td><td>A151</td><td>2   </td><td>A171</td><td>good</td><td>A191</td><td>A201</td><td>2   </td></tr>\n",
       "\t<tr><td> 974</td><td>A11 </td><td>60  </td><td>A32 </td><td>A49 </td><td>7297</td><td>A61 </td><td>A75 </td><td>4   </td><td>A93 </td><td>⋯   </td><td>A124</td><td>36  </td><td>A143</td><td>A151</td><td>1   </td><td>A173</td><td>good</td><td>A191</td><td>A201</td><td>2   </td></tr>\n",
       "\t<tr><td> 975</td><td>A14 </td><td>30  </td><td>A34 </td><td>A43 </td><td>2831</td><td>A61 </td><td>A73 </td><td>4   </td><td>A92 </td><td>⋯   </td><td>A123</td><td>33  </td><td>A143</td><td>A152</td><td>1   </td><td>A173</td><td>good</td><td>A192</td><td>A201</td><td>1   </td></tr>\n",
       "\t<tr><td> 976</td><td>A13 </td><td>24  </td><td>A32 </td><td>A43 </td><td>1258</td><td>A63 </td><td>A73 </td><td>3   </td><td>A92 </td><td>⋯   </td><td>A123</td><td>57  </td><td>A143</td><td>A152</td><td>1   </td><td>A172</td><td>good</td><td>A191</td><td>A201</td><td>1   </td></tr>\n",
       "\t<tr><td> 977</td><td>A12 </td><td> 6  </td><td>A32 </td><td>A43 </td><td> 753</td><td>A61 </td><td>A73 </td><td>2   </td><td>A92 </td><td>⋯   </td><td>A121</td><td>64  </td><td>A143</td><td>A152</td><td>1   </td><td>A173</td><td>good</td><td>A191</td><td>A201</td><td>1   </td></tr>\n",
       "\t<tr><td> 978</td><td>A12 </td><td>18  </td><td>A33 </td><td>A49 </td><td>2427</td><td>A65 </td><td>A75 </td><td>4   </td><td>A93 </td><td>⋯   </td><td>A122</td><td>42  </td><td>A143</td><td>A152</td><td>2   </td><td>A173</td><td>good</td><td>A191</td><td>A201</td><td>1   </td></tr>\n",
       "\t<tr><td> 979</td><td>A14 </td><td>24  </td><td>A33 </td><td>A40 </td><td>2538</td><td>A61 </td><td>A75 </td><td>4   </td><td>A93 </td><td>⋯   </td><td>A123</td><td>47  </td><td>A143</td><td>A152</td><td>2   </td><td>A172</td><td>bad </td><td>A191</td><td>A201</td><td>2   </td></tr>\n",
       "\t<tr><td> 980</td><td>A12 </td><td>15  </td><td>A31 </td><td>A40 </td><td>1264</td><td>A62 </td><td>A73 </td><td>2   </td><td>A94 </td><td>⋯   </td><td>A122</td><td>25  </td><td>A143</td><td>A151</td><td>1   </td><td>A173</td><td>good</td><td>A191</td><td>A201</td><td>2   </td></tr>\n",
       "\t<tr><td> 981</td><td>A12 </td><td>30  </td><td>A34 </td><td>A42 </td><td>8386</td><td>A61 </td><td>A74 </td><td>2   </td><td>A93 </td><td>⋯   </td><td>A122</td><td>49  </td><td>A143</td><td>A152</td><td>1   </td><td>A173</td><td>good</td><td>A191</td><td>A201</td><td>2   </td></tr>\n",
       "\t<tr><td> 982</td><td>A14 </td><td>48  </td><td>A32 </td><td>A49 </td><td>4844</td><td>A61 </td><td>A71 </td><td>3   </td><td>A93 </td><td>⋯   </td><td>A123</td><td>33  </td><td>A141</td><td>A151</td><td>1   </td><td>A174</td><td>good</td><td>A192</td><td>A201</td><td>2   </td></tr>\n",
       "\t<tr><td> 983</td><td>A13 </td><td>21  </td><td>A32 </td><td>A40 </td><td>2923</td><td>A62 </td><td>A73 </td><td>1   </td><td>A92 </td><td>⋯   </td><td>A123</td><td>28  </td><td>A141</td><td>A152</td><td>1   </td><td>A174</td><td>good</td><td>A192</td><td>A201</td><td>1   </td></tr>\n",
       "\t<tr><td> 984</td><td>A11 </td><td>36  </td><td>A32 </td><td>A41 </td><td>8229</td><td>A61 </td><td>A73 </td><td>2   </td><td>A93 </td><td>⋯   </td><td>A122</td><td>26  </td><td>A143</td><td>A152</td><td>1   </td><td>A173</td><td>bad </td><td>A191</td><td>A201</td><td>2   </td></tr>\n",
       "\t<tr><td> 985</td><td>A14 </td><td>24  </td><td>A34 </td><td>A42 </td><td>2028</td><td>A61 </td><td>A74 </td><td>2   </td><td>A93 </td><td>⋯   </td><td>A122</td><td>30  </td><td>A143</td><td>A152</td><td>2   </td><td>A172</td><td>good</td><td>A191</td><td>A201</td><td>1   </td></tr>\n",
       "\t<tr><td> 986</td><td>A11 </td><td>15  </td><td>A34 </td><td>A42 </td><td>1433</td><td>A61 </td><td>A73 </td><td>4   </td><td>A92 </td><td>⋯   </td><td>A122</td><td>25  </td><td>A143</td><td>A151</td><td>2   </td><td>A173</td><td>good</td><td>A191</td><td>A201</td><td>1   </td></tr>\n",
       "\t<tr><td> 987</td><td>A13 </td><td>42  </td><td>A30 </td><td>A49 </td><td>6289</td><td>A61 </td><td>A72 </td><td>2   </td><td>A91 </td><td>⋯   </td><td>A122</td><td>33  </td><td>A143</td><td>A152</td><td>2   </td><td>A173</td><td>good</td><td>A191</td><td>A201</td><td>1   </td></tr>\n",
       "\t<tr><td> 988</td><td>A14 </td><td>13  </td><td>A32 </td><td>A43 </td><td>1409</td><td>A62 </td><td>A71 </td><td>2   </td><td>A92 </td><td>⋯   </td><td>A121</td><td>64  </td><td>A143</td><td>A152</td><td>1   </td><td>A173</td><td>good</td><td>A191</td><td>A201</td><td>1   </td></tr>\n",
       "\t<tr><td> 989</td><td>A11 </td><td>24  </td><td>A32 </td><td>A41 </td><td>6579</td><td>A61 </td><td>A71 </td><td>4   </td><td>A93 </td><td>⋯   </td><td>A124</td><td>29  </td><td>A143</td><td>A153</td><td>1   </td><td>A174</td><td>good</td><td>A192</td><td>A201</td><td>1   </td></tr>\n",
       "\t<tr><td> 990</td><td>A12 </td><td>24  </td><td>A34 </td><td>A43 </td><td>1743</td><td>A61 </td><td>A75 </td><td>4   </td><td>A93 </td><td>⋯   </td><td>A122</td><td>48  </td><td>A143</td><td>A152</td><td>2   </td><td>A172</td><td>good</td><td>A191</td><td>A201</td><td>1   </td></tr>\n",
       "\t<tr><td> 991</td><td>A14 </td><td>12  </td><td>A34 </td><td>A46 </td><td>3565</td><td>A65 </td><td>A72 </td><td>2   </td><td>A93 </td><td>⋯   </td><td>A122</td><td>37  </td><td>A143</td><td>A152</td><td>2   </td><td>A172</td><td>bad </td><td>A191</td><td>A201</td><td>1   </td></tr>\n",
       "\t<tr><td> 992</td><td>A14 </td><td>15  </td><td>A31 </td><td>A43 </td><td>1569</td><td>A62 </td><td>A75 </td><td>4   </td><td>A93 </td><td>⋯   </td><td>A123</td><td>34  </td><td>A141</td><td>A152</td><td>1   </td><td>A172</td><td>bad </td><td>A191</td><td>A201</td><td>1   </td></tr>\n",
       "\t<tr><td> 993</td><td>A11 </td><td>18  </td><td>A32 </td><td>A43 </td><td>1936</td><td>A65 </td><td>A74 </td><td>2   </td><td>A94 </td><td>⋯   </td><td>A123</td><td>23  </td><td>A143</td><td>A151</td><td>2   </td><td>A172</td><td>good</td><td>A191</td><td>A201</td><td>1   </td></tr>\n",
       "\t<tr><td> 994</td><td>A11 </td><td>36  </td><td>A32 </td><td>A42 </td><td>3959</td><td>A61 </td><td>A71 </td><td>4   </td><td>A93 </td><td>⋯   </td><td>A122</td><td>30  </td><td>A143</td><td>A152</td><td>1   </td><td>A174</td><td>good</td><td>A192</td><td>A201</td><td>1   </td></tr>\n",
       "\t<tr><td> 995</td><td>A14 </td><td>12  </td><td>A32 </td><td>A40 </td><td>2390</td><td>A65 </td><td>A75 </td><td>4   </td><td>A93 </td><td>⋯   </td><td>A123</td><td>50  </td><td>A143</td><td>A152</td><td>1   </td><td>A173</td><td>good</td><td>A192</td><td>A201</td><td>1   </td></tr>\n",
       "\t<tr><td> 996</td><td>A14 </td><td>12  </td><td>A32 </td><td>A42 </td><td>1736</td><td>A61 </td><td>A74 </td><td>3   </td><td>A92 </td><td>⋯   </td><td>A121</td><td>31  </td><td>A143</td><td>A152</td><td>1   </td><td>A172</td><td>good</td><td>A191</td><td>A201</td><td>1   </td></tr>\n",
       "\t<tr><td> 997</td><td>A11 </td><td>30  </td><td>A32 </td><td>A41 </td><td>3857</td><td>A61 </td><td>A73 </td><td>4   </td><td>A91 </td><td>⋯   </td><td>A122</td><td>40  </td><td>A143</td><td>A152</td><td>1   </td><td>A174</td><td>good</td><td>A192</td><td>A201</td><td>1   </td></tr>\n",
       "\t<tr><td> 998</td><td>A14 </td><td>12  </td><td>A32 </td><td>A43 </td><td> 804</td><td>A61 </td><td>A75 </td><td>4   </td><td>A93 </td><td>⋯   </td><td>A123</td><td>38  </td><td>A143</td><td>A152</td><td>1   </td><td>A173</td><td>good</td><td>A191</td><td>A201</td><td>1   </td></tr>\n",
       "\t<tr><td> 999</td><td>A11 </td><td>45  </td><td>A32 </td><td>A43 </td><td>1845</td><td>A61 </td><td>A73 </td><td>4   </td><td>A93 </td><td>⋯   </td><td>A124</td><td>23  </td><td>A143</td><td>A153</td><td>1   </td><td>A173</td><td>good</td><td>A192</td><td>A201</td><td>2   </td></tr>\n",
       "\t<tr><td>1000</td><td>A12 </td><td>45  </td><td>A34 </td><td>A41 </td><td>4576</td><td>A62 </td><td>A71 </td><td>3   </td><td>A93 </td><td>⋯   </td><td>A123</td><td>27  </td><td>A143</td><td>A152</td><td>1   </td><td>A173</td><td>good</td><td>A191</td><td>A201</td><td>1   </td></tr>\n",
       "</tbody>\n",
       "</table>\n"
      ],
      "text/latex": [
       "\\begin{tabular}{r|llllllllllllllllllllll}\n",
       " X & V1 & V2 & V3 & V4 & V5 & V6 & V7 & V8 & V9 & ⋯ & V12 & V13 & V14 & V15 & V16 & V17 & V18 & V19 & V20 & V21\\\\\n",
       "\\hline\n",
       "\t  1    & A11   &  6    & A34   & A43   &  1169 & A65   & A75   & 4     & A93   & ⋯     & A121  & 67    & A143  & A152  & 2     & A173  & good  & A192  & A201  & 1    \\\\\n",
       "\t  2    & A12   & 48    & A32   & A43   &  5951 & A61   & A73   & 2     & A92   & ⋯     & A121  & 22    & A143  & A152  & 1     & A173  & good  & A191  & A201  & 2    \\\\\n",
       "\t  3    & A14   & 12    & A34   & A46   &  2096 & A61   & A74   & 2     & A93   & ⋯     & A121  & 49    & A143  & A152  & 1     & A172  & bad   & A191  & A201  & 1    \\\\\n",
       "\t  4    & A11   & 42    & A32   & A42   &  7882 & A61   & A74   & 2     & A93   & ⋯     & A122  & 45    & A143  & A153  & 1     & A173  & bad   & A191  & A201  & 1    \\\\\n",
       "\t  5    & A11   & 24    & A33   & A40   &  4870 & A61   & A73   & 3     & A93   & ⋯     & A124  & 53    & A143  & A153  & 2     & A173  & bad   & A191  & A201  & 2    \\\\\n",
       "\t  6    & A14   & 36    & A32   & A46   &  9055 & A65   & A73   & 2     & A93   & ⋯     & A124  & 35    & A143  & A153  & 1     & A172  & bad   & A192  & A201  & 1    \\\\\n",
       "\t  7    & A14   & 24    & A32   & A42   &  2835 & A63   & A75   & 3     & A93   & ⋯     & A122  & 53    & A143  & A152  & 1     & A173  & good  & A191  & A201  & 1    \\\\\n",
       "\t  8    & A12   & 36    & A32   & A41   &  6948 & A61   & A73   & 2     & A93   & ⋯     & A123  & 35    & A143  & A151  & 1     & A174  & good  & A192  & A201  & 1    \\\\\n",
       "\t  9    & A14   & 12    & A32   & A43   &  3059 & A64   & A74   & 2     & A91   & ⋯     & A121  & 61    & A143  & A152  & 1     & A172  & good  & A191  & A201  & 1    \\\\\n",
       "\t 10    & A12   & 30    & A34   & A40   &  5234 & A61   & A71   & 4     & A94   & ⋯     & A123  & 28    & A143  & A152  & 2     & A174  & good  & A191  & A201  & 2    \\\\\n",
       "\t 11    & A12   & 12    & A32   & A40   &  1295 & A61   & A72   & 3     & A92   & ⋯     & A123  & 25    & A143  & A151  & 1     & A173  & good  & A191  & A201  & 2    \\\\\n",
       "\t 12    & A11   & 48    & A32   & A49   &  4308 & A61   & A72   & 3     & A92   & ⋯     & A122  & 24    & A143  & A151  & 1     & A173  & good  & A191  & A201  & 2    \\\\\n",
       "\t 13    & A12   & 12    & A32   & A43   &  1567 & A61   & A73   & 1     & A92   & ⋯     & A123  & 22    & A143  & A152  & 1     & A173  & good  & A192  & A201  & 1    \\\\\n",
       "\t 14    & A11   & 24    & A34   & A40   &  1199 & A61   & A75   & 4     & A93   & ⋯     & A123  & 60    & A143  & A152  & 2     & A172  & good  & A191  & A201  & 2    \\\\\n",
       "\t 15    & A11   & 15    & A32   & A40   &  1403 & A61   & A73   & 2     & A92   & ⋯     & A123  & 28    & A143  & A151  & 1     & A173  & good  & A191  & A201  & 1    \\\\\n",
       "\t 16    & A11   & 24    & A32   & A43   &  1282 & A62   & A73   & 4     & A92   & ⋯     & A123  & 32    & A143  & A152  & 1     & A172  & good  & A191  & A201  & 2    \\\\\n",
       "\t 17    & A14   & 24    & A34   & A43   &  2424 & A65   & A75   & 4     & A93   & ⋯     & A122  & 53    & A143  & A152  & 2     & A173  & good  & A191  & A201  & 1    \\\\\n",
       "\t 18    & A11   & 30    & A30   & A49   &  8072 & A65   & A72   & 2     & A93   & ⋯     & A123  & 25    & A141  & A152  & 3     & A173  & good  & A191  & A201  & 1    \\\\\n",
       "\t 19    & A12   & 24    & A32   & A41   & 12579 & A61   & A75   & 4     & A92   & ⋯     & A124  & 44    & A143  & A153  & 1     & A174  & good  & A192  & A201  & 2    \\\\\n",
       "\t 20    & A14   & 24    & A32   & A43   &  3430 & A63   & A75   & 3     & A93   & ⋯     & A123  & 31    & A143  & A152  & 1     & A173  & bad   & A192  & A201  & 1    \\\\\n",
       "\t 21    & A14   &  9    & A34   & A40   &  2134 & A61   & A73   & 4     & A93   & ⋯     & A123  & 48    & A143  & A152  & 3     & A173  & good  & A192  & A201  & 1    \\\\\n",
       "\t 22    & A11   &  6    & A32   & A43   &  2647 & A63   & A73   & 2     & A93   & ⋯     & A121  & 44    & A143  & A151  & 1     & A173  & bad   & A191  & A201  & 1    \\\\\n",
       "\t 23    & A11   & 10    & A34   & A40   &  2241 & A61   & A72   & 1     & A93   & ⋯     & A121  & 48    & A143  & A151  & 2     & A172  & bad   & A191  & A202  & 1    \\\\\n",
       "\t 24    & A12   & 12    & A34   & A41   &  1804 & A62   & A72   & 3     & A93   & ⋯     & A122  & 44    & A143  & A152  & 1     & A173  & good  & A191  & A201  & 1    \\\\\n",
       "\t 25    & A14   & 10    & A34   & A42   &  2069 & A65   & A73   & 2     & A94   & ⋯     & A123  & 26    & A143  & A152  & 2     & A173  & good  & A191  & A202  & 1    \\\\\n",
       "\t 26    & A11   &  6    & A32   & A42   &  1374 & A61   & A73   & 1     & A93   & ⋯     & A121  & 36    & A141  & A152  & 1     & A172  & good  & A192  & A201  & 1    \\\\\n",
       "\t 27    & A14   &  6    & A30   & A43   &   426 & A61   & A75   & 4     & A94   & ⋯     & A123  & 39    & A143  & A152  & 1     & A172  & good  & A191  & A201  & 1    \\\\\n",
       "\t 28    & A13   & 12    & A31   & A43   &   409 & A64   & A73   & 3     & A92   & ⋯     & A121  & 42    & A143  & A151  & 2     & A173  & good  & A191  & A201  & 1    \\\\\n",
       "\t 29    & A12   &  7    & A32   & A43   &  2415 & A61   & A73   & 3     & A93   & ⋯     & A121  & 34    & A143  & A152  & 1     & A173  & good  & A191  & A201  & 1    \\\\\n",
       "\t 30    & A11   & 60    & A33   & A49   &  6836 & A61   & A75   & 3     & A93   & ⋯     & A124  & 63    & A143  & A152  & 2     & A173  & good  & A192  & A201  & 2    \\\\\n",
       "\t ⋮ & ⋮ & ⋮ & ⋮ & ⋮ & ⋮ & ⋮ & ⋮ & ⋮ & ⋮ & ⋱ & ⋮ & ⋮ & ⋮ & ⋮ & ⋮ & ⋮ & ⋮ & ⋮ & ⋮ & ⋮\\\\\n",
       "\t  971 & A12  & 15   & A32  & A45  & 1514 & A62  & A73  & 4    & A93  & ⋯    & A121 & 22   & A143 & A152 & 1    & A173 & good & A191 & A201 & 1   \\\\\n",
       "\t  972 & A14  & 24   & A32  & A40  & 7393 & A61  & A73  & 1    & A93  & ⋯    & A122 & 43   & A143 & A152 & 1    & A172 & bad  & A191 & A201 & 1   \\\\\n",
       "\t  973 & A11  & 24   & A31  & A40  & 1193 & A61  & A71  & 1    & A92  & ⋯    & A124 & 29   & A143 & A151 & 2    & A171 & good & A191 & A201 & 2   \\\\\n",
       "\t  974 & A11  & 60   & A32  & A49  & 7297 & A61  & A75  & 4    & A93  & ⋯    & A124 & 36   & A143 & A151 & 1    & A173 & good & A191 & A201 & 2   \\\\\n",
       "\t  975 & A14  & 30   & A34  & A43  & 2831 & A61  & A73  & 4    & A92  & ⋯    & A123 & 33   & A143 & A152 & 1    & A173 & good & A192 & A201 & 1   \\\\\n",
       "\t  976 & A13  & 24   & A32  & A43  & 1258 & A63  & A73  & 3    & A92  & ⋯    & A123 & 57   & A143 & A152 & 1    & A172 & good & A191 & A201 & 1   \\\\\n",
       "\t  977 & A12  &  6   & A32  & A43  &  753 & A61  & A73  & 2    & A92  & ⋯    & A121 & 64   & A143 & A152 & 1    & A173 & good & A191 & A201 & 1   \\\\\n",
       "\t  978 & A12  & 18   & A33  & A49  & 2427 & A65  & A75  & 4    & A93  & ⋯    & A122 & 42   & A143 & A152 & 2    & A173 & good & A191 & A201 & 1   \\\\\n",
       "\t  979 & A14  & 24   & A33  & A40  & 2538 & A61  & A75  & 4    & A93  & ⋯    & A123 & 47   & A143 & A152 & 2    & A172 & bad  & A191 & A201 & 2   \\\\\n",
       "\t  980 & A12  & 15   & A31  & A40  & 1264 & A62  & A73  & 2    & A94  & ⋯    & A122 & 25   & A143 & A151 & 1    & A173 & good & A191 & A201 & 2   \\\\\n",
       "\t  981 & A12  & 30   & A34  & A42  & 8386 & A61  & A74  & 2    & A93  & ⋯    & A122 & 49   & A143 & A152 & 1    & A173 & good & A191 & A201 & 2   \\\\\n",
       "\t  982 & A14  & 48   & A32  & A49  & 4844 & A61  & A71  & 3    & A93  & ⋯    & A123 & 33   & A141 & A151 & 1    & A174 & good & A192 & A201 & 2   \\\\\n",
       "\t  983 & A13  & 21   & A32  & A40  & 2923 & A62  & A73  & 1    & A92  & ⋯    & A123 & 28   & A141 & A152 & 1    & A174 & good & A192 & A201 & 1   \\\\\n",
       "\t  984 & A11  & 36   & A32  & A41  & 8229 & A61  & A73  & 2    & A93  & ⋯    & A122 & 26   & A143 & A152 & 1    & A173 & bad  & A191 & A201 & 2   \\\\\n",
       "\t  985 & A14  & 24   & A34  & A42  & 2028 & A61  & A74  & 2    & A93  & ⋯    & A122 & 30   & A143 & A152 & 2    & A172 & good & A191 & A201 & 1   \\\\\n",
       "\t  986 & A11  & 15   & A34  & A42  & 1433 & A61  & A73  & 4    & A92  & ⋯    & A122 & 25   & A143 & A151 & 2    & A173 & good & A191 & A201 & 1   \\\\\n",
       "\t  987 & A13  & 42   & A30  & A49  & 6289 & A61  & A72  & 2    & A91  & ⋯    & A122 & 33   & A143 & A152 & 2    & A173 & good & A191 & A201 & 1   \\\\\n",
       "\t  988 & A14  & 13   & A32  & A43  & 1409 & A62  & A71  & 2    & A92  & ⋯    & A121 & 64   & A143 & A152 & 1    & A173 & good & A191 & A201 & 1   \\\\\n",
       "\t  989 & A11  & 24   & A32  & A41  & 6579 & A61  & A71  & 4    & A93  & ⋯    & A124 & 29   & A143 & A153 & 1    & A174 & good & A192 & A201 & 1   \\\\\n",
       "\t  990 & A12  & 24   & A34  & A43  & 1743 & A61  & A75  & 4    & A93  & ⋯    & A122 & 48   & A143 & A152 & 2    & A172 & good & A191 & A201 & 1   \\\\\n",
       "\t  991 & A14  & 12   & A34  & A46  & 3565 & A65  & A72  & 2    & A93  & ⋯    & A122 & 37   & A143 & A152 & 2    & A172 & bad  & A191 & A201 & 1   \\\\\n",
       "\t  992 & A14  & 15   & A31  & A43  & 1569 & A62  & A75  & 4    & A93  & ⋯    & A123 & 34   & A141 & A152 & 1    & A172 & bad  & A191 & A201 & 1   \\\\\n",
       "\t  993 & A11  & 18   & A32  & A43  & 1936 & A65  & A74  & 2    & A94  & ⋯    & A123 & 23   & A143 & A151 & 2    & A172 & good & A191 & A201 & 1   \\\\\n",
       "\t  994 & A11  & 36   & A32  & A42  & 3959 & A61  & A71  & 4    & A93  & ⋯    & A122 & 30   & A143 & A152 & 1    & A174 & good & A192 & A201 & 1   \\\\\n",
       "\t  995 & A14  & 12   & A32  & A40  & 2390 & A65  & A75  & 4    & A93  & ⋯    & A123 & 50   & A143 & A152 & 1    & A173 & good & A192 & A201 & 1   \\\\\n",
       "\t  996 & A14  & 12   & A32  & A42  & 1736 & A61  & A74  & 3    & A92  & ⋯    & A121 & 31   & A143 & A152 & 1    & A172 & good & A191 & A201 & 1   \\\\\n",
       "\t  997 & A11  & 30   & A32  & A41  & 3857 & A61  & A73  & 4    & A91  & ⋯    & A122 & 40   & A143 & A152 & 1    & A174 & good & A192 & A201 & 1   \\\\\n",
       "\t  998 & A14  & 12   & A32  & A43  &  804 & A61  & A75  & 4    & A93  & ⋯    & A123 & 38   & A143 & A152 & 1    & A173 & good & A191 & A201 & 1   \\\\\n",
       "\t  999 & A11  & 45   & A32  & A43  & 1845 & A61  & A73  & 4    & A93  & ⋯    & A124 & 23   & A143 & A153 & 1    & A173 & good & A192 & A201 & 2   \\\\\n",
       "\t 1000 & A12  & 45   & A34  & A41  & 4576 & A62  & A71  & 3    & A93  & ⋯    & A123 & 27   & A143 & A152 & 1    & A173 & good & A191 & A201 & 1   \\\\\n",
       "\\end{tabular}\n"
      ],
      "text/markdown": [
       "\n",
       "X | V1 | V2 | V3 | V4 | V5 | V6 | V7 | V8 | V9 | ⋯ | V12 | V13 | V14 | V15 | V16 | V17 | V18 | V19 | V20 | V21 | \n",
       "|---|---|---|---|---|---|---|---|---|---|---|---|---|---|---|---|---|---|---|---|---|---|---|---|---|---|---|---|---|---|---|---|---|---|---|---|---|---|---|---|---|---|---|---|---|---|---|---|---|---|---|---|---|---|---|---|---|---|---|---|---|\n",
       "|  1    | A11   |  6    | A34   | A43   |  1169 | A65   | A75   | 4     | A93   | ⋯     | A121  | 67    | A143  | A152  | 2     | A173  | good  | A192  | A201  | 1     | \n",
       "|  2    | A12   | 48    | A32   | A43   |  5951 | A61   | A73   | 2     | A92   | ⋯     | A121  | 22    | A143  | A152  | 1     | A173  | good  | A191  | A201  | 2     | \n",
       "|  3    | A14   | 12    | A34   | A46   |  2096 | A61   | A74   | 2     | A93   | ⋯     | A121  | 49    | A143  | A152  | 1     | A172  | bad   | A191  | A201  | 1     | \n",
       "|  4    | A11   | 42    | A32   | A42   |  7882 | A61   | A74   | 2     | A93   | ⋯     | A122  | 45    | A143  | A153  | 1     | A173  | bad   | A191  | A201  | 1     | \n",
       "|  5    | A11   | 24    | A33   | A40   |  4870 | A61   | A73   | 3     | A93   | ⋯     | A124  | 53    | A143  | A153  | 2     | A173  | bad   | A191  | A201  | 2     | \n",
       "|  6    | A14   | 36    | A32   | A46   |  9055 | A65   | A73   | 2     | A93   | ⋯     | A124  | 35    | A143  | A153  | 1     | A172  | bad   | A192  | A201  | 1     | \n",
       "|  7    | A14   | 24    | A32   | A42   |  2835 | A63   | A75   | 3     | A93   | ⋯     | A122  | 53    | A143  | A152  | 1     | A173  | good  | A191  | A201  | 1     | \n",
       "|  8    | A12   | 36    | A32   | A41   |  6948 | A61   | A73   | 2     | A93   | ⋯     | A123  | 35    | A143  | A151  | 1     | A174  | good  | A192  | A201  | 1     | \n",
       "|  9    | A14   | 12    | A32   | A43   |  3059 | A64   | A74   | 2     | A91   | ⋯     | A121  | 61    | A143  | A152  | 1     | A172  | good  | A191  | A201  | 1     | \n",
       "| 10    | A12   | 30    | A34   | A40   |  5234 | A61   | A71   | 4     | A94   | ⋯     | A123  | 28    | A143  | A152  | 2     | A174  | good  | A191  | A201  | 2     | \n",
       "| 11    | A12   | 12    | A32   | A40   |  1295 | A61   | A72   | 3     | A92   | ⋯     | A123  | 25    | A143  | A151  | 1     | A173  | good  | A191  | A201  | 2     | \n",
       "| 12    | A11   | 48    | A32   | A49   |  4308 | A61   | A72   | 3     | A92   | ⋯     | A122  | 24    | A143  | A151  | 1     | A173  | good  | A191  | A201  | 2     | \n",
       "| 13    | A12   | 12    | A32   | A43   |  1567 | A61   | A73   | 1     | A92   | ⋯     | A123  | 22    | A143  | A152  | 1     | A173  | good  | A192  | A201  | 1     | \n",
       "| 14    | A11   | 24    | A34   | A40   |  1199 | A61   | A75   | 4     | A93   | ⋯     | A123  | 60    | A143  | A152  | 2     | A172  | good  | A191  | A201  | 2     | \n",
       "| 15    | A11   | 15    | A32   | A40   |  1403 | A61   | A73   | 2     | A92   | ⋯     | A123  | 28    | A143  | A151  | 1     | A173  | good  | A191  | A201  | 1     | \n",
       "| 16    | A11   | 24    | A32   | A43   |  1282 | A62   | A73   | 4     | A92   | ⋯     | A123  | 32    | A143  | A152  | 1     | A172  | good  | A191  | A201  | 2     | \n",
       "| 17    | A14   | 24    | A34   | A43   |  2424 | A65   | A75   | 4     | A93   | ⋯     | A122  | 53    | A143  | A152  | 2     | A173  | good  | A191  | A201  | 1     | \n",
       "| 18    | A11   | 30    | A30   | A49   |  8072 | A65   | A72   | 2     | A93   | ⋯     | A123  | 25    | A141  | A152  | 3     | A173  | good  | A191  | A201  | 1     | \n",
       "| 19    | A12   | 24    | A32   | A41   | 12579 | A61   | A75   | 4     | A92   | ⋯     | A124  | 44    | A143  | A153  | 1     | A174  | good  | A192  | A201  | 2     | \n",
       "| 20    | A14   | 24    | A32   | A43   |  3430 | A63   | A75   | 3     | A93   | ⋯     | A123  | 31    | A143  | A152  | 1     | A173  | bad   | A192  | A201  | 1     | \n",
       "| 21    | A14   |  9    | A34   | A40   |  2134 | A61   | A73   | 4     | A93   | ⋯     | A123  | 48    | A143  | A152  | 3     | A173  | good  | A192  | A201  | 1     | \n",
       "| 22    | A11   |  6    | A32   | A43   |  2647 | A63   | A73   | 2     | A93   | ⋯     | A121  | 44    | A143  | A151  | 1     | A173  | bad   | A191  | A201  | 1     | \n",
       "| 23    | A11   | 10    | A34   | A40   |  2241 | A61   | A72   | 1     | A93   | ⋯     | A121  | 48    | A143  | A151  | 2     | A172  | bad   | A191  | A202  | 1     | \n",
       "| 24    | A12   | 12    | A34   | A41   |  1804 | A62   | A72   | 3     | A93   | ⋯     | A122  | 44    | A143  | A152  | 1     | A173  | good  | A191  | A201  | 1     | \n",
       "| 25    | A14   | 10    | A34   | A42   |  2069 | A65   | A73   | 2     | A94   | ⋯     | A123  | 26    | A143  | A152  | 2     | A173  | good  | A191  | A202  | 1     | \n",
       "| 26    | A11   |  6    | A32   | A42   |  1374 | A61   | A73   | 1     | A93   | ⋯     | A121  | 36    | A141  | A152  | 1     | A172  | good  | A192  | A201  | 1     | \n",
       "| 27    | A14   |  6    | A30   | A43   |   426 | A61   | A75   | 4     | A94   | ⋯     | A123  | 39    | A143  | A152  | 1     | A172  | good  | A191  | A201  | 1     | \n",
       "| 28    | A13   | 12    | A31   | A43   |   409 | A64   | A73   | 3     | A92   | ⋯     | A121  | 42    | A143  | A151  | 2     | A173  | good  | A191  | A201  | 1     | \n",
       "| 29    | A12   |  7    | A32   | A43   |  2415 | A61   | A73   | 3     | A93   | ⋯     | A121  | 34    | A143  | A152  | 1     | A173  | good  | A191  | A201  | 1     | \n",
       "| 30    | A11   | 60    | A33   | A49   |  6836 | A61   | A75   | 3     | A93   | ⋯     | A124  | 63    | A143  | A152  | 2     | A173  | good  | A192  | A201  | 2     | \n",
       "| ⋮ | ⋮ | ⋮ | ⋮ | ⋮ | ⋮ | ⋮ | ⋮ | ⋮ | ⋮ | ⋱ | ⋮ | ⋮ | ⋮ | ⋮ | ⋮ | ⋮ | ⋮ | ⋮ | ⋮ | ⋮ | \n",
       "|  971 | A12  | 15   | A32  | A45  | 1514 | A62  | A73  | 4    | A93  | ⋯    | A121 | 22   | A143 | A152 | 1    | A173 | good | A191 | A201 | 1    | \n",
       "|  972 | A14  | 24   | A32  | A40  | 7393 | A61  | A73  | 1    | A93  | ⋯    | A122 | 43   | A143 | A152 | 1    | A172 | bad  | A191 | A201 | 1    | \n",
       "|  973 | A11  | 24   | A31  | A40  | 1193 | A61  | A71  | 1    | A92  | ⋯    | A124 | 29   | A143 | A151 | 2    | A171 | good | A191 | A201 | 2    | \n",
       "|  974 | A11  | 60   | A32  | A49  | 7297 | A61  | A75  | 4    | A93  | ⋯    | A124 | 36   | A143 | A151 | 1    | A173 | good | A191 | A201 | 2    | \n",
       "|  975 | A14  | 30   | A34  | A43  | 2831 | A61  | A73  | 4    | A92  | ⋯    | A123 | 33   | A143 | A152 | 1    | A173 | good | A192 | A201 | 1    | \n",
       "|  976 | A13  | 24   | A32  | A43  | 1258 | A63  | A73  | 3    | A92  | ⋯    | A123 | 57   | A143 | A152 | 1    | A172 | good | A191 | A201 | 1    | \n",
       "|  977 | A12  |  6   | A32  | A43  |  753 | A61  | A73  | 2    | A92  | ⋯    | A121 | 64   | A143 | A152 | 1    | A173 | good | A191 | A201 | 1    | \n",
       "|  978 | A12  | 18   | A33  | A49  | 2427 | A65  | A75  | 4    | A93  | ⋯    | A122 | 42   | A143 | A152 | 2    | A173 | good | A191 | A201 | 1    | \n",
       "|  979 | A14  | 24   | A33  | A40  | 2538 | A61  | A75  | 4    | A93  | ⋯    | A123 | 47   | A143 | A152 | 2    | A172 | bad  | A191 | A201 | 2    | \n",
       "|  980 | A12  | 15   | A31  | A40  | 1264 | A62  | A73  | 2    | A94  | ⋯    | A122 | 25   | A143 | A151 | 1    | A173 | good | A191 | A201 | 2    | \n",
       "|  981 | A12  | 30   | A34  | A42  | 8386 | A61  | A74  | 2    | A93  | ⋯    | A122 | 49   | A143 | A152 | 1    | A173 | good | A191 | A201 | 2    | \n",
       "|  982 | A14  | 48   | A32  | A49  | 4844 | A61  | A71  | 3    | A93  | ⋯    | A123 | 33   | A141 | A151 | 1    | A174 | good | A192 | A201 | 2    | \n",
       "|  983 | A13  | 21   | A32  | A40  | 2923 | A62  | A73  | 1    | A92  | ⋯    | A123 | 28   | A141 | A152 | 1    | A174 | good | A192 | A201 | 1    | \n",
       "|  984 | A11  | 36   | A32  | A41  | 8229 | A61  | A73  | 2    | A93  | ⋯    | A122 | 26   | A143 | A152 | 1    | A173 | bad  | A191 | A201 | 2    | \n",
       "|  985 | A14  | 24   | A34  | A42  | 2028 | A61  | A74  | 2    | A93  | ⋯    | A122 | 30   | A143 | A152 | 2    | A172 | good | A191 | A201 | 1    | \n",
       "|  986 | A11  | 15   | A34  | A42  | 1433 | A61  | A73  | 4    | A92  | ⋯    | A122 | 25   | A143 | A151 | 2    | A173 | good | A191 | A201 | 1    | \n",
       "|  987 | A13  | 42   | A30  | A49  | 6289 | A61  | A72  | 2    | A91  | ⋯    | A122 | 33   | A143 | A152 | 2    | A173 | good | A191 | A201 | 1    | \n",
       "|  988 | A14  | 13   | A32  | A43  | 1409 | A62  | A71  | 2    | A92  | ⋯    | A121 | 64   | A143 | A152 | 1    | A173 | good | A191 | A201 | 1    | \n",
       "|  989 | A11  | 24   | A32  | A41  | 6579 | A61  | A71  | 4    | A93  | ⋯    | A124 | 29   | A143 | A153 | 1    | A174 | good | A192 | A201 | 1    | \n",
       "|  990 | A12  | 24   | A34  | A43  | 1743 | A61  | A75  | 4    | A93  | ⋯    | A122 | 48   | A143 | A152 | 2    | A172 | good | A191 | A201 | 1    | \n",
       "|  991 | A14  | 12   | A34  | A46  | 3565 | A65  | A72  | 2    | A93  | ⋯    | A122 | 37   | A143 | A152 | 2    | A172 | bad  | A191 | A201 | 1    | \n",
       "|  992 | A14  | 15   | A31  | A43  | 1569 | A62  | A75  | 4    | A93  | ⋯    | A123 | 34   | A141 | A152 | 1    | A172 | bad  | A191 | A201 | 1    | \n",
       "|  993 | A11  | 18   | A32  | A43  | 1936 | A65  | A74  | 2    | A94  | ⋯    | A123 | 23   | A143 | A151 | 2    | A172 | good | A191 | A201 | 1    | \n",
       "|  994 | A11  | 36   | A32  | A42  | 3959 | A61  | A71  | 4    | A93  | ⋯    | A122 | 30   | A143 | A152 | 1    | A174 | good | A192 | A201 | 1    | \n",
       "|  995 | A14  | 12   | A32  | A40  | 2390 | A65  | A75  | 4    | A93  | ⋯    | A123 | 50   | A143 | A152 | 1    | A173 | good | A192 | A201 | 1    | \n",
       "|  996 | A14  | 12   | A32  | A42  | 1736 | A61  | A74  | 3    | A92  | ⋯    | A121 | 31   | A143 | A152 | 1    | A172 | good | A191 | A201 | 1    | \n",
       "|  997 | A11  | 30   | A32  | A41  | 3857 | A61  | A73  | 4    | A91  | ⋯    | A122 | 40   | A143 | A152 | 1    | A174 | good | A192 | A201 | 1    | \n",
       "|  998 | A14  | 12   | A32  | A43  |  804 | A61  | A75  | 4    | A93  | ⋯    | A123 | 38   | A143 | A152 | 1    | A173 | good | A191 | A201 | 1    | \n",
       "|  999 | A11  | 45   | A32  | A43  | 1845 | A61  | A73  | 4    | A93  | ⋯    | A124 | 23   | A143 | A153 | 1    | A173 | good | A192 | A201 | 2    | \n",
       "| 1000 | A12  | 45   | A34  | A41  | 4576 | A62  | A71  | 3    | A93  | ⋯    | A123 | 27   | A143 | A152 | 1    | A173 | good | A191 | A201 | 1    | \n",
       "\n",
       "\n"
      ],
      "text/plain": [
       "     X    V1  V2 V3  V4  V5    V6  V7  V8 V9  ⋯ V12  V13 V14  V15  V16 V17 \n",
       "1     1   A11  6 A34 A43  1169 A65 A75 4  A93 ⋯ A121 67  A143 A152 2   A173\n",
       "2     2   A12 48 A32 A43  5951 A61 A73 2  A92 ⋯ A121 22  A143 A152 1   A173\n",
       "3     3   A14 12 A34 A46  2096 A61 A74 2  A93 ⋯ A121 49  A143 A152 1   A172\n",
       "4     4   A11 42 A32 A42  7882 A61 A74 2  A93 ⋯ A122 45  A143 A153 1   A173\n",
       "5     5   A11 24 A33 A40  4870 A61 A73 3  A93 ⋯ A124 53  A143 A153 2   A173\n",
       "6     6   A14 36 A32 A46  9055 A65 A73 2  A93 ⋯ A124 35  A143 A153 1   A172\n",
       "7     7   A14 24 A32 A42  2835 A63 A75 3  A93 ⋯ A122 53  A143 A152 1   A173\n",
       "8     8   A12 36 A32 A41  6948 A61 A73 2  A93 ⋯ A123 35  A143 A151 1   A174\n",
       "9     9   A14 12 A32 A43  3059 A64 A74 2  A91 ⋯ A121 61  A143 A152 1   A172\n",
       "10   10   A12 30 A34 A40  5234 A61 A71 4  A94 ⋯ A123 28  A143 A152 2   A174\n",
       "11   11   A12 12 A32 A40  1295 A61 A72 3  A92 ⋯ A123 25  A143 A151 1   A173\n",
       "12   12   A11 48 A32 A49  4308 A61 A72 3  A92 ⋯ A122 24  A143 A151 1   A173\n",
       "13   13   A12 12 A32 A43  1567 A61 A73 1  A92 ⋯ A123 22  A143 A152 1   A173\n",
       "14   14   A11 24 A34 A40  1199 A61 A75 4  A93 ⋯ A123 60  A143 A152 2   A172\n",
       "15   15   A11 15 A32 A40  1403 A61 A73 2  A92 ⋯ A123 28  A143 A151 1   A173\n",
       "16   16   A11 24 A32 A43  1282 A62 A73 4  A92 ⋯ A123 32  A143 A152 1   A172\n",
       "17   17   A14 24 A34 A43  2424 A65 A75 4  A93 ⋯ A122 53  A143 A152 2   A173\n",
       "18   18   A11 30 A30 A49  8072 A65 A72 2  A93 ⋯ A123 25  A141 A152 3   A173\n",
       "19   19   A12 24 A32 A41 12579 A61 A75 4  A92 ⋯ A124 44  A143 A153 1   A174\n",
       "20   20   A14 24 A32 A43  3430 A63 A75 3  A93 ⋯ A123 31  A143 A152 1   A173\n",
       "21   21   A14  9 A34 A40  2134 A61 A73 4  A93 ⋯ A123 48  A143 A152 3   A173\n",
       "22   22   A11  6 A32 A43  2647 A63 A73 2  A93 ⋯ A121 44  A143 A151 1   A173\n",
       "23   23   A11 10 A34 A40  2241 A61 A72 1  A93 ⋯ A121 48  A143 A151 2   A172\n",
       "24   24   A12 12 A34 A41  1804 A62 A72 3  A93 ⋯ A122 44  A143 A152 1   A173\n",
       "25   25   A14 10 A34 A42  2069 A65 A73 2  A94 ⋯ A123 26  A143 A152 2   A173\n",
       "26   26   A11  6 A32 A42  1374 A61 A73 1  A93 ⋯ A121 36  A141 A152 1   A172\n",
       "27   27   A14  6 A30 A43   426 A61 A75 4  A94 ⋯ A123 39  A143 A152 1   A172\n",
       "28   28   A13 12 A31 A43   409 A64 A73 3  A92 ⋯ A121 42  A143 A151 2   A173\n",
       "29   29   A12  7 A32 A43  2415 A61 A73 3  A93 ⋯ A121 34  A143 A152 1   A173\n",
       "30   30   A11 60 A33 A49  6836 A61 A75 3  A93 ⋯ A124 63  A143 A152 2   A173\n",
       "⋮    ⋮    ⋮   ⋮  ⋮   ⋮   ⋮     ⋮   ⋮   ⋮  ⋮   ⋱ ⋮    ⋮   ⋮    ⋮    ⋮   ⋮   \n",
       "971   971 A12 15 A32 A45 1514  A62 A73 4  A93 ⋯ A121 22  A143 A152 1   A173\n",
       "972   972 A14 24 A32 A40 7393  A61 A73 1  A93 ⋯ A122 43  A143 A152 1   A172\n",
       "973   973 A11 24 A31 A40 1193  A61 A71 1  A92 ⋯ A124 29  A143 A151 2   A171\n",
       "974   974 A11 60 A32 A49 7297  A61 A75 4  A93 ⋯ A124 36  A143 A151 1   A173\n",
       "975   975 A14 30 A34 A43 2831  A61 A73 4  A92 ⋯ A123 33  A143 A152 1   A173\n",
       "976   976 A13 24 A32 A43 1258  A63 A73 3  A92 ⋯ A123 57  A143 A152 1   A172\n",
       "977   977 A12  6 A32 A43  753  A61 A73 2  A92 ⋯ A121 64  A143 A152 1   A173\n",
       "978   978 A12 18 A33 A49 2427  A65 A75 4  A93 ⋯ A122 42  A143 A152 2   A173\n",
       "979   979 A14 24 A33 A40 2538  A61 A75 4  A93 ⋯ A123 47  A143 A152 2   A172\n",
       "980   980 A12 15 A31 A40 1264  A62 A73 2  A94 ⋯ A122 25  A143 A151 1   A173\n",
       "981   981 A12 30 A34 A42 8386  A61 A74 2  A93 ⋯ A122 49  A143 A152 1   A173\n",
       "982   982 A14 48 A32 A49 4844  A61 A71 3  A93 ⋯ A123 33  A141 A151 1   A174\n",
       "983   983 A13 21 A32 A40 2923  A62 A73 1  A92 ⋯ A123 28  A141 A152 1   A174\n",
       "984   984 A11 36 A32 A41 8229  A61 A73 2  A93 ⋯ A122 26  A143 A152 1   A173\n",
       "985   985 A14 24 A34 A42 2028  A61 A74 2  A93 ⋯ A122 30  A143 A152 2   A172\n",
       "986   986 A11 15 A34 A42 1433  A61 A73 4  A92 ⋯ A122 25  A143 A151 2   A173\n",
       "987   987 A13 42 A30 A49 6289  A61 A72 2  A91 ⋯ A122 33  A143 A152 2   A173\n",
       "988   988 A14 13 A32 A43 1409  A62 A71 2  A92 ⋯ A121 64  A143 A152 1   A173\n",
       "989   989 A11 24 A32 A41 6579  A61 A71 4  A93 ⋯ A124 29  A143 A153 1   A174\n",
       "990   990 A12 24 A34 A43 1743  A61 A75 4  A93 ⋯ A122 48  A143 A152 2   A172\n",
       "991   991 A14 12 A34 A46 3565  A65 A72 2  A93 ⋯ A122 37  A143 A152 2   A172\n",
       "992   992 A14 15 A31 A43 1569  A62 A75 4  A93 ⋯ A123 34  A141 A152 1   A172\n",
       "993   993 A11 18 A32 A43 1936  A65 A74 2  A94 ⋯ A123 23  A143 A151 2   A172\n",
       "994   994 A11 36 A32 A42 3959  A61 A71 4  A93 ⋯ A122 30  A143 A152 1   A174\n",
       "995   995 A14 12 A32 A40 2390  A65 A75 4  A93 ⋯ A123 50  A143 A152 1   A173\n",
       "996   996 A14 12 A32 A42 1736  A61 A74 3  A92 ⋯ A121 31  A143 A152 1   A172\n",
       "997   997 A11 30 A32 A41 3857  A61 A73 4  A91 ⋯ A122 40  A143 A152 1   A174\n",
       "998   998 A14 12 A32 A43  804  A61 A75 4  A93 ⋯ A123 38  A143 A152 1   A173\n",
       "999   999 A11 45 A32 A43 1845  A61 A73 4  A93 ⋯ A124 23  A143 A153 1   A173\n",
       "1000 1000 A12 45 A34 A41 4576  A62 A71 3  A93 ⋯ A123 27  A143 A152 1   A173\n",
       "     V18  V19  V20  V21\n",
       "1    good A192 A201 1  \n",
       "2    good A191 A201 2  \n",
       "3    bad  A191 A201 1  \n",
       "4    bad  A191 A201 1  \n",
       "5    bad  A191 A201 2  \n",
       "6    bad  A192 A201 1  \n",
       "7    good A191 A201 1  \n",
       "8    good A192 A201 1  \n",
       "9    good A191 A201 1  \n",
       "10   good A191 A201 2  \n",
       "11   good A191 A201 2  \n",
       "12   good A191 A201 2  \n",
       "13   good A192 A201 1  \n",
       "14   good A191 A201 2  \n",
       "15   good A191 A201 1  \n",
       "16   good A191 A201 2  \n",
       "17   good A191 A201 1  \n",
       "18   good A191 A201 1  \n",
       "19   good A192 A201 2  \n",
       "20   bad  A192 A201 1  \n",
       "21   good A192 A201 1  \n",
       "22   bad  A191 A201 1  \n",
       "23   bad  A191 A202 1  \n",
       "24   good A191 A201 1  \n",
       "25   good A191 A202 1  \n",
       "26   good A192 A201 1  \n",
       "27   good A191 A201 1  \n",
       "28   good A191 A201 1  \n",
       "29   good A191 A201 1  \n",
       "30   good A192 A201 2  \n",
       "⋮    ⋮    ⋮    ⋮    ⋮  \n",
       "971  good A191 A201 1  \n",
       "972  bad  A191 A201 1  \n",
       "973  good A191 A201 2  \n",
       "974  good A191 A201 2  \n",
       "975  good A192 A201 1  \n",
       "976  good A191 A201 1  \n",
       "977  good A191 A201 1  \n",
       "978  good A191 A201 1  \n",
       "979  bad  A191 A201 2  \n",
       "980  good A191 A201 2  \n",
       "981  good A191 A201 2  \n",
       "982  good A192 A201 2  \n",
       "983  good A192 A201 1  \n",
       "984  bad  A191 A201 2  \n",
       "985  good A191 A201 1  \n",
       "986  good A191 A201 1  \n",
       "987  good A191 A201 1  \n",
       "988  good A191 A201 1  \n",
       "989  good A192 A201 1  \n",
       "990  good A191 A201 1  \n",
       "991  bad  A191 A201 1  \n",
       "992  bad  A191 A201 1  \n",
       "993  good A191 A201 1  \n",
       "994  good A192 A201 1  \n",
       "995  good A192 A201 1  \n",
       "996  good A191 A201 1  \n",
       "997  good A192 A201 1  \n",
       "998  good A191 A201 1  \n",
       "999  good A192 A201 2  \n",
       "1000 good A191 A201 1  "
      ]
     },
     "metadata": {},
     "output_type": "display_data"
    }
   ],
   "source": [
    "data"
   ]
  },
  {
   "cell_type": "code",
   "execution_count": 62,
   "metadata": {
    "collapsed": false
   },
   "outputs": [],
   "source": [
    "task = makeClassifTask(data = data, \n",
    "                       target = 'V21', \n",
    "                       id = c('X'))"
   ]
  },
  {
   "cell_type": "code",
   "execution_count": 83,
   "metadata": {
    "collapsed": false
   },
   "outputs": [],
   "source": [
    "lrn = makeLearner(\"classif.kknn\",\n",
    "                  predict.type = \"prob\")"
   ]
  },
  {
   "cell_type": "code",
   "execution_count": 84,
   "metadata": {
    "collapsed": false
   },
   "outputs": [],
   "source": [
    "crossValidation = makeResampleDesc(\"CV\", iters = 10, stratify = T, pred='both')"
   ]
  },
  {
   "cell_type": "code",
   "execution_count": 96,
   "metadata": {
    "collapsed": false
   },
   "outputs": [],
   "source": [
    "measures = list(acc,  #acuracia\n",
    "                f1,   #f1\n",
    "                ppv,  #precision\n",
    "                tpr,  #recall\n",
    "                auc,  #AUC\n",
    "                gini #Gini\n",
    "                #timetrain\n",
    "               )"
   ]
  },
  {
   "cell_type": "code",
   "execution_count": 97,
   "metadata": {
    "collapsed": false
   },
   "outputs": [
    {
     "name": "stderr",
     "output_type": "stream",
     "text": [
      "Resampling: cross-validation\n",
      "Measures:             acc.test    f1.test     ppv.test    tpr.test    auc.test    gini.test   \n",
      "[Resample] iter 1:    0.7100000   0.8053691   0.7594937   0.8571429   0.7273810   0.4547619   \n",
      "[Resample] iter 2:    0.7500000   0.8299320   0.7922078   0.8714286   0.7416667   0.4833333   \n",
      "[Resample] iter 3:    0.7100000   0.8053691   0.7594937   0.8571429   0.7419048   0.4838095   \n",
      "[Resample] iter 4:    0.7300000   0.8187919   0.7721519   0.8714286   0.7542857   0.5085714   \n",
      "[Resample] iter 5:    0.6800000   0.7808219   0.7500000   0.8142857   0.6483333   0.2966667   \n",
      "[Resample] iter 6:    0.7100000   0.8000000   0.7733333   0.8285714   0.6733333   0.3466667   \n",
      "[Resample] iter 7:    0.6900000   0.7862069   0.7600000   0.8142857   0.7757143   0.5514286   \n",
      "[Resample] iter 8:    0.7200000   0.8157895   0.7560976   0.8857143   0.6926190   0.3852381   \n",
      "[Resample] iter 9:    0.7000000   0.8000000   0.7500000   0.8571429   0.7209524   0.4419048   \n",
      "[Resample] iter 10:   0.7100000   0.8027211   0.7662338   0.8428571   0.7169048   0.4338095   \n",
      "\n",
      "\n",
      "Aggregated Result: acc.test.mean=0.7110000,f1.test.mean=0.8045002,ppv.test.mean=0.7639012,tpr.test.mean=0.8500000,auc.test.mean=0.7193095,gini.test.mean=0.4386190\n",
      "\n",
      "\n"
     ]
    }
   ],
   "source": [
    "r = resample(learner = lrn,\n",
    "             task = task, \n",
    "             resampling = crossValidation, \n",
    "             measures = measures,\n",
    "             models = T,\n",
    "             keep.pred = T,\n",
    "             show.info = TRUE)"
   ]
  },
  {
   "cell_type": "code",
   "execution_count": 100,
   "metadata": {
    "collapsed": false
   },
   "outputs": [
    {
     "data": {
      "text/html": [
       "<dl class=dl-horizontal>\n",
       "\t<dt>acc.test.mean</dt>\n",
       "\t\t<dd>0.711</dd>\n",
       "\t<dt>f1.test.mean</dt>\n",
       "\t\t<dd>0.804500155061093</dd>\n",
       "\t<dt>ppv.test.mean</dt>\n",
       "\t\t<dd>0.763901169325683</dd>\n",
       "\t<dt>tpr.test.mean</dt>\n",
       "\t\t<dd>0.85</dd>\n",
       "\t<dt>auc.test.mean</dt>\n",
       "\t\t<dd>0.719309523809524</dd>\n",
       "\t<dt>gini.test.mean</dt>\n",
       "\t\t<dd>0.438619047619048</dd>\n",
       "</dl>\n"
      ],
      "text/latex": [
       "\\begin{description*}\n",
       "\\item[acc.test.mean] 0.711\n",
       "\\item[f1.test.mean] 0.804500155061093\n",
       "\\item[ppv.test.mean] 0.763901169325683\n",
       "\\item[tpr.test.mean] 0.85\n",
       "\\item[auc.test.mean] 0.719309523809524\n",
       "\\item[gini.test.mean] 0.438619047619048\n",
       "\\end{description*}\n"
      ],
      "text/markdown": [
       "acc.test.mean\n",
       ":   0.711f1.test.mean\n",
       ":   0.804500155061093ppv.test.mean\n",
       ":   0.763901169325683tpr.test.mean\n",
       ":   0.85auc.test.mean\n",
       ":   0.719309523809524gini.test.mean\n",
       ":   0.438619047619048\n",
       "\n"
      ],
      "text/plain": [
       " acc.test.mean   f1.test.mean  ppv.test.mean  tpr.test.mean  auc.test.mean \n",
       "     0.7110000      0.8045002      0.7639012      0.8500000      0.7193095 \n",
       "gini.test.mean \n",
       "     0.4386190 "
      ]
     },
     "metadata": {},
     "output_type": "display_data"
    }
   ],
   "source": [
    "r$aggr"
   ]
  },
  {
   "cell_type": "code",
   "execution_count": 101,
   "metadata": {
    "collapsed": false
   },
   "outputs": [
    {
     "data": {
      "text/html": [
       "1.32623791694641"
      ],
      "text/latex": [
       "1.32623791694641"
      ],
      "text/markdown": [
       "1.32623791694641"
      ],
      "text/plain": [
       "[1] 1.326238"
      ]
     },
     "metadata": {},
     "output_type": "display_data"
    }
   ],
   "source": [
    "r$runtime"
   ]
  },
  {
   "cell_type": "code",
   "execution_count": null,
   "metadata": {
    "collapsed": true
   },
   "outputs": [],
   "source": []
  }
 ],
 "metadata": {
  "kernelspec": {
   "display_name": "R",
   "language": "R",
   "name": "ir"
  },
  "language_info": {
   "codemirror_mode": "r",
   "file_extension": ".r",
   "mimetype": "text/x-r-source",
   "name": "R",
   "pygments_lexer": "r",
   "version": "3.4.2"
  }
 },
 "nbformat": 4,
 "nbformat_minor": 2
}
